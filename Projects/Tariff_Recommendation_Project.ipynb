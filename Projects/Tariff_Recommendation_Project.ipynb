{
 "cells": [
  {
   "cell_type": "markdown",
   "metadata": {},
   "source": [
    "## Tariff Recommendation Project"
   ]
  },
  {
   "cell_type": "markdown",
   "metadata": {},
   "source": [
    "**Purpose of the analysis:** to build a model capable of analyzing the behavior of customers of the mobile operator \"Megaline\". The mobile operator \"Megaline\" found out: many customers use archived tariffs. They want to build a system that can analyze customer behavior and offer users a new tariff: \"Smart\" or \"Ultra\".\n",
    "\n",
    "**Data:** there is a dataset containing data on the behavior of customers who have already switched to \"Smart\" or \"Ultra\" tariffs."
   ]
  },
  {
   "cell_type": "markdown",
   "metadata": {},
   "source": [
    "**Loading the required libraries and open the data**"
   ]
  },
  {
   "cell_type": "code",
   "execution_count": 25,
   "metadata": {},
   "outputs": [
    {
     "data": {
      "text/html": [
       "<div>\n",
       "<style scoped>\n",
       "    .dataframe tbody tr th:only-of-type {\n",
       "        vertical-align: middle;\n",
       "    }\n",
       "\n",
       "    .dataframe tbody tr th {\n",
       "        vertical-align: top;\n",
       "    }\n",
       "\n",
       "    .dataframe thead th {\n",
       "        text-align: right;\n",
       "    }\n",
       "</style>\n",
       "<table border=\"1\" class=\"dataframe\">\n",
       "  <thead>\n",
       "    <tr style=\"text-align: right;\">\n",
       "      <th></th>\n",
       "      <th>calls</th>\n",
       "      <th>minutes</th>\n",
       "      <th>messages</th>\n",
       "      <th>mb_used</th>\n",
       "      <th>is_ultra</th>\n",
       "    </tr>\n",
       "  </thead>\n",
       "  <tbody>\n",
       "    <tr>\n",
       "      <th>0</th>\n",
       "      <td>40.0</td>\n",
       "      <td>311.90</td>\n",
       "      <td>83.0</td>\n",
       "      <td>19915.42</td>\n",
       "      <td>0</td>\n",
       "    </tr>\n",
       "    <tr>\n",
       "      <th>1</th>\n",
       "      <td>85.0</td>\n",
       "      <td>516.75</td>\n",
       "      <td>56.0</td>\n",
       "      <td>22696.96</td>\n",
       "      <td>0</td>\n",
       "    </tr>\n",
       "    <tr>\n",
       "      <th>2</th>\n",
       "      <td>77.0</td>\n",
       "      <td>467.66</td>\n",
       "      <td>86.0</td>\n",
       "      <td>21060.45</td>\n",
       "      <td>0</td>\n",
       "    </tr>\n",
       "    <tr>\n",
       "      <th>3</th>\n",
       "      <td>106.0</td>\n",
       "      <td>745.53</td>\n",
       "      <td>81.0</td>\n",
       "      <td>8437.39</td>\n",
       "      <td>1</td>\n",
       "    </tr>\n",
       "    <tr>\n",
       "      <th>4</th>\n",
       "      <td>66.0</td>\n",
       "      <td>418.74</td>\n",
       "      <td>1.0</td>\n",
       "      <td>14502.75</td>\n",
       "      <td>0</td>\n",
       "    </tr>\n",
       "  </tbody>\n",
       "</table>\n",
       "</div>"
      ],
      "text/plain": [
       "   calls  minutes  messages   mb_used  is_ultra\n",
       "0   40.0   311.90      83.0  19915.42         0\n",
       "1   85.0   516.75      56.0  22696.96         0\n",
       "2   77.0   467.66      86.0  21060.45         0\n",
       "3  106.0   745.53      81.0   8437.39         1\n",
       "4   66.0   418.74       1.0  14502.75         0"
      ]
     },
     "execution_count": 25,
     "metadata": {},
     "output_type": "execute_result"
    }
   ],
   "source": [
    "# libraries\n",
    "import pandas as pd\n",
    "import numpy as np\n",
    "from sklearn.model_selection import train_test_split \n",
    "from sklearn.tree import DecisionTreeClassifier\n",
    "from sklearn.ensemble import RandomForestClassifier \n",
    "from sklearn.linear_model import LogisticRegression \n",
    "from sklearn.metrics import accuracy_score\n",
    "from sklearn.dummy import DummyClassifier\n",
    "import warnings\n",
    "\n",
    "# mute notifications\n",
    "warnings.filterwarnings('ignore')\n",
    "\n",
    "# import data\n",
    "df = pd.read_csv('users_behavior.csv')\n",
    "df.head(5)"
   ]
  },
  {
   "cell_type": "markdown",
   "metadata": {},
   "source": [
    "**Checking basic information about dataset**"
   ]
  },
  {
   "cell_type": "code",
   "execution_count": 6,
   "metadata": {},
   "outputs": [
    {
     "name": "stdout",
     "output_type": "stream",
     "text": [
      "<class 'pandas.core.frame.DataFrame'>\n",
      "RangeIndex: 3214 entries, 0 to 3213\n",
      "Data columns (total 5 columns):\n",
      " #   Column    Non-Null Count  Dtype  \n",
      "---  ------    --------------  -----  \n",
      " 0   calls     3214 non-null   float64\n",
      " 1   minutes   3214 non-null   float64\n",
      " 2   messages  3214 non-null   float64\n",
      " 3   mb_used   3214 non-null   float64\n",
      " 4   is_ultra  3214 non-null   int64  \n",
      "dtypes: float64(4), int64(1)\n",
      "memory usage: 125.7 KB\n",
      "None\n",
      "\n",
      "             calls      minutes     messages       mb_used     is_ultra\n",
      "count  3214.000000  3214.000000  3214.000000   3214.000000  3214.000000\n",
      "mean     63.038892   438.208787    38.281269  17207.673836     0.306472\n",
      "std      33.236368   234.569872    36.148326   7570.968246     0.461100\n",
      "min       0.000000     0.000000     0.000000      0.000000     0.000000\n",
      "25%      40.000000   274.575000     9.000000  12491.902500     0.000000\n",
      "50%      62.000000   430.600000    30.000000  16943.235000     0.000000\n",
      "75%      82.000000   571.927500    57.000000  21424.700000     1.000000\n",
      "max     244.000000  1632.060000   224.000000  49745.730000     1.000000\n"
     ]
    }
   ],
   "source": [
    "print(df.info())\n",
    "print('')\n",
    "print(df.describe())"
   ]
  },
  {
   "cell_type": "markdown",
   "metadata": {},
   "source": [
    "As can be seen, the presented dataset contains a total of 3214 observations with information about the behavior of each of the users for 1 month. The data contains the following variables:\n",
    "\n",
    "- calls - number of calls;\n",
    "- minutes - total call duration in minutes;\n",
    "- messages - number of sms messages;\n",
    "- mb_used - consumed internet traffic in MB;\n",
    "- is_ultra - what tariff was used during the month (\"Ultra\" - 1, \"Smart\" - 0).\n",
    "\n",
    "As for the types of variables, 4 out of 5 variables have the type of real numbers - 'float64', and only one variable - 'is_ultra' - is an integer ('int64').\n",
    "\n",
    "Let's check the data for missing values and duplicates:"
   ]
  },
  {
   "cell_type": "code",
   "execution_count": 7,
   "metadata": {},
   "outputs": [
    {
     "data": {
      "text/plain": [
       "calls       0\n",
       "minutes     0\n",
       "messages    0\n",
       "mb_used     0\n",
       "is_ultra    0\n",
       "dtype: int64"
      ]
     },
     "execution_count": 7,
     "metadata": {},
     "output_type": "execute_result"
    }
   ],
   "source": [
    "df.isna().sum()"
   ]
  },
  {
   "cell_type": "code",
   "execution_count": 8,
   "metadata": {},
   "outputs": [
    {
     "data": {
      "text/plain": [
       "0"
      ]
     },
     "execution_count": 8,
     "metadata": {},
     "output_type": "execute_result"
    }
   ],
   "source": [
    "df.duplicated().sum()"
   ]
  },
  {
   "cell_type": "markdown",
   "metadata": {},
   "source": [
    "The data has neither missing values nor explicit duplicates. Let's continue working with them."
   ]
  },
  {
   "cell_type": "markdown",
   "metadata": {},
   "source": [
    "## Preparing data for modeling"
   ]
  },
  {
   "cell_type": "code",
   "execution_count": 9,
   "metadata": {},
   "outputs": [
    {
     "name": "stdout",
     "output_type": "stream",
     "text": [
      "(1928, 5)\n",
      "(1286, 5)\n",
      "(643, 5)\n",
      "(643, 5)\n"
     ]
    }
   ],
   "source": [
    "# Firstly, separating the training sample from the available data\n",
    "# (equal to 60% of all data)\n",
    "df_train, df2 = train_test_split(df, test_size=0.4, random_state=12345) \n",
    "print(df_train.shape)\n",
    "print(df2.shape)\n",
    "\n",
    "# The remaining 40% of the sample will be divided into test \n",
    "# and validation samples (50% each, that is, 20% of the original data)\n",
    "df_valid, df_test = train_test_split(df2, test_size=0.5, random_state=12345)\n",
    "print(df_valid.shape)\n",
    "print(df_test.shape)"
   ]
  },
  {
   "cell_type": "markdown",
   "metadata": {},
   "source": [
    "Creation of variables with features and a target parameters (tariff type):"
   ]
  },
  {
   "cell_type": "code",
   "execution_count": 10,
   "metadata": {},
   "outputs": [
    {
     "name": "stdout",
     "output_type": "stream",
     "text": [
      "(1928, 4)\n",
      "(1928,)\n",
      "(643, 4)\n",
      "(643,)\n",
      "(643, 4)\n",
      "(643,)\n"
     ]
    }
   ],
   "source": [
    "# Variables for train sample:\n",
    "features_train = df_train.drop(['is_ultra'], axis=1)\n",
    "target_train = df_train['is_ultra']\n",
    "\n",
    "# Variables for valid sample:\n",
    "features_valid = df_valid.drop(['is_ultra'], axis=1)\n",
    "target_valid = df_valid['is_ultra']\n",
    "\n",
    "# Variables for test sample:\n",
    "features_test = df_test.drop(['is_ultra'], axis=1)\n",
    "target_test = df_test['is_ultra']\n",
    "\n",
    "#Checking the shape of new variables:\n",
    "print(features_train.shape)\n",
    "print(target_train.shape)\n",
    "print(features_valid.shape)\n",
    "print(target_valid.shape)\n",
    "print(features_test.shape)\n",
    "print(target_test.shape)"
   ]
  },
  {
   "cell_type": "markdown",
   "metadata": {},
   "source": [
    "## Models testing"
   ]
  },
  {
   "cell_type": "markdown",
   "metadata": {},
   "source": [
    "**1. Decision Tree Classification**"
   ]
  },
  {
   "cell_type": "markdown",
   "metadata": {},
   "source": [
    "Firstly, let's check what depth of the tree will be optimal in terms of accuracy. Let's check the depth values of trees in the range 1-10:"
   ]
  },
  {
   "cell_type": "code",
   "execution_count": 22,
   "metadata": {},
   "outputs": [
    {
     "name": "stdout",
     "output_type": "stream",
     "text": [
      "Accuracy of the best model on a validation sample: 0.7853810264385692 at depth: 3\n"
     ]
    }
   ],
   "source": [
    "model1 = None\n",
    "best_result1 = 0\n",
    "for depth in range(1, 11):\n",
    "    model1 = DecisionTreeClassifier(random_state = 12345, max_depth = depth)\n",
    "    model1.fit(features_train, target_train)\n",
    "    result1 = model1.score(features_valid, target_valid)\n",
    "    if result1 > best_result1:\n",
    "        best_model1 = model1\n",
    "        best_result1 = result1\n",
    "        best_depth1 = depth\n",
    "\n",
    "print(\"Accuracy of the best model on a validation sample:\", \n",
    "      best_result1, \"at depth:\", best_depth1)\n"
   ]
  },
  {
   "cell_type": "markdown",
   "metadata": {},
   "source": [
    "As can be seen, the highest accuracy is achieved with a tree depth equal to 6 (accuracy = 0.7853810264385692):"
   ]
  },
  {
   "cell_type": "code",
   "execution_count": 10,
   "metadata": {},
   "outputs": [
    {
     "name": "stdout",
     "output_type": "stream",
     "text": [
      "0.7853810264385692\n"
     ]
    }
   ],
   "source": [
    "model1 = DecisionTreeClassifier(random_state = 12345, max_depth = best_depth1)\n",
    "model1.fit(features_train, target_train)\n",
    "result1 = model1.score(features_valid, target_valid)\n",
    "print(result1)"
   ]
  },
  {
   "cell_type": "markdown",
   "metadata": {},
   "source": [
    "Thus, the maximum accuracy score that can be achieved via Decision Tree model is approximately 0.785"
   ]
  },
  {
   "cell_type": "markdown",
   "metadata": {},
   "source": [
    "**2. Random Forest**"
   ]
  },
  {
   "cell_type": "markdown",
   "metadata": {},
   "source": [
    "Just as in the previous case, firstly let's see at what number of trees (the value of the n_estimators parameter) and with what depth the highest accuracy is achieved. Considering the number of trees from 1 to 13 and depth from 1 to 7:"
   ]
  },
  {
   "cell_type": "code",
   "execution_count": 19,
   "metadata": {},
   "outputs": [
    {
     "data": {
      "text/html": [
       "<style  type=\"text/css\" >\n",
       "#T_c70b2656_663e_11ec_8e85_1e009a3c9029row15_col2,#T_c70b2656_663e_11ec_8e85_1e009a3c9029row16_col2,#T_c70b2656_663e_11ec_8e85_1e009a3c9029row20_col2{\n",
       "            background-color:  lightgreen;\n",
       "        }</style><table id=\"T_c70b2656_663e_11ec_8e85_1e009a3c9029\" ><thead>    <tr>        <th class=\"blank level0\" ></th>        <th class=\"col_heading level0 col0\" >n_estimators</th>        <th class=\"col_heading level0 col1\" >max_depth</th>        <th class=\"col_heading level0 col2\" >score</th>    </tr></thead><tbody>\n",
       "                <tr>\n",
       "                        <th id=\"T_c70b2656_663e_11ec_8e85_1e009a3c9029level0_row0\" class=\"row_heading level0 row0\" >0</th>\n",
       "                        <td id=\"T_c70b2656_663e_11ec_8e85_1e009a3c9029row0_col0\" class=\"data row0 col0\" >10</td>\n",
       "                        <td id=\"T_c70b2656_663e_11ec_8e85_1e009a3c9029row0_col1\" class=\"data row0 col1\" >1</td>\n",
       "                        <td id=\"T_c70b2656_663e_11ec_8e85_1e009a3c9029row0_col2\" class=\"data row0 col2\" >0.755832</td>\n",
       "            </tr>\n",
       "            <tr>\n",
       "                        <th id=\"T_c70b2656_663e_11ec_8e85_1e009a3c9029level0_row1\" class=\"row_heading level0 row1\" >1</th>\n",
       "                        <td id=\"T_c70b2656_663e_11ec_8e85_1e009a3c9029row1_col0\" class=\"data row1 col0\" >15</td>\n",
       "                        <td id=\"T_c70b2656_663e_11ec_8e85_1e009a3c9029row1_col1\" class=\"data row1 col1\" >1</td>\n",
       "                        <td id=\"T_c70b2656_663e_11ec_8e85_1e009a3c9029row1_col2\" class=\"data row1 col2\" >0.752722</td>\n",
       "            </tr>\n",
       "            <tr>\n",
       "                        <th id=\"T_c70b2656_663e_11ec_8e85_1e009a3c9029level0_row2\" class=\"row_heading level0 row2\" >2</th>\n",
       "                        <td id=\"T_c70b2656_663e_11ec_8e85_1e009a3c9029row2_col0\" class=\"data row2 col0\" >20</td>\n",
       "                        <td id=\"T_c70b2656_663e_11ec_8e85_1e009a3c9029row2_col1\" class=\"data row2 col1\" >1</td>\n",
       "                        <td id=\"T_c70b2656_663e_11ec_8e85_1e009a3c9029row2_col2\" class=\"data row2 col2\" >0.766719</td>\n",
       "            </tr>\n",
       "            <tr>\n",
       "                        <th id=\"T_c70b2656_663e_11ec_8e85_1e009a3c9029level0_row3\" class=\"row_heading level0 row3\" >3</th>\n",
       "                        <td id=\"T_c70b2656_663e_11ec_8e85_1e009a3c9029row3_col0\" class=\"data row3 col0\" >10</td>\n",
       "                        <td id=\"T_c70b2656_663e_11ec_8e85_1e009a3c9029row3_col1\" class=\"data row3 col1\" >2</td>\n",
       "                        <td id=\"T_c70b2656_663e_11ec_8e85_1e009a3c9029row3_col2\" class=\"data row3 col2\" >0.777605</td>\n",
       "            </tr>\n",
       "            <tr>\n",
       "                        <th id=\"T_c70b2656_663e_11ec_8e85_1e009a3c9029level0_row4\" class=\"row_heading level0 row4\" >4</th>\n",
       "                        <td id=\"T_c70b2656_663e_11ec_8e85_1e009a3c9029row4_col0\" class=\"data row4 col0\" >15</td>\n",
       "                        <td id=\"T_c70b2656_663e_11ec_8e85_1e009a3c9029row4_col1\" class=\"data row4 col1\" >2</td>\n",
       "                        <td id=\"T_c70b2656_663e_11ec_8e85_1e009a3c9029row4_col2\" class=\"data row4 col2\" >0.783826</td>\n",
       "            </tr>\n",
       "            <tr>\n",
       "                        <th id=\"T_c70b2656_663e_11ec_8e85_1e009a3c9029level0_row5\" class=\"row_heading level0 row5\" >5</th>\n",
       "                        <td id=\"T_c70b2656_663e_11ec_8e85_1e009a3c9029row5_col0\" class=\"data row5 col0\" >20</td>\n",
       "                        <td id=\"T_c70b2656_663e_11ec_8e85_1e009a3c9029row5_col1\" class=\"data row5 col1\" >2</td>\n",
       "                        <td id=\"T_c70b2656_663e_11ec_8e85_1e009a3c9029row5_col2\" class=\"data row5 col2\" >0.783826</td>\n",
       "            </tr>\n",
       "            <tr>\n",
       "                        <th id=\"T_c70b2656_663e_11ec_8e85_1e009a3c9029level0_row6\" class=\"row_heading level0 row6\" >6</th>\n",
       "                        <td id=\"T_c70b2656_663e_11ec_8e85_1e009a3c9029row6_col0\" class=\"data row6 col0\" >10</td>\n",
       "                        <td id=\"T_c70b2656_663e_11ec_8e85_1e009a3c9029row6_col1\" class=\"data row6 col1\" >3</td>\n",
       "                        <td id=\"T_c70b2656_663e_11ec_8e85_1e009a3c9029row6_col2\" class=\"data row6 col2\" >0.785381</td>\n",
       "            </tr>\n",
       "            <tr>\n",
       "                        <th id=\"T_c70b2656_663e_11ec_8e85_1e009a3c9029level0_row7\" class=\"row_heading level0 row7\" >7</th>\n",
       "                        <td id=\"T_c70b2656_663e_11ec_8e85_1e009a3c9029row7_col0\" class=\"data row7 col0\" >15</td>\n",
       "                        <td id=\"T_c70b2656_663e_11ec_8e85_1e009a3c9029row7_col1\" class=\"data row7 col1\" >3</td>\n",
       "                        <td id=\"T_c70b2656_663e_11ec_8e85_1e009a3c9029row7_col2\" class=\"data row7 col2\" >0.786936</td>\n",
       "            </tr>\n",
       "            <tr>\n",
       "                        <th id=\"T_c70b2656_663e_11ec_8e85_1e009a3c9029level0_row8\" class=\"row_heading level0 row8\" >8</th>\n",
       "                        <td id=\"T_c70b2656_663e_11ec_8e85_1e009a3c9029row8_col0\" class=\"data row8 col0\" >20</td>\n",
       "                        <td id=\"T_c70b2656_663e_11ec_8e85_1e009a3c9029row8_col1\" class=\"data row8 col1\" >3</td>\n",
       "                        <td id=\"T_c70b2656_663e_11ec_8e85_1e009a3c9029row8_col2\" class=\"data row8 col2\" >0.786936</td>\n",
       "            </tr>\n",
       "            <tr>\n",
       "                        <th id=\"T_c70b2656_663e_11ec_8e85_1e009a3c9029level0_row9\" class=\"row_heading level0 row9\" >9</th>\n",
       "                        <td id=\"T_c70b2656_663e_11ec_8e85_1e009a3c9029row9_col0\" class=\"data row9 col0\" >10</td>\n",
       "                        <td id=\"T_c70b2656_663e_11ec_8e85_1e009a3c9029row9_col1\" class=\"data row9 col1\" >4</td>\n",
       "                        <td id=\"T_c70b2656_663e_11ec_8e85_1e009a3c9029row9_col2\" class=\"data row9 col2\" >0.790047</td>\n",
       "            </tr>\n",
       "            <tr>\n",
       "                        <th id=\"T_c70b2656_663e_11ec_8e85_1e009a3c9029level0_row10\" class=\"row_heading level0 row10\" >10</th>\n",
       "                        <td id=\"T_c70b2656_663e_11ec_8e85_1e009a3c9029row10_col0\" class=\"data row10 col0\" >15</td>\n",
       "                        <td id=\"T_c70b2656_663e_11ec_8e85_1e009a3c9029row10_col1\" class=\"data row10 col1\" >4</td>\n",
       "                        <td id=\"T_c70b2656_663e_11ec_8e85_1e009a3c9029row10_col2\" class=\"data row10 col2\" >0.788491</td>\n",
       "            </tr>\n",
       "            <tr>\n",
       "                        <th id=\"T_c70b2656_663e_11ec_8e85_1e009a3c9029level0_row11\" class=\"row_heading level0 row11\" >11</th>\n",
       "                        <td id=\"T_c70b2656_663e_11ec_8e85_1e009a3c9029row11_col0\" class=\"data row11 col0\" >20</td>\n",
       "                        <td id=\"T_c70b2656_663e_11ec_8e85_1e009a3c9029row11_col1\" class=\"data row11 col1\" >4</td>\n",
       "                        <td id=\"T_c70b2656_663e_11ec_8e85_1e009a3c9029row11_col2\" class=\"data row11 col2\" >0.788491</td>\n",
       "            </tr>\n",
       "            <tr>\n",
       "                        <th id=\"T_c70b2656_663e_11ec_8e85_1e009a3c9029level0_row12\" class=\"row_heading level0 row12\" >12</th>\n",
       "                        <td id=\"T_c70b2656_663e_11ec_8e85_1e009a3c9029row12_col0\" class=\"data row12 col0\" >10</td>\n",
       "                        <td id=\"T_c70b2656_663e_11ec_8e85_1e009a3c9029row12_col1\" class=\"data row12 col1\" >5</td>\n",
       "                        <td id=\"T_c70b2656_663e_11ec_8e85_1e009a3c9029row12_col2\" class=\"data row12 col2\" >0.793157</td>\n",
       "            </tr>\n",
       "            <tr>\n",
       "                        <th id=\"T_c70b2656_663e_11ec_8e85_1e009a3c9029level0_row13\" class=\"row_heading level0 row13\" >13</th>\n",
       "                        <td id=\"T_c70b2656_663e_11ec_8e85_1e009a3c9029row13_col0\" class=\"data row13 col0\" >15</td>\n",
       "                        <td id=\"T_c70b2656_663e_11ec_8e85_1e009a3c9029row13_col1\" class=\"data row13 col1\" >5</td>\n",
       "                        <td id=\"T_c70b2656_663e_11ec_8e85_1e009a3c9029row13_col2\" class=\"data row13 col2\" >0.790047</td>\n",
       "            </tr>\n",
       "            <tr>\n",
       "                        <th id=\"T_c70b2656_663e_11ec_8e85_1e009a3c9029level0_row14\" class=\"row_heading level0 row14\" >14</th>\n",
       "                        <td id=\"T_c70b2656_663e_11ec_8e85_1e009a3c9029row14_col0\" class=\"data row14 col0\" >20</td>\n",
       "                        <td id=\"T_c70b2656_663e_11ec_8e85_1e009a3c9029row14_col1\" class=\"data row14 col1\" >5</td>\n",
       "                        <td id=\"T_c70b2656_663e_11ec_8e85_1e009a3c9029row14_col2\" class=\"data row14 col2\" >0.790047</td>\n",
       "            </tr>\n",
       "            <tr>\n",
       "                        <th id=\"T_c70b2656_663e_11ec_8e85_1e009a3c9029level0_row15\" class=\"row_heading level0 row15\" >15</th>\n",
       "                        <td id=\"T_c70b2656_663e_11ec_8e85_1e009a3c9029row15_col0\" class=\"data row15 col0\" >10</td>\n",
       "                        <td id=\"T_c70b2656_663e_11ec_8e85_1e009a3c9029row15_col1\" class=\"data row15 col1\" >6</td>\n",
       "                        <td id=\"T_c70b2656_663e_11ec_8e85_1e009a3c9029row15_col2\" class=\"data row15 col2\" >0.800933</td>\n",
       "            </tr>\n",
       "            <tr>\n",
       "                        <th id=\"T_c70b2656_663e_11ec_8e85_1e009a3c9029level0_row16\" class=\"row_heading level0 row16\" >16</th>\n",
       "                        <td id=\"T_c70b2656_663e_11ec_8e85_1e009a3c9029row16_col0\" class=\"data row16 col0\" >15</td>\n",
       "                        <td id=\"T_c70b2656_663e_11ec_8e85_1e009a3c9029row16_col1\" class=\"data row16 col1\" >6</td>\n",
       "                        <td id=\"T_c70b2656_663e_11ec_8e85_1e009a3c9029row16_col2\" class=\"data row16 col2\" >0.800933</td>\n",
       "            </tr>\n",
       "            <tr>\n",
       "                        <th id=\"T_c70b2656_663e_11ec_8e85_1e009a3c9029level0_row17\" class=\"row_heading level0 row17\" >17</th>\n",
       "                        <td id=\"T_c70b2656_663e_11ec_8e85_1e009a3c9029row17_col0\" class=\"data row17 col0\" >20</td>\n",
       "                        <td id=\"T_c70b2656_663e_11ec_8e85_1e009a3c9029row17_col1\" class=\"data row17 col1\" >6</td>\n",
       "                        <td id=\"T_c70b2656_663e_11ec_8e85_1e009a3c9029row17_col2\" class=\"data row17 col2\" >0.799378</td>\n",
       "            </tr>\n",
       "            <tr>\n",
       "                        <th id=\"T_c70b2656_663e_11ec_8e85_1e009a3c9029level0_row18\" class=\"row_heading level0 row18\" >18</th>\n",
       "                        <td id=\"T_c70b2656_663e_11ec_8e85_1e009a3c9029row18_col0\" class=\"data row18 col0\" >10</td>\n",
       "                        <td id=\"T_c70b2656_663e_11ec_8e85_1e009a3c9029row18_col1\" class=\"data row18 col1\" >7</td>\n",
       "                        <td id=\"T_c70b2656_663e_11ec_8e85_1e009a3c9029row18_col2\" class=\"data row18 col2\" >0.794712</td>\n",
       "            </tr>\n",
       "            <tr>\n",
       "                        <th id=\"T_c70b2656_663e_11ec_8e85_1e009a3c9029level0_row19\" class=\"row_heading level0 row19\" >19</th>\n",
       "                        <td id=\"T_c70b2656_663e_11ec_8e85_1e009a3c9029row19_col0\" class=\"data row19 col0\" >15</td>\n",
       "                        <td id=\"T_c70b2656_663e_11ec_8e85_1e009a3c9029row19_col1\" class=\"data row19 col1\" >7</td>\n",
       "                        <td id=\"T_c70b2656_663e_11ec_8e85_1e009a3c9029row19_col2\" class=\"data row19 col2\" >0.799378</td>\n",
       "            </tr>\n",
       "            <tr>\n",
       "                        <th id=\"T_c70b2656_663e_11ec_8e85_1e009a3c9029level0_row20\" class=\"row_heading level0 row20\" >20</th>\n",
       "                        <td id=\"T_c70b2656_663e_11ec_8e85_1e009a3c9029row20_col0\" class=\"data row20 col0\" >20</td>\n",
       "                        <td id=\"T_c70b2656_663e_11ec_8e85_1e009a3c9029row20_col1\" class=\"data row20 col1\" >7</td>\n",
       "                        <td id=\"T_c70b2656_663e_11ec_8e85_1e009a3c9029row20_col2\" class=\"data row20 col2\" >0.800933</td>\n",
       "            </tr>\n",
       "            <tr>\n",
       "                        <th id=\"T_c70b2656_663e_11ec_8e85_1e009a3c9029level0_row21\" class=\"row_heading level0 row21\" >21</th>\n",
       "                        <td id=\"T_c70b2656_663e_11ec_8e85_1e009a3c9029row21_col0\" class=\"data row21 col0\" >10</td>\n",
       "                        <td id=\"T_c70b2656_663e_11ec_8e85_1e009a3c9029row21_col1\" class=\"data row21 col1\" >8</td>\n",
       "                        <td id=\"T_c70b2656_663e_11ec_8e85_1e009a3c9029row21_col2\" class=\"data row21 col2\" >0.796267</td>\n",
       "            </tr>\n",
       "            <tr>\n",
       "                        <th id=\"T_c70b2656_663e_11ec_8e85_1e009a3c9029level0_row22\" class=\"row_heading level0 row22\" >22</th>\n",
       "                        <td id=\"T_c70b2656_663e_11ec_8e85_1e009a3c9029row22_col0\" class=\"data row22 col0\" >15</td>\n",
       "                        <td id=\"T_c70b2656_663e_11ec_8e85_1e009a3c9029row22_col1\" class=\"data row22 col1\" >8</td>\n",
       "                        <td id=\"T_c70b2656_663e_11ec_8e85_1e009a3c9029row22_col2\" class=\"data row22 col2\" >0.794712</td>\n",
       "            </tr>\n",
       "            <tr>\n",
       "                        <th id=\"T_c70b2656_663e_11ec_8e85_1e009a3c9029level0_row23\" class=\"row_heading level0 row23\" >23</th>\n",
       "                        <td id=\"T_c70b2656_663e_11ec_8e85_1e009a3c9029row23_col0\" class=\"data row23 col0\" >20</td>\n",
       "                        <td id=\"T_c70b2656_663e_11ec_8e85_1e009a3c9029row23_col1\" class=\"data row23 col1\" >8</td>\n",
       "                        <td id=\"T_c70b2656_663e_11ec_8e85_1e009a3c9029row23_col2\" class=\"data row23 col2\" >0.797823</td>\n",
       "            </tr>\n",
       "            <tr>\n",
       "                        <th id=\"T_c70b2656_663e_11ec_8e85_1e009a3c9029level0_row24\" class=\"row_heading level0 row24\" >24</th>\n",
       "                        <td id=\"T_c70b2656_663e_11ec_8e85_1e009a3c9029row24_col0\" class=\"data row24 col0\" >10</td>\n",
       "                        <td id=\"T_c70b2656_663e_11ec_8e85_1e009a3c9029row24_col1\" class=\"data row24 col1\" >9</td>\n",
       "                        <td id=\"T_c70b2656_663e_11ec_8e85_1e009a3c9029row24_col2\" class=\"data row24 col2\" >0.785381</td>\n",
       "            </tr>\n",
       "            <tr>\n",
       "                        <th id=\"T_c70b2656_663e_11ec_8e85_1e009a3c9029level0_row25\" class=\"row_heading level0 row25\" >25</th>\n",
       "                        <td id=\"T_c70b2656_663e_11ec_8e85_1e009a3c9029row25_col0\" class=\"data row25 col0\" >15</td>\n",
       "                        <td id=\"T_c70b2656_663e_11ec_8e85_1e009a3c9029row25_col1\" class=\"data row25 col1\" >9</td>\n",
       "                        <td id=\"T_c70b2656_663e_11ec_8e85_1e009a3c9029row25_col2\" class=\"data row25 col2\" >0.785381</td>\n",
       "            </tr>\n",
       "            <tr>\n",
       "                        <th id=\"T_c70b2656_663e_11ec_8e85_1e009a3c9029level0_row26\" class=\"row_heading level0 row26\" >26</th>\n",
       "                        <td id=\"T_c70b2656_663e_11ec_8e85_1e009a3c9029row26_col0\" class=\"data row26 col0\" >20</td>\n",
       "                        <td id=\"T_c70b2656_663e_11ec_8e85_1e009a3c9029row26_col1\" class=\"data row26 col1\" >9</td>\n",
       "                        <td id=\"T_c70b2656_663e_11ec_8e85_1e009a3c9029row26_col2\" class=\"data row26 col2\" >0.790047</td>\n",
       "            </tr>\n",
       "    </tbody></table>"
      ],
      "text/plain": [
       "<pandas.io.formats.style.Styler at 0x7fc073909730>"
      ]
     },
     "execution_count": 19,
     "metadata": {},
     "output_type": "execute_result"
    }
   ],
   "source": [
    "best_model = None\n",
    "best_result = 0\n",
    "result = []\n",
    "for depth in range(1,10):\n",
    "     for est in range(10, 25, 5):\n",
    "        model2 =  RandomForestClassifier(random_state=12345, n_estimators=est, \n",
    "                                              max_depth = depth) \n",
    "        model2.fit(features_train, target_train)\n",
    "        predictions_valid = model2.predict(features_valid)\n",
    "        score = accuracy_score(target_valid, predictions_valid)\n",
    "        if score > best_result:\n",
    "            best_model = model2\n",
    "            best_result = score\n",
    "        result.append({'n_estimators': est, \n",
    "                        'max_depth': depth, \n",
    "                        'score': score})\n",
    "        \n",
    "pd.DataFrame(result).style.highlight_max('score', color = 'lightgreen', axis = 0)"
   ]
  },
  {
   "cell_type": "markdown",
   "metadata": {},
   "source": [
    "So, the best accuracy score (0.8) is achieved with following hyperparameters:\n",
    "- 10 trees and depth = 6\n",
    "- 15 trees and depth = 6\n",
    "- 20 trees and depth = 7\n",
    "\n",
    "Therefore, it would be optimal to stop at 10 trees with a depth of 6."
   ]
  },
  {
   "cell_type": "code",
   "execution_count": 20,
   "metadata": {},
   "outputs": [
    {
     "name": "stdout",
     "output_type": "stream",
     "text": [
      "0.8009331259720062\n"
     ]
    }
   ],
   "source": [
    "model2 = RandomForestClassifier(random_state=12345, n_estimators= 10, max_depth = 6)\n",
    "model2.fit(features_train, target_train)\n",
    "result2 = model2.score(features_valid, target_valid)\n",
    "print(result2)"
   ]
  },
  {
   "cell_type": "markdown",
   "metadata": {},
   "source": [
    "**3. Logistic Regression**"
   ]
  },
  {
   "cell_type": "code",
   "execution_count": 21,
   "metadata": {},
   "outputs": [
    {
     "name": "stdout",
     "output_type": "stream",
     "text": [
      "0.7107309486780715\n"
     ]
    }
   ],
   "source": [
    "model3 = LogisticRegression(random_state = 12345)\n",
    "model3.fit(features_train, target_train)\n",
    "result3 = model3.score(features_valid, target_valid)\n",
    "print(result3)"
   ]
  },
  {
   "cell_type": "markdown",
   "metadata": {},
   "source": [
    "As can be seen, when using logistic regression, the accuracy is the smallest (compared to the 2 previous models) = 0.71."
   ]
  },
  {
   "cell_type": "code",
   "execution_count": 23,
   "metadata": {},
   "outputs": [
    {
     "data": {
      "text/html": [
       "<div>\n",
       "<style scoped>\n",
       "    .dataframe tbody tr th:only-of-type {\n",
       "        vertical-align: middle;\n",
       "    }\n",
       "\n",
       "    .dataframe tbody tr th {\n",
       "        vertical-align: top;\n",
       "    }\n",
       "\n",
       "    .dataframe thead th {\n",
       "        text-align: right;\n",
       "    }\n",
       "</style>\n",
       "<table border=\"1\" class=\"dataframe\">\n",
       "  <thead>\n",
       "    <tr style=\"text-align: right;\">\n",
       "      <th></th>\n",
       "      <th>Model</th>\n",
       "      <th>Accuracy</th>\n",
       "    </tr>\n",
       "  </thead>\n",
       "  <tbody>\n",
       "    <tr>\n",
       "      <th>0</th>\n",
       "      <td>Decision Tree</td>\n",
       "      <td>0.785</td>\n",
       "    </tr>\n",
       "    <tr>\n",
       "      <th>1</th>\n",
       "      <td>Random Forest</td>\n",
       "      <td>0.8</td>\n",
       "    </tr>\n",
       "    <tr>\n",
       "      <th>2</th>\n",
       "      <td>Logistic Regression</td>\n",
       "      <td>0.71</td>\n",
       "    </tr>\n",
       "  </tbody>\n",
       "</table>\n",
       "</div>"
      ],
      "text/plain": [
       "                 Model Accuracy\n",
       "0        Decision Tree    0.785\n",
       "1        Random Forest      0.8\n",
       "2  Logistic Regression     0.71"
      ]
     },
     "execution_count": 23,
     "metadata": {},
     "output_type": "execute_result"
    }
   ],
   "source": [
    "result_table = pd.DataFrame({'Model': \n",
    "                            ['Decision Tree', 'Random Forest', 'Logistic Regression'],\n",
    "                           'Accuracy': ['0.785', '0.8', '0.71']})\n",
    "result_table"
   ]
  },
  {
   "cell_type": "markdown",
   "metadata": {},
   "source": [
    "Based on the data presented, I propose to use the Random Forest model for further work. For more confidence, let's check its quality on a test sample."
   ]
  },
  {
   "cell_type": "markdown",
   "metadata": {},
   "source": [
    "## Checking the quality of the model on a test sample"
   ]
  },
  {
   "cell_type": "code",
   "execution_count": 24,
   "metadata": {},
   "outputs": [
    {
     "name": "stdout",
     "output_type": "stream",
     "text": [
      "0.7916018662519441\n"
     ]
    }
   ],
   "source": [
    "result_final = model2.score(features_test, target_test)\n",
    "print(result_final)"
   ]
  },
  {
   "cell_type": "markdown",
   "metadata": {},
   "source": [
    "As in the case of the validation set, the value of the model quality on the test set turns out to be quite high and equal to about 0.79."
   ]
  },
  {
   "cell_type": "markdown",
   "metadata": {},
   "source": [
    "**Checking the Model for Sanity**"
   ]
  },
  {
   "cell_type": "markdown",
   "metadata": {},
   "source": [
    "To test the sanity of the model, let's build simple models on data and compare them with the predictions of our model."
   ]
  },
  {
   "cell_type": "code",
   "execution_count": 28,
   "metadata": {},
   "outputs": [
    {
     "name": "stdout",
     "output_type": "stream",
     "text": [
      "Accuracy score: 0.6842923794712286\n"
     ]
    }
   ],
   "source": [
    "# frequent classifier\n",
    "frequent_clf = DummyClassifier(strategy = 'most_frequent').fit(features_train, target_train)\n",
    "y_freq_pred = frequent_clf.predict(features_test)\n",
    "print('Accuracy score:', frequent_clf.score(features_test, target_test))"
   ]
  },
  {
   "cell_type": "code",
   "execution_count": 30,
   "metadata": {},
   "outputs": [
    {
     "name": "stdout",
     "output_type": "stream",
     "text": [
      "Accuracy score: 0.5085536547433903\n"
     ]
    }
   ],
   "source": [
    "# uniform classifier\n",
    "uniform_clf = DummyClassifier(strategy = 'uniform').fit(features_train, target_train)\n",
    "y_uniform_pred = uniform_clf.predict(features_test)\n",
    "print('Accuracy score:', uniform_clf.score(features_test, target_test))"
   ]
  },
  {
   "cell_type": "markdown",
   "metadata": {},
   "source": [
    "As can be seen, both of the dummy models have poorer accuracy values than our Random Forest model. Therefore, we are able to consider our model 'sane'."
   ]
  },
  {
   "cell_type": "markdown",
   "metadata": {},
   "source": [
    "## Conclusion"
   ]
  },
  {
   "cell_type": "markdown",
   "metadata": {},
   "source": [
    "To sum everything up, the work done made it possible to achieve the following steps:\n",
    "- the data was checked for gaps and duplicates;\n",
    "- the entire dataset was divided into three samples: training (60%), validation (20%) and test (20%).\n",
    "- three different predictive models were tested: classification based on decision trees, random forest, and logistic regression. Based on a comparison of the accuracy indicators of each of the models, the model constructed using a random forest turned out to be of the highest quality;\n",
    "- the quality of the model was checked on a test sample. The accuracy parameter turned out to be quite large = 0.79;\n",
    "- the model has also been tested for sanity. The quality indicators for simply constructed models turned out to be significantly lower than those of our model.\n",
    "\n",
    "All in all, the chosen Random Forest model can be used by \"Megaline\" telecom company to offer users of one of two tariffs: \"Smart\" or \"Ultra\"."
   ]
  }
 ],
 "metadata": {
  "ExecuteTimeLog": [
   {
    "duration": 1031,
    "start_time": "2021-11-13T22:24:34.052Z"
   },
   {
    "duration": 3,
    "start_time": "2021-11-13T22:24:35.085Z"
   },
   {
    "duration": 50,
    "start_time": "2021-11-13T22:24:35.090Z"
   },
   {
    "duration": 25,
    "start_time": "2021-11-13T22:24:35.142Z"
   },
   {
    "duration": 5,
    "start_time": "2021-11-13T22:24:35.169Z"
   },
   {
    "duration": 19,
    "start_time": "2021-11-13T22:24:35.176Z"
   },
   {
    "duration": 8,
    "start_time": "2021-11-13T22:24:35.197Z"
   },
   {
    "duration": 11,
    "start_time": "2021-11-13T22:24:35.207Z"
   },
   {
    "duration": 81,
    "start_time": "2021-11-13T22:24:35.220Z"
   },
   {
    "duration": 9,
    "start_time": "2021-11-13T22:24:35.303Z"
   },
   {
    "duration": 549,
    "start_time": "2021-11-13T22:24:35.313Z"
   },
   {
    "duration": 49,
    "start_time": "2021-11-13T22:24:35.863Z"
   },
   {
    "duration": 30,
    "start_time": "2021-11-13T22:24:35.914Z"
   },
   {
    "duration": 9,
    "start_time": "2021-11-13T22:24:35.947Z"
   },
   {
    "duration": 14,
    "start_time": "2021-11-13T22:24:35.958Z"
   },
   {
    "duration": 3,
    "start_time": "2021-11-13T22:24:35.975Z"
   },
   {
    "duration": 8,
    "start_time": "2021-11-13T22:24:35.980Z"
   },
   {
    "duration": 6,
    "start_time": "2021-11-13T22:24:35.990Z"
   },
   {
    "duration": 526,
    "start_time": "2021-11-13T22:39:27.891Z"
   },
   {
    "duration": 48,
    "start_time": "2021-11-13T22:39:58.264Z"
   },
   {
    "duration": 61,
    "start_time": "2021-11-13T22:40:10.340Z"
   },
   {
    "duration": 49,
    "start_time": "2021-11-13T22:40:17.925Z"
   },
   {
    "duration": 66,
    "start_time": "2021-11-13T22:40:45.899Z"
   },
   {
    "duration": 75,
    "start_time": "2021-11-13T22:40:53.228Z"
   },
   {
    "duration": 52,
    "start_time": "2021-11-13T22:40:58.824Z"
   },
   {
    "duration": 348,
    "start_time": "2021-11-14T09:27:43.016Z"
   },
   {
    "duration": 1094,
    "start_time": "2021-11-14T09:27:50.180Z"
   },
   {
    "duration": 3,
    "start_time": "2021-11-14T09:27:54.226Z"
   },
   {
    "duration": 36,
    "start_time": "2021-11-14T09:27:55.922Z"
   },
   {
    "duration": 22,
    "start_time": "2021-11-14T09:27:58.077Z"
   },
   {
    "duration": 5,
    "start_time": "2021-11-14T09:27:58.583Z"
   },
   {
    "duration": 6,
    "start_time": "2021-11-14T09:27:58.873Z"
   },
   {
    "duration": 8,
    "start_time": "2021-11-14T09:28:00.503Z"
   },
   {
    "duration": 8,
    "start_time": "2021-11-14T09:28:01.869Z"
   },
   {
    "duration": 59,
    "start_time": "2021-11-14T09:28:03.894Z"
   },
   {
    "duration": 64,
    "start_time": "2021-11-14T09:28:16.129Z"
   },
   {
    "duration": 8,
    "start_time": "2021-11-14T09:28:29.653Z"
   },
   {
    "duration": 559,
    "start_time": "2021-11-14T09:28:35.355Z"
   },
   {
    "duration": 60,
    "start_time": "2021-11-14T09:28:53.788Z"
   },
   {
    "duration": 66,
    "start_time": "2021-11-14T09:29:00.419Z"
   },
   {
    "duration": 62,
    "start_time": "2021-11-14T09:33:07.404Z"
   },
   {
    "duration": 51,
    "start_time": "2021-11-14T09:33:14.370Z"
   },
   {
    "duration": 54,
    "start_time": "2021-11-14T10:13:58.316Z"
   },
   {
    "duration": 57,
    "start_time": "2021-11-14T10:16:56.151Z"
   },
   {
    "duration": 55,
    "start_time": "2021-11-14T10:17:01.355Z"
   },
   {
    "duration": 59,
    "start_time": "2021-11-14T10:17:11.622Z"
   },
   {
    "duration": 50,
    "start_time": "2021-11-14T10:17:29.536Z"
   },
   {
    "duration": 4,
    "start_time": "2021-11-14T10:18:56.462Z"
   },
   {
    "duration": 2,
    "start_time": "2021-11-14T10:18:56.668Z"
   },
   {
    "duration": 27,
    "start_time": "2021-11-14T10:18:56.820Z"
   },
   {
    "duration": 25,
    "start_time": "2021-11-14T10:18:57.094Z"
   },
   {
    "duration": 8,
    "start_time": "2021-11-14T10:18:57.386Z"
   },
   {
    "duration": 7,
    "start_time": "2021-11-14T10:18:57.530Z"
   },
   {
    "duration": 8,
    "start_time": "2021-11-14T10:18:58.210Z"
   },
   {
    "duration": 9,
    "start_time": "2021-11-14T10:18:58.943Z"
   },
   {
    "duration": 55,
    "start_time": "2021-11-14T10:19:00.112Z"
   },
   {
    "duration": 6,
    "start_time": "2021-11-14T10:19:00.436Z"
   },
   {
    "duration": 51,
    "start_time": "2021-11-14T10:19:19.099Z"
   },
   {
    "duration": 3,
    "start_time": "2021-11-14T10:19:20.681Z"
   },
   {
    "duration": 2,
    "start_time": "2021-11-14T10:19:27.987Z"
   },
   {
    "duration": 10,
    "start_time": "2021-11-14T10:21:11.961Z"
   },
   {
    "duration": 464,
    "start_time": "2021-11-14T10:21:13.599Z"
   },
   {
    "duration": 47,
    "start_time": "2021-11-14T10:21:17.285Z"
   },
   {
    "duration": 15,
    "start_time": "2021-11-14T10:21:19.799Z"
   },
   {
    "duration": 8,
    "start_time": "2021-11-14T10:21:30.888Z"
   },
   {
    "duration": 7,
    "start_time": "2021-11-14T10:21:37.444Z"
   },
   {
    "duration": 3,
    "start_time": "2021-11-14T10:21:39.732Z"
   },
   {
    "duration": 6,
    "start_time": "2021-11-14T10:21:39.970Z"
   },
   {
    "duration": 5,
    "start_time": "2021-11-14T10:21:40.398Z"
   },
   {
    "duration": 1382,
    "start_time": "2021-11-14T22:50:11.437Z"
   },
   {
    "duration": 3,
    "start_time": "2021-11-14T22:50:12.821Z"
   },
   {
    "duration": 43,
    "start_time": "2021-11-14T22:50:12.827Z"
   },
   {
    "duration": 35,
    "start_time": "2021-11-14T22:50:12.881Z"
   },
   {
    "duration": 8,
    "start_time": "2021-11-14T22:50:12.918Z"
   },
   {
    "duration": 11,
    "start_time": "2021-11-14T22:50:12.928Z"
   },
   {
    "duration": 44,
    "start_time": "2021-11-14T22:50:12.941Z"
   },
   {
    "duration": 11,
    "start_time": "2021-11-14T22:50:12.989Z"
   },
   {
    "duration": 100,
    "start_time": "2021-11-14T22:50:13.003Z"
   },
   {
    "duration": 13,
    "start_time": "2021-11-14T22:50:13.105Z"
   },
   {
    "duration": 751,
    "start_time": "2021-11-14T22:50:13.120Z"
   },
   {
    "duration": 76,
    "start_time": "2021-11-14T22:50:13.873Z"
   },
   {
    "duration": 40,
    "start_time": "2021-11-14T22:50:13.952Z"
   },
   {
    "duration": 10,
    "start_time": "2021-11-14T22:50:13.995Z"
   },
   {
    "duration": 10,
    "start_time": "2021-11-14T22:50:14.007Z"
   },
   {
    "duration": 3,
    "start_time": "2021-11-14T22:50:14.019Z"
   },
   {
    "duration": 9,
    "start_time": "2021-11-14T22:50:14.024Z"
   },
   {
    "duration": 51,
    "start_time": "2021-11-14T22:50:14.035Z"
   },
   {
    "duration": 75,
    "start_time": "2021-11-14T22:50:39.254Z"
   },
   {
    "duration": 77,
    "start_time": "2021-11-14T22:50:50.547Z"
   },
   {
    "duration": 89,
    "start_time": "2021-11-14T22:51:47.494Z"
   },
   {
    "duration": 77,
    "start_time": "2021-11-14T22:52:13.246Z"
   },
   {
    "duration": 77,
    "start_time": "2021-11-14T22:53:05.657Z"
   },
   {
    "duration": 75,
    "start_time": "2021-11-14T22:53:22.954Z"
   },
   {
    "duration": 76,
    "start_time": "2021-11-14T22:53:38.451Z"
   },
   {
    "duration": 75,
    "start_time": "2021-11-14T22:53:51.680Z"
   },
   {
    "duration": 86,
    "start_time": "2021-11-14T22:54:39.263Z"
   },
   {
    "duration": 76,
    "start_time": "2021-11-14T22:56:54.623Z"
   },
   {
    "duration": 14,
    "start_time": "2021-11-14T22:58:00.006Z"
   },
   {
    "duration": 11,
    "start_time": "2021-11-14T22:58:05.848Z"
   },
   {
    "duration": 137,
    "start_time": "2021-11-14T23:01:46.617Z"
   },
   {
    "duration": 290,
    "start_time": "2021-11-14T23:02:03.392Z"
   },
   {
    "duration": 534,
    "start_time": "2021-11-14T23:02:49.703Z"
   },
   {
    "duration": 179,
    "start_time": "2021-11-14T23:03:23.099Z"
   },
   {
    "duration": 51,
    "start_time": "2021-11-14T23:04:17.453Z"
   },
   {
    "duration": 41,
    "start_time": "2021-11-14T23:06:39.342Z"
   },
   {
    "duration": 41,
    "start_time": "2021-11-14T23:06:50.818Z"
   },
   {
    "duration": 41,
    "start_time": "2021-11-14T23:07:00.278Z"
   },
   {
    "duration": 41,
    "start_time": "2021-11-14T23:07:07.683Z"
   },
   {
    "duration": 80,
    "start_time": "2021-11-14T23:07:23.208Z"
   },
   {
    "duration": 1413,
    "start_time": "2021-11-14T23:07:55.006Z"
   },
   {
    "duration": 4,
    "start_time": "2021-11-14T23:07:56.422Z"
   },
   {
    "duration": 53,
    "start_time": "2021-11-14T23:07:56.430Z"
   },
   {
    "duration": 36,
    "start_time": "2021-11-14T23:07:56.486Z"
   },
   {
    "duration": 9,
    "start_time": "2021-11-14T23:07:56.524Z"
   },
   {
    "duration": 10,
    "start_time": "2021-11-14T23:07:56.535Z"
   },
   {
    "duration": 46,
    "start_time": "2021-11-14T23:07:56.547Z"
   },
   {
    "duration": 11,
    "start_time": "2021-11-14T23:07:56.597Z"
   },
   {
    "duration": 110,
    "start_time": "2021-11-14T23:07:56.610Z"
   },
   {
    "duration": 11,
    "start_time": "2021-11-14T23:07:56.723Z"
   },
   {
    "duration": 794,
    "start_time": "2021-11-14T23:07:56.737Z"
   },
   {
    "duration": 58,
    "start_time": "2021-11-14T23:07:57.534Z"
   },
   {
    "duration": 89,
    "start_time": "2021-11-14T23:07:57.595Z"
   },
   {
    "duration": 25,
    "start_time": "2021-11-14T23:07:57.687Z"
   },
   {
    "duration": 10,
    "start_time": "2021-11-14T23:07:57.715Z"
   },
   {
    "duration": 14,
    "start_time": "2021-11-14T23:07:57.728Z"
   },
   {
    "duration": 42,
    "start_time": "2021-11-14T23:07:57.745Z"
   },
   {
    "duration": 10,
    "start_time": "2021-11-14T23:07:57.790Z"
   },
   {
    "duration": 8,
    "start_time": "2021-11-14T23:07:57.803Z"
   },
   {
    "duration": 12,
    "start_time": "2021-11-14T23:08:38.120Z"
   },
   {
    "duration": 12,
    "start_time": "2021-11-14T23:08:50.837Z"
   },
   {
    "duration": 139,
    "start_time": "2021-11-14T23:09:29.239Z"
   },
   {
    "duration": 1347,
    "start_time": "2021-11-14T23:12:47.638Z"
   },
   {
    "duration": 6,
    "start_time": "2021-11-14T23:12:48.988Z"
   },
   {
    "duration": 44,
    "start_time": "2021-11-14T23:12:48.999Z"
   },
   {
    "duration": 44,
    "start_time": "2021-11-14T23:12:49.045Z"
   },
   {
    "duration": 8,
    "start_time": "2021-11-14T23:12:49.091Z"
   },
   {
    "duration": 11,
    "start_time": "2021-11-14T23:12:49.101Z"
   },
   {
    "duration": 11,
    "start_time": "2021-11-14T23:12:49.115Z"
   },
   {
    "duration": 11,
    "start_time": "2021-11-14T23:12:49.130Z"
   },
   {
    "duration": 114,
    "start_time": "2021-11-14T23:12:49.144Z"
   },
   {
    "duration": 30,
    "start_time": "2021-11-14T23:12:49.261Z"
   },
   {
    "duration": 789,
    "start_time": "2021-11-14T23:12:49.293Z"
   },
   {
    "duration": 41,
    "start_time": "2021-11-14T23:12:50.084Z"
   },
   {
    "duration": 96,
    "start_time": "2021-11-14T23:12:50.127Z"
   },
   {
    "duration": 25,
    "start_time": "2021-11-14T23:12:50.225Z"
   },
   {
    "duration": 33,
    "start_time": "2021-11-14T23:12:50.252Z"
   },
   {
    "duration": 11,
    "start_time": "2021-11-14T23:12:50.287Z"
   },
   {
    "duration": 4,
    "start_time": "2021-11-14T23:12:50.300Z"
   },
   {
    "duration": 9,
    "start_time": "2021-11-14T23:12:50.306Z"
   },
   {
    "duration": 8,
    "start_time": "2021-11-14T23:12:50.318Z"
   },
   {
    "duration": 333,
    "start_time": "2021-11-15T08:41:55.305Z"
   },
   {
    "duration": 1391,
    "start_time": "2021-11-15T08:41:59.633Z"
   },
   {
    "duration": 4,
    "start_time": "2021-11-15T08:42:01.026Z"
   },
   {
    "duration": 73,
    "start_time": "2021-11-15T08:42:01.033Z"
   },
   {
    "duration": 52,
    "start_time": "2021-11-15T08:42:01.109Z"
   },
   {
    "duration": 11,
    "start_time": "2021-11-15T08:42:01.164Z"
   },
   {
    "duration": 26,
    "start_time": "2021-11-15T08:42:01.177Z"
   },
   {
    "duration": 12,
    "start_time": "2021-11-15T08:42:01.932Z"
   },
   {
    "duration": 12,
    "start_time": "2021-11-15T08:42:03.114Z"
   },
   {
    "duration": 81,
    "start_time": "2021-11-15T08:42:05.085Z"
   },
   {
    "duration": 4059,
    "start_time": "2021-11-15T08:42:51.954Z"
   },
   {
    "duration": 1730,
    "start_time": "2021-11-15T08:43:26.943Z"
   },
   {
    "duration": 45,
    "start_time": "2021-11-15T08:45:37.731Z"
   },
   {
    "duration": 67,
    "start_time": "2021-11-15T08:45:43.821Z"
   },
   {
    "duration": 25,
    "start_time": "2021-11-15T08:45:44.382Z"
   },
   {
    "duration": 11,
    "start_time": "2021-11-15T08:45:45.258Z"
   },
   {
    "duration": 11,
    "start_time": "2021-11-15T08:45:53.356Z"
   },
   {
    "duration": 10,
    "start_time": "2021-11-15T08:45:55.738Z"
   },
   {
    "duration": 3,
    "start_time": "2021-11-15T08:46:35.612Z"
   },
   {
    "duration": 8,
    "start_time": "2021-11-15T08:46:35.804Z"
   },
   {
    "duration": 8,
    "start_time": "2021-11-15T08:46:36.056Z"
   }
  ],
  "kernelspec": {
   "display_name": "Python 3",
   "language": "python",
   "name": "python3"
  },
  "language_info": {
   "codemirror_mode": {
    "name": "ipython",
    "version": 3
   },
   "file_extension": ".py",
   "mimetype": "text/x-python",
   "name": "python",
   "nbconvert_exporter": "python",
   "pygments_lexer": "ipython3",
   "version": "3.8.5"
  },
  "toc": {
   "base_numbering": 1,
   "nav_menu": {},
   "number_sections": true,
   "sideBar": true,
   "skip_h1_title": true,
   "title_cell": "Table of Contents",
   "title_sidebar": "Contents",
   "toc_cell": false,
   "toc_position": {},
   "toc_section_display": true,
   "toc_window_display": false
  }
 },
 "nbformat": 4,
 "nbformat_minor": 4
}
