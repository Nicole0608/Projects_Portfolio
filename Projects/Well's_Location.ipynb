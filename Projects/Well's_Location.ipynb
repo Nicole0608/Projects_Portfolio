{
 "cells": [
  {
   "cell_type": "markdown",
   "metadata": {},
   "source": [
    "# Choosing a location for a well"
   ]
  },
  {
   "cell_type": "markdown",
   "metadata": {},
   "source": [
    "For Production Company X, there is need to determine where to drill the new well.\n",
    "\n",
    "As **data**, oil samples were provided in three regions: in each of 10,000 fields, where the quality of oil and the volume of its reserves were measured. **Project goal**: to build a machine learning model that will help determine the region where oil extraction will bring the greatest profit."
   ]
  },
  {
   "cell_type": "markdown",
   "metadata": {},
   "source": [
    "**Note:**\n",
    "- When exploring a region, 500 points are explored, from which the best 200 are selected for development using machine learning;\n",
    "- The budget for the development of wells in the region is 10 billion rubles.\n",
    "- At current prices, one barrel of raw materials brings in 450 rubles of income. The income from each unit of the product is 450 thousand rubles, since the volume is indicated in thousands of barrels.\n",
    "- After assessing the risks, it is necessary to leave only those regions in which the probability of losses is less than 2.5%. Among them, the region with the highest average profit is chosen.\n",
    "- The data is synthetic: the details of the contracts and the characteristics of the deposits were not disclosed."
   ]
  },
  {
   "cell_type": "markdown",
   "metadata": {},
   "source": [
    "<h1>Table of Contents<span class=\"tocSkip\"></span></h1>\n",
    "<div class=\"toc\"><ul class=\"toc-item\"><li><span><a href=\"#Loading-and-preparing-data\" data-toc-modified-id=\"Loading-and-preparing-data-1\"><span class=\"toc-item-num\">1&nbsp;&nbsp;</span>Loading and preparing data</a></span></li><li><span><a href=\"#Model-training\" data-toc-modified-id=\"Model-training-2\"><span class=\"toc-item-num\">2&nbsp;&nbsp;</span>Model training</a></span></li><li><span><a href=\"#Preparation-for-calculating-profit\" data-toc-modified-id=\"Preparation-for-calculating-profit-3\"><span class=\"toc-item-num\">3&nbsp;&nbsp;</span>Preparation for calculating profit</a></span></li><li><span><a href=\"#Calculation-of-profit-and-risks\" data-toc-modified-id=\"Calculation-of-profit-and-risks-4\"><span class=\"toc-item-num\">4&nbsp;&nbsp;</span>Calculation of profit and risks</a></span></li><li><span><a href=\"#Risks-and-revenue-for-each-region:\" data-toc-modified-id=\"Risks-and-revenue-for-each-region:-5\"><span class=\"toc-item-num\">5&nbsp;&nbsp;</span>Risks and revenue for each region:</a></span></li><li><span><a href=\"#Conclusion\" data-toc-modified-id=\"Conclusion-6\"><span class=\"toc-item-num\">6&nbsp;&nbsp;</span>Conclusion</a></span></li></ul></div>"
   ]
  },
  {
   "cell_type": "markdown",
   "metadata": {},
   "source": [
    "## Loading and preparing data"
   ]
  },
  {
   "cell_type": "code",
   "execution_count": 4,
   "metadata": {},
   "outputs": [],
   "source": [
    "# libraries\n",
    "import pandas as pd\n",
    "import numpy as np\n",
    "import scipy.stats as st\n",
    "from sklearn.preprocessing import StandardScaler\n",
    "from sklearn.metrics import mean_squared_error\n",
    "from sklearn.model_selection import train_test_split\n",
    "from sklearn.linear_model import LinearRegression\n",
    "import matplotlib.pyplot as plt\n",
    "from numpy.random import RandomState\n",
    "\n",
    "# mute notifications\n",
    "import warnings\n",
    "warnings.filterwarnings('ignore')\n",
    "\n",
    "# import datasets\n",
    "df1 = pd.read_csv('geo_data_0.csv')\n",
    "df2 = pd.read_csv('geo_data_1.csv')\n",
    "df3 = pd.read_csv('geo_data_2.csv')"
   ]
  },
  {
   "cell_type": "code",
   "execution_count": 5,
   "metadata": {},
   "outputs": [
    {
     "data": {
      "text/html": [
       "<div>\n",
       "<style scoped>\n",
       "    .dataframe tbody tr th:only-of-type {\n",
       "        vertical-align: middle;\n",
       "    }\n",
       "\n",
       "    .dataframe tbody tr th {\n",
       "        vertical-align: top;\n",
       "    }\n",
       "\n",
       "    .dataframe thead th {\n",
       "        text-align: right;\n",
       "    }\n",
       "</style>\n",
       "<table border=\"1\" class=\"dataframe\">\n",
       "  <thead>\n",
       "    <tr style=\"text-align: right;\">\n",
       "      <th></th>\n",
       "      <th>id</th>\n",
       "      <th>f0</th>\n",
       "      <th>f1</th>\n",
       "      <th>f2</th>\n",
       "      <th>product</th>\n",
       "    </tr>\n",
       "  </thead>\n",
       "  <tbody>\n",
       "    <tr>\n",
       "      <th>0</th>\n",
       "      <td>txEyH</td>\n",
       "      <td>0.705745</td>\n",
       "      <td>-0.497823</td>\n",
       "      <td>1.221170</td>\n",
       "      <td>105.280062</td>\n",
       "    </tr>\n",
       "    <tr>\n",
       "      <th>1</th>\n",
       "      <td>2acmU</td>\n",
       "      <td>1.334711</td>\n",
       "      <td>-0.340164</td>\n",
       "      <td>4.365080</td>\n",
       "      <td>73.037750</td>\n",
       "    </tr>\n",
       "    <tr>\n",
       "      <th>2</th>\n",
       "      <td>409Wp</td>\n",
       "      <td>1.022732</td>\n",
       "      <td>0.151990</td>\n",
       "      <td>1.419926</td>\n",
       "      <td>85.265647</td>\n",
       "    </tr>\n",
       "    <tr>\n",
       "      <th>3</th>\n",
       "      <td>iJLyR</td>\n",
       "      <td>-0.032172</td>\n",
       "      <td>0.139033</td>\n",
       "      <td>2.978566</td>\n",
       "      <td>168.620776</td>\n",
       "    </tr>\n",
       "    <tr>\n",
       "      <th>4</th>\n",
       "      <td>Xdl7t</td>\n",
       "      <td>1.988431</td>\n",
       "      <td>0.155413</td>\n",
       "      <td>4.751769</td>\n",
       "      <td>154.036647</td>\n",
       "    </tr>\n",
       "  </tbody>\n",
       "</table>\n",
       "</div>"
      ],
      "text/plain": [
       "      id        f0        f1        f2     product\n",
       "0  txEyH  0.705745 -0.497823  1.221170  105.280062\n",
       "1  2acmU  1.334711 -0.340164  4.365080   73.037750\n",
       "2  409Wp  1.022732  0.151990  1.419926   85.265647\n",
       "3  iJLyR -0.032172  0.139033  2.978566  168.620776\n",
       "4  Xdl7t  1.988431  0.155413  4.751769  154.036647"
      ]
     },
     "execution_count": 5,
     "metadata": {},
     "output_type": "execute_result"
    }
   ],
   "source": [
    "df1.head(5)"
   ]
  },
  {
   "cell_type": "code",
   "execution_count": 6,
   "metadata": {},
   "outputs": [
    {
     "data": {
      "text/html": [
       "<div>\n",
       "<style scoped>\n",
       "    .dataframe tbody tr th:only-of-type {\n",
       "        vertical-align: middle;\n",
       "    }\n",
       "\n",
       "    .dataframe tbody tr th {\n",
       "        vertical-align: top;\n",
       "    }\n",
       "\n",
       "    .dataframe thead th {\n",
       "        text-align: right;\n",
       "    }\n",
       "</style>\n",
       "<table border=\"1\" class=\"dataframe\">\n",
       "  <thead>\n",
       "    <tr style=\"text-align: right;\">\n",
       "      <th></th>\n",
       "      <th>id</th>\n",
       "      <th>f0</th>\n",
       "      <th>f1</th>\n",
       "      <th>f2</th>\n",
       "      <th>product</th>\n",
       "    </tr>\n",
       "  </thead>\n",
       "  <tbody>\n",
       "    <tr>\n",
       "      <th>0</th>\n",
       "      <td>kBEdx</td>\n",
       "      <td>-15.001348</td>\n",
       "      <td>-8.276000</td>\n",
       "      <td>-0.005876</td>\n",
       "      <td>3.179103</td>\n",
       "    </tr>\n",
       "    <tr>\n",
       "      <th>1</th>\n",
       "      <td>62mP7</td>\n",
       "      <td>14.272088</td>\n",
       "      <td>-3.475083</td>\n",
       "      <td>0.999183</td>\n",
       "      <td>26.953261</td>\n",
       "    </tr>\n",
       "    <tr>\n",
       "      <th>2</th>\n",
       "      <td>vyE1P</td>\n",
       "      <td>6.263187</td>\n",
       "      <td>-5.948386</td>\n",
       "      <td>5.001160</td>\n",
       "      <td>134.766305</td>\n",
       "    </tr>\n",
       "    <tr>\n",
       "      <th>3</th>\n",
       "      <td>KcrkZ</td>\n",
       "      <td>-13.081196</td>\n",
       "      <td>-11.506057</td>\n",
       "      <td>4.999415</td>\n",
       "      <td>137.945408</td>\n",
       "    </tr>\n",
       "    <tr>\n",
       "      <th>4</th>\n",
       "      <td>AHL4O</td>\n",
       "      <td>12.702195</td>\n",
       "      <td>-8.147433</td>\n",
       "      <td>5.004363</td>\n",
       "      <td>134.766305</td>\n",
       "    </tr>\n",
       "  </tbody>\n",
       "</table>\n",
       "</div>"
      ],
      "text/plain": [
       "      id         f0         f1        f2     product\n",
       "0  kBEdx -15.001348  -8.276000 -0.005876    3.179103\n",
       "1  62mP7  14.272088  -3.475083  0.999183   26.953261\n",
       "2  vyE1P   6.263187  -5.948386  5.001160  134.766305\n",
       "3  KcrkZ -13.081196 -11.506057  4.999415  137.945408\n",
       "4  AHL4O  12.702195  -8.147433  5.004363  134.766305"
      ]
     },
     "execution_count": 6,
     "metadata": {},
     "output_type": "execute_result"
    }
   ],
   "source": [
    "df2.head(5)"
   ]
  },
  {
   "cell_type": "code",
   "execution_count": 7,
   "metadata": {},
   "outputs": [
    {
     "data": {
      "text/html": [
       "<div>\n",
       "<style scoped>\n",
       "    .dataframe tbody tr th:only-of-type {\n",
       "        vertical-align: middle;\n",
       "    }\n",
       "\n",
       "    .dataframe tbody tr th {\n",
       "        vertical-align: top;\n",
       "    }\n",
       "\n",
       "    .dataframe thead th {\n",
       "        text-align: right;\n",
       "    }\n",
       "</style>\n",
       "<table border=\"1\" class=\"dataframe\">\n",
       "  <thead>\n",
       "    <tr style=\"text-align: right;\">\n",
       "      <th></th>\n",
       "      <th>id</th>\n",
       "      <th>f0</th>\n",
       "      <th>f1</th>\n",
       "      <th>f2</th>\n",
       "      <th>product</th>\n",
       "    </tr>\n",
       "  </thead>\n",
       "  <tbody>\n",
       "    <tr>\n",
       "      <th>0</th>\n",
       "      <td>fwXo0</td>\n",
       "      <td>-1.146987</td>\n",
       "      <td>0.963328</td>\n",
       "      <td>-0.828965</td>\n",
       "      <td>27.758673</td>\n",
       "    </tr>\n",
       "    <tr>\n",
       "      <th>1</th>\n",
       "      <td>WJtFt</td>\n",
       "      <td>0.262778</td>\n",
       "      <td>0.269839</td>\n",
       "      <td>-2.530187</td>\n",
       "      <td>56.069697</td>\n",
       "    </tr>\n",
       "    <tr>\n",
       "      <th>2</th>\n",
       "      <td>ovLUW</td>\n",
       "      <td>0.194587</td>\n",
       "      <td>0.289035</td>\n",
       "      <td>-5.586433</td>\n",
       "      <td>62.871910</td>\n",
       "    </tr>\n",
       "    <tr>\n",
       "      <th>3</th>\n",
       "      <td>q6cA6</td>\n",
       "      <td>2.236060</td>\n",
       "      <td>-0.553760</td>\n",
       "      <td>0.930038</td>\n",
       "      <td>114.572842</td>\n",
       "    </tr>\n",
       "    <tr>\n",
       "      <th>4</th>\n",
       "      <td>WPMUX</td>\n",
       "      <td>-0.515993</td>\n",
       "      <td>1.716266</td>\n",
       "      <td>5.899011</td>\n",
       "      <td>149.600746</td>\n",
       "    </tr>\n",
       "  </tbody>\n",
       "</table>\n",
       "</div>"
      ],
      "text/plain": [
       "      id        f0        f1        f2     product\n",
       "0  fwXo0 -1.146987  0.963328 -0.828965   27.758673\n",
       "1  WJtFt  0.262778  0.269839 -2.530187   56.069697\n",
       "2  ovLUW  0.194587  0.289035 -5.586433   62.871910\n",
       "3  q6cA6  2.236060 -0.553760  0.930038  114.572842\n",
       "4  WPMUX -0.515993  1.716266  5.899011  149.600746"
      ]
     },
     "execution_count": 7,
     "metadata": {},
     "output_type": "execute_result"
    }
   ],
   "source": [
    "df3.head(5)"
   ]
  },
  {
   "cell_type": "markdown",
   "metadata": {},
   "source": [
    "**Checking basic information about dataset**"
   ]
  },
  {
   "cell_type": "code",
   "execution_count": 8,
   "metadata": {},
   "outputs": [],
   "source": [
    "# function for datasets analysis\n",
    "\n",
    "def df_info(data):\n",
    "    print(data.info())\n",
    "    print(data.describe())\n",
    "    print('Missing values:', data.isna().sum().sum())\n",
    "    print('Dubleciates:', data.duplicated().sum())"
   ]
  },
  {
   "cell_type": "markdown",
   "metadata": {},
   "source": [
    "**Well 1:**"
   ]
  },
  {
   "cell_type": "code",
   "execution_count": 9,
   "metadata": {},
   "outputs": [
    {
     "name": "stdout",
     "output_type": "stream",
     "text": [
      "<class 'pandas.core.frame.DataFrame'>\n",
      "RangeIndex: 100000 entries, 0 to 99999\n",
      "Data columns (total 5 columns):\n",
      " #   Column   Non-Null Count   Dtype  \n",
      "---  ------   --------------   -----  \n",
      " 0   id       100000 non-null  object \n",
      " 1   f0       100000 non-null  float64\n",
      " 2   f1       100000 non-null  float64\n",
      " 3   f2       100000 non-null  float64\n",
      " 4   product  100000 non-null  float64\n",
      "dtypes: float64(4), object(1)\n",
      "memory usage: 3.8+ MB\n",
      "None\n",
      "                  f0             f1             f2        product\n",
      "count  100000.000000  100000.000000  100000.000000  100000.000000\n",
      "mean        0.500419       0.250143       2.502647      92.500000\n",
      "std         0.871832       0.504433       3.248248      44.288691\n",
      "min        -1.408605      -0.848218     -12.088328       0.000000\n",
      "25%        -0.072580      -0.200881       0.287748      56.497507\n",
      "50%         0.502360       0.250252       2.515969      91.849972\n",
      "75%         1.073581       0.700646       4.715088     128.564089\n",
      "max         2.362331       1.343769      16.003790     185.364347\n",
      "Missing values: 0\n",
      "Dubleciates: 0\n"
     ]
    }
   ],
   "source": [
    "df_info(df1)"
   ]
  },
  {
   "cell_type": "markdown",
   "metadata": {},
   "source": [
    "**Well 2:**"
   ]
  },
  {
   "cell_type": "code",
   "execution_count": 10,
   "metadata": {},
   "outputs": [
    {
     "name": "stdout",
     "output_type": "stream",
     "text": [
      "<class 'pandas.core.frame.DataFrame'>\n",
      "RangeIndex: 100000 entries, 0 to 99999\n",
      "Data columns (total 5 columns):\n",
      " #   Column   Non-Null Count   Dtype  \n",
      "---  ------   --------------   -----  \n",
      " 0   id       100000 non-null  object \n",
      " 1   f0       100000 non-null  float64\n",
      " 2   f1       100000 non-null  float64\n",
      " 3   f2       100000 non-null  float64\n",
      " 4   product  100000 non-null  float64\n",
      "dtypes: float64(4), object(1)\n",
      "memory usage: 3.8+ MB\n",
      "None\n",
      "                  f0             f1             f2        product\n",
      "count  100000.000000  100000.000000  100000.000000  100000.000000\n",
      "mean        1.141296      -4.796579       2.494541      68.825000\n",
      "std         8.965932       5.119872       1.703572      45.944423\n",
      "min       -31.609576     -26.358598      -0.018144       0.000000\n",
      "25%        -6.298551      -8.267985       1.000021      26.953261\n",
      "50%         1.153055      -4.813172       2.011479      57.085625\n",
      "75%         8.621015      -1.332816       3.999904     107.813044\n",
      "max        29.421755      18.734063       5.019721     137.945408\n",
      "Missing values: 0\n",
      "Dubleciates: 0\n"
     ]
    }
   ],
   "source": [
    "df_info(df2)"
   ]
  },
  {
   "cell_type": "markdown",
   "metadata": {},
   "source": [
    "**Well 3:**"
   ]
  },
  {
   "cell_type": "code",
   "execution_count": 11,
   "metadata": {},
   "outputs": [
    {
     "name": "stdout",
     "output_type": "stream",
     "text": [
      "<class 'pandas.core.frame.DataFrame'>\n",
      "RangeIndex: 100000 entries, 0 to 99999\n",
      "Data columns (total 5 columns):\n",
      " #   Column   Non-Null Count   Dtype  \n",
      "---  ------   --------------   -----  \n",
      " 0   id       100000 non-null  object \n",
      " 1   f0       100000 non-null  float64\n",
      " 2   f1       100000 non-null  float64\n",
      " 3   f2       100000 non-null  float64\n",
      " 4   product  100000 non-null  float64\n",
      "dtypes: float64(4), object(1)\n",
      "memory usage: 3.8+ MB\n",
      "None\n",
      "                  f0             f1             f2        product\n",
      "count  100000.000000  100000.000000  100000.000000  100000.000000\n",
      "mean        0.002023      -0.002081       2.495128      95.000000\n",
      "std         1.732045       1.730417       3.473445      44.749921\n",
      "min        -8.760004      -7.084020     -11.970335       0.000000\n",
      "25%        -1.162288      -1.174820       0.130359      59.450441\n",
      "50%         0.009424      -0.009482       2.484236      94.925613\n",
      "75%         1.158535       1.163678       4.858794     130.595027\n",
      "max         7.238262       7.844801      16.739402     190.029838\n",
      "Missing values: 0\n",
      "Dubleciates: 0\n"
     ]
    }
   ],
   "source": [
    "df_info(df3)"
   ]
  },
  {
   "cell_type": "markdown",
   "metadata": {},
   "source": [
    "Initial analysis of the provided datasets showed the following:\n",
    "\n",
    "- each of the three datasets has 100 thousand observations;\n",
    "- variables with features (f0, f1 and f2) are of the 'float64' type;\n",
    "- no missing values or duplicates were found in any of the datasets."
   ]
  },
  {
   "cell_type": "markdown",
   "metadata": {},
   "source": [
    "## Model training"
   ]
  },
  {
   "cell_type": "markdown",
   "metadata": {},
   "source": [
    "Based on the fact that it is necessary to predict the numerical values, linear regression will be used."
   ]
  },
  {
   "cell_type": "markdown",
   "metadata": {},
   "source": [
    "Let's write a function that will allow to perform the following data manipulations:\n",
    "\n",
    "- split into training and validation sets in a ratio of 75:25;\n",
    "- train the model and make predictions on the validation set;\n",
    "- save predictions and correct answers on the validation set;\n",
    "- print on the screen the average stock of the predicted raw materials and the RMSE of the model."
   ]
  },
  {
   "cell_type": "code",
   "execution_count": 12,
   "metadata": {},
   "outputs": [],
   "source": [
    "def lr_analysis(data):\n",
    "    # division of samples\n",
    "    data_train, data_valid = train_test_split(data, test_size=0.25, random_state=12345) \n",
    "\n",
    "    # creating new variables\n",
    "    features_train = data_train.drop(['id','product'], axis=1)\n",
    "    target_train = data_train['product']\n",
    "    features_valid = data_valid.drop(['id','product'], axis=1)\n",
    "    target_valid = data_valid['product']\n",
    "    \n",
    "    # features scaling\n",
    "    numeric = ['f0', 'f1', 'f2']\n",
    "    scaler = StandardScaler()\n",
    "    scaler.fit(features_train[numeric])\n",
    "    features_train[numeric] = scaler.transform(features_train[numeric])\n",
    "    features_valid[numeric] = scaler.transform(features_valid[numeric]) \n",
    "\n",
    "    # training a model on a validation set\n",
    "    lr_model = LinearRegression()\n",
    "    lr_model.fit(features_train, target_train)\n",
    "    predicted_valid = lr_model.predict(features_valid)\n",
    "    predictions = pd.Series(predicted_valid)\n",
    "    mse = mean_squared_error(target_valid, predictions)\n",
    "    \n",
    "    # average stock of raw materials and RMSE of the model\n",
    "    rmse = mse ** 0.5\n",
    "    avg_stock = sum(predictions) / len(predictions)\n",
    "    \n",
    "    # output\n",
    "    print('Average stock of predicted raw materials:', avg_stock)\n",
    "    print('RMSE of the model:', rmse)\n",
    "    \n",
    "    return (predictions, target_valid.reset_index(drop=True), rmse)    "
   ]
  },
  {
   "cell_type": "markdown",
   "metadata": {},
   "source": [
    "Let's apply the written function for all datasets:"
   ]
  },
  {
   "cell_type": "code",
   "execution_count": 14,
   "metadata": {},
   "outputs": [
    {
     "name": "stdout",
     "output_type": "stream",
     "text": [
      "\n",
      "Region 1:\n",
      "Average stock of predicted raw materials: 92.59256778438008\n",
      "RMSE of the model: 37.5794217150813\n",
      "\n",
      "Region 2:\n",
      "Average stock of predicted raw materials: 68.72854689544583\n",
      "RMSE of the model: 0.8930992867756173\n",
      "\n",
      "Region 3:\n",
      "Average stock of predicted raw materials: 94.96504596800509\n",
      "RMSE of the model: 40.02970873393434\n"
     ]
    }
   ],
   "source": [
    "i = 1\n",
    "for data in [df1, df2, df3]:\n",
    "    print('')\n",
    "    print(F\"Region {i}:\")\n",
    "    lr_analysis(data)\n",
    "    i+=1"
   ]
  },
  {
   "cell_type": "markdown",
   "metadata": {},
   "source": [
    "As a result of the analysis, the following trends are visible:\n",
    "\n",
    "- the largest average stock of predicted raw materials is in the wells of the third region, and the smallest - in the second region;\n",
    "- the smallest RMSE = 0.9 and belongs to the predictions in the second region. At the same time, predictions in the first and third regions have large RMSE error rates, which indicates a not very good quality of model prediction.\n",
    "\n",
    "In other words, our model did a more or less good job in predicting product volumes for the second region only. The predictions for regions 1 and 3 are far from the actual volumes."
   ]
  },
  {
   "cell_type": "markdown",
   "metadata": {},
   "source": [
    "## Preparation for calculating profit"
   ]
  },
  {
   "cell_type": "markdown",
   "metadata": {},
   "source": [
    "**Saving all key values for calculations in separate variables:**"
   ]
  },
  {
   "cell_type": "code",
   "execution_count": 15,
   "metadata": {},
   "outputs": [],
   "source": [
    "budget = 10000000000\n",
    "oil_wells = 200\n",
    "barrel_income = 450000"
   ]
  },
  {
   "cell_type": "markdown",
   "metadata": {},
   "source": [
    "**Calculation of a sufficient volume of raw materials for a break-even development of a new well**"
   ]
  },
  {
   "cell_type": "code",
   "execution_count": 16,
   "metadata": {},
   "outputs": [
    {
     "name": "stdout",
     "output_type": "stream",
     "text": [
      "Sufficient volume of raw materials for break-even development: 111.11111111111111\n"
     ]
    }
   ],
   "source": [
    "enough_volume = budget / oil_wells / barrel_income\n",
    "print('Sufficient volume of raw materials for break-even development:', enough_volume)"
   ]
  },
  {
   "cell_type": "markdown",
   "metadata": {},
   "source": [
    "**Comparison of the received volume of raw materials with the average stock in each region**"
   ]
  },
  {
   "cell_type": "code",
   "execution_count": 17,
   "metadata": {},
   "outputs": [],
   "source": [
    "# Calculation of the average stock of raw materials in each region:\n",
    "\n",
    "def avg_volume(data):\n",
    "    volume = sum(data['product']) / len(data['product'])\n",
    "    print('Average stock of raw materials in the region = ', volume)"
   ]
  },
  {
   "cell_type": "code",
   "execution_count": 18,
   "metadata": {},
   "outputs": [
    {
     "name": "stdout",
     "output_type": "stream",
     "text": [
      "\n",
      "Region 1:\n",
      "Average stock of raw materials in the region =  92.49999999999976\n",
      "\n",
      "\n",
      "Region 2:\n",
      "Average stock of raw materials in the region =  68.82500000002561\n",
      "\n",
      "\n",
      "Region 3:\n",
      "Average stock of raw materials in the region =  95.00000000000041\n",
      "\n",
      "Sufficient volume of raw materials for break-even development: 111.11111111111111\n"
     ]
    }
   ],
   "source": [
    "i = 1\n",
    "for data in [df1, df2, df3]:\n",
    "    print('')\n",
    "    print(F\"Region {i}:\")\n",
    "    avg_volume(data)\n",
    "    i+=1\n",
    "    print('')\n",
    "print('Sufficient volume of raw materials for break-even development:', enough_volume)"
   ]
  },
  {
   "cell_type": "markdown",
   "metadata": {},
   "source": [
    "At this stage, the preparation of the profit calculation was able to reveal that the average value of raw materials reserves in all three regions is less than the sufficient volume of raw materials for breakeven development. The third region is closest to the value of the volume of raw materials for breakeven development. The first region comes in second place, while the second region comes in third place."
   ]
  },
  {
   "cell_type": "markdown",
   "metadata": {},
   "source": [
    "## Calculation of profit and risks"
   ]
  },
  {
   "cell_type": "markdown",
   "metadata": {},
   "source": [
    "Let's write a function for calculating profit for selected wells and model predictions:\n",
    "\n",
    "- select the wells with the maximum prediction values;\n",
    "- summarize the target value of the volume of raw materials corresponding to these predictions;\n",
    "- calculate the profit for the received volume of raw materials."
   ]
  },
  {
   "cell_type": "markdown",
   "metadata": {},
   "source": [
    "Firstly, let's write a function that will store the predicted and target oil volume values for each of the three datasets:"
   ]
  },
  {
   "cell_type": "code",
   "execution_count": 23,
   "metadata": {},
   "outputs": [],
   "source": [
    "lr_model = LinearRegression()\n",
    "def pred_tar(data):\n",
    "    features = data.drop(['id', 'product'], axis = 1)\n",
    "    target = data['product']\n",
    "    features_train, features_valid, target_train, target_valid = train_test_split(features, target, test_size = 0.25, random_state = 0)                  \n",
    "    lr_model.fit(features_train, target_train)\n",
    "    predictions = lr_model.predict(features_valid)\n",
    "    predictions = pd.Series(predictions)\n",
    "    target = pd.Series(target_valid)\n",
    "    return predictions, target"
   ]
  },
  {
   "cell_type": "markdown",
   "metadata": {},
   "source": [
    "Let's save these values for each of the datasets for further profit calculation:"
   ]
  },
  {
   "cell_type": "code",
   "execution_count": 24,
   "metadata": {},
   "outputs": [],
   "source": [
    "df1_pred, df1_target = pred_tar(df1)\n",
    "df2_pred, df2_target = pred_tar(df2)\n",
    "df3_pred, df3_target = pred_tar(df3)"
   ]
  },
  {
   "cell_type": "markdown",
   "metadata": {},
   "source": [
    "Function for calculating profit in each of the three regions:"
   ]
  },
  {
   "cell_type": "code",
   "execution_count": 25,
   "metadata": {},
   "outputs": [],
   "source": [
    "def revenue_calculation(predictions, target):\n",
    "    predictions = pd.Series(predictions).reset_index(drop = True)\n",
    "    target = pd.Series(target).reset_index(drop = True)\n",
    "    best_predictions = predictions.sort_values(ascending = False)\n",
    "    best_target = target[best_predictions.index][:200].sum()\n",
    "    revenue = best_target.sum() * barrel_income\n",
    "    profit = revenue - budget\n",
    "    return profit"
   ]
  },
  {
   "cell_type": "code",
   "execution_count": 26,
   "metadata": {},
   "outputs": [
    {
     "name": "stdout",
     "output_type": "stream",
     "text": [
      "Profit in region 1: 3.36 bln. RUB.\n"
     ]
    }
   ],
   "source": [
    "print('Profit in region 1: {0:.2f} bln. RUB.'.format(revenue_calculation(df1_pred, df1_target) / 1000000000))"
   ]
  },
  {
   "cell_type": "code",
   "execution_count": 27,
   "metadata": {},
   "outputs": [
    {
     "name": "stdout",
     "output_type": "stream",
     "text": [
      "Profit in region 2: 2.42 bln. RUB.\n"
     ]
    }
   ],
   "source": [
    "print('Profit in region 2: {0:.2f} bln. RUB.'.format(revenue_calculation(df2_pred, df2_target) / 1000000000))"
   ]
  },
  {
   "cell_type": "code",
   "execution_count": 28,
   "metadata": {},
   "outputs": [
    {
     "name": "stdout",
     "output_type": "stream",
     "text": [
      "Profit in region 3: 2.62 bln. RUB.\n"
     ]
    }
   ],
   "source": [
    "print('Profit in region 3: {0:.2f} bln. RUB.'.format(revenue_calculation(df3_pred, df3_target) / 1000000000))"
   ]
  },
  {
   "cell_type": "markdown",
   "metadata": {},
   "source": [
    "## Risks and revenue for each region:"
   ]
  },
  {
   "cell_type": "markdown",
   "metadata": {},
   "source": [
    "**Applying Bootstrap Technique to Determine Profit Distribution**"
   ]
  },
  {
   "cell_type": "code",
   "execution_count": 29,
   "metadata": {},
   "outputs": [],
   "source": [
    "state = np.random.RandomState(12345)"
   ]
  },
  {
   "cell_type": "code",
   "execution_count": 30,
   "metadata": {},
   "outputs": [],
   "source": [
    "def bootstrap(predictions, target):\n",
    "    target = target.reset_index(drop=True)\n",
    "    values = []\n",
    "    risk_values = 0\n",
    "    \n",
    "    for i in range(1000):\n",
    "        target_subsample = target.sample(500, replace = True, random_state=state)\n",
    "        predictions_subsample = predictions[target_subsample.index]\n",
    "        revenue = revenue_calculation(predictions_subsample, target_subsample)\n",
    "        values.append(revenue_calculation(predictions_subsample, target_subsample))\n",
    "        \n",
    "    \n",
    "    values = pd.Series(values)\n",
    "    confidence_interval = (values.quantile(0.025), values.quantile(0.975))\n",
    "    avg_revenue = values.mean()\n",
    "    risk = st.percentileofscore(values, 0)\n",
    "    \n",
    "    return (avg_revenue, confidence_interval, risk)"
   ]
  },
  {
   "cell_type": "markdown",
   "metadata": {},
   "source": [
    "Application of this function for all three datasets:"
   ]
  },
  {
   "cell_type": "code",
   "execution_count": 31,
   "metadata": {},
   "outputs": [
    {
     "name": "stdout",
     "output_type": "stream",
     "text": [
      "\n",
      "Region 1:\n",
      "Average profit in the region: 444486225.3681067 RUB.\n",
      "95% Confidence interval: (-53170462.89962602, 949296653.1890134)\n",
      "Risk of loss: 4.7 %\n",
      "\n",
      "\n",
      "Region 2:\n",
      "Average profit in the region: 491573277.28277457 RUB.\n",
      "95% Confidence interval: (113115966.68988861, 870932298.8568313)\n",
      "Risk of loss: 0.2 %\n",
      "\n",
      "\n",
      "Region 3:\n",
      "Average profit in the region: 388914311.3096654 RUB.\n",
      "95% Confidence interval: (-147014174.38470182, 906065451.8287103)\n",
      "Risk of loss: 7.7 %\n",
      "\n"
     ]
    }
   ],
   "source": [
    "i = 1\n",
    "for predictions, target in zip([df1_pred, df2_pred, df3_pred],\n",
    "                           [df1_target, df2_target, df3_target]):\n",
    "    avg_revenue, confidence_interval, risk = bootstrap(predictions, target)\n",
    "    print('')\n",
    "    print(F\"Region {i}:\")\n",
    "    print(F'Average profit in the region: {avg_revenue} RUB.')\n",
    "    print(F'95% Confidence interval: {confidence_interval}')\n",
    "    print(F'Risk of loss: {risk} %')\n",
    "    i+=1\n",
    "    print('')"
   ]
  },
  {
   "cell_type": "markdown",
   "metadata": {},
   "source": [
    "**Summary:**\n",
    "\n",
    "As can be seen from the calculations, region 2 is the most profitable for well development, since it has the lowest percentage of losses (only 1.4%, which turns out to be less than the predetermined level of 2.5%), as well as the largest average profit among all three regions. "
   ]
  },
  {
   "cell_type": "markdown",
   "metadata": {},
   "source": [
    "## Conclusion"
   ]
  },
  {
   "cell_type": "markdown",
   "metadata": {},
   "source": [
    "As a result of the work done, the following steps were implemented:\n",
    "\n",
    "- The data were examined and prepared for subsequent work;\n",
    "- Using linear regression, a model was built that predicts the stock of raw materials in each of the three regions. The model showed the best RMSE when predicting product volumes in the second region. That is, among all three regions, our predictions were most closely approximated to the actual figures based on the data of the second region;\n",
    "- A function was written to calculate the sufficient volume of raw materials in the well for its breakeven development. A value of 111 barrels was obtained, which is higher than the average stock of raw materials in each of the three regions;\n",
    "- Using the bootstrap tool, the risks and rewards from each region were calculated, as well as the 95% confidence interval. These calculations made it possible to conclude that the only promising region is region number 2, since it brings the largest profit, and also has the lowest percentage of risk of losses (1.4%, which turns out to be less than the level of 2.5% set by the condition)."
   ]
  }
 ],
 "metadata": {
  "ExecuteTimeLog": [
   {
    "duration": 1516,
    "start_time": "2021-12-15T14:50:42.343Z"
   },
   {
    "duration": 7,
    "start_time": "2021-12-15T14:50:43.861Z"
   },
   {
    "duration": 513,
    "start_time": "2021-12-15T14:50:43.875Z"
   },
   {
    "duration": 20,
    "start_time": "2021-12-15T14:50:44.392Z"
   },
   {
    "duration": 445,
    "start_time": "2021-12-15T14:50:44.415Z"
   },
   {
    "duration": -33,
    "start_time": "2021-12-15T14:50:44.896Z"
   },
   {
    "duration": -33,
    "start_time": "2021-12-15T14:50:44.897Z"
   },
   {
    "duration": -32,
    "start_time": "2021-12-15T14:50:44.898Z"
   },
   {
    "duration": -33,
    "start_time": "2021-12-15T14:50:44.900Z"
   },
   {
    "duration": -33,
    "start_time": "2021-12-15T14:50:44.901Z"
   },
   {
    "duration": -36,
    "start_time": "2021-12-15T14:50:44.906Z"
   },
   {
    "duration": 9,
    "start_time": "2021-12-15T14:50:45.336Z"
   },
   {
    "duration": 501,
    "start_time": "2021-12-15T14:50:45.672Z"
   },
   {
    "duration": 4,
    "start_time": "2021-12-15T14:50:46.382Z"
   },
   {
    "duration": 4,
    "start_time": "2021-12-15T14:50:46.936Z"
   },
   {
    "duration": 296,
    "start_time": "2021-12-15T14:50:47.090Z"
   },
   {
    "duration": 84,
    "start_time": "2021-12-15T14:50:47.758Z"
   },
   {
    "duration": 6,
    "start_time": "2021-12-15T14:50:47.939Z"
   },
   {
    "duration": 377,
    "start_time": "2021-12-15T14:50:48.299Z"
   },
   {
    "duration": 5,
    "start_time": "2021-12-15T14:50:52.490Z"
   },
   {
    "duration": 294,
    "start_time": "2021-12-15T14:50:52.996Z"
   },
   {
    "duration": 6,
    "start_time": "2021-12-15T14:50:53.492Z"
   },
   {
    "duration": 13,
    "start_time": "2021-12-15T14:50:53.740Z"
   },
   {
    "duration": 13,
    "start_time": "2021-12-15T14:50:54.012Z"
   },
   {
    "duration": 12,
    "start_time": "2021-12-15T14:50:54.244Z"
   },
   {
    "duration": 9,
    "start_time": "2021-12-15T14:50:54.970Z"
   },
   {
    "duration": 10,
    "start_time": "2021-12-15T14:50:55.432Z"
   },
   {
    "duration": 25851,
    "start_time": "2021-12-15T14:50:56.098Z"
   },
   {
    "duration": 502,
    "start_time": "2021-12-15T14:51:22.000Z"
   },
   {
    "duration": 14,
    "start_time": "2021-12-15T14:51:22.505Z"
   },
   {
    "duration": 15,
    "start_time": "2021-12-15T14:51:22.521Z"
   },
   {
    "duration": 37,
    "start_time": "2021-12-15T14:51:22.538Z"
   },
   {
    "duration": 5,
    "start_time": "2021-12-15T14:51:22.625Z"
   },
   {
    "duration": 6,
    "start_time": "2021-12-15T14:51:29.765Z"
   },
   {
    "duration": 150,
    "start_time": "2021-12-15T14:51:30.204Z"
   },
   {
    "duration": 132,
    "start_time": "2021-12-15T14:51:33.307Z"
   },
   {
    "duration": 126,
    "start_time": "2021-12-15T14:51:41.948Z"
   },
   {
    "duration": 9,
    "start_time": "2021-12-15T14:51:45.581Z"
   },
   {
    "duration": 518,
    "start_time": "2021-12-15T14:51:46.659Z"
   },
   {
    "duration": 3,
    "start_time": "2021-12-15T14:51:51.233Z"
   },
   {
    "duration": 3,
    "start_time": "2021-12-15T14:51:53.084Z"
   },
   {
    "duration": 315,
    "start_time": "2021-12-15T14:51:53.351Z"
   },
   {
    "duration": 4,
    "start_time": "2021-12-15T14:52:19.802Z"
   },
   {
    "duration": 4,
    "start_time": "2021-12-15T14:52:20.732Z"
   },
   {
    "duration": 49,
    "start_time": "2021-12-15T14:52:21.353Z"
   },
   {
    "duration": 7,
    "start_time": "2021-12-15T14:52:26.166Z"
   },
   {
    "duration": 6,
    "start_time": "2021-12-15T14:52:30.778Z"
   },
   {
    "duration": 427,
    "start_time": "2021-12-15T14:52:32.350Z"
   },
   {
    "duration": 5,
    "start_time": "2021-12-15T14:52:35.640Z"
   },
   {
    "duration": 14,
    "start_time": "2021-12-15T14:52:38.902Z"
   },
   {
    "duration": 14,
    "start_time": "2021-12-15T14:52:39.276Z"
   },
   {
    "duration": 13,
    "start_time": "2021-12-15T14:52:39.520Z"
   },
   {
    "duration": 4,
    "start_time": "2021-12-15T14:52:41.286Z"
   },
   {
    "duration": 7,
    "start_time": "2021-12-15T14:52:41.661Z"
   },
   {
    "duration": 664,
    "start_time": "2021-12-15T14:53:08.739Z"
   },
   {
    "duration": 26293,
    "start_time": "2021-12-15T14:53:19.709Z"
   },
   {
    "duration": 1440,
    "start_time": "2021-12-15T15:15:01.287Z"
   },
   {
    "duration": 3,
    "start_time": "2021-12-15T15:15:02.730Z"
   },
   {
    "duration": 4577,
    "start_time": "2021-12-15T15:15:02.736Z"
   },
   {
    "duration": 19,
    "start_time": "2021-12-15T15:15:07.316Z"
   },
   {
    "duration": 24,
    "start_time": "2021-12-15T15:15:07.337Z"
   },
   {
    "duration": 14,
    "start_time": "2021-12-15T15:15:07.363Z"
   },
   {
    "duration": 5,
    "start_time": "2021-12-15T15:15:07.380Z"
   },
   {
    "duration": 156,
    "start_time": "2021-12-15T15:15:07.387Z"
   },
   {
    "duration": 131,
    "start_time": "2021-12-15T15:15:07.545Z"
   },
   {
    "duration": 137,
    "start_time": "2021-12-15T15:15:07.679Z"
   },
   {
    "duration": 8,
    "start_time": "2021-12-15T15:16:09.287Z"
   },
   {
    "duration": 576,
    "start_time": "2021-12-15T15:16:11.683Z"
   },
   {
    "duration": 4,
    "start_time": "2021-12-15T15:17:33.084Z"
   },
   {
    "duration": 4,
    "start_time": "2021-12-15T15:17:33.729Z"
   },
   {
    "duration": 5,
    "start_time": "2021-12-15T15:17:34.308Z"
   },
   {
    "duration": 39,
    "start_time": "2021-12-15T15:17:34.498Z"
   },
   {
    "duration": 5,
    "start_time": "2021-12-15T15:18:01.463Z"
   },
   {
    "duration": 424,
    "start_time": "2021-12-15T15:18:02.259Z"
   },
   {
    "duration": 6,
    "start_time": "2021-12-15T15:18:03.957Z"
   },
   {
    "duration": 13,
    "start_time": "2021-12-15T15:18:04.640Z"
   },
   {
    "duration": 14,
    "start_time": "2021-12-15T15:18:05.056Z"
   },
   {
    "duration": 13,
    "start_time": "2021-12-15T15:18:05.238Z"
   },
   {
    "duration": 4,
    "start_time": "2021-12-15T15:18:05.789Z"
   },
   {
    "duration": 7,
    "start_time": "2021-12-15T15:18:05.963Z"
   },
   {
    "duration": 25456,
    "start_time": "2021-12-15T15:18:06.308Z"
   },
   {
    "duration": 1311,
    "start_time": "2021-12-15T18:36:15.987Z"
   },
   {
    "duration": 3,
    "start_time": "2021-12-15T18:36:17.300Z"
   },
   {
    "duration": 333,
    "start_time": "2021-12-15T18:36:17.305Z"
   },
   {
    "duration": 12,
    "start_time": "2021-12-15T18:36:17.640Z"
   },
   {
    "duration": 9,
    "start_time": "2021-12-15T18:36:17.654Z"
   },
   {
    "duration": 25,
    "start_time": "2021-12-15T18:36:17.665Z"
   },
   {
    "duration": 7,
    "start_time": "2021-12-15T18:36:17.692Z"
   },
   {
    "duration": 78,
    "start_time": "2021-12-15T18:36:17.701Z"
   },
   {
    "duration": 72,
    "start_time": "2021-12-15T18:36:17.781Z"
   },
   {
    "duration": 73,
    "start_time": "2021-12-15T18:36:18.228Z"
   },
   {
    "duration": 6,
    "start_time": "2021-12-15T18:36:19.034Z"
   },
   {
    "duration": 436,
    "start_time": "2021-12-15T18:36:19.372Z"
   },
   {
    "duration": 3,
    "start_time": "2021-12-15T18:36:20.320Z"
   },
   {
    "duration": 3,
    "start_time": "2021-12-15T18:36:20.638Z"
   },
   {
    "duration": 3,
    "start_time": "2021-12-15T18:36:25.619Z"
   },
   {
    "duration": 4,
    "start_time": "2021-12-15T18:36:25.953Z"
   },
   {
    "duration": 3,
    "start_time": "2021-12-15T18:36:26.351Z"
   },
   {
    "duration": 30,
    "start_time": "2021-12-15T18:36:26.514Z"
   },
   {
    "duration": 4,
    "start_time": "2021-12-15T18:36:27.700Z"
   },
   {
    "duration": 150,
    "start_time": "2021-12-15T18:36:28.052Z"
   },
   {
    "duration": 5,
    "start_time": "2021-12-15T18:36:28.430Z"
   },
   {
    "duration": 12,
    "start_time": "2021-12-15T18:36:28.659Z"
   },
   {
    "duration": 11,
    "start_time": "2021-12-15T18:36:28.849Z"
   },
   {
    "duration": 9,
    "start_time": "2021-12-15T18:36:29.047Z"
   },
   {
    "duration": 2,
    "start_time": "2021-12-15T18:36:29.953Z"
   },
   {
    "duration": 4,
    "start_time": "2021-12-15T18:36:30.189Z"
   },
   {
    "duration": 4915,
    "start_time": "2021-12-15T18:36:30.805Z"
   },
   {
    "duration": 4,
    "start_time": "2021-12-15T18:36:41.341Z"
   },
   {
    "duration": 7,
    "start_time": "2021-12-15T18:36:41.589Z"
   },
   {
    "duration": 9018,
    "start_time": "2021-12-15T18:36:43.736Z"
   },
   {
    "duration": 7,
    "start_time": "2021-12-15T18:37:19.901Z"
   },
   {
    "duration": 14951,
    "start_time": "2021-12-15T18:37:20.750Z"
   },
   {
    "duration": 78,
    "start_time": "2021-12-15T18:39:25.152Z"
   }
  ],
  "kernelspec": {
   "display_name": "Python 3",
   "language": "python",
   "name": "python3"
  },
  "language_info": {
   "codemirror_mode": {
    "name": "ipython",
    "version": 3
   },
   "file_extension": ".py",
   "mimetype": "text/x-python",
   "name": "python",
   "nbconvert_exporter": "python",
   "pygments_lexer": "ipython3",
   "version": "3.8.5"
  },
  "toc": {
   "base_numbering": 1,
   "nav_menu": {},
   "number_sections": true,
   "sideBar": true,
   "skip_h1_title": true,
   "title_cell": "Table of Contents",
   "title_sidebar": "Contents",
   "toc_cell": true,
   "toc_position": {},
   "toc_section_display": true,
   "toc_window_display": false
  }
 },
 "nbformat": 4,
 "nbformat_minor": 2
}
