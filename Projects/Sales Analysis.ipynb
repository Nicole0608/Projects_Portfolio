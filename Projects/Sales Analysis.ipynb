{
 "cells": [
  {
   "cell_type": "markdown",
   "metadata": {},
   "source": [
    "# Sales analysis for a computer games store"
   ]
  },
  {
   "cell_type": "markdown",
   "metadata": {},
   "source": [
    "**Project Description:** Historical data on game sales, user and expert ratings, genres and platforms (for example, Xbox or PlayStation) are available from open sources. \n",
    "\n",
    "**The goal** is to identify the patterns that determine the success of the game sales. This will allow to bet on a potentially popular product and plan the company's advertising campaigns for the next year - 2017."
   ]
  },
  {
   "cell_type": "markdown",
   "metadata": {},
   "source": [
    "<h1>Table of Contents<span class=\"tocSkip\"></span></h1>\n",
    "<div class=\"toc\"><ul class=\"toc-item\"><li><span><a href=\"#Data-Preprocessing\" data-toc-modified-id=\"Data-Preprocessing-1\"><span class=\"toc-item-num\">1&nbsp;&nbsp;</span>Data Preprocessing</a></span></li><li><span><a href=\"#Data-Preprocessing\" data-toc-modified-id=\"Data-Preprocessing-2\"><span class=\"toc-item-num\">2&nbsp;&nbsp;</span>Data Preprocessing</a></span></li><li><span><a href=\"#Exploratory-data-analysis\" data-toc-modified-id=\"Exploratory-data-analysis-3\"><span class=\"toc-item-num\">3&nbsp;&nbsp;</span>Exploratory data analysis</a></span></li><li><span><a href=\"#User-portrait-of-each-region\" data-toc-modified-id=\"User-portrait-of-each-region-4\"><span class=\"toc-item-num\">4&nbsp;&nbsp;</span>User portrait of each region</a></span></li><li><span><a href=\"#Hypotheses-testing\" data-toc-modified-id=\"Hypotheses-testing-5\"><span class=\"toc-item-num\">5&nbsp;&nbsp;</span>Hypotheses testing</a></span></li><li><span><a href=\"#Conclusion\" data-toc-modified-id=\"Conclusion-6\"><span class=\"toc-item-num\">6&nbsp;&nbsp;</span>Conclusion</a></span></li></ul></div>"
   ]
  },
  {
   "cell_type": "markdown",
   "metadata": {},
   "source": [
    "## Data Preprocessing"
   ]
  },
  {
   "cell_type": "code",
   "execution_count": 135,
   "metadata": {},
   "outputs": [
    {
     "data": {
      "text/html": [
       "<div>\n",
       "<style scoped>\n",
       "    .dataframe tbody tr th:only-of-type {\n",
       "        vertical-align: middle;\n",
       "    }\n",
       "\n",
       "    .dataframe tbody tr th {\n",
       "        vertical-align: top;\n",
       "    }\n",
       "\n",
       "    .dataframe thead th {\n",
       "        text-align: right;\n",
       "    }\n",
       "</style>\n",
       "<table border=\"1\" class=\"dataframe\">\n",
       "  <thead>\n",
       "    <tr style=\"text-align: right;\">\n",
       "      <th></th>\n",
       "      <th>Name</th>\n",
       "      <th>Platform</th>\n",
       "      <th>Year_of_Release</th>\n",
       "      <th>Genre</th>\n",
       "      <th>NA_sales</th>\n",
       "      <th>EU_sales</th>\n",
       "      <th>JP_sales</th>\n",
       "      <th>Other_sales</th>\n",
       "      <th>Critic_Score</th>\n",
       "      <th>User_Score</th>\n",
       "      <th>Rating</th>\n",
       "    </tr>\n",
       "  </thead>\n",
       "  <tbody>\n",
       "    <tr>\n",
       "      <th>0</th>\n",
       "      <td>Wii Sports</td>\n",
       "      <td>Wii</td>\n",
       "      <td>2006.0</td>\n",
       "      <td>Sports</td>\n",
       "      <td>41.36</td>\n",
       "      <td>28.96</td>\n",
       "      <td>3.77</td>\n",
       "      <td>8.45</td>\n",
       "      <td>76.0</td>\n",
       "      <td>8</td>\n",
       "      <td>E</td>\n",
       "    </tr>\n",
       "    <tr>\n",
       "      <th>1</th>\n",
       "      <td>Super Mario Bros.</td>\n",
       "      <td>NES</td>\n",
       "      <td>1985.0</td>\n",
       "      <td>Platform</td>\n",
       "      <td>29.08</td>\n",
       "      <td>3.58</td>\n",
       "      <td>6.81</td>\n",
       "      <td>0.77</td>\n",
       "      <td>NaN</td>\n",
       "      <td>NaN</td>\n",
       "      <td>NaN</td>\n",
       "    </tr>\n",
       "    <tr>\n",
       "      <th>2</th>\n",
       "      <td>Mario Kart Wii</td>\n",
       "      <td>Wii</td>\n",
       "      <td>2008.0</td>\n",
       "      <td>Racing</td>\n",
       "      <td>15.68</td>\n",
       "      <td>12.76</td>\n",
       "      <td>3.79</td>\n",
       "      <td>3.29</td>\n",
       "      <td>82.0</td>\n",
       "      <td>8.3</td>\n",
       "      <td>E</td>\n",
       "    </tr>\n",
       "    <tr>\n",
       "      <th>3</th>\n",
       "      <td>Wii Sports Resort</td>\n",
       "      <td>Wii</td>\n",
       "      <td>2009.0</td>\n",
       "      <td>Sports</td>\n",
       "      <td>15.61</td>\n",
       "      <td>10.93</td>\n",
       "      <td>3.28</td>\n",
       "      <td>2.95</td>\n",
       "      <td>80.0</td>\n",
       "      <td>8</td>\n",
       "      <td>E</td>\n",
       "    </tr>\n",
       "    <tr>\n",
       "      <th>4</th>\n",
       "      <td>Pokemon Red/Pokemon Blue</td>\n",
       "      <td>GB</td>\n",
       "      <td>1996.0</td>\n",
       "      <td>Role-Playing</td>\n",
       "      <td>11.27</td>\n",
       "      <td>8.89</td>\n",
       "      <td>10.22</td>\n",
       "      <td>1.00</td>\n",
       "      <td>NaN</td>\n",
       "      <td>NaN</td>\n",
       "      <td>NaN</td>\n",
       "    </tr>\n",
       "  </tbody>\n",
       "</table>\n",
       "</div>"
      ],
      "text/plain": [
       "                       Name Platform  Year_of_Release         Genre  NA_sales  \\\n",
       "0                Wii Sports      Wii           2006.0        Sports     41.36   \n",
       "1         Super Mario Bros.      NES           1985.0      Platform     29.08   \n",
       "2            Mario Kart Wii      Wii           2008.0        Racing     15.68   \n",
       "3         Wii Sports Resort      Wii           2009.0        Sports     15.61   \n",
       "4  Pokemon Red/Pokemon Blue       GB           1996.0  Role-Playing     11.27   \n",
       "\n",
       "   EU_sales  JP_sales  Other_sales  Critic_Score User_Score Rating  \n",
       "0     28.96      3.77         8.45          76.0          8      E  \n",
       "1      3.58      6.81         0.77           NaN        NaN    NaN  \n",
       "2     12.76      3.79         3.29          82.0        8.3      E  \n",
       "3     10.93      3.28         2.95          80.0          8      E  \n",
       "4      8.89     10.22         1.00           NaN        NaN    NaN  "
      ]
     },
     "execution_count": 135,
     "metadata": {},
     "output_type": "execute_result"
    }
   ],
   "source": [
    "# libraries\n",
    "import pandas as pd\n",
    "import warnings\n",
    "import numpy as np\n",
    "import matplotlib.pyplot as plt\n",
    "from scipy import stats as st\n",
    "\n",
    "# mute notifications\n",
    "warnings.filterwarnings('ignore')\n",
    "\n",
    "# importing dataset\n",
    "data = pd.read_csv('games.csv')\n",
    "data.head(5)"
   ]
  },
  {
   "cell_type": "markdown",
   "metadata": {},
   "source": [
    "**Checking basic information about dataset**"
   ]
  },
  {
   "cell_type": "code",
   "execution_count": 46,
   "metadata": {},
   "outputs": [
    {
     "name": "stdout",
     "output_type": "stream",
     "text": [
      "<class 'pandas.core.frame.DataFrame'>\n",
      "RangeIndex: 16715 entries, 0 to 16714\n",
      "Data columns (total 11 columns):\n",
      " #   Column           Non-Null Count  Dtype  \n",
      "---  ------           --------------  -----  \n",
      " 0   Name             16713 non-null  object \n",
      " 1   Platform         16715 non-null  object \n",
      " 2   Year_of_Release  16446 non-null  float64\n",
      " 3   Genre            16713 non-null  object \n",
      " 4   NA_sales         16715 non-null  float64\n",
      " 5   EU_sales         16715 non-null  float64\n",
      " 6   JP_sales         16715 non-null  float64\n",
      " 7   Other_sales      16715 non-null  float64\n",
      " 8   Critic_Score     8137 non-null   float64\n",
      " 9   User_Score       10014 non-null  object \n",
      " 10  Rating           9949 non-null   object \n",
      "dtypes: float64(6), object(5)\n",
      "memory usage: 1.4+ MB\n",
      "None\n",
      "\n"
     ]
    },
    {
     "data": {
      "text/html": [
       "<div>\n",
       "<style scoped>\n",
       "    .dataframe tbody tr th:only-of-type {\n",
       "        vertical-align: middle;\n",
       "    }\n",
       "\n",
       "    .dataframe tbody tr th {\n",
       "        vertical-align: top;\n",
       "    }\n",
       "\n",
       "    .dataframe thead th {\n",
       "        text-align: right;\n",
       "    }\n",
       "</style>\n",
       "<table border=\"1\" class=\"dataframe\">\n",
       "  <thead>\n",
       "    <tr style=\"text-align: right;\">\n",
       "      <th></th>\n",
       "      <th>Year_of_Release</th>\n",
       "      <th>NA_sales</th>\n",
       "      <th>EU_sales</th>\n",
       "      <th>JP_sales</th>\n",
       "      <th>Other_sales</th>\n",
       "      <th>Critic_Score</th>\n",
       "    </tr>\n",
       "  </thead>\n",
       "  <tbody>\n",
       "    <tr>\n",
       "      <th>count</th>\n",
       "      <td>16446.000000</td>\n",
       "      <td>16715.000000</td>\n",
       "      <td>16715.000000</td>\n",
       "      <td>16715.000000</td>\n",
       "      <td>16715.000000</td>\n",
       "      <td>8137.000000</td>\n",
       "    </tr>\n",
       "    <tr>\n",
       "      <th>mean</th>\n",
       "      <td>2006.484616</td>\n",
       "      <td>0.263377</td>\n",
       "      <td>0.145060</td>\n",
       "      <td>0.077617</td>\n",
       "      <td>0.047342</td>\n",
       "      <td>68.967679</td>\n",
       "    </tr>\n",
       "    <tr>\n",
       "      <th>std</th>\n",
       "      <td>5.877050</td>\n",
       "      <td>0.813604</td>\n",
       "      <td>0.503339</td>\n",
       "      <td>0.308853</td>\n",
       "      <td>0.186731</td>\n",
       "      <td>13.938165</td>\n",
       "    </tr>\n",
       "    <tr>\n",
       "      <th>min</th>\n",
       "      <td>1980.000000</td>\n",
       "      <td>0.000000</td>\n",
       "      <td>0.000000</td>\n",
       "      <td>0.000000</td>\n",
       "      <td>0.000000</td>\n",
       "      <td>13.000000</td>\n",
       "    </tr>\n",
       "    <tr>\n",
       "      <th>25%</th>\n",
       "      <td>2003.000000</td>\n",
       "      <td>0.000000</td>\n",
       "      <td>0.000000</td>\n",
       "      <td>0.000000</td>\n",
       "      <td>0.000000</td>\n",
       "      <td>60.000000</td>\n",
       "    </tr>\n",
       "    <tr>\n",
       "      <th>50%</th>\n",
       "      <td>2007.000000</td>\n",
       "      <td>0.080000</td>\n",
       "      <td>0.020000</td>\n",
       "      <td>0.000000</td>\n",
       "      <td>0.010000</td>\n",
       "      <td>71.000000</td>\n",
       "    </tr>\n",
       "    <tr>\n",
       "      <th>75%</th>\n",
       "      <td>2010.000000</td>\n",
       "      <td>0.240000</td>\n",
       "      <td>0.110000</td>\n",
       "      <td>0.040000</td>\n",
       "      <td>0.030000</td>\n",
       "      <td>79.000000</td>\n",
       "    </tr>\n",
       "    <tr>\n",
       "      <th>max</th>\n",
       "      <td>2016.000000</td>\n",
       "      <td>41.360000</td>\n",
       "      <td>28.960000</td>\n",
       "      <td>10.220000</td>\n",
       "      <td>10.570000</td>\n",
       "      <td>98.000000</td>\n",
       "    </tr>\n",
       "  </tbody>\n",
       "</table>\n",
       "</div>"
      ],
      "text/plain": [
       "       Year_of_Release      NA_sales      EU_sales      JP_sales  \\\n",
       "count     16446.000000  16715.000000  16715.000000  16715.000000   \n",
       "mean       2006.484616      0.263377      0.145060      0.077617   \n",
       "std           5.877050      0.813604      0.503339      0.308853   \n",
       "min        1980.000000      0.000000      0.000000      0.000000   \n",
       "25%        2003.000000      0.000000      0.000000      0.000000   \n",
       "50%        2007.000000      0.080000      0.020000      0.000000   \n",
       "75%        2010.000000      0.240000      0.110000      0.040000   \n",
       "max        2016.000000     41.360000     28.960000     10.220000   \n",
       "\n",
       "        Other_sales  Critic_Score  \n",
       "count  16715.000000   8137.000000  \n",
       "mean       0.047342     68.967679  \n",
       "std        0.186731     13.938165  \n",
       "min        0.000000     13.000000  \n",
       "25%        0.000000     60.000000  \n",
       "50%        0.010000     71.000000  \n",
       "75%        0.030000     79.000000  \n",
       "max       10.570000     98.000000  "
      ]
     },
     "metadata": {},
     "output_type": "display_data"
    }
   ],
   "source": [
    "print(data.info())\n",
    "print('')\n",
    "display(data.describe())"
   ]
  },
  {
   "cell_type": "markdown",
   "metadata": {},
   "source": [
    "This table contains data on the release of games in different years, their rating and profitability, which are contained in the following variables: \n",
    "\n",
    "- Name — name of particular game\n",
    "- Platform — name of the platform\n",
    "- Year_of_Release\n",
    "- Genre — genre of particular game\n",
    "- NA_sales — North American sales (millions of copies sold)\n",
    "- EU_sales — sales in Europe (millions of copies sold)\n",
    "- JP_sales — sales in Japan (millions of copies sold)\n",
    "- Other_sales — sales in other countries (millions of copies sold)\n",
    "- Critic_Score — score by critics (maximum 100)\n",
    "- User_Score — score by users (maximum 10)\n",
    "- Rating — rating from the international ESRB organization.\n",
    "\n",
    "In total, 16715 observations are in the table provided for analysis. Among all the variables listed above, there are two types of data:\n",
    "1. object type: variables 'Name', 'Platform', 'Genre', 'User_Score', 'Rating'\n",
    "2. float64 type: variables 'Year_of_Release', 'NA_sales', 'EU_sales', 'JP_sales', 'Other_sales', 'Critic_Score'. \n",
    "\n",
    "An initial review of the data shows the need for the following transformations:\n",
    "- Converting column names to lowercase\n",
    "- Changing the type of data in the 'Year_of_Releas' column"
   ]
  },
  {
   "cell_type": "markdown",
   "metadata": {},
   "source": [
    "**Checking data for missing values and dublicates**"
   ]
  },
  {
   "cell_type": "code",
   "execution_count": 47,
   "metadata": {},
   "outputs": [
    {
     "data": {
      "text/plain": [
       "Name                  2\n",
       "Platform              0\n",
       "Year_of_Release     269\n",
       "Genre                 2\n",
       "NA_sales              0\n",
       "EU_sales              0\n",
       "JP_sales              0\n",
       "Other_sales           0\n",
       "Critic_Score       8578\n",
       "User_Score         6701\n",
       "Rating             6766\n",
       "dtype: int64"
      ]
     },
     "execution_count": 47,
     "metadata": {},
     "output_type": "execute_result"
    }
   ],
   "source": [
    "data.isna().sum()"
   ]
  },
  {
   "cell_type": "markdown",
   "metadata": {},
   "source": [
    "As can be seen, several variables at once contain missing values. Variables with game name 'Name' and genre 'Genre' contain only 2 missing values. Perhaps these are the same lines, let's check this assumption:"
   ]
  },
  {
   "cell_type": "code",
   "execution_count": 48,
   "metadata": {},
   "outputs": [
    {
     "data": {
      "text/html": [
       "<div>\n",
       "<style scoped>\n",
       "    .dataframe tbody tr th:only-of-type {\n",
       "        vertical-align: middle;\n",
       "    }\n",
       "\n",
       "    .dataframe tbody tr th {\n",
       "        vertical-align: top;\n",
       "    }\n",
       "\n",
       "    .dataframe thead th {\n",
       "        text-align: right;\n",
       "    }\n",
       "</style>\n",
       "<table border=\"1\" class=\"dataframe\">\n",
       "  <thead>\n",
       "    <tr style=\"text-align: right;\">\n",
       "      <th></th>\n",
       "      <th>Name</th>\n",
       "      <th>Platform</th>\n",
       "      <th>Year_of_Release</th>\n",
       "      <th>Genre</th>\n",
       "      <th>NA_sales</th>\n",
       "      <th>EU_sales</th>\n",
       "      <th>JP_sales</th>\n",
       "      <th>Other_sales</th>\n",
       "      <th>Critic_Score</th>\n",
       "      <th>User_Score</th>\n",
       "      <th>Rating</th>\n",
       "    </tr>\n",
       "  </thead>\n",
       "  <tbody>\n",
       "    <tr>\n",
       "      <th>659</th>\n",
       "      <td>NaN</td>\n",
       "      <td>GEN</td>\n",
       "      <td>1993.0</td>\n",
       "      <td>NaN</td>\n",
       "      <td>1.78</td>\n",
       "      <td>0.53</td>\n",
       "      <td>0.00</td>\n",
       "      <td>0.08</td>\n",
       "      <td>NaN</td>\n",
       "      <td>NaN</td>\n",
       "      <td>NaN</td>\n",
       "    </tr>\n",
       "    <tr>\n",
       "      <th>14244</th>\n",
       "      <td>NaN</td>\n",
       "      <td>GEN</td>\n",
       "      <td>1993.0</td>\n",
       "      <td>NaN</td>\n",
       "      <td>0.00</td>\n",
       "      <td>0.00</td>\n",
       "      <td>0.03</td>\n",
       "      <td>0.00</td>\n",
       "      <td>NaN</td>\n",
       "      <td>NaN</td>\n",
       "      <td>NaN</td>\n",
       "    </tr>\n",
       "  </tbody>\n",
       "</table>\n",
       "</div>"
      ],
      "text/plain": [
       "      Name Platform  Year_of_Release Genre  NA_sales  EU_sales  JP_sales  \\\n",
       "659    NaN      GEN           1993.0   NaN      1.78      0.53      0.00   \n",
       "14244  NaN      GEN           1993.0   NaN      0.00      0.00      0.03   \n",
       "\n",
       "       Other_sales  Critic_Score User_Score Rating  \n",
       "659           0.08           NaN        NaN    NaN  \n",
       "14244         0.00           NaN        NaN    NaN  "
      ]
     },
     "execution_count": 48,
     "metadata": {},
     "output_type": "execute_result"
    }
   ],
   "source": [
    "data[data['Name'].isna()]"
   ]
  },
  {
   "cell_type": "code",
   "execution_count": 49,
   "metadata": {},
   "outputs": [
    {
     "data": {
      "text/html": [
       "<div>\n",
       "<style scoped>\n",
       "    .dataframe tbody tr th:only-of-type {\n",
       "        vertical-align: middle;\n",
       "    }\n",
       "\n",
       "    .dataframe tbody tr th {\n",
       "        vertical-align: top;\n",
       "    }\n",
       "\n",
       "    .dataframe thead th {\n",
       "        text-align: right;\n",
       "    }\n",
       "</style>\n",
       "<table border=\"1\" class=\"dataframe\">\n",
       "  <thead>\n",
       "    <tr style=\"text-align: right;\">\n",
       "      <th></th>\n",
       "      <th>Name</th>\n",
       "      <th>Platform</th>\n",
       "      <th>Year_of_Release</th>\n",
       "      <th>Genre</th>\n",
       "      <th>NA_sales</th>\n",
       "      <th>EU_sales</th>\n",
       "      <th>JP_sales</th>\n",
       "      <th>Other_sales</th>\n",
       "      <th>Critic_Score</th>\n",
       "      <th>User_Score</th>\n",
       "      <th>Rating</th>\n",
       "    </tr>\n",
       "  </thead>\n",
       "  <tbody>\n",
       "    <tr>\n",
       "      <th>659</th>\n",
       "      <td>NaN</td>\n",
       "      <td>GEN</td>\n",
       "      <td>1993.0</td>\n",
       "      <td>NaN</td>\n",
       "      <td>1.78</td>\n",
       "      <td>0.53</td>\n",
       "      <td>0.00</td>\n",
       "      <td>0.08</td>\n",
       "      <td>NaN</td>\n",
       "      <td>NaN</td>\n",
       "      <td>NaN</td>\n",
       "    </tr>\n",
       "    <tr>\n",
       "      <th>14244</th>\n",
       "      <td>NaN</td>\n",
       "      <td>GEN</td>\n",
       "      <td>1993.0</td>\n",
       "      <td>NaN</td>\n",
       "      <td>0.00</td>\n",
       "      <td>0.00</td>\n",
       "      <td>0.03</td>\n",
       "      <td>0.00</td>\n",
       "      <td>NaN</td>\n",
       "      <td>NaN</td>\n",
       "      <td>NaN</td>\n",
       "    </tr>\n",
       "  </tbody>\n",
       "</table>\n",
       "</div>"
      ],
      "text/plain": [
       "      Name Platform  Year_of_Release Genre  NA_sales  EU_sales  JP_sales  \\\n",
       "659    NaN      GEN           1993.0   NaN      1.78      0.53      0.00   \n",
       "14244  NaN      GEN           1993.0   NaN      0.00      0.00      0.03   \n",
       "\n",
       "       Other_sales  Critic_Score User_Score Rating  \n",
       "659           0.08           NaN        NaN    NaN  \n",
       "14244         0.00           NaN        NaN    NaN  "
      ]
     },
     "execution_count": 49,
     "metadata": {},
     "output_type": "execute_result"
    }
   ],
   "source": [
    "data[data['Genre'].isna()]"
   ]
  },
  {
   "cell_type": "markdown",
   "metadata": {},
   "source": [
    "The assumption was confirmed. This rows contain data neither by name, nor by genre, nor by rating, so I propose to remove them from the dataset in the future. The number of such lines is only 2 out of more than 16 thousand (approximately 0.01% of the total number of observations)."
   ]
  },
  {
   "cell_type": "markdown",
   "metadata": {},
   "source": [
    "Let's also look at the lines missing 269 year values:"
   ]
  },
  {
   "cell_type": "code",
   "execution_count": 50,
   "metadata": {},
   "outputs": [
    {
     "data": {
      "text/html": [
       "<div>\n",
       "<style scoped>\n",
       "    .dataframe tbody tr th:only-of-type {\n",
       "        vertical-align: middle;\n",
       "    }\n",
       "\n",
       "    .dataframe tbody tr th {\n",
       "        vertical-align: top;\n",
       "    }\n",
       "\n",
       "    .dataframe thead th {\n",
       "        text-align: right;\n",
       "    }\n",
       "</style>\n",
       "<table border=\"1\" class=\"dataframe\">\n",
       "  <thead>\n",
       "    <tr style=\"text-align: right;\">\n",
       "      <th></th>\n",
       "      <th>Name</th>\n",
       "      <th>Platform</th>\n",
       "      <th>Year_of_Release</th>\n",
       "      <th>Genre</th>\n",
       "      <th>NA_sales</th>\n",
       "      <th>EU_sales</th>\n",
       "      <th>JP_sales</th>\n",
       "      <th>Other_sales</th>\n",
       "      <th>Critic_Score</th>\n",
       "      <th>User_Score</th>\n",
       "      <th>Rating</th>\n",
       "    </tr>\n",
       "  </thead>\n",
       "  <tbody>\n",
       "    <tr>\n",
       "      <th>183</th>\n",
       "      <td>Madden NFL 2004</td>\n",
       "      <td>PS2</td>\n",
       "      <td>NaN</td>\n",
       "      <td>Sports</td>\n",
       "      <td>4.26</td>\n",
       "      <td>0.26</td>\n",
       "      <td>0.01</td>\n",
       "      <td>0.71</td>\n",
       "      <td>94.0</td>\n",
       "      <td>8.5</td>\n",
       "      <td>E</td>\n",
       "    </tr>\n",
       "    <tr>\n",
       "      <th>377</th>\n",
       "      <td>FIFA Soccer 2004</td>\n",
       "      <td>PS2</td>\n",
       "      <td>NaN</td>\n",
       "      <td>Sports</td>\n",
       "      <td>0.59</td>\n",
       "      <td>2.36</td>\n",
       "      <td>0.04</td>\n",
       "      <td>0.51</td>\n",
       "      <td>84.0</td>\n",
       "      <td>6.4</td>\n",
       "      <td>E</td>\n",
       "    </tr>\n",
       "    <tr>\n",
       "      <th>456</th>\n",
       "      <td>LEGO Batman: The Videogame</td>\n",
       "      <td>Wii</td>\n",
       "      <td>NaN</td>\n",
       "      <td>Action</td>\n",
       "      <td>1.80</td>\n",
       "      <td>0.97</td>\n",
       "      <td>0.00</td>\n",
       "      <td>0.29</td>\n",
       "      <td>74.0</td>\n",
       "      <td>7.9</td>\n",
       "      <td>E10+</td>\n",
       "    </tr>\n",
       "    <tr>\n",
       "      <th>475</th>\n",
       "      <td>wwe Smackdown vs. Raw 2006</td>\n",
       "      <td>PS2</td>\n",
       "      <td>NaN</td>\n",
       "      <td>Fighting</td>\n",
       "      <td>1.57</td>\n",
       "      <td>1.02</td>\n",
       "      <td>0.00</td>\n",
       "      <td>0.41</td>\n",
       "      <td>NaN</td>\n",
       "      <td>NaN</td>\n",
       "      <td>NaN</td>\n",
       "    </tr>\n",
       "    <tr>\n",
       "      <th>609</th>\n",
       "      <td>Space Invaders</td>\n",
       "      <td>2600</td>\n",
       "      <td>NaN</td>\n",
       "      <td>Shooter</td>\n",
       "      <td>2.36</td>\n",
       "      <td>0.14</td>\n",
       "      <td>0.00</td>\n",
       "      <td>0.03</td>\n",
       "      <td>NaN</td>\n",
       "      <td>NaN</td>\n",
       "      <td>NaN</td>\n",
       "    </tr>\n",
       "  </tbody>\n",
       "</table>\n",
       "</div>"
      ],
      "text/plain": [
       "                           Name Platform  Year_of_Release     Genre  NA_sales  \\\n",
       "183             Madden NFL 2004      PS2              NaN    Sports      4.26   \n",
       "377            FIFA Soccer 2004      PS2              NaN    Sports      0.59   \n",
       "456  LEGO Batman: The Videogame      Wii              NaN    Action      1.80   \n",
       "475  wwe Smackdown vs. Raw 2006      PS2              NaN  Fighting      1.57   \n",
       "609              Space Invaders     2600              NaN   Shooter      2.36   \n",
       "\n",
       "     EU_sales  JP_sales  Other_sales  Critic_Score User_Score Rating  \n",
       "183      0.26      0.01         0.71          94.0        8.5      E  \n",
       "377      2.36      0.04         0.51          84.0        6.4      E  \n",
       "456      0.97      0.00         0.29          74.0        7.9   E10+  \n",
       "475      1.02      0.00         0.41           NaN        NaN    NaN  \n",
       "609      0.14      0.00         0.03           NaN        NaN    NaN  "
      ]
     },
     "execution_count": 50,
     "metadata": {},
     "output_type": "execute_result"
    }
   ],
   "source": [
    "data[data['Year_of_Release'].isna()].head(5)"
   ]
  },
  {
   "cell_type": "markdown",
   "metadata": {},
   "source": [
    "Since the data is absent only in the variable reflecting the year of the game's release, but its name is present, then in the future I can try to fill in the gaps. To do this, it will be possible to take data on the year of release of the game from other lines with the same game's name."
   ]
  },
  {
   "cell_type": "markdown",
   "metadata": {},
   "source": [
    "It is also worth noting that three variables: 'Critic_Score', 'User_Score' and 'Rating' contain a significant number of missing values, what should be somehow addressed in the next step of the data preprocessing.\n",
    "\n",
    "In addition to the missing values, let's also check for duplicates in the data:"
   ]
  },
  {
   "cell_type": "code",
   "execution_count": 51,
   "metadata": {},
   "outputs": [
    {
     "data": {
      "text/plain": [
       "0"
      ]
     },
     "execution_count": 51,
     "metadata": {},
     "output_type": "execute_result"
    }
   ],
   "source": [
    "data.duplicated().sum()"
   ]
  },
  {
   "cell_type": "markdown",
   "metadata": {},
   "source": [
    "As can be seen, no obvious duplicates have been identified.\n",
    "\n",
    "All in all, the initial review of the data has revealed the following transformations that need to be done:\n",
    "\n",
    "1. Convert column names to lowercase for more convenience;\n",
    "2. Change data type in column 'Year_of_Releas';\n",
    "3. Remove lines with missing values in the variables 'Name' and 'Genre';\n",
    "4. Fill in missing values in 'Year_of_Release' if possible;\n",
    "5. Work with the variables 'Critic_Score', 'User_Score' and 'Rating'."
   ]
  },
  {
   "cell_type": "markdown",
   "metadata": {},
   "source": [
    "## Data Preprocessing"
   ]
  },
  {
   "cell_type": "markdown",
   "metadata": {},
   "source": [
    "**Converting column names to lowercase**"
   ]
  },
  {
   "cell_type": "code",
   "execution_count": 52,
   "metadata": {},
   "outputs": [
    {
     "data": {
      "text/html": [
       "<div>\n",
       "<style scoped>\n",
       "    .dataframe tbody tr th:only-of-type {\n",
       "        vertical-align: middle;\n",
       "    }\n",
       "\n",
       "    .dataframe tbody tr th {\n",
       "        vertical-align: top;\n",
       "    }\n",
       "\n",
       "    .dataframe thead th {\n",
       "        text-align: right;\n",
       "    }\n",
       "</style>\n",
       "<table border=\"1\" class=\"dataframe\">\n",
       "  <thead>\n",
       "    <tr style=\"text-align: right;\">\n",
       "      <th></th>\n",
       "      <th>name</th>\n",
       "      <th>platform</th>\n",
       "      <th>year_of_release</th>\n",
       "      <th>genre</th>\n",
       "      <th>na_sales</th>\n",
       "      <th>eu_sales</th>\n",
       "      <th>jp_sales</th>\n",
       "      <th>other_sales</th>\n",
       "      <th>critic_score</th>\n",
       "      <th>user_score</th>\n",
       "      <th>rating</th>\n",
       "    </tr>\n",
       "  </thead>\n",
       "  <tbody>\n",
       "    <tr>\n",
       "      <th>0</th>\n",
       "      <td>Wii Sports</td>\n",
       "      <td>Wii</td>\n",
       "      <td>2006.0</td>\n",
       "      <td>Sports</td>\n",
       "      <td>41.36</td>\n",
       "      <td>28.96</td>\n",
       "      <td>3.77</td>\n",
       "      <td>8.45</td>\n",
       "      <td>76.0</td>\n",
       "      <td>8</td>\n",
       "      <td>E</td>\n",
       "    </tr>\n",
       "    <tr>\n",
       "      <th>1</th>\n",
       "      <td>Super Mario Bros.</td>\n",
       "      <td>NES</td>\n",
       "      <td>1985.0</td>\n",
       "      <td>Platform</td>\n",
       "      <td>29.08</td>\n",
       "      <td>3.58</td>\n",
       "      <td>6.81</td>\n",
       "      <td>0.77</td>\n",
       "      <td>NaN</td>\n",
       "      <td>NaN</td>\n",
       "      <td>NaN</td>\n",
       "    </tr>\n",
       "    <tr>\n",
       "      <th>2</th>\n",
       "      <td>Mario Kart Wii</td>\n",
       "      <td>Wii</td>\n",
       "      <td>2008.0</td>\n",
       "      <td>Racing</td>\n",
       "      <td>15.68</td>\n",
       "      <td>12.76</td>\n",
       "      <td>3.79</td>\n",
       "      <td>3.29</td>\n",
       "      <td>82.0</td>\n",
       "      <td>8.3</td>\n",
       "      <td>E</td>\n",
       "    </tr>\n",
       "    <tr>\n",
       "      <th>3</th>\n",
       "      <td>Wii Sports Resort</td>\n",
       "      <td>Wii</td>\n",
       "      <td>2009.0</td>\n",
       "      <td>Sports</td>\n",
       "      <td>15.61</td>\n",
       "      <td>10.93</td>\n",
       "      <td>3.28</td>\n",
       "      <td>2.95</td>\n",
       "      <td>80.0</td>\n",
       "      <td>8</td>\n",
       "      <td>E</td>\n",
       "    </tr>\n",
       "    <tr>\n",
       "      <th>4</th>\n",
       "      <td>Pokemon Red/Pokemon Blue</td>\n",
       "      <td>GB</td>\n",
       "      <td>1996.0</td>\n",
       "      <td>Role-Playing</td>\n",
       "      <td>11.27</td>\n",
       "      <td>8.89</td>\n",
       "      <td>10.22</td>\n",
       "      <td>1.00</td>\n",
       "      <td>NaN</td>\n",
       "      <td>NaN</td>\n",
       "      <td>NaN</td>\n",
       "    </tr>\n",
       "  </tbody>\n",
       "</table>\n",
       "</div>"
      ],
      "text/plain": [
       "                       name platform  year_of_release         genre  na_sales  \\\n",
       "0                Wii Sports      Wii           2006.0        Sports     41.36   \n",
       "1         Super Mario Bros.      NES           1985.0      Platform     29.08   \n",
       "2            Mario Kart Wii      Wii           2008.0        Racing     15.68   \n",
       "3         Wii Sports Resort      Wii           2009.0        Sports     15.61   \n",
       "4  Pokemon Red/Pokemon Blue       GB           1996.0  Role-Playing     11.27   \n",
       "\n",
       "   eu_sales  jp_sales  other_sales  critic_score user_score rating  \n",
       "0     28.96      3.77         8.45          76.0          8      E  \n",
       "1      3.58      6.81         0.77           NaN        NaN    NaN  \n",
       "2     12.76      3.79         3.29          82.0        8.3      E  \n",
       "3     10.93      3.28         2.95          80.0          8      E  \n",
       "4      8.89     10.22         1.00           NaN        NaN    NaN  "
      ]
     },
     "execution_count": 52,
     "metadata": {},
     "output_type": "execute_result"
    }
   ],
   "source": [
    "data.columns = data.columns.str.lower()\n",
    "data.head(5)"
   ]
  },
  {
   "cell_type": "markdown",
   "metadata": {},
   "source": [
    "**Handling Missing Values**"
   ]
  },
  {
   "cell_type": "markdown",
   "metadata": {},
   "source": [
    "Let's write a function that will fill in the missing values in the 'year_of_release' variable, taking median value of years from other lines with a similar game name:"
   ]
  },
  {
   "cell_type": "code",
   "execution_count": 53,
   "metadata": {},
   "outputs": [
    {
     "name": "stdout",
     "output_type": "stream",
     "text": [
      "148\n"
     ]
    }
   ],
   "source": [
    "data['year_of_release'] = data.groupby('name')['year_of_release'].apply(lambda x: x.fillna(x.median()))\n",
    "print(len(data[data['year_of_release'].isna()]))"
   ]
  },
  {
   "cell_type": "markdown",
   "metadata": {},
   "source": [
    "In this way, it was possible to reduce half of the 'year_of_release' missing values. The rest of the lines can be deleted, since they make up a very small part of 16+ thousand of all observations."
   ]
  },
  {
   "cell_type": "code",
   "execution_count": 54,
   "metadata": {},
   "outputs": [
    {
     "name": "stdout",
     "output_type": "stream",
     "text": [
      "0\n"
     ]
    }
   ],
   "source": [
    "data.dropna(subset = ['year_of_release'], inplace = True)\n",
    "print(len(data[data['year_of_release'].isna()]))"
   ]
  },
  {
   "cell_type": "markdown",
   "metadata": {},
   "source": [
    "Let's do the same with the variables 'name' and 'genre', which have a very small percentage of missing values (only 2 lines):"
   ]
  },
  {
   "cell_type": "code",
   "execution_count": 55,
   "metadata": {},
   "outputs": [
    {
     "name": "stdout",
     "output_type": "stream",
     "text": [
      "0\n"
     ]
    }
   ],
   "source": [
    "data.dropna(subset = ['name'], inplace = True)\n",
    "print(len(data[data['name'].isna()]))"
   ]
  },
  {
   "cell_type": "code",
   "execution_count": 56,
   "metadata": {},
   "outputs": [
    {
     "name": "stdout",
     "output_type": "stream",
     "text": [
      "0\n"
     ]
    }
   ],
   "source": [
    "data.dropna(subset = ['genre'], inplace = True)\n",
    "print(len(data[data['genre'].isna()]))"
   ]
  },
  {
   "cell_type": "markdown",
   "metadata": {},
   "source": [
    "**Changing data types**"
   ]
  },
  {
   "cell_type": "markdown",
   "metadata": {},
   "source": [
    "As noted earlier, there is an extra decimal part in the 'year_of_release' variable. In order to bring the data to a proper form, there is need to replace the data type with integers:"
   ]
  },
  {
   "cell_type": "code",
   "execution_count": 57,
   "metadata": {},
   "outputs": [
    {
     "name": "stdout",
     "output_type": "stream",
     "text": [
      "<class 'pandas.core.frame.DataFrame'>\n",
      "Int64Index: 16567 entries, 0 to 16714\n",
      "Data columns (total 11 columns):\n",
      " #   Column           Non-Null Count  Dtype  \n",
      "---  ------           --------------  -----  \n",
      " 0   name             16567 non-null  object \n",
      " 1   platform         16567 non-null  object \n",
      " 2   year_of_release  16567 non-null  int64  \n",
      " 3   genre            16567 non-null  object \n",
      " 4   na_sales         16567 non-null  float64\n",
      " 5   eu_sales         16567 non-null  float64\n",
      " 6   jp_sales         16567 non-null  float64\n",
      " 7   other_sales      16567 non-null  float64\n",
      " 8   critic_score     8075 non-null   float64\n",
      " 9   user_score       9934 non-null   object \n",
      " 10  rating           9868 non-null   object \n",
      "dtypes: float64(5), int64(1), object(5)\n",
      "memory usage: 1.5+ MB\n"
     ]
    }
   ],
   "source": [
    "data['year_of_release'] = data['year_of_release'].astype('int')\n",
    "data.info()"
   ]
  },
  {
   "cell_type": "markdown",
   "metadata": {},
   "source": [
    "**Processing of other variables**"
   ]
  },
  {
   "cell_type": "markdown",
   "metadata": {},
   "source": [
    "Let's see how'critic_score', 'user_score' and 'rating' variables can be improved:"
   ]
  },
  {
   "cell_type": "code",
   "execution_count": 58,
   "metadata": {},
   "outputs": [
    {
     "data": {
      "text/plain": [
       "tbd    2394\n",
       "7.8     324\n",
       "8       288\n",
       "8.2     279\n",
       "8.3     253\n",
       "Name: user_score, dtype: int64"
      ]
     },
     "execution_count": 58,
     "metadata": {},
     "output_type": "execute_result"
    }
   ],
   "source": [
    "data['user_score'].value_counts().head(5)"
   ]
  },
  {
   "cell_type": "markdown",
   "metadata": {},
   "source": [
    "In addition to the numbers that reflect the rating, the variable also contains 2394 values with the letters 'tbd'. This abbreviation means 'to be discussed', that is, the data on the ratings were not agreed. In order not to interfere with further data manipulation, let's can replace 'tbd' with Nan:"
   ]
  },
  {
   "cell_type": "code",
   "execution_count": 59,
   "metadata": {},
   "outputs": [
    {
     "data": {
      "text/plain": [
       "Nan    2394\n",
       "7.8     324\n",
       "8       288\n",
       "8.2     279\n",
       "8.3     253\n",
       "Name: user_score, dtype: int64"
      ]
     },
     "execution_count": 59,
     "metadata": {},
     "output_type": "execute_result"
    }
   ],
   "source": [
    "data['user_score'] = data['user_score'].replace('tbd', 'Nan')\n",
    "data['user_score'].value_counts().head(5)"
   ]
  },
  {
   "cell_type": "markdown",
   "metadata": {},
   "source": [
    "It would be rational to do the same with missing values:"
   ]
  },
  {
   "cell_type": "code",
   "execution_count": 60,
   "metadata": {},
   "outputs": [
    {
     "name": "stdout",
     "output_type": "stream",
     "text": [
      "6633\n"
     ]
    }
   ],
   "source": [
    "print(len(data[data['user_score'].isna()]))"
   ]
  },
  {
   "cell_type": "code",
   "execution_count": 61,
   "metadata": {},
   "outputs": [
    {
     "name": "stdout",
     "output_type": "stream",
     "text": [
      "0\n"
     ]
    }
   ],
   "source": [
    "data['user_score'] = data['user_score'].fillna('Nan')\n",
    "print(len(data[data['user_score'].isna()]))"
   ]
  },
  {
   "cell_type": "markdown",
   "metadata": {},
   "source": [
    "Let's make similar transformations for the 'critic_score' variable:"
   ]
  },
  {
   "cell_type": "code",
   "execution_count": 62,
   "metadata": {},
   "outputs": [
    {
     "data": {
      "text/plain": [
       "70.0    253\n",
       "71.0    252\n",
       "75.0    243\n",
       "78.0    238\n",
       "80.0    236\n",
       "Name: critic_score, dtype: int64"
      ]
     },
     "execution_count": 62,
     "metadata": {},
     "output_type": "execute_result"
    }
   ],
   "source": [
    "data['critic_score'].value_counts().head(5)"
   ]
  },
  {
   "cell_type": "code",
   "execution_count": 63,
   "metadata": {},
   "outputs": [
    {
     "name": "stdout",
     "output_type": "stream",
     "text": [
      "8492\n"
     ]
    }
   ],
   "source": [
    "print(len(data[data['critic_score'].isna()]))"
   ]
  },
  {
   "cell_type": "code",
   "execution_count": 64,
   "metadata": {},
   "outputs": [
    {
     "name": "stdout",
     "output_type": "stream",
     "text": [
      "0\n"
     ]
    }
   ],
   "source": [
    "data['critic_score'] = data['critic_score'].fillna('Nan')\n",
    "print(len(data[data['critic_score'].isna()]))"
   ]
  },
  {
   "cell_type": "markdown",
   "metadata": {},
   "source": [
    "Finally, let's check the values inside the 'rating' variable:"
   ]
  },
  {
   "cell_type": "code",
   "execution_count": 65,
   "metadata": {},
   "outputs": [
    {
     "data": {
      "text/plain": [
       "E       3958\n",
       "T       2930\n",
       "M       1554\n",
       "E10+    1412\n",
       "EC         8\n",
       "K-A        3\n",
       "RP         2\n",
       "AO         1\n",
       "Name: rating, dtype: int64"
      ]
     },
     "execution_count": 65,
     "metadata": {},
     "output_type": "execute_result"
    }
   ],
   "source": [
    "data['rating'].value_counts()"
   ]
  },
  {
   "cell_type": "markdown",
   "metadata": {},
   "source": [
    "According to data from Wikipedia (https://ru.wikipedia.org/wiki/Entertainment_Software_Rating_Board), these letters of the rating have the following interpretation:\n",
    "\n",
    "- \"E\" (\"Everyone\") - \"For everyone.\" Previously, this category was called \"K-A\" (\"Kids to Adults\"), so the three K-A values in the table refer to the old wording, we can replace them with E;\n",
    "- \"T\" (\"Teen\") - \"Teenagers\" from 13 years old;\n",
    "- \"M\" (\"Mature\") - \"For adults\" over 17 years old;\n",
    "- \"E10 +\" (\"Everyone 10 and older\");\n",
    "- \"EC\" (\"Early childhood\") - \"For young children\" from 3 years old;\n",
    "- \"K-A\" is an obsolete version for \"E\"\n",
    "- \"RP\" (\"Rating Pending\") - \"Rating is expected\"\n",
    "- \"AO\" (\"Adults Only 18+\") - \"Only for adults\"\n",
    "\n",
    "Based on the information provided, let's replace the values \"K-A\" with \"E\":"
   ]
  },
  {
   "cell_type": "code",
   "execution_count": 66,
   "metadata": {},
   "outputs": [
    {
     "data": {
      "text/plain": [
       "E       3961\n",
       "T       2930\n",
       "M       1554\n",
       "E10+    1412\n",
       "EC         8\n",
       "RP         2\n",
       "AO         1\n",
       "Name: rating, dtype: int64"
      ]
     },
     "execution_count": 66,
     "metadata": {},
     "output_type": "execute_result"
    }
   ],
   "source": [
    "data['rating'] = data['rating'].replace('K-A', 'E')\n",
    "data['rating'].value_counts()"
   ]
  },
  {
   "cell_type": "markdown",
   "metadata": {},
   "source": [
    "Checking for missing values and replacin them with 'Nan':"
   ]
  },
  {
   "cell_type": "code",
   "execution_count": 67,
   "metadata": {},
   "outputs": [
    {
     "name": "stdout",
     "output_type": "stream",
     "text": [
      "6699\n"
     ]
    }
   ],
   "source": [
    "print(len(data[data['rating'].isna()]))"
   ]
  },
  {
   "cell_type": "code",
   "execution_count": 68,
   "metadata": {},
   "outputs": [
    {
     "name": "stdout",
     "output_type": "stream",
     "text": [
      "0\n"
     ]
    }
   ],
   "source": [
    "data['rating'] = data['rating'].fillna('Nan')\n",
    "print(len(data[data['rating'].isna()]))"
   ]
  },
  {
   "cell_type": "markdown",
   "metadata": {},
   "source": [
    "**Adding a new variable with total sales**"
   ]
  },
  {
   "cell_type": "code",
   "execution_count": 69,
   "metadata": {},
   "outputs": [
    {
     "data": {
      "text/html": [
       "<div>\n",
       "<style scoped>\n",
       "    .dataframe tbody tr th:only-of-type {\n",
       "        vertical-align: middle;\n",
       "    }\n",
       "\n",
       "    .dataframe tbody tr th {\n",
       "        vertical-align: top;\n",
       "    }\n",
       "\n",
       "    .dataframe thead th {\n",
       "        text-align: right;\n",
       "    }\n",
       "</style>\n",
       "<table border=\"1\" class=\"dataframe\">\n",
       "  <thead>\n",
       "    <tr style=\"text-align: right;\">\n",
       "      <th></th>\n",
       "      <th>name</th>\n",
       "      <th>platform</th>\n",
       "      <th>year_of_release</th>\n",
       "      <th>genre</th>\n",
       "      <th>na_sales</th>\n",
       "      <th>eu_sales</th>\n",
       "      <th>jp_sales</th>\n",
       "      <th>other_sales</th>\n",
       "      <th>critic_score</th>\n",
       "      <th>user_score</th>\n",
       "      <th>rating</th>\n",
       "      <th>total_sales</th>\n",
       "    </tr>\n",
       "  </thead>\n",
       "  <tbody>\n",
       "    <tr>\n",
       "      <th>0</th>\n",
       "      <td>Wii Sports</td>\n",
       "      <td>Wii</td>\n",
       "      <td>2006</td>\n",
       "      <td>Sports</td>\n",
       "      <td>41.36</td>\n",
       "      <td>28.96</td>\n",
       "      <td>3.77</td>\n",
       "      <td>8.45</td>\n",
       "      <td>76</td>\n",
       "      <td>8</td>\n",
       "      <td>E</td>\n",
       "      <td>82.54</td>\n",
       "    </tr>\n",
       "    <tr>\n",
       "      <th>1</th>\n",
       "      <td>Super Mario Bros.</td>\n",
       "      <td>NES</td>\n",
       "      <td>1985</td>\n",
       "      <td>Platform</td>\n",
       "      <td>29.08</td>\n",
       "      <td>3.58</td>\n",
       "      <td>6.81</td>\n",
       "      <td>0.77</td>\n",
       "      <td>Nan</td>\n",
       "      <td>Nan</td>\n",
       "      <td>Nan</td>\n",
       "      <td>40.24</td>\n",
       "    </tr>\n",
       "    <tr>\n",
       "      <th>2</th>\n",
       "      <td>Mario Kart Wii</td>\n",
       "      <td>Wii</td>\n",
       "      <td>2008</td>\n",
       "      <td>Racing</td>\n",
       "      <td>15.68</td>\n",
       "      <td>12.76</td>\n",
       "      <td>3.79</td>\n",
       "      <td>3.29</td>\n",
       "      <td>82</td>\n",
       "      <td>8.3</td>\n",
       "      <td>E</td>\n",
       "      <td>35.52</td>\n",
       "    </tr>\n",
       "    <tr>\n",
       "      <th>3</th>\n",
       "      <td>Wii Sports Resort</td>\n",
       "      <td>Wii</td>\n",
       "      <td>2009</td>\n",
       "      <td>Sports</td>\n",
       "      <td>15.61</td>\n",
       "      <td>10.93</td>\n",
       "      <td>3.28</td>\n",
       "      <td>2.95</td>\n",
       "      <td>80</td>\n",
       "      <td>8</td>\n",
       "      <td>E</td>\n",
       "      <td>32.77</td>\n",
       "    </tr>\n",
       "    <tr>\n",
       "      <th>4</th>\n",
       "      <td>Pokemon Red/Pokemon Blue</td>\n",
       "      <td>GB</td>\n",
       "      <td>1996</td>\n",
       "      <td>Role-Playing</td>\n",
       "      <td>11.27</td>\n",
       "      <td>8.89</td>\n",
       "      <td>10.22</td>\n",
       "      <td>1.00</td>\n",
       "      <td>Nan</td>\n",
       "      <td>Nan</td>\n",
       "      <td>Nan</td>\n",
       "      <td>31.38</td>\n",
       "    </tr>\n",
       "  </tbody>\n",
       "</table>\n",
       "</div>"
      ],
      "text/plain": [
       "                       name platform  year_of_release         genre  na_sales  \\\n",
       "0                Wii Sports      Wii             2006        Sports     41.36   \n",
       "1         Super Mario Bros.      NES             1985      Platform     29.08   \n",
       "2            Mario Kart Wii      Wii             2008        Racing     15.68   \n",
       "3         Wii Sports Resort      Wii             2009        Sports     15.61   \n",
       "4  Pokemon Red/Pokemon Blue       GB             1996  Role-Playing     11.27   \n",
       "\n",
       "   eu_sales  jp_sales  other_sales critic_score user_score rating  total_sales  \n",
       "0     28.96      3.77         8.45           76          8      E        82.54  \n",
       "1      3.58      6.81         0.77          Nan        Nan    Nan        40.24  \n",
       "2     12.76      3.79         3.29           82        8.3      E        35.52  \n",
       "3     10.93      3.28         2.95           80          8      E        32.77  \n",
       "4      8.89     10.22         1.00          Nan        Nan    Nan        31.38  "
      ]
     },
     "execution_count": 69,
     "metadata": {},
     "output_type": "execute_result"
    }
   ],
   "source": [
    "data['total_sales'] = data['na_sales'] + data['eu_sales'] + data['jp_sales'] + data['other_sales']\n",
    "data.head(5)"
   ]
  },
  {
   "cell_type": "markdown",
   "metadata": {},
   "source": [
    "Summing up, during the preparation of the data for the subsequent analysis, the following steps were performed:\n",
    "\n",
    "1. Column names have been converted to lower case;\n",
    "2. The data type has been changed in the 'year_of_release' variable;\n",
    "3. The missing values in the variables 'year_of_release', 'name' and 'genre' were handled;\n",
    "4. Some values have been replaced in the variables 'user_score', 'critic_score' and 'rating'. In particular, the missing values and the abbreviation 'tbd' have been replaced with 'Nan'.\n",
    "5. A new variable 'total_sales' has been added to reflect the total sales across all regions for each row."
   ]
  },
  {
   "cell_type": "markdown",
   "metadata": {},
   "source": [
    "## Exploratory data analysis"
   ]
  },
  {
   "cell_type": "markdown",
   "metadata": {},
   "source": [
    "**How many games were released in different years. Is the data relevant for all periods?**"
   ]
  },
  {
   "cell_type": "code",
   "execution_count": 70,
   "metadata": {},
   "outputs": [
    {
     "data": {
      "text/html": [
       "<div>\n",
       "<style scoped>\n",
       "    .dataframe tbody tr th:only-of-type {\n",
       "        vertical-align: middle;\n",
       "    }\n",
       "\n",
       "    .dataframe tbody tr th {\n",
       "        vertical-align: top;\n",
       "    }\n",
       "\n",
       "    .dataframe thead th {\n",
       "        text-align: right;\n",
       "    }\n",
       "</style>\n",
       "<table border=\"1\" class=\"dataframe\">\n",
       "  <thead>\n",
       "    <tr style=\"text-align: right;\">\n",
       "      <th></th>\n",
       "      <th>total_sales</th>\n",
       "    </tr>\n",
       "    <tr>\n",
       "      <th>year_of_release</th>\n",
       "      <th></th>\n",
       "    </tr>\n",
       "  </thead>\n",
       "  <tbody>\n",
       "    <tr>\n",
       "      <th>1980</th>\n",
       "      <td>9</td>\n",
       "    </tr>\n",
       "    <tr>\n",
       "      <th>1981</th>\n",
       "      <td>46</td>\n",
       "    </tr>\n",
       "    <tr>\n",
       "      <th>1982</th>\n",
       "      <td>36</td>\n",
       "    </tr>\n",
       "    <tr>\n",
       "      <th>1983</th>\n",
       "      <td>17</td>\n",
       "    </tr>\n",
       "    <tr>\n",
       "      <th>1984</th>\n",
       "      <td>14</td>\n",
       "    </tr>\n",
       "    <tr>\n",
       "      <th>1985</th>\n",
       "      <td>14</td>\n",
       "    </tr>\n",
       "    <tr>\n",
       "      <th>1986</th>\n",
       "      <td>21</td>\n",
       "    </tr>\n",
       "    <tr>\n",
       "      <th>1987</th>\n",
       "      <td>16</td>\n",
       "    </tr>\n",
       "    <tr>\n",
       "      <th>1988</th>\n",
       "      <td>15</td>\n",
       "    </tr>\n",
       "    <tr>\n",
       "      <th>1989</th>\n",
       "      <td>17</td>\n",
       "    </tr>\n",
       "    <tr>\n",
       "      <th>1990</th>\n",
       "      <td>16</td>\n",
       "    </tr>\n",
       "    <tr>\n",
       "      <th>1991</th>\n",
       "      <td>41</td>\n",
       "    </tr>\n",
       "    <tr>\n",
       "      <th>1992</th>\n",
       "      <td>43</td>\n",
       "    </tr>\n",
       "    <tr>\n",
       "      <th>1993</th>\n",
       "      <td>60</td>\n",
       "    </tr>\n",
       "    <tr>\n",
       "      <th>1994</th>\n",
       "      <td>121</td>\n",
       "    </tr>\n",
       "    <tr>\n",
       "      <th>1995</th>\n",
       "      <td>219</td>\n",
       "    </tr>\n",
       "    <tr>\n",
       "      <th>1996</th>\n",
       "      <td>263</td>\n",
       "    </tr>\n",
       "    <tr>\n",
       "      <th>1997</th>\n",
       "      <td>289</td>\n",
       "    </tr>\n",
       "    <tr>\n",
       "      <th>1998</th>\n",
       "      <td>379</td>\n",
       "    </tr>\n",
       "    <tr>\n",
       "      <th>1999</th>\n",
       "      <td>340</td>\n",
       "    </tr>\n",
       "    <tr>\n",
       "      <th>2000</th>\n",
       "      <td>351</td>\n",
       "    </tr>\n",
       "    <tr>\n",
       "      <th>2001</th>\n",
       "      <td>486</td>\n",
       "    </tr>\n",
       "    <tr>\n",
       "      <th>2002</th>\n",
       "      <td>844</td>\n",
       "    </tr>\n",
       "    <tr>\n",
       "      <th>2003</th>\n",
       "      <td>784</td>\n",
       "    </tr>\n",
       "    <tr>\n",
       "      <th>2004</th>\n",
       "      <td>765</td>\n",
       "    </tr>\n",
       "    <tr>\n",
       "      <th>2005</th>\n",
       "      <td>948</td>\n",
       "    </tr>\n",
       "    <tr>\n",
       "      <th>2006</th>\n",
       "      <td>1019</td>\n",
       "    </tr>\n",
       "    <tr>\n",
       "      <th>2007</th>\n",
       "      <td>1202</td>\n",
       "    </tr>\n",
       "    <tr>\n",
       "      <th>2008</th>\n",
       "      <td>1441</td>\n",
       "    </tr>\n",
       "    <tr>\n",
       "      <th>2009</th>\n",
       "      <td>1430</td>\n",
       "    </tr>\n",
       "    <tr>\n",
       "      <th>2010</th>\n",
       "      <td>1269</td>\n",
       "    </tr>\n",
       "    <tr>\n",
       "      <th>2011</th>\n",
       "      <td>1153</td>\n",
       "    </tr>\n",
       "    <tr>\n",
       "      <th>2012</th>\n",
       "      <td>662</td>\n",
       "    </tr>\n",
       "    <tr>\n",
       "      <th>2013</th>\n",
       "      <td>548</td>\n",
       "    </tr>\n",
       "    <tr>\n",
       "      <th>2014</th>\n",
       "      <td>581</td>\n",
       "    </tr>\n",
       "    <tr>\n",
       "      <th>2015</th>\n",
       "      <td>606</td>\n",
       "    </tr>\n",
       "    <tr>\n",
       "      <th>2016</th>\n",
       "      <td>502</td>\n",
       "    </tr>\n",
       "  </tbody>\n",
       "</table>\n",
       "</div>"
      ],
      "text/plain": [
       "                 total_sales\n",
       "year_of_release             \n",
       "1980                       9\n",
       "1981                      46\n",
       "1982                      36\n",
       "1983                      17\n",
       "1984                      14\n",
       "1985                      14\n",
       "1986                      21\n",
       "1987                      16\n",
       "1988                      15\n",
       "1989                      17\n",
       "1990                      16\n",
       "1991                      41\n",
       "1992                      43\n",
       "1993                      60\n",
       "1994                     121\n",
       "1995                     219\n",
       "1996                     263\n",
       "1997                     289\n",
       "1998                     379\n",
       "1999                     340\n",
       "2000                     351\n",
       "2001                     486\n",
       "2002                     844\n",
       "2003                     784\n",
       "2004                     765\n",
       "2005                     948\n",
       "2006                    1019\n",
       "2007                    1202\n",
       "2008                    1441\n",
       "2009                    1430\n",
       "2010                    1269\n",
       "2011                    1153\n",
       "2012                     662\n",
       "2013                     548\n",
       "2014                     581\n",
       "2015                     606\n",
       "2016                     502"
      ]
     },
     "execution_count": 70,
     "metadata": {},
     "output_type": "execute_result"
    }
   ],
   "source": [
    "data_year = data.pivot_table(index = 'year_of_release', values = 'total_sales', aggfunc = 'count')\n",
    "data_year"
   ]
  },
  {
   "cell_type": "markdown",
   "metadata": {},
   "source": [
    "As can be seen from the given data from the pivot table, in the dataframe we have information on games since 1980. But information on games in the 80s and 90s is not entirely interesting to us, since very few games were released. A noticeable jump (twice as compared to the previous year) is observed in 1995. Therefore, in the future, it will be possible to use data only from 1995.\n",
    "\n",
    "Let's also additionally consider how long each platform was active:"
   ]
  },
  {
   "cell_type": "code",
   "execution_count": 71,
   "metadata": {},
   "outputs": [
    {
     "data": {
      "text/html": [
       "<div>\n",
       "<style scoped>\n",
       "    .dataframe tbody tr th:only-of-type {\n",
       "        vertical-align: middle;\n",
       "    }\n",
       "\n",
       "    .dataframe tbody tr th {\n",
       "        vertical-align: top;\n",
       "    }\n",
       "\n",
       "    .dataframe thead th {\n",
       "        text-align: right;\n",
       "    }\n",
       "</style>\n",
       "<table border=\"1\" class=\"dataframe\">\n",
       "  <thead>\n",
       "    <tr style=\"text-align: right;\">\n",
       "      <th></th>\n",
       "      <th>platform</th>\n",
       "      <th>first_year</th>\n",
       "      <th>platform_activeness</th>\n",
       "    </tr>\n",
       "  </thead>\n",
       "  <tbody>\n",
       "    <tr>\n",
       "      <th>0</th>\n",
       "      <td>Wii</td>\n",
       "      <td>2006</td>\n",
       "      <td>11</td>\n",
       "    </tr>\n",
       "    <tr>\n",
       "      <th>1</th>\n",
       "      <td>NES</td>\n",
       "      <td>1983</td>\n",
       "      <td>12</td>\n",
       "    </tr>\n",
       "    <tr>\n",
       "      <th>2</th>\n",
       "      <td>GB</td>\n",
       "      <td>1988</td>\n",
       "      <td>13</td>\n",
       "    </tr>\n",
       "    <tr>\n",
       "      <th>3</th>\n",
       "      <td>DS</td>\n",
       "      <td>1985</td>\n",
       "      <td>11</td>\n",
       "    </tr>\n",
       "    <tr>\n",
       "      <th>4</th>\n",
       "      <td>X360</td>\n",
       "      <td>2005</td>\n",
       "      <td>12</td>\n",
       "    </tr>\n",
       "  </tbody>\n",
       "</table>\n",
       "</div>"
      ],
      "text/plain": [
       "  platform  first_year  platform_activeness\n",
       "0      Wii        2006                   11\n",
       "1      NES        1983                   12\n",
       "2       GB        1988                   13\n",
       "3       DS        1985                   11\n",
       "4     X360        2005                   12"
      ]
     },
     "execution_count": 71,
     "metadata": {},
     "output_type": "execute_result"
    }
   ],
   "source": [
    "platforms = data['platform'].unique().tolist()\n",
    "\n",
    "df = []\n",
    "first_year = []\n",
    "for platform in platforms:\n",
    "    platform_activeness = len(data.loc[data['platform'] == platform,'year_of_release'].unique())\n",
    "    year = data.loc[data['platform'] == platform,'year_of_release'].min()\n",
    "    df.append(platform_activeness)\n",
    "    first_year.append(year)\n",
    "    \n",
    "platform_df = pd.Series(platforms, name='platform')\n",
    "first_year = pd.Series(first_year, name='first_year')\n",
    "df = pd.Series(df, name='platform_activeness')\n",
    "\n",
    "platform_activeness_df = pd.concat([platform_df, first_year, df],axis=1)\n",
    "platform_activeness_df.head(5)\n"
   ]
  },
  {
   "cell_type": "markdown",
   "metadata": {},
   "source": [
    "The performed manipulations made it possible to create a table containing the year when platform was created, as well as the duration of its activity. This table can be used to visualize the activity of various platforms:"
   ]
  },
  {
   "cell_type": "code",
   "execution_count": 72,
   "metadata": {},
   "outputs": [
    {
     "data": {
      "text/plain": [
       "<AxesSubplot:title={'center':\"Platforms' activeness time\"}, xlabel='platform', ylabel='platform_activeness'>"
      ]
     },
     "execution_count": 72,
     "metadata": {},
     "output_type": "execute_result"
    },
    {
     "data": {
      "image/png": "[encoded data removed]",
      "text/plain": [
       "<Figure size 1296x648 with 1 Axes>"
      ]
     },
     "metadata": {
      "needs_background": "light"
     },
     "output_type": "display_data"
    }
   ],
   "source": [
    "platform_activeness_df.sort_values(by = 'platform_activeness').plot(kind='scatter', \n",
    "                            x='platform', \n",
    "                            y='platform_activeness', \n",
    "                            grid = True,\n",
    "                            figsize=(18,9),\n",
    "                            title=\"Platforms' activeness time\", \n",
    "                            color = 'green')\n"
   ]
  },
  {
   "cell_type": "markdown",
   "metadata": {},
   "source": [
    "As can be seen from the graph, the long-lived platform is a PC (activeness around 26 yeara). The platform with the shortest period of activity - PCFX (one year of activity on market)."
   ]
  },
  {
   "cell_type": "markdown",
   "metadata": {},
   "source": [
    "**Let's study how sales have changed by platform.** \n",
    "\n",
    "**How long does it take for a new platforms to appear and for old platforms to disappear?**"
   ]
  },
  {
   "cell_type": "markdown",
   "metadata": {},
   "source": [
    "First, let's create a new dataframe containing data only after 1995:"
   ]
  },
  {
   "cell_type": "code",
   "execution_count": 73,
   "metadata": {},
   "outputs": [
    {
     "data": {
      "text/html": [
       "<div>\n",
       "<style scoped>\n",
       "    .dataframe tbody tr th:only-of-type {\n",
       "        vertical-align: middle;\n",
       "    }\n",
       "\n",
       "    .dataframe tbody tr th {\n",
       "        vertical-align: top;\n",
       "    }\n",
       "\n",
       "    .dataframe thead th {\n",
       "        text-align: right;\n",
       "    }\n",
       "</style>\n",
       "<table border=\"1\" class=\"dataframe\">\n",
       "  <thead>\n",
       "    <tr style=\"text-align: right;\">\n",
       "      <th></th>\n",
       "      <th>name</th>\n",
       "      <th>platform</th>\n",
       "      <th>year_of_release</th>\n",
       "      <th>genre</th>\n",
       "      <th>na_sales</th>\n",
       "      <th>eu_sales</th>\n",
       "      <th>jp_sales</th>\n",
       "      <th>other_sales</th>\n",
       "      <th>critic_score</th>\n",
       "      <th>user_score</th>\n",
       "      <th>rating</th>\n",
       "      <th>total_sales</th>\n",
       "    </tr>\n",
       "  </thead>\n",
       "  <tbody>\n",
       "    <tr>\n",
       "      <th>0</th>\n",
       "      <td>Wii Sports</td>\n",
       "      <td>Wii</td>\n",
       "      <td>2006</td>\n",
       "      <td>Sports</td>\n",
       "      <td>41.36</td>\n",
       "      <td>28.96</td>\n",
       "      <td>3.77</td>\n",
       "      <td>8.45</td>\n",
       "      <td>76</td>\n",
       "      <td>8</td>\n",
       "      <td>E</td>\n",
       "      <td>82.54</td>\n",
       "    </tr>\n",
       "    <tr>\n",
       "      <th>2</th>\n",
       "      <td>Mario Kart Wii</td>\n",
       "      <td>Wii</td>\n",
       "      <td>2008</td>\n",
       "      <td>Racing</td>\n",
       "      <td>15.68</td>\n",
       "      <td>12.76</td>\n",
       "      <td>3.79</td>\n",
       "      <td>3.29</td>\n",
       "      <td>82</td>\n",
       "      <td>8.3</td>\n",
       "      <td>E</td>\n",
       "      <td>35.52</td>\n",
       "    </tr>\n",
       "    <tr>\n",
       "      <th>3</th>\n",
       "      <td>Wii Sports Resort</td>\n",
       "      <td>Wii</td>\n",
       "      <td>2009</td>\n",
       "      <td>Sports</td>\n",
       "      <td>15.61</td>\n",
       "      <td>10.93</td>\n",
       "      <td>3.28</td>\n",
       "      <td>2.95</td>\n",
       "      <td>80</td>\n",
       "      <td>8</td>\n",
       "      <td>E</td>\n",
       "      <td>32.77</td>\n",
       "    </tr>\n",
       "    <tr>\n",
       "      <th>4</th>\n",
       "      <td>Pokemon Red/Pokemon Blue</td>\n",
       "      <td>GB</td>\n",
       "      <td>1996</td>\n",
       "      <td>Role-Playing</td>\n",
       "      <td>11.27</td>\n",
       "      <td>8.89</td>\n",
       "      <td>10.22</td>\n",
       "      <td>1.00</td>\n",
       "      <td>Nan</td>\n",
       "      <td>Nan</td>\n",
       "      <td>Nan</td>\n",
       "      <td>31.38</td>\n",
       "    </tr>\n",
       "    <tr>\n",
       "      <th>6</th>\n",
       "      <td>New Super Mario Bros.</td>\n",
       "      <td>DS</td>\n",
       "      <td>2006</td>\n",
       "      <td>Platform</td>\n",
       "      <td>11.28</td>\n",
       "      <td>9.14</td>\n",
       "      <td>6.50</td>\n",
       "      <td>2.88</td>\n",
       "      <td>89</td>\n",
       "      <td>8.5</td>\n",
       "      <td>E</td>\n",
       "      <td>29.80</td>\n",
       "    </tr>\n",
       "  </tbody>\n",
       "</table>\n",
       "</div>"
      ],
      "text/plain": [
       "                       name platform  year_of_release         genre  na_sales  \\\n",
       "0                Wii Sports      Wii             2006        Sports     41.36   \n",
       "2            Mario Kart Wii      Wii             2008        Racing     15.68   \n",
       "3         Wii Sports Resort      Wii             2009        Sports     15.61   \n",
       "4  Pokemon Red/Pokemon Blue       GB             1996  Role-Playing     11.27   \n",
       "6     New Super Mario Bros.       DS             2006      Platform     11.28   \n",
       "\n",
       "   eu_sales  jp_sales  other_sales critic_score user_score rating  total_sales  \n",
       "0     28.96      3.77         8.45           76          8      E        82.54  \n",
       "2     12.76      3.79         3.29           82        8.3      E        35.52  \n",
       "3     10.93      3.28         2.95           80          8      E        32.77  \n",
       "4      8.89     10.22         1.00          Nan        Nan    Nan        31.38  \n",
       "6      9.14      6.50         2.88           89        8.5      E        29.80  "
      ]
     },
     "execution_count": 73,
     "metadata": {},
     "output_type": "execute_result"
    }
   ],
   "source": [
    "data_new = data.query('year_of_release >= 1995')\n",
    "data_new.head(5)"
   ]
  },
  {
   "cell_type": "markdown",
   "metadata": {},
   "source": [
    "Now, using pivot table, the total sales for each platform can be calculated:"
   ]
  },
  {
   "cell_type": "code",
   "execution_count": 75,
   "metadata": {},
   "outputs": [
    {
     "data": {
      "text/html": [
       "<div>\n",
       "<style scoped>\n",
       "    .dataframe tbody tr th:only-of-type {\n",
       "        vertical-align: middle;\n",
       "    }\n",
       "\n",
       "    .dataframe tbody tr th {\n",
       "        vertical-align: top;\n",
       "    }\n",
       "\n",
       "    .dataframe thead th {\n",
       "        text-align: right;\n",
       "    }\n",
       "</style>\n",
       "<table border=\"1\" class=\"dataframe\">\n",
       "  <thead>\n",
       "    <tr style=\"text-align: right;\">\n",
       "      <th></th>\n",
       "      <th>total_sales</th>\n",
       "    </tr>\n",
       "    <tr>\n",
       "      <th>platform</th>\n",
       "      <th></th>\n",
       "    </tr>\n",
       "  </thead>\n",
       "  <tbody>\n",
       "    <tr>\n",
       "      <th>2600</th>\n",
       "      <td>2.53</td>\n",
       "    </tr>\n",
       "    <tr>\n",
       "      <th>3DO</th>\n",
       "      <td>0.08</td>\n",
       "    </tr>\n",
       "    <tr>\n",
       "      <th>3DS</th>\n",
       "      <td>258.53</td>\n",
       "    </tr>\n",
       "    <tr>\n",
       "      <th>DC</th>\n",
       "      <td>15.95</td>\n",
       "    </tr>\n",
       "    <tr>\n",
       "      <th>DS</th>\n",
       "      <td>804.26</td>\n",
       "    </tr>\n",
       "  </tbody>\n",
       "</table>\n",
       "</div>"
      ],
      "text/plain": [
       "          total_sales\n",
       "platform             \n",
       "2600             2.53\n",
       "3DO              0.08\n",
       "3DS            258.53\n",
       "DC              15.95\n",
       "DS             804.26"
      ]
     },
     "execution_count": 75,
     "metadata": {},
     "output_type": "execute_result"
    }
   ],
   "source": [
    "data_platform = data_new.pivot_table(index = 'platform', values = 'total_sales', aggfunc = 'sum')\n",
    "data_platform.head(5)"
   ]
  },
  {
   "cell_type": "markdown",
   "metadata": {},
   "source": [
    "Let's take the top 5 platforms according to sales value and look at the distribution by year:"
   ]
  },
  {
   "cell_type": "code",
   "execution_count": 76,
   "metadata": {},
   "outputs": [
    {
     "data": {
      "text/html": [
       "<div>\n",
       "<style scoped>\n",
       "    .dataframe tbody tr th:only-of-type {\n",
       "        vertical-align: middle;\n",
       "    }\n",
       "\n",
       "    .dataframe tbody tr th {\n",
       "        vertical-align: top;\n",
       "    }\n",
       "\n",
       "    .dataframe thead th {\n",
       "        text-align: right;\n",
       "    }\n",
       "</style>\n",
       "<table border=\"1\" class=\"dataframe\">\n",
       "  <thead>\n",
       "    <tr style=\"text-align: right;\">\n",
       "      <th></th>\n",
       "      <th>total_sales</th>\n",
       "    </tr>\n",
       "    <tr>\n",
       "      <th>platform</th>\n",
       "      <th></th>\n",
       "    </tr>\n",
       "  </thead>\n",
       "  <tbody>\n",
       "    <tr>\n",
       "      <th>PS2</th>\n",
       "      <td>1247.16</td>\n",
       "    </tr>\n",
       "    <tr>\n",
       "      <th>X360</th>\n",
       "      <td>966.61</td>\n",
       "    </tr>\n",
       "    <tr>\n",
       "      <th>PS3</th>\n",
       "      <td>935.19</td>\n",
       "    </tr>\n",
       "    <tr>\n",
       "      <th>Wii</th>\n",
       "      <td>903.31</td>\n",
       "    </tr>\n",
       "    <tr>\n",
       "      <th>DS</th>\n",
       "      <td>804.26</td>\n",
       "    </tr>\n",
       "  </tbody>\n",
       "</table>\n",
       "</div>"
      ],
      "text/plain": [
       "          total_sales\n",
       "platform             \n",
       "PS2           1247.16\n",
       "X360           966.61\n",
       "PS3            935.19\n",
       "Wii            903.31\n",
       "DS             804.26"
      ]
     },
     "execution_count": 76,
     "metadata": {},
     "output_type": "execute_result"
    }
   ],
   "source": [
    "data_platform_5 = data_platform.sort_values(by = 'total_sales', ascending = False)[:5]\n",
    "data_platform_5"
   ]
  },
  {
   "cell_type": "markdown",
   "metadata": {},
   "source": [
    "The data in the table shows that PS2 had the highest sales. They have sold nearly 1.25 billion copies. The second place goes to the X360 platform with 9.6 billion copies sold. Third place - PS3 - 9.3 billion copies sold.\n",
    "\n",
    "Let's look at the distribution by year:"
   ]
  },
  {
   "cell_type": "code",
   "execution_count": 77,
   "metadata": {},
   "outputs": [
    {
     "data": {
      "text/html": [
       "<div>\n",
       "<style scoped>\n",
       "    .dataframe tbody tr th:only-of-type {\n",
       "        vertical-align: middle;\n",
       "    }\n",
       "\n",
       "    .dataframe tbody tr th {\n",
       "        vertical-align: top;\n",
       "    }\n",
       "\n",
       "    .dataframe thead th {\n",
       "        text-align: right;\n",
       "    }\n",
       "</style>\n",
       "<table border=\"1\" class=\"dataframe\">\n",
       "  <thead>\n",
       "    <tr style=\"text-align: right;\">\n",
       "      <th></th>\n",
       "      <th>name</th>\n",
       "      <th>platform</th>\n",
       "      <th>year_of_release</th>\n",
       "      <th>genre</th>\n",
       "      <th>na_sales</th>\n",
       "      <th>eu_sales</th>\n",
       "      <th>jp_sales</th>\n",
       "      <th>other_sales</th>\n",
       "      <th>critic_score</th>\n",
       "      <th>user_score</th>\n",
       "      <th>rating</th>\n",
       "      <th>total_sales</th>\n",
       "    </tr>\n",
       "  </thead>\n",
       "  <tbody>\n",
       "    <tr>\n",
       "      <th>0</th>\n",
       "      <td>Wii Sports</td>\n",
       "      <td>Wii</td>\n",
       "      <td>2006</td>\n",
       "      <td>Sports</td>\n",
       "      <td>41.36</td>\n",
       "      <td>28.96</td>\n",
       "      <td>3.77</td>\n",
       "      <td>8.45</td>\n",
       "      <td>76</td>\n",
       "      <td>8</td>\n",
       "      <td>E</td>\n",
       "      <td>82.54</td>\n",
       "    </tr>\n",
       "    <tr>\n",
       "      <th>2</th>\n",
       "      <td>Mario Kart Wii</td>\n",
       "      <td>Wii</td>\n",
       "      <td>2008</td>\n",
       "      <td>Racing</td>\n",
       "      <td>15.68</td>\n",
       "      <td>12.76</td>\n",
       "      <td>3.79</td>\n",
       "      <td>3.29</td>\n",
       "      <td>82</td>\n",
       "      <td>8.3</td>\n",
       "      <td>E</td>\n",
       "      <td>35.52</td>\n",
       "    </tr>\n",
       "    <tr>\n",
       "      <th>3</th>\n",
       "      <td>Wii Sports Resort</td>\n",
       "      <td>Wii</td>\n",
       "      <td>2009</td>\n",
       "      <td>Sports</td>\n",
       "      <td>15.61</td>\n",
       "      <td>10.93</td>\n",
       "      <td>3.28</td>\n",
       "      <td>2.95</td>\n",
       "      <td>80</td>\n",
       "      <td>8</td>\n",
       "      <td>E</td>\n",
       "      <td>32.77</td>\n",
       "    </tr>\n",
       "    <tr>\n",
       "      <th>6</th>\n",
       "      <td>New Super Mario Bros.</td>\n",
       "      <td>DS</td>\n",
       "      <td>2006</td>\n",
       "      <td>Platform</td>\n",
       "      <td>11.28</td>\n",
       "      <td>9.14</td>\n",
       "      <td>6.50</td>\n",
       "      <td>2.88</td>\n",
       "      <td>89</td>\n",
       "      <td>8.5</td>\n",
       "      <td>E</td>\n",
       "      <td>29.80</td>\n",
       "    </tr>\n",
       "    <tr>\n",
       "      <th>7</th>\n",
       "      <td>Wii Play</td>\n",
       "      <td>Wii</td>\n",
       "      <td>2006</td>\n",
       "      <td>Misc</td>\n",
       "      <td>13.96</td>\n",
       "      <td>9.18</td>\n",
       "      <td>2.93</td>\n",
       "      <td>2.84</td>\n",
       "      <td>58</td>\n",
       "      <td>6.6</td>\n",
       "      <td>E</td>\n",
       "      <td>28.91</td>\n",
       "    </tr>\n",
       "  </tbody>\n",
       "</table>\n",
       "</div>"
      ],
      "text/plain": [
       "                    name platform  year_of_release     genre  na_sales  \\\n",
       "0             Wii Sports      Wii             2006    Sports     41.36   \n",
       "2         Mario Kart Wii      Wii             2008    Racing     15.68   \n",
       "3      Wii Sports Resort      Wii             2009    Sports     15.61   \n",
       "6  New Super Mario Bros.       DS             2006  Platform     11.28   \n",
       "7               Wii Play      Wii             2006      Misc     13.96   \n",
       "\n",
       "   eu_sales  jp_sales  other_sales critic_score user_score rating  total_sales  \n",
       "0     28.96      3.77         8.45           76          8      E        82.54  \n",
       "2     12.76      3.79         3.29           82        8.3      E        35.52  \n",
       "3     10.93      3.28         2.95           80          8      E        32.77  \n",
       "6      9.14      6.50         2.88           89        8.5      E        29.80  \n",
       "7      9.18      2.93         2.84           58        6.6      E        28.91  "
      ]
     },
     "execution_count": 77,
     "metadata": {},
     "output_type": "execute_result"
    }
   ],
   "source": [
    "top_5 = data_new.query('platform in (\"PS2\", \"X360\", \"PS3\", \"Wii\", \"DS\")')\n",
    "top_5.head(5)"
   ]
  },
  {
   "cell_type": "code",
   "execution_count": 82,
   "metadata": {
    "scrolled": false
   },
   "outputs": [
    {
     "data": {
      "text/plain": [
       "(0.0, 3.0)"
      ]
     },
     "execution_count": 82,
     "metadata": {},
     "output_type": "execute_result"
    },
    {
     "data": {
      "image/png": "[encoded data removed]",
      "text/plain": [
       "<Figure size 864x432 with 1 Axes>"
      ]
     },
     "metadata": {
      "needs_background": "light"
     },
     "output_type": "display_data"
    }
   ],
   "source": [
    "import matplotlib.pyplot as plt\n",
    "import seaborn as sns\n",
    "\n",
    "plt.figure(figsize=(12,6))\n",
    "\n",
    "sns.lineplot(x = top_5['year_of_release'], y = top_5['total_sales'], hue = top_5['platform'])\n",
    "plt.title(\"Distribution of total sales of the top 5 platforms in 1995 - 2016\")\n",
    "plt.xlabel(\"Year\")\n",
    "plt.ylabel(\"Number of sales\")\n",
    "plt.ylim(0, 3)"
   ]
  },
  {
   "cell_type": "markdown",
   "metadata": {},
   "source": [
    "The graph shows the total sales of the most popular gaming platforms (top-5) for the period from 1995 to 2016. The main tendency that catches the eye is that, on average, about 10 years pass from the moment the platform appears until its activity decreases:\n",
    "- Wii originated and was at its peak in 2006 and came to a minimum in 2016;\n",
    "- DS was active between 2004 and 2013;\n",
    "- X360 entered the market in 2005 and reached its lowest sales in 2016;\n",
    "- PS3 activity was observed from 2005 to 2016;\n",
    "- PS2 was active from 2000 to 2011.\n",
    "\n",
    "Over the past years, the overall growth in sales was observed in the period from 2012 to 2014 among all platforms. By 2016, sales of all of the top-5 gaming platforms were on the decline. The biggest success in history can be recorded in 2007 for the Nintento WII platform, but after 2008, the platform has become the average representative among the top-5 gaming platforms.\n",
    "\n",
    "Based on the fact that it is necessary to build a forecast for 2017, we will take into account the following revealed facts:\n",
    "- the average lifespan and activity of the platform is 10 years;\n",
    "- the peak of the top platforms was in 2013;\n",
    "- top platforms started their activity around 2005.\n",
    "\n",
    "Therefore, in order for 2017 to be approximately the middle of the \"viable\" age of the platforms, we will set the threshold for the actual period to be 2012. So, let's \"cut off\" all irrelevant data:"
   ]
  },
  {
   "cell_type": "code",
   "execution_count": 83,
   "metadata": {},
   "outputs": [
    {
     "data": {
      "text/html": [
       "<div>\n",
       "<style scoped>\n",
       "    .dataframe tbody tr th:only-of-type {\n",
       "        vertical-align: middle;\n",
       "    }\n",
       "\n",
       "    .dataframe tbody tr th {\n",
       "        vertical-align: top;\n",
       "    }\n",
       "\n",
       "    .dataframe thead th {\n",
       "        text-align: right;\n",
       "    }\n",
       "</style>\n",
       "<table border=\"1\" class=\"dataframe\">\n",
       "  <thead>\n",
       "    <tr style=\"text-align: right;\">\n",
       "      <th></th>\n",
       "      <th>name</th>\n",
       "      <th>platform</th>\n",
       "      <th>year_of_release</th>\n",
       "      <th>genre</th>\n",
       "      <th>na_sales</th>\n",
       "      <th>eu_sales</th>\n",
       "      <th>jp_sales</th>\n",
       "      <th>other_sales</th>\n",
       "      <th>critic_score</th>\n",
       "      <th>user_score</th>\n",
       "      <th>rating</th>\n",
       "      <th>total_sales</th>\n",
       "    </tr>\n",
       "  </thead>\n",
       "  <tbody>\n",
       "    <tr>\n",
       "      <th>16</th>\n",
       "      <td>Grand Theft Auto V</td>\n",
       "      <td>PS3</td>\n",
       "      <td>2013</td>\n",
       "      <td>Action</td>\n",
       "      <td>7.02</td>\n",
       "      <td>9.09</td>\n",
       "      <td>0.98</td>\n",
       "      <td>3.96</td>\n",
       "      <td>97</td>\n",
       "      <td>8.2</td>\n",
       "      <td>M</td>\n",
       "      <td>21.05</td>\n",
       "    </tr>\n",
       "    <tr>\n",
       "      <th>23</th>\n",
       "      <td>Grand Theft Auto V</td>\n",
       "      <td>X360</td>\n",
       "      <td>2013</td>\n",
       "      <td>Action</td>\n",
       "      <td>9.66</td>\n",
       "      <td>5.14</td>\n",
       "      <td>0.06</td>\n",
       "      <td>1.41</td>\n",
       "      <td>97</td>\n",
       "      <td>8.1</td>\n",
       "      <td>M</td>\n",
       "      <td>16.27</td>\n",
       "    </tr>\n",
       "    <tr>\n",
       "      <th>31</th>\n",
       "      <td>Call of Duty: Black Ops 3</td>\n",
       "      <td>PS4</td>\n",
       "      <td>2015</td>\n",
       "      <td>Shooter</td>\n",
       "      <td>6.03</td>\n",
       "      <td>5.86</td>\n",
       "      <td>0.36</td>\n",
       "      <td>2.38</td>\n",
       "      <td>Nan</td>\n",
       "      <td>Nan</td>\n",
       "      <td>Nan</td>\n",
       "      <td>14.63</td>\n",
       "    </tr>\n",
       "    <tr>\n",
       "      <th>33</th>\n",
       "      <td>Pokemon X/Pokemon Y</td>\n",
       "      <td>3DS</td>\n",
       "      <td>2013</td>\n",
       "      <td>Role-Playing</td>\n",
       "      <td>5.28</td>\n",
       "      <td>4.19</td>\n",
       "      <td>4.35</td>\n",
       "      <td>0.78</td>\n",
       "      <td>Nan</td>\n",
       "      <td>Nan</td>\n",
       "      <td>Nan</td>\n",
       "      <td>14.60</td>\n",
       "    </tr>\n",
       "    <tr>\n",
       "      <th>34</th>\n",
       "      <td>Call of Duty: Black Ops II</td>\n",
       "      <td>PS3</td>\n",
       "      <td>2012</td>\n",
       "      <td>Shooter</td>\n",
       "      <td>4.99</td>\n",
       "      <td>5.73</td>\n",
       "      <td>0.65</td>\n",
       "      <td>2.42</td>\n",
       "      <td>83</td>\n",
       "      <td>5.3</td>\n",
       "      <td>M</td>\n",
       "      <td>13.79</td>\n",
       "    </tr>\n",
       "  </tbody>\n",
       "</table>\n",
       "</div>"
      ],
      "text/plain": [
       "                          name platform  year_of_release         genre  \\\n",
       "16          Grand Theft Auto V      PS3             2013        Action   \n",
       "23          Grand Theft Auto V     X360             2013        Action   \n",
       "31   Call of Duty: Black Ops 3      PS4             2015       Shooter   \n",
       "33         Pokemon X/Pokemon Y      3DS             2013  Role-Playing   \n",
       "34  Call of Duty: Black Ops II      PS3             2012       Shooter   \n",
       "\n",
       "    na_sales  eu_sales  jp_sales  other_sales critic_score user_score rating  \\\n",
       "16      7.02      9.09      0.98         3.96           97        8.2      M   \n",
       "23      9.66      5.14      0.06         1.41           97        8.1      M   \n",
       "31      6.03      5.86      0.36         2.38          Nan        Nan    Nan   \n",
       "33      5.28      4.19      4.35         0.78          Nan        Nan    Nan   \n",
       "34      4.99      5.73      0.65         2.42           83        5.3      M   \n",
       "\n",
       "    total_sales  \n",
       "16        21.05  \n",
       "23        16.27  \n",
       "31        14.63  \n",
       "33        14.60  \n",
       "34        13.79  "
      ]
     },
     "execution_count": 83,
     "metadata": {},
     "output_type": "execute_result"
    }
   ],
   "source": [
    "# cutting data before 2012\n",
    "data_2012 = data.query('year_of_release >= 2012')\n",
    "data_2012.head(5)"
   ]
  },
  {
   "cell_type": "markdown",
   "metadata": {},
   "source": [
    "**Which platforms are leading in terms of sales?**"
   ]
  },
  {
   "cell_type": "markdown",
   "metadata": {},
   "source": [
    "In order to identify potentially profitable platforms for the period from 2012, it is necessary to carry out all the same manipulations as in the previous paragraphs. First, let's group the data by total sales:"
   ]
  },
  {
   "cell_type": "code",
   "execution_count": 84,
   "metadata": {},
   "outputs": [
    {
     "data": {
      "text/html": [
       "<div>\n",
       "<style scoped>\n",
       "    .dataframe tbody tr th:only-of-type {\n",
       "        vertical-align: middle;\n",
       "    }\n",
       "\n",
       "    .dataframe tbody tr th {\n",
       "        vertical-align: top;\n",
       "    }\n",
       "\n",
       "    .dataframe thead th {\n",
       "        text-align: right;\n",
       "    }\n",
       "</style>\n",
       "<table border=\"1\" class=\"dataframe\">\n",
       "  <thead>\n",
       "    <tr style=\"text-align: right;\">\n",
       "      <th></th>\n",
       "      <th>total_sales</th>\n",
       "    </tr>\n",
       "    <tr>\n",
       "      <th>platform</th>\n",
       "      <th></th>\n",
       "    </tr>\n",
       "  </thead>\n",
       "  <tbody>\n",
       "    <tr>\n",
       "      <th>3DS</th>\n",
       "      <td>195.01</td>\n",
       "    </tr>\n",
       "    <tr>\n",
       "      <th>DS</th>\n",
       "      <td>13.21</td>\n",
       "    </tr>\n",
       "    <tr>\n",
       "      <th>PC</th>\n",
       "      <td>63.51</td>\n",
       "    </tr>\n",
       "    <tr>\n",
       "      <th>PS3</th>\n",
       "      <td>289.71</td>\n",
       "    </tr>\n",
       "    <tr>\n",
       "      <th>PS4</th>\n",
       "      <td>314.14</td>\n",
       "    </tr>\n",
       "  </tbody>\n",
       "</table>\n",
       "</div>"
      ],
      "text/plain": [
       "          total_sales\n",
       "platform             \n",
       "3DS            195.01\n",
       "DS              13.21\n",
       "PC              63.51\n",
       "PS3            289.71\n",
       "PS4            314.14"
      ]
     },
     "execution_count": 84,
     "metadata": {},
     "output_type": "execute_result"
    }
   ],
   "source": [
    "data_2012_platform = data_2012.pivot_table(index = 'platform', values = 'total_sales', aggfunc = 'sum')\n",
    "data_2012_platform.head(5)"
   ]
  },
  {
   "cell_type": "markdown",
   "metadata": {},
   "source": [
    "Then, let's identify the top-5 platforms of leaders for the period 2012-2016:"
   ]
  },
  {
   "cell_type": "code",
   "execution_count": 85,
   "metadata": {},
   "outputs": [
    {
     "data": {
      "text/html": [
       "<div>\n",
       "<style scoped>\n",
       "    .dataframe tbody tr th:only-of-type {\n",
       "        vertical-align: middle;\n",
       "    }\n",
       "\n",
       "    .dataframe tbody tr th {\n",
       "        vertical-align: top;\n",
       "    }\n",
       "\n",
       "    .dataframe thead th {\n",
       "        text-align: right;\n",
       "    }\n",
       "</style>\n",
       "<table border=\"1\" class=\"dataframe\">\n",
       "  <thead>\n",
       "    <tr style=\"text-align: right;\">\n",
       "      <th></th>\n",
       "      <th>total_sales</th>\n",
       "    </tr>\n",
       "    <tr>\n",
       "      <th>platform</th>\n",
       "      <th></th>\n",
       "    </tr>\n",
       "  </thead>\n",
       "  <tbody>\n",
       "    <tr>\n",
       "      <th>PS4</th>\n",
       "      <td>314.14</td>\n",
       "    </tr>\n",
       "    <tr>\n",
       "      <th>PS3</th>\n",
       "      <td>289.71</td>\n",
       "    </tr>\n",
       "    <tr>\n",
       "      <th>X360</th>\n",
       "      <td>237.52</td>\n",
       "    </tr>\n",
       "    <tr>\n",
       "      <th>3DS</th>\n",
       "      <td>195.01</td>\n",
       "    </tr>\n",
       "    <tr>\n",
       "      <th>XOne</th>\n",
       "      <td>159.32</td>\n",
       "    </tr>\n",
       "  </tbody>\n",
       "</table>\n",
       "</div>"
      ],
      "text/plain": [
       "          total_sales\n",
       "platform             \n",
       "PS4            314.14\n",
       "PS3            289.71\n",
       "X360           237.52\n",
       "3DS            195.01\n",
       "XOne           159.32"
      ]
     },
     "execution_count": 85,
     "metadata": {},
     "output_type": "execute_result"
    }
   ],
   "source": [
    "data_2012_platform_5 = data_2012_platform.sort_values(by = 'total_sales', ascending = False)[:5]\n",
    "data_2012_platform_5"
   ]
  },
  {
   "cell_type": "markdown",
   "metadata": {},
   "source": [
    "As can be seen, in the period from 2012 to 2016, the top-5 gaming platforms are somewhat different from the top platforms for the entire analyzed period. So, the most successful in terms of sales is the PS4 platform, which sold just over 3 billion copies of games. In second place - PS3 - with 2.9 copies of games, and in third place - X360, which sold 2.4 copies of games. On the 4th and 5th places are new platforms: 3DS (almost 2 billion copies sold) and XOne (1.6 billion copies of games).\n",
    "\n",
    "To see the dynamics of the rise or fall of the platforms, let's build the graph again:"
   ]
  },
  {
   "cell_type": "code",
   "execution_count": 86,
   "metadata": {},
   "outputs": [
    {
     "data": {
      "text/html": [
       "<div>\n",
       "<style scoped>\n",
       "    .dataframe tbody tr th:only-of-type {\n",
       "        vertical-align: middle;\n",
       "    }\n",
       "\n",
       "    .dataframe tbody tr th {\n",
       "        vertical-align: top;\n",
       "    }\n",
       "\n",
       "    .dataframe thead th {\n",
       "        text-align: right;\n",
       "    }\n",
       "</style>\n",
       "<table border=\"1\" class=\"dataframe\">\n",
       "  <thead>\n",
       "    <tr style=\"text-align: right;\">\n",
       "      <th></th>\n",
       "      <th>name</th>\n",
       "      <th>platform</th>\n",
       "      <th>year_of_release</th>\n",
       "      <th>genre</th>\n",
       "      <th>na_sales</th>\n",
       "      <th>eu_sales</th>\n",
       "      <th>jp_sales</th>\n",
       "      <th>other_sales</th>\n",
       "      <th>critic_score</th>\n",
       "      <th>user_score</th>\n",
       "      <th>rating</th>\n",
       "      <th>total_sales</th>\n",
       "    </tr>\n",
       "  </thead>\n",
       "  <tbody>\n",
       "    <tr>\n",
       "      <th>16</th>\n",
       "      <td>Grand Theft Auto V</td>\n",
       "      <td>PS3</td>\n",
       "      <td>2013</td>\n",
       "      <td>Action</td>\n",
       "      <td>7.02</td>\n",
       "      <td>9.09</td>\n",
       "      <td>0.98</td>\n",
       "      <td>3.96</td>\n",
       "      <td>97</td>\n",
       "      <td>8.2</td>\n",
       "      <td>M</td>\n",
       "      <td>21.05</td>\n",
       "    </tr>\n",
       "    <tr>\n",
       "      <th>23</th>\n",
       "      <td>Grand Theft Auto V</td>\n",
       "      <td>X360</td>\n",
       "      <td>2013</td>\n",
       "      <td>Action</td>\n",
       "      <td>9.66</td>\n",
       "      <td>5.14</td>\n",
       "      <td>0.06</td>\n",
       "      <td>1.41</td>\n",
       "      <td>97</td>\n",
       "      <td>8.1</td>\n",
       "      <td>M</td>\n",
       "      <td>16.27</td>\n",
       "    </tr>\n",
       "    <tr>\n",
       "      <th>31</th>\n",
       "      <td>Call of Duty: Black Ops 3</td>\n",
       "      <td>PS4</td>\n",
       "      <td>2015</td>\n",
       "      <td>Shooter</td>\n",
       "      <td>6.03</td>\n",
       "      <td>5.86</td>\n",
       "      <td>0.36</td>\n",
       "      <td>2.38</td>\n",
       "      <td>Nan</td>\n",
       "      <td>Nan</td>\n",
       "      <td>Nan</td>\n",
       "      <td>14.63</td>\n",
       "    </tr>\n",
       "    <tr>\n",
       "      <th>33</th>\n",
       "      <td>Pokemon X/Pokemon Y</td>\n",
       "      <td>3DS</td>\n",
       "      <td>2013</td>\n",
       "      <td>Role-Playing</td>\n",
       "      <td>5.28</td>\n",
       "      <td>4.19</td>\n",
       "      <td>4.35</td>\n",
       "      <td>0.78</td>\n",
       "      <td>Nan</td>\n",
       "      <td>Nan</td>\n",
       "      <td>Nan</td>\n",
       "      <td>14.60</td>\n",
       "    </tr>\n",
       "    <tr>\n",
       "      <th>34</th>\n",
       "      <td>Call of Duty: Black Ops II</td>\n",
       "      <td>PS3</td>\n",
       "      <td>2012</td>\n",
       "      <td>Shooter</td>\n",
       "      <td>4.99</td>\n",
       "      <td>5.73</td>\n",
       "      <td>0.65</td>\n",
       "      <td>2.42</td>\n",
       "      <td>83</td>\n",
       "      <td>5.3</td>\n",
       "      <td>M</td>\n",
       "      <td>13.79</td>\n",
       "    </tr>\n",
       "  </tbody>\n",
       "</table>\n",
       "</div>"
      ],
      "text/plain": [
       "                          name platform  year_of_release         genre  \\\n",
       "16          Grand Theft Auto V      PS3             2013        Action   \n",
       "23          Grand Theft Auto V     X360             2013        Action   \n",
       "31   Call of Duty: Black Ops 3      PS4             2015       Shooter   \n",
       "33         Pokemon X/Pokemon Y      3DS             2013  Role-Playing   \n",
       "34  Call of Duty: Black Ops II      PS3             2012       Shooter   \n",
       "\n",
       "    na_sales  eu_sales  jp_sales  other_sales critic_score user_score rating  \\\n",
       "16      7.02      9.09      0.98         3.96           97        8.2      M   \n",
       "23      9.66      5.14      0.06         1.41           97        8.1      M   \n",
       "31      6.03      5.86      0.36         2.38          Nan        Nan    Nan   \n",
       "33      5.28      4.19      4.35         0.78          Nan        Nan    Nan   \n",
       "34      4.99      5.73      0.65         2.42           83        5.3      M   \n",
       "\n",
       "    total_sales  \n",
       "16        21.05  \n",
       "23        16.27  \n",
       "31        14.63  \n",
       "33        14.60  \n",
       "34        13.79  "
      ]
     },
     "execution_count": 86,
     "metadata": {},
     "output_type": "execute_result"
    }
   ],
   "source": [
    "top_5_2012 = data_2012.query('platform in (\"PS4\", \"X360\", \"PS3\", \"3DS\", \"XOne\")')\n",
    "top_5_2012.head(5)"
   ]
  },
  {
   "cell_type": "markdown",
   "metadata": {},
   "source": [
    "For the graph, let's calculate the total sales by years in each of the top-5 gaming platforms: "
   ]
  },
  {
   "cell_type": "code",
   "execution_count": 87,
   "metadata": {},
   "outputs": [
    {
     "data": {
      "text/html": [
       "<div>\n",
       "<style scoped>\n",
       "    .dataframe tbody tr th:only-of-type {\n",
       "        vertical-align: middle;\n",
       "    }\n",
       "\n",
       "    .dataframe tbody tr th {\n",
       "        vertical-align: top;\n",
       "    }\n",
       "\n",
       "    .dataframe thead th {\n",
       "        text-align: right;\n",
       "    }\n",
       "</style>\n",
       "<table border=\"1\" class=\"dataframe\">\n",
       "  <thead>\n",
       "    <tr style=\"text-align: right;\">\n",
       "      <th></th>\n",
       "      <th></th>\n",
       "      <th>total_sales</th>\n",
       "    </tr>\n",
       "    <tr>\n",
       "      <th>platform</th>\n",
       "      <th>year_of_release</th>\n",
       "      <th></th>\n",
       "    </tr>\n",
       "  </thead>\n",
       "  <tbody>\n",
       "    <tr>\n",
       "      <th rowspan=\"5\" valign=\"top\">3DS</th>\n",
       "      <th>2012</th>\n",
       "      <td>51.76</td>\n",
       "    </tr>\n",
       "    <tr>\n",
       "      <th>2013</th>\n",
       "      <td>56.57</td>\n",
       "    </tr>\n",
       "    <tr>\n",
       "      <th>2014</th>\n",
       "      <td>43.76</td>\n",
       "    </tr>\n",
       "    <tr>\n",
       "      <th>2015</th>\n",
       "      <td>27.78</td>\n",
       "    </tr>\n",
       "    <tr>\n",
       "      <th>2016</th>\n",
       "      <td>15.14</td>\n",
       "    </tr>\n",
       "    <tr>\n",
       "      <th rowspan=\"5\" valign=\"top\">PS3</th>\n",
       "      <th>2012</th>\n",
       "      <td>108.28</td>\n",
       "    </tr>\n",
       "    <tr>\n",
       "      <th>2013</th>\n",
       "      <td>113.25</td>\n",
       "    </tr>\n",
       "    <tr>\n",
       "      <th>2014</th>\n",
       "      <td>47.76</td>\n",
       "    </tr>\n",
       "    <tr>\n",
       "      <th>2015</th>\n",
       "      <td>16.82</td>\n",
       "    </tr>\n",
       "    <tr>\n",
       "      <th>2016</th>\n",
       "      <td>3.60</td>\n",
       "    </tr>\n",
       "    <tr>\n",
       "      <th rowspan=\"4\" valign=\"top\">PS4</th>\n",
       "      <th>2013</th>\n",
       "      <td>25.99</td>\n",
       "    </tr>\n",
       "    <tr>\n",
       "      <th>2014</th>\n",
       "      <td>100.00</td>\n",
       "    </tr>\n",
       "    <tr>\n",
       "      <th>2015</th>\n",
       "      <td>118.90</td>\n",
       "    </tr>\n",
       "    <tr>\n",
       "      <th>2016</th>\n",
       "      <td>69.25</td>\n",
       "    </tr>\n",
       "    <tr>\n",
       "      <th rowspan=\"5\" valign=\"top\">X360</th>\n",
       "      <th>2012</th>\n",
       "      <td>100.72</td>\n",
       "    </tr>\n",
       "    <tr>\n",
       "      <th>2013</th>\n",
       "      <td>88.58</td>\n",
       "    </tr>\n",
       "    <tr>\n",
       "      <th>2014</th>\n",
       "      <td>34.74</td>\n",
       "    </tr>\n",
       "    <tr>\n",
       "      <th>2015</th>\n",
       "      <td>11.96</td>\n",
       "    </tr>\n",
       "    <tr>\n",
       "      <th>2016</th>\n",
       "      <td>1.52</td>\n",
       "    </tr>\n",
       "    <tr>\n",
       "      <th rowspan=\"4\" valign=\"top\">XOne</th>\n",
       "      <th>2013</th>\n",
       "      <td>18.96</td>\n",
       "    </tr>\n",
       "    <tr>\n",
       "      <th>2014</th>\n",
       "      <td>54.07</td>\n",
       "    </tr>\n",
       "    <tr>\n",
       "      <th>2015</th>\n",
       "      <td>60.14</td>\n",
       "    </tr>\n",
       "    <tr>\n",
       "      <th>2016</th>\n",
       "      <td>26.15</td>\n",
       "    </tr>\n",
       "  </tbody>\n",
       "</table>\n",
       "</div>"
      ],
      "text/plain": [
       "                          total_sales\n",
       "platform year_of_release             \n",
       "3DS      2012                   51.76\n",
       "         2013                   56.57\n",
       "         2014                   43.76\n",
       "         2015                   27.78\n",
       "         2016                   15.14\n",
       "PS3      2012                  108.28\n",
       "         2013                  113.25\n",
       "         2014                   47.76\n",
       "         2015                   16.82\n",
       "         2016                    3.60\n",
       "PS4      2013                   25.99\n",
       "         2014                  100.00\n",
       "         2015                  118.90\n",
       "         2016                   69.25\n",
       "X360     2012                  100.72\n",
       "         2013                   88.58\n",
       "         2014                   34.74\n",
       "         2015                   11.96\n",
       "         2016                    1.52\n",
       "XOne     2013                   18.96\n",
       "         2014                   54.07\n",
       "         2015                   60.14\n",
       "         2016                   26.15"
      ]
     },
     "execution_count": 87,
     "metadata": {},
     "output_type": "execute_result"
    }
   ],
   "source": [
    "top_5_2012_sum = top_5_2012.pivot_table(index = ['platform', 'year_of_release'], values = 'total_sales', aggfunc = 'sum')\n",
    "top_5_2012_sum"
   ]
  },
  {
   "cell_type": "markdown",
   "metadata": {},
   "source": [
    "For convenience in further analysis, let's turn the index into the column names:"
   ]
  },
  {
   "cell_type": "code",
   "execution_count": 88,
   "metadata": {},
   "outputs": [
    {
     "data": {
      "text/html": [
       "<div>\n",
       "<style scoped>\n",
       "    .dataframe tbody tr th:only-of-type {\n",
       "        vertical-align: middle;\n",
       "    }\n",
       "\n",
       "    .dataframe tbody tr th {\n",
       "        vertical-align: top;\n",
       "    }\n",
       "\n",
       "    .dataframe thead th {\n",
       "        text-align: right;\n",
       "    }\n",
       "</style>\n",
       "<table border=\"1\" class=\"dataframe\">\n",
       "  <thead>\n",
       "    <tr style=\"text-align: right;\">\n",
       "      <th></th>\n",
       "      <th>platform</th>\n",
       "      <th>year_of_release</th>\n",
       "      <th>total_sales</th>\n",
       "    </tr>\n",
       "  </thead>\n",
       "  <tbody>\n",
       "    <tr>\n",
       "      <th>0</th>\n",
       "      <td>3DS</td>\n",
       "      <td>2012</td>\n",
       "      <td>51.76</td>\n",
       "    </tr>\n",
       "    <tr>\n",
       "      <th>1</th>\n",
       "      <td>3DS</td>\n",
       "      <td>2013</td>\n",
       "      <td>56.57</td>\n",
       "    </tr>\n",
       "    <tr>\n",
       "      <th>2</th>\n",
       "      <td>3DS</td>\n",
       "      <td>2014</td>\n",
       "      <td>43.76</td>\n",
       "    </tr>\n",
       "    <tr>\n",
       "      <th>3</th>\n",
       "      <td>3DS</td>\n",
       "      <td>2015</td>\n",
       "      <td>27.78</td>\n",
       "    </tr>\n",
       "    <tr>\n",
       "      <th>4</th>\n",
       "      <td>3DS</td>\n",
       "      <td>2016</td>\n",
       "      <td>15.14</td>\n",
       "    </tr>\n",
       "  </tbody>\n",
       "</table>\n",
       "</div>"
      ],
      "text/plain": [
       "  platform  year_of_release  total_sales\n",
       "0      3DS             2012        51.76\n",
       "1      3DS             2013        56.57\n",
       "2      3DS             2014        43.76\n",
       "3      3DS             2015        27.78\n",
       "4      3DS             2016        15.14"
      ]
     },
     "execution_count": 88,
     "metadata": {},
     "output_type": "execute_result"
    }
   ],
   "source": [
    "top_5_2012_sum = top_5_2012_sum.reset_index().rename_axis(None, axis = 1)\n",
    "top_5_2012_sum.head(5)"
   ]
  },
  {
   "cell_type": "markdown",
   "metadata": {},
   "source": [
    "Now, having data on the total sales of each of the top-5 gaming platforms in each of the specific years, we can build a graph and look at the dynamics of sales for each of the platforms:"
   ]
  },
  {
   "cell_type": "code",
   "execution_count": 89,
   "metadata": {},
   "outputs": [
    {
     "data": {
      "text/plain": [
       "(0.0, 150.0)"
      ]
     },
     "execution_count": 89,
     "metadata": {},
     "output_type": "execute_result"
    },
    {
     "data": {
      "image/png": "[encoded data removed]",
      "text/plain": [
       "<Figure size 864x432 with 1 Axes>"
      ]
     },
     "metadata": {
      "needs_background": "light"
     },
     "output_type": "display_data"
    }
   ],
   "source": [
    "plt.figure(figsize=(12,6))\n",
    "\n",
    "sns.lineplot(x = top_5_2012_sum['year_of_release'], y = top_5_2012_sum['total_sales'], hue = top_5_2012_sum['platform'])\n",
    "plt.title(\"Distribution of total sales of top-5 gaming platforms in 2012 - 2016\")\n",
    "plt.xlabel(\"Year\")\n",
    "plt.ylabel(\"Number of sales\")\n",
    "plt.ylim(0, 150)\n"
   ]
  },
  {
   "cell_type": "markdown",
   "metadata": {},
   "source": [
    "As can be seen from the graph of total sales, the 2 platforms turn out to be not very reliable, in other words, in 2017 it is not worth counting on them, since their sales for the last year under review approached zero. We are talking about platforms such as X360 and PS3. At the same time, the other three platforms, in general, demonstrate positive dynamics. PS4 and XOne, which had their peak sales in 2015, performed especially well and should definitely be counted on in 2017. We can also try to give a chance to a platform such as 3DS, which has shown a fairly gradual decline in recent years, but whose sales are still holding up at a decent level."
   ]
  },
  {
   "cell_type": "markdown",
   "metadata": {},
   "source": [
    "**Boxplot on global game sales by platform**"
   ]
  },
  {
   "cell_type": "code",
   "execution_count": 93,
   "metadata": {},
   "outputs": [
    {
     "data": {
      "text/plain": [
       "(-0.1, 4.0)"
      ]
     },
     "execution_count": 93,
     "metadata": {},
     "output_type": "execute_result"
    },
    {
     "data": {
      "image/png": "[encoded data removed]",
      "text/plain": [
       "<Figure size 864x432 with 1 Axes>"
      ]
     },
     "metadata": {
      "needs_background": "light"
     },
     "output_type": "display_data"
    }
   ],
   "source": [
    "plt.figure(figsize=(12,6))\n",
    "\n",
    "sns.boxplot(data = top_5_2012, x = 'platform', y = 'total_sales')\n",
    "plt.title(\"Global sales of games, top-5 platforms 2012-2016\")\n",
    "plt.xlabel(\"Platform\")\n",
    "plt.ylabel(\"Number of sales\")\n",
    "plt.ylim(-0.1, 4)"
   ]
  },
  {
   "cell_type": "markdown",
   "metadata": {},
   "source": [
    "Based on the given boxplots, it becomes clear that platforms such as X360 and XOne have the highest median value. Then the PS3 and PS4 are almost on a par. Among the top-5 gaming platforms, the 3DS has the smallest median value. The X360 and PS4 platforms have the largest spread in terms of sales, with the PS3 having the most positive differences. On average, platforms sell the following number of copies of their games:\n",
    "\n",
    "- PS3: about 0.2 million;\n",
    "- X360: about 0.3 million;\n",
    "- PS4: about 0.2 million;\n",
    "- 3DS: about 0.1 million;\n",
    "- XOne: slightly over 0.2 million.\n",
    "\n",
    "If no limit is set on the displayed number of sales, the boxplots look like this:"
   ]
  },
  {
   "cell_type": "code",
   "execution_count": 94,
   "metadata": {},
   "outputs": [
    {
     "data": {
      "text/plain": [
       "Text(0, 0.5, 'Number of sales')"
      ]
     },
     "execution_count": 94,
     "metadata": {},
     "output_type": "execute_result"
    },
    {
     "data": {
      "image/png": "[encoded data removed]",
      "text/plain": [
       "<Figure size 864x432 with 1 Axes>"
      ]
     },
     "metadata": {
      "needs_background": "light"
     },
     "output_type": "display_data"
    }
   ],
   "source": [
    "plt.figure(figsize=(12,6))\n",
    "\n",
    "sns.boxplot(data = top_5_2012, x = 'platform', y = 'total_sales')\n",
    "plt.title(\"Global sales of games, top-5 platforms 2012-2016\")\n",
    "plt.xlabel(\"Platform\")\n",
    "plt.ylabel(\"Number of sales\")"
   ]
  },
  {
   "cell_type": "markdown",
   "metadata": {},
   "source": [
    "It can be seen here that the most massive sales of games belong to the PS3 platforms (more than 20 million copies) and X360 (about 17 million copies).\n",
    "\n",
    "Outliers can be attributed to critically high success rates for individual games, as opposed to \"average\" game sales. So, for example, the PS3 has one high-profile outlier with very high sales. Let's see what kind of outlier it is. First, let's see what values the 'total_sales' variable from the top_5_2012 dataset takes:"
   ]
  },
  {
   "cell_type": "code",
   "execution_count": 95,
   "metadata": {},
   "outputs": [
    {
     "data": {
      "text/plain": [
       "count    1824.000000\n",
       "mean        0.655537\n",
       "std         1.476061\n",
       "min         0.010000\n",
       "25%         0.060000\n",
       "50%         0.190000\n",
       "75%         0.630000\n",
       "max        21.050000\n",
       "Name: total_sales, dtype: float64"
      ]
     },
     "execution_count": 95,
     "metadata": {},
     "output_type": "execute_result"
    }
   ],
   "source": [
    "top_5_2012['total_sales'].describe()"
   ]
  },
  {
   "cell_type": "markdown",
   "metadata": {},
   "source": [
    "So, the maximum value of total sales is just over 21 billion copies sold. Let's find out what kind of game it is:   "
   ]
  },
  {
   "cell_type": "code",
   "execution_count": 96,
   "metadata": {},
   "outputs": [
    {
     "data": {
      "text/plain": [
       "name               [Prototype 2]\n",
       "platform                     PS3\n",
       "year_of_release             2016\n",
       "genre                   Strategy\n",
       "na_sales                    7.02\n",
       "eu_sales                    9.09\n",
       "jp_sales                    0.98\n",
       "other_sales                 3.96\n",
       "user_score                   Nan\n",
       "rating                         T\n",
       "total_sales                21.05\n",
       "dtype: object"
      ]
     },
     "execution_count": 96,
     "metadata": {},
     "output_type": "execute_result"
    }
   ],
   "source": [
    "PS3_sales = top_5_2012.query('platform == \"PS3\"')\n",
    "PS3_sales.max()"
   ]
  },
  {
   "cell_type": "markdown",
   "metadata": {},
   "source": [
    "As it becomes clear, such a great success belongs to the game \"Prototype 2\", released on the PS3 platform.\n",
    "\n",
    "Thus, outliers observed on boxplots are the most popular games - bestsellers. If we look at the 3DS, a small boxplot and a lot of outliers can be seen. This suggests that a large part of the sales volume comes from these outliers. At the same time, the XOne has a different situation: a large box, a long 'whiskers' and few outliers. This indicates that a wide variety of games are bought from XOne, and, moreover, in considerable quantities."
   ]
  },
  {
   "cell_type": "markdown",
   "metadata": {},
   "source": [
    "**How does customer and critic reviews affect sales?**"
   ]
  },
  {
   "cell_type": "markdown",
   "metadata": {},
   "source": [
    "Let's analyze these variables for the most successful platform in recent years - PS4."
   ]
  },
  {
   "cell_type": "code",
   "execution_count": 97,
   "metadata": {
    "scrolled": false
   },
   "outputs": [
    {
     "data": {
      "text/html": [
       "<div>\n",
       "<style scoped>\n",
       "    .dataframe tbody tr th:only-of-type {\n",
       "        vertical-align: middle;\n",
       "    }\n",
       "\n",
       "    .dataframe tbody tr th {\n",
       "        vertical-align: top;\n",
       "    }\n",
       "\n",
       "    .dataframe thead th {\n",
       "        text-align: right;\n",
       "    }\n",
       "</style>\n",
       "<table border=\"1\" class=\"dataframe\">\n",
       "  <thead>\n",
       "    <tr style=\"text-align: right;\">\n",
       "      <th></th>\n",
       "      <th>name</th>\n",
       "      <th>platform</th>\n",
       "      <th>year_of_release</th>\n",
       "      <th>genre</th>\n",
       "      <th>na_sales</th>\n",
       "      <th>eu_sales</th>\n",
       "      <th>jp_sales</th>\n",
       "      <th>other_sales</th>\n",
       "      <th>critic_score</th>\n",
       "      <th>user_score</th>\n",
       "      <th>rating</th>\n",
       "      <th>total_sales</th>\n",
       "    </tr>\n",
       "  </thead>\n",
       "  <tbody>\n",
       "    <tr>\n",
       "      <th>31</th>\n",
       "      <td>Call of Duty: Black Ops 3</td>\n",
       "      <td>PS4</td>\n",
       "      <td>2015</td>\n",
       "      <td>Shooter</td>\n",
       "      <td>6.03</td>\n",
       "      <td>5.86</td>\n",
       "      <td>0.36</td>\n",
       "      <td>2.38</td>\n",
       "      <td>Nan</td>\n",
       "      <td>Nan</td>\n",
       "      <td>Nan</td>\n",
       "      <td>14.63</td>\n",
       "    </tr>\n",
       "    <tr>\n",
       "      <th>42</th>\n",
       "      <td>Grand Theft Auto V</td>\n",
       "      <td>PS4</td>\n",
       "      <td>2014</td>\n",
       "      <td>Action</td>\n",
       "      <td>3.96</td>\n",
       "      <td>6.31</td>\n",
       "      <td>0.38</td>\n",
       "      <td>1.97</td>\n",
       "      <td>97</td>\n",
       "      <td>8.3</td>\n",
       "      <td>M</td>\n",
       "      <td>12.62</td>\n",
       "    </tr>\n",
       "    <tr>\n",
       "      <th>77</th>\n",
       "      <td>FIFA 16</td>\n",
       "      <td>PS4</td>\n",
       "      <td>2015</td>\n",
       "      <td>Sports</td>\n",
       "      <td>1.12</td>\n",
       "      <td>6.12</td>\n",
       "      <td>0.06</td>\n",
       "      <td>1.28</td>\n",
       "      <td>82</td>\n",
       "      <td>4.3</td>\n",
       "      <td>E</td>\n",
       "      <td>8.58</td>\n",
       "    </tr>\n",
       "    <tr>\n",
       "      <th>87</th>\n",
       "      <td>Star Wars Battlefront (2015)</td>\n",
       "      <td>PS4</td>\n",
       "      <td>2015</td>\n",
       "      <td>Shooter</td>\n",
       "      <td>2.99</td>\n",
       "      <td>3.49</td>\n",
       "      <td>0.22</td>\n",
       "      <td>1.28</td>\n",
       "      <td>Nan</td>\n",
       "      <td>Nan</td>\n",
       "      <td>Nan</td>\n",
       "      <td>7.98</td>\n",
       "    </tr>\n",
       "    <tr>\n",
       "      <th>92</th>\n",
       "      <td>Call of Duty: Advanced Warfare</td>\n",
       "      <td>PS4</td>\n",
       "      <td>2014</td>\n",
       "      <td>Shooter</td>\n",
       "      <td>2.81</td>\n",
       "      <td>3.48</td>\n",
       "      <td>0.14</td>\n",
       "      <td>1.23</td>\n",
       "      <td>83</td>\n",
       "      <td>5.7</td>\n",
       "      <td>M</td>\n",
       "      <td>7.66</td>\n",
       "    </tr>\n",
       "  </tbody>\n",
       "</table>\n",
       "</div>"
      ],
      "text/plain": [
       "                              name platform  year_of_release    genre  \\\n",
       "31       Call of Duty: Black Ops 3      PS4             2015  Shooter   \n",
       "42              Grand Theft Auto V      PS4             2014   Action   \n",
       "77                         FIFA 16      PS4             2015   Sports   \n",
       "87    Star Wars Battlefront (2015)      PS4             2015  Shooter   \n",
       "92  Call of Duty: Advanced Warfare      PS4             2014  Shooter   \n",
       "\n",
       "    na_sales  eu_sales  jp_sales  other_sales critic_score user_score rating  \\\n",
       "31      6.03      5.86      0.36         2.38          Nan        Nan    Nan   \n",
       "42      3.96      6.31      0.38         1.97           97        8.3      M   \n",
       "77      1.12      6.12      0.06         1.28           82        4.3      E   \n",
       "87      2.99      3.49      0.22         1.28          Nan        Nan    Nan   \n",
       "92      2.81      3.48      0.14         1.23           83        5.7      M   \n",
       "\n",
       "    total_sales  \n",
       "31        14.63  \n",
       "42        12.62  \n",
       "77         8.58  \n",
       "87         7.98  \n",
       "92         7.66  "
      ]
     },
     "execution_count": 97,
     "metadata": {},
     "output_type": "execute_result"
    }
   ],
   "source": [
    "ps4 = data_2012.query('platform == \"PS4\"')\n",
    "ps4.head(5)"
   ]
  },
  {
   "cell_type": "markdown",
   "metadata": {},
   "source": [
    "In order to be able to further calculate the correlation coefficient, there is need to replace the ratings data with numbers with a floating string:"
   ]
  },
  {
   "cell_type": "code",
   "execution_count": 98,
   "metadata": {},
   "outputs": [],
   "source": [
    "ps4['user_score'] = ps4['user_score'].astype(float)\n",
    "ps4['critic_score'] = ps4['critic_score'].astype(float)"
   ]
  },
  {
   "cell_type": "markdown",
   "metadata": {},
   "source": [
    "Let's look at a scatterplot, as well as the correlation coefficient between user scores, critics scores and total sales:"
   ]
  },
  {
   "cell_type": "code",
   "execution_count": 103,
   "metadata": {},
   "outputs": [
    {
     "data": {
      "text/plain": [
       "Text(0.5, 1.0, 'Correlation between user scores and total sales of PS4')"
      ]
     },
     "execution_count": 103,
     "metadata": {},
     "output_type": "execute_result"
    },
    {
     "data": {
      "text/plain": [
       "<Figure size 1080x576 with 0 Axes>"
      ]
     },
     "metadata": {},
     "output_type": "display_data"
    },
    {
     "data": {
      "image/png": "[encoded data removed]",
      "text/plain": [
       "<Figure size 432x288 with 1 Axes>"
      ]
     },
     "metadata": {
      "needs_background": "light"
     },
     "output_type": "display_data"
    }
   ],
   "source": [
    "plt.figure(figsize=(15,8))\n",
    "\n",
    "ps4.plot(x = 'user_score', y = 'total_sales', \n",
    "         kind = 'scatter', alpha = 0.3, color='green')\n",
    "plt.title('Correlation between user scores and total sales of PS4')"
   ]
  },
  {
   "cell_type": "code",
   "execution_count": 105,
   "metadata": {},
   "outputs": [
    {
     "data": {
      "text/plain": [
       "Text(0.5, 1.0, 'Correlation between critic scores and total sales of PS4')"
      ]
     },
     "execution_count": 105,
     "metadata": {},
     "output_type": "execute_result"
    },
    {
     "data": {
      "text/plain": [
       "<Figure size 864x432 with 0 Axes>"
      ]
     },
     "metadata": {},
     "output_type": "display_data"
    },
    {
     "data": {
      "image/png": "[encoded data removed]",
      "text/plain": [
       "<Figure size 432x288 with 1 Axes>"
      ]
     },
     "metadata": {
      "needs_background": "light"
     },
     "output_type": "display_data"
    }
   ],
   "source": [
    "plt.figure(figsize=(12,6))\n",
    "\n",
    "ps4.plot(x = 'critic_score', y = 'total_sales', \n",
    "         kind = 'scatter', alpha = 0.3, color='brown')\n",
    "plt.title('Correlation between critic scores and total sales of PS4')"
   ]
  },
  {
   "cell_type": "code",
   "execution_count": 102,
   "metadata": {},
   "outputs": [
    {
     "data": {
      "image/png": "[encoded data removed]",
      "text/plain": [
       "<Figure size 432x288 with 2 Axes>"
      ]
     },
     "metadata": {
      "needs_background": "light"
     },
     "output_type": "display_data"
    }
   ],
   "source": [
    "sns.heatmap(ps4[['total_sales','critic_score', 'user_score']].corr(), linewidths=.2,annot = True)\n",
    "plt.title('Correlation coefficients');"
   ]
  },
  {
   "cell_type": "markdown",
   "metadata": {},
   "source": [
    "As can be seen from both the graph and the correlation coefficient, there is no relationship between user ratings and game sales.\n",
    "\n",
    "When it comes to critics' scores, its relationship with game sales turns out to be significantly greater in comparison with user ratings. The correlation coefficient of 0.41 indicates presence of a connection, albeit rather weak."
   ]
  },
  {
   "cell_type": "markdown",
   "metadata": {},
   "source": [
    "**General distribution of games by genre**"
   ]
  },
  {
   "cell_type": "markdown",
   "metadata": {},
   "source": [
    "To analyze the overall distribution of games by genre, let's create a new pivot table that groups sales by genre of games:"
   ]
  },
  {
   "cell_type": "code",
   "execution_count": 106,
   "metadata": {},
   "outputs": [
    {
     "data": {
      "text/html": [
       "<div>\n",
       "<style scoped>\n",
       "    .dataframe tbody tr th:only-of-type {\n",
       "        vertical-align: middle;\n",
       "    }\n",
       "\n",
       "    .dataframe tbody tr th {\n",
       "        vertical-align: top;\n",
       "    }\n",
       "\n",
       "    .dataframe thead th {\n",
       "        text-align: right;\n",
       "    }\n",
       "</style>\n",
       "<table border=\"1\" class=\"dataframe\">\n",
       "  <thead>\n",
       "    <tr style=\"text-align: right;\">\n",
       "      <th></th>\n",
       "      <th>genre</th>\n",
       "      <th>total_sales</th>\n",
       "    </tr>\n",
       "  </thead>\n",
       "  <tbody>\n",
       "    <tr>\n",
       "      <th>0</th>\n",
       "      <td>Action</td>\n",
       "      <td>446.41</td>\n",
       "    </tr>\n",
       "    <tr>\n",
       "      <th>8</th>\n",
       "      <td>Shooter</td>\n",
       "      <td>304.75</td>\n",
       "    </tr>\n",
       "    <tr>\n",
       "      <th>7</th>\n",
       "      <td>Role-Playing</td>\n",
       "      <td>192.80</td>\n",
       "    </tr>\n",
       "    <tr>\n",
       "      <th>10</th>\n",
       "      <td>Sports</td>\n",
       "      <td>181.07</td>\n",
       "    </tr>\n",
       "    <tr>\n",
       "      <th>3</th>\n",
       "      <td>Misc</td>\n",
       "      <td>85.28</td>\n",
       "    </tr>\n",
       "    <tr>\n",
       "      <th>4</th>\n",
       "      <td>Platform</td>\n",
       "      <td>61.00</td>\n",
       "    </tr>\n",
       "    <tr>\n",
       "      <th>6</th>\n",
       "      <td>Racing</td>\n",
       "      <td>53.50</td>\n",
       "    </tr>\n",
       "    <tr>\n",
       "      <th>2</th>\n",
       "      <td>Fighting</td>\n",
       "      <td>44.49</td>\n",
       "    </tr>\n",
       "    <tr>\n",
       "      <th>9</th>\n",
       "      <td>Simulation</td>\n",
       "      <td>35.12</td>\n",
       "    </tr>\n",
       "    <tr>\n",
       "      <th>1</th>\n",
       "      <td>Adventure</td>\n",
       "      <td>29.43</td>\n",
       "    </tr>\n",
       "    <tr>\n",
       "      <th>11</th>\n",
       "      <td>Strategy</td>\n",
       "      <td>13.34</td>\n",
       "    </tr>\n",
       "    <tr>\n",
       "      <th>5</th>\n",
       "      <td>Puzzle</td>\n",
       "      <td>4.89</td>\n",
       "    </tr>\n",
       "  </tbody>\n",
       "</table>\n",
       "</div>"
      ],
      "text/plain": [
       "           genre  total_sales\n",
       "0         Action       446.41\n",
       "8        Shooter       304.75\n",
       "7   Role-Playing       192.80\n",
       "10        Sports       181.07\n",
       "3           Misc        85.28\n",
       "4       Platform        61.00\n",
       "6         Racing        53.50\n",
       "2       Fighting        44.49\n",
       "9     Simulation        35.12\n",
       "1      Adventure        29.43\n",
       "11      Strategy        13.34\n",
       "5         Puzzle         4.89"
      ]
     },
     "execution_count": 106,
     "metadata": {},
     "output_type": "execute_result"
    }
   ],
   "source": [
    "genre_table = data_2012.pivot_table(index = 'genre', values = 'total_sales', aggfunc = 'sum')\n",
    "genre_table = genre_table.reset_index().rename_axis(None, axis=1)\n",
    "genre_table = genre_table.sort_values(by = 'total_sales', ascending = False)\n",
    "genre_table"
   ]
  },
  {
   "cell_type": "markdown",
   "metadata": {},
   "source": [
    "As can be seen from the pivot table, there are indeed four most \"profitable\" genres with the most sales: Action (4.5 billion game copies), Shooter (3 billion game copies), Role-Playing (almost 2 billion game copies) and Sports. (1.8 billion copies of games). As for the genres of games with low sales, the most unpopular are strategy (13 million copies in total) and puzzles (4 million copies in total).\n",
    "\n",
    "Let's carry out similar calculations for the median indicators:"
   ]
  },
  {
   "cell_type": "code",
   "execution_count": 107,
   "metadata": {},
   "outputs": [
    {
     "data": {
      "text/html": [
       "<div>\n",
       "<style scoped>\n",
       "    .dataframe tbody tr th:only-of-type {\n",
       "        vertical-align: middle;\n",
       "    }\n",
       "\n",
       "    .dataframe tbody tr th {\n",
       "        vertical-align: top;\n",
       "    }\n",
       "\n",
       "    .dataframe thead th {\n",
       "        text-align: right;\n",
       "    }\n",
       "</style>\n",
       "<table border=\"1\" class=\"dataframe\">\n",
       "  <thead>\n",
       "    <tr style=\"text-align: right;\">\n",
       "      <th></th>\n",
       "      <th>genre</th>\n",
       "      <th>total_sales</th>\n",
       "    </tr>\n",
       "  </thead>\n",
       "  <tbody>\n",
       "    <tr>\n",
       "      <th>8</th>\n",
       "      <td>Shooter</td>\n",
       "      <td>0.430</td>\n",
       "    </tr>\n",
       "    <tr>\n",
       "      <th>10</th>\n",
       "      <td>Sports</td>\n",
       "      <td>0.240</td>\n",
       "    </tr>\n",
       "    <tr>\n",
       "      <th>4</th>\n",
       "      <td>Platform</td>\n",
       "      <td>0.210</td>\n",
       "    </tr>\n",
       "    <tr>\n",
       "      <th>7</th>\n",
       "      <td>Role-Playing</td>\n",
       "      <td>0.140</td>\n",
       "    </tr>\n",
       "    <tr>\n",
       "      <th>6</th>\n",
       "      <td>Racing</td>\n",
       "      <td>0.140</td>\n",
       "    </tr>\n",
       "    <tr>\n",
       "      <th>2</th>\n",
       "      <td>Fighting</td>\n",
       "      <td>0.130</td>\n",
       "    </tr>\n",
       "    <tr>\n",
       "      <th>0</th>\n",
       "      <td>Action</td>\n",
       "      <td>0.120</td>\n",
       "    </tr>\n",
       "    <tr>\n",
       "      <th>3</th>\n",
       "      <td>Misc</td>\n",
       "      <td>0.120</td>\n",
       "    </tr>\n",
       "    <tr>\n",
       "      <th>9</th>\n",
       "      <td>Simulation</td>\n",
       "      <td>0.120</td>\n",
       "    </tr>\n",
       "    <tr>\n",
       "      <th>11</th>\n",
       "      <td>Strategy</td>\n",
       "      <td>0.080</td>\n",
       "    </tr>\n",
       "    <tr>\n",
       "      <th>5</th>\n",
       "      <td>Puzzle</td>\n",
       "      <td>0.045</td>\n",
       "    </tr>\n",
       "    <tr>\n",
       "      <th>1</th>\n",
       "      <td>Adventure</td>\n",
       "      <td>0.030</td>\n",
       "    </tr>\n",
       "  </tbody>\n",
       "</table>\n",
       "</div>"
      ],
      "text/plain": [
       "           genre  total_sales\n",
       "8        Shooter        0.430\n",
       "10        Sports        0.240\n",
       "4       Platform        0.210\n",
       "7   Role-Playing        0.140\n",
       "6         Racing        0.140\n",
       "2       Fighting        0.130\n",
       "0         Action        0.120\n",
       "3           Misc        0.120\n",
       "9     Simulation        0.120\n",
       "11      Strategy        0.080\n",
       "5         Puzzle        0.045\n",
       "1      Adventure        0.030"
      ]
     },
     "execution_count": 107,
     "metadata": {},
     "output_type": "execute_result"
    }
   ],
   "source": [
    "genre_table2 = data_2012.pivot_table(index = 'genre', values = 'total_sales', aggfunc = 'median')\n",
    "genre_table2 = genre_table2.reset_index().rename_axis(None, axis=1)\n",
    "genre_table2 = genre_table2.sort_values(by = 'total_sales', ascending = False)\n",
    "genre_table2"
   ]
  },
  {
   "cell_type": "markdown",
   "metadata": {},
   "source": [
    "As can be seen, there is a difference between the total median sales values: if we take into account the median sales value, then the 'Action' genre of games is only in 7th place in popularity, although it took the first place in terms of total sales. The reason may simply be a large number of games in this genre.\n",
    "    \n",
    "If we look at the median figures, the following genres are the most popular in terms of median sales: Shooter (on average 430 million copies of games sold), Sports (240 million copies) and Platform (210 million copies). The most unpopular are Puzzle (a total of 45 million copies sold on average) and Adventure (an average of 30 million copies of games sold)."
   ]
  },
  {
   "cell_type": "markdown",
   "metadata": {},
   "source": [
    "All in all, the conducted exploratory data analysis allowed to draw several conclusions:\n",
    "1. Although the data in the provided table has been collected since the 1980s, the main activity in the production of games began in 1995;\n",
    "2. Between 1995 and 2016, the following platforms turned out to be the most successful in selling games:\n",
    "- PS2;\n",
    "- X360;\n",
    "- PS3;\n",
    "- WII;\n",
    "- DS.\n",
    "3. The average lifespan and activity of the platform is 10 years. The top platforms began their activity around 2005 and peaked in sales for them around 2013;\n",
    "4. Based on the goal of the entire analysis, which is forecasting for 2017, the relevant period for subsequent analysis was designated by the framework of 2012-2016;\n",
    "5. For the period 2012-2016, 3 most successful platforms were identified that provide sales potential for the next 10 years. Among them:\n",
    "- PS4\n",
    "- 3DS\n",
    "- XOne\n",
    "7. As far as the impact of ratings on the number of copies of games sold, critic scores do have a small positive impact. At the same time, user scores have nothing to do with the sales success of a particular game;\n",
    "8. The most \"successful\" genres in terms of median copies sold are Shooter, Sports and Platform.\n",
    "</div>"
   ]
  },
  {
   "cell_type": "markdown",
   "metadata": {},
   "source": [
    "## User portrait of each region"
   ]
  },
  {
   "cell_type": "markdown",
   "metadata": {},
   "source": [
    "**Analysis of the most popular platforms (top-5) for a user of each region (NA, EU, JP).**"
   ]
  },
  {
   "cell_type": "markdown",
   "metadata": {},
   "source": [
    "**North America:**"
   ]
  },
  {
   "cell_type": "code",
   "execution_count": 108,
   "metadata": {},
   "outputs": [
    {
     "data": {
      "text/html": [
       "<div>\n",
       "<style scoped>\n",
       "    .dataframe tbody tr th:only-of-type {\n",
       "        vertical-align: middle;\n",
       "    }\n",
       "\n",
       "    .dataframe tbody tr th {\n",
       "        vertical-align: top;\n",
       "    }\n",
       "\n",
       "    .dataframe thead th {\n",
       "        text-align: right;\n",
       "    }\n",
       "</style>\n",
       "<table border=\"1\" class=\"dataframe\">\n",
       "  <thead>\n",
       "    <tr style=\"text-align: right;\">\n",
       "      <th></th>\n",
       "      <th>na_sales</th>\n",
       "    </tr>\n",
       "    <tr>\n",
       "      <th>platform</th>\n",
       "      <th></th>\n",
       "    </tr>\n",
       "  </thead>\n",
       "  <tbody>\n",
       "    <tr>\n",
       "      <th>X360</th>\n",
       "      <td>140.57</td>\n",
       "    </tr>\n",
       "    <tr>\n",
       "      <th>PS4</th>\n",
       "      <td>108.74</td>\n",
       "    </tr>\n",
       "    <tr>\n",
       "      <th>PS3</th>\n",
       "      <td>103.74</td>\n",
       "    </tr>\n",
       "    <tr>\n",
       "      <th>XOne</th>\n",
       "      <td>93.12</td>\n",
       "    </tr>\n",
       "    <tr>\n",
       "      <th>3DS</th>\n",
       "      <td>55.49</td>\n",
       "    </tr>\n",
       "  </tbody>\n",
       "</table>\n",
       "</div>"
      ],
      "text/plain": [
       "          na_sales\n",
       "platform          \n",
       "X360        140.57\n",
       "PS4         108.74\n",
       "PS3         103.74\n",
       "XOne         93.12\n",
       "3DS          55.49"
      ]
     },
     "execution_count": 108,
     "metadata": {},
     "output_type": "execute_result"
    }
   ],
   "source": [
    "na_platforms = data_2012.pivot_table(index = 'platform', values = 'na_sales', aggfunc = 'sum')\n",
    "na_platforms = na_platforms.sort_values(by = 'na_sales', ascending = False)[:5]\n",
    "na_platforms"
   ]
  },
  {
   "cell_type": "code",
   "execution_count": 111,
   "metadata": {},
   "outputs": [
    {
     "data": {
      "text/plain": [
       "<AxesSubplot:xlabel='platform', ylabel='na_sales'>"
      ]
     },
     "execution_count": 111,
     "metadata": {},
     "output_type": "execute_result"
    },
    {
     "data": {
      "image/png": "[encoded data removed]",
      "text/plain": [
       "<Figure size 432x288 with 1 Axes>"
      ]
     },
     "metadata": {
      "needs_background": "light"
     },
     "output_type": "display_data"
    }
   ],
   "source": [
    "sns.barplot(data=na_platforms, x=na_platforms.index, \n",
    "            y=na_platforms['na_sales'])"
   ]
  },
  {
   "cell_type": "markdown",
   "metadata": {},
   "source": [
    "As can be seen, the following platforms are the most popular for the North America region: X360, PS4, PS3, XOne, 3DS. To accurately draw conclusions about the difference in their shares, let's add a new variable by calculating the ratio of sales for these platforms in North America to the total number of sales in North America:"
   ]
  },
  {
   "cell_type": "code",
   "execution_count": 112,
   "metadata": {},
   "outputs": [
    {
     "data": {
      "text/html": [
       "<div>\n",
       "<style scoped>\n",
       "    .dataframe tbody tr th:only-of-type {\n",
       "        vertical-align: middle;\n",
       "    }\n",
       "\n",
       "    .dataframe tbody tr th {\n",
       "        vertical-align: top;\n",
       "    }\n",
       "\n",
       "    .dataframe thead th {\n",
       "        text-align: right;\n",
       "    }\n",
       "</style>\n",
       "<table border=\"1\" class=\"dataframe\">\n",
       "  <thead>\n",
       "    <tr style=\"text-align: right;\">\n",
       "      <th></th>\n",
       "      <th>na_sales</th>\n",
       "      <th>sales_share</th>\n",
       "    </tr>\n",
       "    <tr>\n",
       "      <th>platform</th>\n",
       "      <th></th>\n",
       "      <th></th>\n",
       "    </tr>\n",
       "  </thead>\n",
       "  <tbody>\n",
       "    <tr>\n",
       "      <th>X360</th>\n",
       "      <td>140.57</td>\n",
       "      <td>0.280210</td>\n",
       "    </tr>\n",
       "    <tr>\n",
       "      <th>PS4</th>\n",
       "      <td>108.74</td>\n",
       "      <td>0.216760</td>\n",
       "    </tr>\n",
       "    <tr>\n",
       "      <th>PS3</th>\n",
       "      <td>103.74</td>\n",
       "      <td>0.206793</td>\n",
       "    </tr>\n",
       "    <tr>\n",
       "      <th>XOne</th>\n",
       "      <td>93.12</td>\n",
       "      <td>0.185624</td>\n",
       "    </tr>\n",
       "    <tr>\n",
       "      <th>3DS</th>\n",
       "      <td>55.49</td>\n",
       "      <td>0.110613</td>\n",
       "    </tr>\n",
       "  </tbody>\n",
       "</table>\n",
       "</div>"
      ],
      "text/plain": [
       "          na_sales  sales_share\n",
       "platform                       \n",
       "X360        140.57     0.280210\n",
       "PS4         108.74     0.216760\n",
       "PS3         103.74     0.206793\n",
       "XOne         93.12     0.185624\n",
       "3DS          55.49     0.110613"
      ]
     },
     "execution_count": 112,
     "metadata": {},
     "output_type": "execute_result"
    }
   ],
   "source": [
    "na_platforms['sales_share'] = na_platforms['na_sales'] / na_platforms['na_sales'].sum()\n",
    "na_platforms"
   ]
  },
  {
   "cell_type": "code",
   "execution_count": 72,
   "metadata": {},
   "outputs": [
    {
     "data": {
      "text/plain": [
       "<matplotlib.axes._subplots.AxesSubplot at 0x7fc47da5f650>"
      ]
     },
     "execution_count": 72,
     "metadata": {},
     "output_type": "execute_result"
    },
    {
     "data": {
      "image/png": "[encoded data removed]",
      "text/plain": [
       "<Figure size 432x288 with 1 Axes>"
      ]
     },
     "metadata": {
      "needs_background": "light"
     },
     "output_type": "display_data"
    }
   ],
   "source": [
    "sns.barplot(data=na_platforms, x=na_platforms.index, y=na_platforms['sales_share'])"
   ]
  },
  {
   "cell_type": "markdown",
   "metadata": {},
   "source": [
    "In terms of share, the X360 platform has the largest share of the games market in North America, with 28% of the games sold by the platform. The second place in sales of games is shared by PS4 and PS3: approximately 20% of copies of all games are sold on each of these platforms. The fourth and fifth places are occupied by XOne and 3DS: 18% and 11%, respectively."
   ]
  },
  {
   "cell_type": "markdown",
   "metadata": {},
   "source": [
    "**European Union:**"
   ]
  },
  {
   "cell_type": "code",
   "execution_count": 113,
   "metadata": {},
   "outputs": [
    {
     "data": {
      "text/html": [
       "<div>\n",
       "<style scoped>\n",
       "    .dataframe tbody tr th:only-of-type {\n",
       "        vertical-align: middle;\n",
       "    }\n",
       "\n",
       "    .dataframe tbody tr th {\n",
       "        vertical-align: top;\n",
       "    }\n",
       "\n",
       "    .dataframe thead th {\n",
       "        text-align: right;\n",
       "    }\n",
       "</style>\n",
       "<table border=\"1\" class=\"dataframe\">\n",
       "  <thead>\n",
       "    <tr style=\"text-align: right;\">\n",
       "      <th></th>\n",
       "      <th>eu_sales</th>\n",
       "    </tr>\n",
       "    <tr>\n",
       "      <th>platform</th>\n",
       "      <th></th>\n",
       "    </tr>\n",
       "  </thead>\n",
       "  <tbody>\n",
       "    <tr>\n",
       "      <th>PS4</th>\n",
       "      <td>141.09</td>\n",
       "    </tr>\n",
       "    <tr>\n",
       "      <th>PS3</th>\n",
       "      <td>107.27</td>\n",
       "    </tr>\n",
       "    <tr>\n",
       "      <th>X360</th>\n",
       "      <td>74.89</td>\n",
       "    </tr>\n",
       "    <tr>\n",
       "      <th>XOne</th>\n",
       "      <td>51.59</td>\n",
       "    </tr>\n",
       "    <tr>\n",
       "      <th>3DS</th>\n",
       "      <td>42.83</td>\n",
       "    </tr>\n",
       "  </tbody>\n",
       "</table>\n",
       "</div>"
      ],
      "text/plain": [
       "          eu_sales\n",
       "platform          \n",
       "PS4         141.09\n",
       "PS3         107.27\n",
       "X360         74.89\n",
       "XOne         51.59\n",
       "3DS          42.83"
      ]
     },
     "execution_count": 113,
     "metadata": {},
     "output_type": "execute_result"
    }
   ],
   "source": [
    "eu_platforms = data_2012.pivot_table(index = 'platform', values = 'eu_sales', aggfunc = 'sum')\n",
    "eu_platforms = eu_platforms.sort_values(by = 'eu_sales', ascending = False)[:5]\n",
    "eu_platforms"
   ]
  },
  {
   "cell_type": "code",
   "execution_count": 114,
   "metadata": {},
   "outputs": [
    {
     "data": {
      "text/plain": [
       "<AxesSubplot:xlabel='platform', ylabel='eu_sales'>"
      ]
     },
     "execution_count": 114,
     "metadata": {},
     "output_type": "execute_result"
    },
    {
     "data": {
      "image/png": "[encoded data removed]",
      "text/plain": [
       "<Figure size 432x288 with 1 Axes>"
      ]
     },
     "metadata": {
      "needs_background": "light"
     },
     "output_type": "display_data"
    }
   ],
   "source": [
    "sns.barplot(data=eu_platforms, x=eu_platforms.index, y=eu_platforms['eu_sales'])"
   ]
  },
  {
   "cell_type": "markdown",
   "metadata": {},
   "source": [
    "As for the EU, the same platforms are in the lead as in North America, but they occupy different places. For greater clarity, let's calculate the shares:"
   ]
  },
  {
   "cell_type": "code",
   "execution_count": 115,
   "metadata": {},
   "outputs": [
    {
     "data": {
      "text/html": [
       "<div>\n",
       "<style scoped>\n",
       "    .dataframe tbody tr th:only-of-type {\n",
       "        vertical-align: middle;\n",
       "    }\n",
       "\n",
       "    .dataframe tbody tr th {\n",
       "        vertical-align: top;\n",
       "    }\n",
       "\n",
       "    .dataframe thead th {\n",
       "        text-align: right;\n",
       "    }\n",
       "</style>\n",
       "<table border=\"1\" class=\"dataframe\">\n",
       "  <thead>\n",
       "    <tr style=\"text-align: right;\">\n",
       "      <th></th>\n",
       "      <th>eu_sales</th>\n",
       "      <th>sales_share</th>\n",
       "    </tr>\n",
       "    <tr>\n",
       "      <th>platform</th>\n",
       "      <th></th>\n",
       "      <th></th>\n",
       "    </tr>\n",
       "  </thead>\n",
       "  <tbody>\n",
       "    <tr>\n",
       "      <th>PS4</th>\n",
       "      <td>141.09</td>\n",
       "      <td>0.337803</td>\n",
       "    </tr>\n",
       "    <tr>\n",
       "      <th>PS3</th>\n",
       "      <td>107.27</td>\n",
       "      <td>0.256830</td>\n",
       "    </tr>\n",
       "    <tr>\n",
       "      <th>X360</th>\n",
       "      <td>74.89</td>\n",
       "      <td>0.179304</td>\n",
       "    </tr>\n",
       "    <tr>\n",
       "      <th>XOne</th>\n",
       "      <td>51.59</td>\n",
       "      <td>0.123519</td>\n",
       "    </tr>\n",
       "    <tr>\n",
       "      <th>3DS</th>\n",
       "      <td>42.83</td>\n",
       "      <td>0.102545</td>\n",
       "    </tr>\n",
       "  </tbody>\n",
       "</table>\n",
       "</div>"
      ],
      "text/plain": [
       "          eu_sales  sales_share\n",
       "platform                       \n",
       "PS4         141.09     0.337803\n",
       "PS3         107.27     0.256830\n",
       "X360         74.89     0.179304\n",
       "XOne         51.59     0.123519\n",
       "3DS          42.83     0.102545"
      ]
     },
     "execution_count": 115,
     "metadata": {},
     "output_type": "execute_result"
    }
   ],
   "source": [
    "eu_platforms['sales_share'] = eu_platforms['eu_sales'] / eu_platforms['eu_sales'].sum()\n",
    "eu_platforms"
   ]
  },
  {
   "cell_type": "code",
   "execution_count": 116,
   "metadata": {},
   "outputs": [
    {
     "data": {
      "text/plain": [
       "<AxesSubplot:xlabel='platform', ylabel='sales_share'>"
      ]
     },
     "execution_count": 116,
     "metadata": {},
     "output_type": "execute_result"
    },
    {
     "data": {
      "image/png": "[encoded data removed]",
      "text/plain": [
       "<Figure size 432x288 with 1 Axes>"
      ]
     },
     "metadata": {
      "needs_background": "light"
     },
     "output_type": "display_data"
    }
   ],
   "source": [
    "sns.barplot(data=eu_platforms, x=eu_platforms.index, y=eu_platforms['sales_share'])"
   ]
  },
  {
   "cell_type": "markdown",
   "metadata": {},
   "source": [
    "So, 33% of the EU game market belongs to the PS4 platform, which leads the list of the region. Second place belongs to PS3, which owns 25% of all games sold in the EU. In third place is the X360 gaming platform with 17% of games sold. 4th and 5th places belong to XOne (12%) and 3DS (10%)."
   ]
  },
  {
   "cell_type": "markdown",
   "metadata": {},
   "source": [
    "**Japan:**"
   ]
  },
  {
   "cell_type": "code",
   "execution_count": 117,
   "metadata": {},
   "outputs": [
    {
     "data": {
      "text/html": [
       "<div>\n",
       "<style scoped>\n",
       "    .dataframe tbody tr th:only-of-type {\n",
       "        vertical-align: middle;\n",
       "    }\n",
       "\n",
       "    .dataframe tbody tr th {\n",
       "        vertical-align: top;\n",
       "    }\n",
       "\n",
       "    .dataframe thead th {\n",
       "        text-align: right;\n",
       "    }\n",
       "</style>\n",
       "<table border=\"1\" class=\"dataframe\">\n",
       "  <thead>\n",
       "    <tr style=\"text-align: right;\">\n",
       "      <th></th>\n",
       "      <th>jp_sales</th>\n",
       "    </tr>\n",
       "    <tr>\n",
       "      <th>platform</th>\n",
       "      <th></th>\n",
       "    </tr>\n",
       "  </thead>\n",
       "  <tbody>\n",
       "    <tr>\n",
       "      <th>3DS</th>\n",
       "      <td>87.79</td>\n",
       "    </tr>\n",
       "    <tr>\n",
       "      <th>PS3</th>\n",
       "      <td>35.29</td>\n",
       "    </tr>\n",
       "    <tr>\n",
       "      <th>PSV</th>\n",
       "      <td>21.04</td>\n",
       "    </tr>\n",
       "    <tr>\n",
       "      <th>PS4</th>\n",
       "      <td>15.96</td>\n",
       "    </tr>\n",
       "    <tr>\n",
       "      <th>WiiU</th>\n",
       "      <td>13.01</td>\n",
       "    </tr>\n",
       "  </tbody>\n",
       "</table>\n",
       "</div>"
      ],
      "text/plain": [
       "          jp_sales\n",
       "platform          \n",
       "3DS          87.79\n",
       "PS3          35.29\n",
       "PSV          21.04\n",
       "PS4          15.96\n",
       "WiiU         13.01"
      ]
     },
     "execution_count": 117,
     "metadata": {},
     "output_type": "execute_result"
    }
   ],
   "source": [
    "jp_platforms = data_2012.pivot_table(index = 'platform', values = 'jp_sales', aggfunc = 'sum')\n",
    "jp_platforms = jp_platforms.sort_values(by = 'jp_sales', ascending = False)[:5]\n",
    "jp_platforms"
   ]
  },
  {
   "cell_type": "code",
   "execution_count": 118,
   "metadata": {},
   "outputs": [
    {
     "data": {
      "text/plain": [
       "<AxesSubplot:xlabel='platform', ylabel='jp_sales'>"
      ]
     },
     "execution_count": 118,
     "metadata": {},
     "output_type": "execute_result"
    },
    {
     "data": {
      "image/png": "[encoded data removed]",
      "text/plain": [
       "<Figure size 432x288 with 1 Axes>"
      ]
     },
     "metadata": {
      "needs_background": "light"
     },
     "output_type": "display_data"
    }
   ],
   "source": [
    "sns.barplot(data=jp_platforms, x=jp_platforms.index, y=jp_platforms['jp_sales'])"
   ]
  },
  {
   "cell_type": "code",
   "execution_count": 119,
   "metadata": {},
   "outputs": [
    {
     "data": {
      "text/html": [
       "<div>\n",
       "<style scoped>\n",
       "    .dataframe tbody tr th:only-of-type {\n",
       "        vertical-align: middle;\n",
       "    }\n",
       "\n",
       "    .dataframe tbody tr th {\n",
       "        vertical-align: top;\n",
       "    }\n",
       "\n",
       "    .dataframe thead th {\n",
       "        text-align: right;\n",
       "    }\n",
       "</style>\n",
       "<table border=\"1\" class=\"dataframe\">\n",
       "  <thead>\n",
       "    <tr style=\"text-align: right;\">\n",
       "      <th></th>\n",
       "      <th>jp_sales</th>\n",
       "      <th>sales_share</th>\n",
       "    </tr>\n",
       "    <tr>\n",
       "      <th>platform</th>\n",
       "      <th></th>\n",
       "      <th></th>\n",
       "    </tr>\n",
       "  </thead>\n",
       "  <tbody>\n",
       "    <tr>\n",
       "      <th>3DS</th>\n",
       "      <td>87.79</td>\n",
       "      <td>0.507193</td>\n",
       "    </tr>\n",
       "    <tr>\n",
       "      <th>PS3</th>\n",
       "      <td>35.29</td>\n",
       "      <td>0.203882</td>\n",
       "    </tr>\n",
       "    <tr>\n",
       "      <th>PSV</th>\n",
       "      <td>21.04</td>\n",
       "      <td>0.121555</td>\n",
       "    </tr>\n",
       "    <tr>\n",
       "      <th>PS4</th>\n",
       "      <td>15.96</td>\n",
       "      <td>0.092206</td>\n",
       "    </tr>\n",
       "    <tr>\n",
       "      <th>WiiU</th>\n",
       "      <td>13.01</td>\n",
       "      <td>0.075163</td>\n",
       "    </tr>\n",
       "  </tbody>\n",
       "</table>\n",
       "</div>"
      ],
      "text/plain": [
       "          jp_sales  sales_share\n",
       "platform                       \n",
       "3DS          87.79     0.507193\n",
       "PS3          35.29     0.203882\n",
       "PSV          21.04     0.121555\n",
       "PS4          15.96     0.092206\n",
       "WiiU         13.01     0.075163"
      ]
     },
     "execution_count": 119,
     "metadata": {},
     "output_type": "execute_result"
    }
   ],
   "source": [
    "jp_platforms['sales_share'] = jp_platforms['jp_sales'] / jp_platforms['jp_sales'].sum()\n",
    "jp_platforms"
   ]
  },
  {
   "cell_type": "code",
   "execution_count": 120,
   "metadata": {},
   "outputs": [
    {
     "data": {
      "text/plain": [
       "<AxesSubplot:xlabel='platform', ylabel='sales_share'>"
      ]
     },
     "execution_count": 120,
     "metadata": {},
     "output_type": "execute_result"
    },
    {
     "data": {
      "image/png": "[encoded data removed]",
      "text/plain": [
       "<Figure size 432x288 with 1 Axes>"
      ]
     },
     "metadata": {
      "needs_background": "light"
     },
     "output_type": "display_data"
    }
   ],
   "source": [
    "sns.barplot(data=jp_platforms, x=jp_platforms.index, y=jp_platforms['sales_share'])"
   ]
  },
  {
   "cell_type": "markdown",
   "metadata": {},
   "source": [
    "In Japan, the set of the most popular gaming platforms differs slightly from the US and EU. In the first place is the 3DS with 87 million sold copies of games (50% of the market), in second place is the PS3 with 35 million (20% of the market). The third place is taken by the PSV platform, which was not in the top 5 of either the US or the EU. This platform has sold 21 million copies of games in Japan (12% of the market). Fourth place: PS4 with almost 16 million copies of games sold (9% of the market). Closing the top 5 is another platform that differs from the US and the EU - WiiU - with 13 million copies of games (7% of the market)."
   ]
  },
  {
   "cell_type": "markdown",
   "metadata": {},
   "source": [
    "**Most popular genres (top-5)**"
   ]
  },
  {
   "cell_type": "markdown",
   "metadata": {},
   "source": [
    "**North America**"
   ]
  },
  {
   "cell_type": "code",
   "execution_count": 121,
   "metadata": {},
   "outputs": [
    {
     "data": {
      "text/html": [
       "<div>\n",
       "<style scoped>\n",
       "    .dataframe tbody tr th:only-of-type {\n",
       "        vertical-align: middle;\n",
       "    }\n",
       "\n",
       "    .dataframe tbody tr th {\n",
       "        vertical-align: top;\n",
       "    }\n",
       "\n",
       "    .dataframe thead th {\n",
       "        text-align: right;\n",
       "    }\n",
       "</style>\n",
       "<table border=\"1\" class=\"dataframe\">\n",
       "  <thead>\n",
       "    <tr style=\"text-align: right;\">\n",
       "      <th></th>\n",
       "      <th>na_sales</th>\n",
       "    </tr>\n",
       "    <tr>\n",
       "      <th>genre</th>\n",
       "      <th></th>\n",
       "    </tr>\n",
       "  </thead>\n",
       "  <tbody>\n",
       "    <tr>\n",
       "      <th>Action</th>\n",
       "      <td>180.15</td>\n",
       "    </tr>\n",
       "    <tr>\n",
       "      <th>Shooter</th>\n",
       "      <td>144.79</td>\n",
       "    </tr>\n",
       "    <tr>\n",
       "      <th>Sports</th>\n",
       "      <td>81.53</td>\n",
       "    </tr>\n",
       "    <tr>\n",
       "      <th>Role-Playing</th>\n",
       "      <td>64.00</td>\n",
       "    </tr>\n",
       "    <tr>\n",
       "      <th>Misc</th>\n",
       "      <td>38.19</td>\n",
       "    </tr>\n",
       "  </tbody>\n",
       "</table>\n",
       "</div>"
      ],
      "text/plain": [
       "              na_sales\n",
       "genre                 \n",
       "Action          180.15\n",
       "Shooter         144.79\n",
       "Sports           81.53\n",
       "Role-Playing     64.00\n",
       "Misc             38.19"
      ]
     },
     "execution_count": 121,
     "metadata": {},
     "output_type": "execute_result"
    }
   ],
   "source": [
    "na_genres = data_2012.pivot_table(index = 'genre', values = 'na_sales', aggfunc = 'sum')\n",
    "na_genres = na_genres.sort_values(by = 'na_sales', ascending = False)[:5]\n",
    "na_genres"
   ]
  },
  {
   "cell_type": "code",
   "execution_count": 122,
   "metadata": {},
   "outputs": [
    {
     "data": {
      "text/plain": [
       "<AxesSubplot:xlabel='genre', ylabel='na_sales'>"
      ]
     },
     "execution_count": 122,
     "metadata": {},
     "output_type": "execute_result"
    },
    {
     "data": {
      "image/png": "[encoded data removed]",
      "text/plain": [
       "<Figure size 432x288 with 1 Axes>"
      ]
     },
     "metadata": {
      "needs_background": "light"
     },
     "output_type": "display_data"
    }
   ],
   "source": [
    "sns.barplot(data=na_genres, x=na_genres.index, y=na_genres['na_sales'])"
   ]
  },
  {
   "cell_type": "markdown",
   "metadata": {},
   "source": [
    "**European Union**"
   ]
  },
  {
   "cell_type": "code",
   "execution_count": 123,
   "metadata": {},
   "outputs": [
    {
     "data": {
      "text/html": [
       "<div>\n",
       "<style scoped>\n",
       "    .dataframe tbody tr th:only-of-type {\n",
       "        vertical-align: middle;\n",
       "    }\n",
       "\n",
       "    .dataframe tbody tr th {\n",
       "        vertical-align: top;\n",
       "    }\n",
       "\n",
       "    .dataframe thead th {\n",
       "        text-align: right;\n",
       "    }\n",
       "</style>\n",
       "<table border=\"1\" class=\"dataframe\">\n",
       "  <thead>\n",
       "    <tr style=\"text-align: right;\">\n",
       "      <th></th>\n",
       "      <th>eu_sales</th>\n",
       "    </tr>\n",
       "    <tr>\n",
       "      <th>genre</th>\n",
       "      <th></th>\n",
       "    </tr>\n",
       "  </thead>\n",
       "  <tbody>\n",
       "    <tr>\n",
       "      <th>Action</th>\n",
       "      <td>161.70</td>\n",
       "    </tr>\n",
       "    <tr>\n",
       "      <th>Shooter</th>\n",
       "      <td>113.47</td>\n",
       "    </tr>\n",
       "    <tr>\n",
       "      <th>Sports</th>\n",
       "      <td>69.09</td>\n",
       "    </tr>\n",
       "    <tr>\n",
       "      <th>Role-Playing</th>\n",
       "      <td>48.53</td>\n",
       "    </tr>\n",
       "    <tr>\n",
       "      <th>Racing</th>\n",
       "      <td>27.29</td>\n",
       "    </tr>\n",
       "  </tbody>\n",
       "</table>\n",
       "</div>"
      ],
      "text/plain": [
       "              eu_sales\n",
       "genre                 \n",
       "Action          161.70\n",
       "Shooter         113.47\n",
       "Sports           69.09\n",
       "Role-Playing     48.53\n",
       "Racing           27.29"
      ]
     },
     "execution_count": 123,
     "metadata": {},
     "output_type": "execute_result"
    }
   ],
   "source": [
    "eu_genres = data_2012.pivot_table(index = 'genre', values = 'eu_sales', aggfunc = 'sum')\n",
    "eu_genres = eu_genres.sort_values(by = 'eu_sales', ascending = False)[:5]\n",
    "eu_genres"
   ]
  },
  {
   "cell_type": "code",
   "execution_count": 124,
   "metadata": {},
   "outputs": [
    {
     "data": {
      "text/plain": [
       "<AxesSubplot:xlabel='genre', ylabel='eu_sales'>"
      ]
     },
     "execution_count": 124,
     "metadata": {},
     "output_type": "execute_result"
    },
    {
     "data": {
      "image/png": "[encoded data removed]",
      "text/plain": [
       "<Figure size 432x288 with 1 Axes>"
      ]
     },
     "metadata": {
      "needs_background": "light"
     },
     "output_type": "display_data"
    }
   ],
   "source": [
    "sns.barplot(data=eu_genres, x=eu_genres.index, y=eu_genres['eu_sales'])"
   ]
  },
  {
   "cell_type": "markdown",
   "metadata": {},
   "source": [
    "**Japan**"
   ]
  },
  {
   "cell_type": "code",
   "execution_count": 125,
   "metadata": {},
   "outputs": [
    {
     "data": {
      "text/html": [
       "<div>\n",
       "<style scoped>\n",
       "    .dataframe tbody tr th:only-of-type {\n",
       "        vertical-align: middle;\n",
       "    }\n",
       "\n",
       "    .dataframe tbody tr th {\n",
       "        vertical-align: top;\n",
       "    }\n",
       "\n",
       "    .dataframe thead th {\n",
       "        text-align: right;\n",
       "    }\n",
       "</style>\n",
       "<table border=\"1\" class=\"dataframe\">\n",
       "  <thead>\n",
       "    <tr style=\"text-align: right;\">\n",
       "      <th></th>\n",
       "      <th>jp_sales</th>\n",
       "    </tr>\n",
       "    <tr>\n",
       "      <th>genre</th>\n",
       "      <th></th>\n",
       "    </tr>\n",
       "  </thead>\n",
       "  <tbody>\n",
       "    <tr>\n",
       "      <th>Role-Playing</th>\n",
       "      <td>65.44</td>\n",
       "    </tr>\n",
       "    <tr>\n",
       "      <th>Action</th>\n",
       "      <td>52.80</td>\n",
       "    </tr>\n",
       "    <tr>\n",
       "      <th>Misc</th>\n",
       "      <td>13.10</td>\n",
       "    </tr>\n",
       "    <tr>\n",
       "      <th>Simulation</th>\n",
       "      <td>10.41</td>\n",
       "    </tr>\n",
       "    <tr>\n",
       "      <th>Fighting</th>\n",
       "      <td>9.44</td>\n",
       "    </tr>\n",
       "  </tbody>\n",
       "</table>\n",
       "</div>"
      ],
      "text/plain": [
       "              jp_sales\n",
       "genre                 \n",
       "Role-Playing     65.44\n",
       "Action           52.80\n",
       "Misc             13.10\n",
       "Simulation       10.41\n",
       "Fighting          9.44"
      ]
     },
     "execution_count": 125,
     "metadata": {},
     "output_type": "execute_result"
    }
   ],
   "source": [
    "jp_genres = data_2012.pivot_table(index = 'genre', values = 'jp_sales', aggfunc = 'sum')\n",
    "jp_genres = jp_genres.sort_values(by = 'jp_sales', ascending = False)[:5]\n",
    "jp_genres"
   ]
  },
  {
   "cell_type": "code",
   "execution_count": 126,
   "metadata": {},
   "outputs": [
    {
     "data": {
      "text/plain": [
       "<AxesSubplot:xlabel='genre', ylabel='jp_sales'>"
      ]
     },
     "execution_count": 126,
     "metadata": {},
     "output_type": "execute_result"
    },
    {
     "data": {
      "image/png": "[encoded data removed]",
      "text/plain": [
       "<Figure size 432x288 with 1 Axes>"
      ]
     },
     "metadata": {
      "needs_background": "light"
     },
     "output_type": "display_data"
    }
   ],
   "source": [
    "sns.barplot(data=jp_genres, x=jp_genres.index, y=jp_genres['jp_sales'])"
   ]
  },
  {
   "cell_type": "markdown",
   "metadata": {},
   "source": [
    "As can be seen from the tables and graphs above, the US and EU have nearly the same top 5 genres. In both regions, the four first places are occupied by the following genres: Action, Shooter, Sports and Role-Playing. Only the fifth place of the rating differs: in the USA the games of the Misc genre are in the fifth place in terms of the number of sales, and in the EU - Racing. In Japan, the most popular game genres differ significantly from the US and EU in terms of sales. The top-5 genres for Japan include the following genres in the following order: Role-Playing, Action, Misc, Simulation, and Fighting."
   ]
  },
  {
   "cell_type": "markdown",
   "metadata": {},
   "source": [
    "**Does the ESRB rating affect sales in a particular region?**"
   ]
  },
  {
   "cell_type": "markdown",
   "metadata": {},
   "source": [
    "**North America**"
   ]
  },
  {
   "cell_type": "code",
   "execution_count": 127,
   "metadata": {},
   "outputs": [
    {
     "data": {
      "text/html": [
       "<div>\n",
       "<style scoped>\n",
       "    .dataframe tbody tr th:only-of-type {\n",
       "        vertical-align: middle;\n",
       "    }\n",
       "\n",
       "    .dataframe tbody tr th {\n",
       "        vertical-align: top;\n",
       "    }\n",
       "\n",
       "    .dataframe thead th {\n",
       "        text-align: right;\n",
       "    }\n",
       "</style>\n",
       "<table border=\"1\" class=\"dataframe\">\n",
       "  <thead>\n",
       "    <tr style=\"text-align: right;\">\n",
       "      <th></th>\n",
       "      <th>na_sales</th>\n",
       "    </tr>\n",
       "    <tr>\n",
       "      <th>rating</th>\n",
       "      <th></th>\n",
       "    </tr>\n",
       "  </thead>\n",
       "  <tbody>\n",
       "    <tr>\n",
       "      <th>M</th>\n",
       "      <td>231.67</td>\n",
       "    </tr>\n",
       "    <tr>\n",
       "      <th>E</th>\n",
       "      <td>114.37</td>\n",
       "    </tr>\n",
       "    <tr>\n",
       "      <th>Nan</th>\n",
       "      <td>103.31</td>\n",
       "    </tr>\n",
       "    <tr>\n",
       "      <th>E10+</th>\n",
       "      <td>77.93</td>\n",
       "    </tr>\n",
       "    <tr>\n",
       "      <th>T</th>\n",
       "      <td>66.02</td>\n",
       "    </tr>\n",
       "  </tbody>\n",
       "</table>\n",
       "</div>"
      ],
      "text/plain": [
       "        na_sales\n",
       "rating          \n",
       "M         231.67\n",
       "E         114.37\n",
       "Nan       103.31\n",
       "E10+       77.93\n",
       "T          66.02"
      ]
     },
     "execution_count": 127,
     "metadata": {},
     "output_type": "execute_result"
    }
   ],
   "source": [
    "na_rating = data_2012.pivot_table(index = 'rating', values = 'na_sales', aggfunc = 'sum')\n",
    "na_rating = na_rating.sort_values(by = 'na_sales', ascending = False)\n",
    "na_rating"
   ]
  },
  {
   "cell_type": "code",
   "execution_count": 128,
   "metadata": {},
   "outputs": [
    {
     "data": {
      "text/plain": [
       "<AxesSubplot:xlabel='rating', ylabel='na_sales'>"
      ]
     },
     "execution_count": 128,
     "metadata": {},
     "output_type": "execute_result"
    },
    {
     "data": {
      "image/png": "[encoded data removed]",
      "text/plain": [
       "<Figure size 432x288 with 1 Axes>"
      ]
     },
     "metadata": {
      "needs_background": "light"
     },
     "output_type": "display_data"
    }
   ],
   "source": [
    "sns.barplot(data=na_rating, x=na_rating.index, y=na_rating['na_sales'])"
   ]
  },
  {
   "cell_type": "markdown",
   "metadata": {},
   "source": [
    "As far as the ESRB rating is concerned, its relationship to game sales in the United States is as follows: the top-selling games have an 'M' status, which means games for adults over 17 years old. Between 2012 and 2016, 2.3 billion of these games were sold in the United States. Second in the ranking are games for all revenues: 1.14 billion US sales. Rounding out the top three are the games for which the rating is not determined: in total, 1 billion such games were sold in the United States during the period 2012-2016."
   ]
  },
  {
   "cell_type": "markdown",
   "metadata": {},
   "source": [
    "**European Union**"
   ]
  },
  {
   "cell_type": "code",
   "execution_count": 129,
   "metadata": {},
   "outputs": [
    {
     "data": {
      "text/html": [
       "<div>\n",
       "<style scoped>\n",
       "    .dataframe tbody tr th:only-of-type {\n",
       "        vertical-align: middle;\n",
       "    }\n",
       "\n",
       "    .dataframe tbody tr th {\n",
       "        vertical-align: top;\n",
       "    }\n",
       "\n",
       "    .dataframe thead th {\n",
       "        text-align: right;\n",
       "    }\n",
       "</style>\n",
       "<table border=\"1\" class=\"dataframe\">\n",
       "  <thead>\n",
       "    <tr style=\"text-align: right;\">\n",
       "      <th></th>\n",
       "      <th>eu_sales</th>\n",
       "    </tr>\n",
       "    <tr>\n",
       "      <th>rating</th>\n",
       "      <th></th>\n",
       "    </tr>\n",
       "  </thead>\n",
       "  <tbody>\n",
       "    <tr>\n",
       "      <th>M</th>\n",
       "      <td>194.44</td>\n",
       "    </tr>\n",
       "    <tr>\n",
       "      <th>E</th>\n",
       "      <td>113.03</td>\n",
       "    </tr>\n",
       "    <tr>\n",
       "      <th>Nan</th>\n",
       "      <td>91.50</td>\n",
       "    </tr>\n",
       "    <tr>\n",
       "      <th>E10+</th>\n",
       "      <td>57.25</td>\n",
       "    </tr>\n",
       "    <tr>\n",
       "      <th>T</th>\n",
       "      <td>52.96</td>\n",
       "    </tr>\n",
       "  </tbody>\n",
       "</table>\n",
       "</div>"
      ],
      "text/plain": [
       "        eu_sales\n",
       "rating          \n",
       "M         194.44\n",
       "E         113.03\n",
       "Nan        91.50\n",
       "E10+       57.25\n",
       "T          52.96"
      ]
     },
     "execution_count": 129,
     "metadata": {},
     "output_type": "execute_result"
    }
   ],
   "source": [
    "eu_rating = data_2012.pivot_table(index = 'rating', values = 'eu_sales', aggfunc = 'sum')\n",
    "eu_rating = eu_rating.sort_values(by = 'eu_sales', ascending = False)\n",
    "eu_rating"
   ]
  },
  {
   "cell_type": "code",
   "execution_count": 130,
   "metadata": {},
   "outputs": [
    {
     "data": {
      "text/plain": [
       "<AxesSubplot:xlabel='rating', ylabel='eu_sales'>"
      ]
     },
     "execution_count": 130,
     "metadata": {},
     "output_type": "execute_result"
    },
    {
     "data": {
      "image/png": "[encoded data removed]",
      "text/plain": [
       "<Figure size 432x288 with 1 Axes>"
      ]
     },
     "metadata": {
      "needs_background": "light"
     },
     "output_type": "display_data"
    }
   ],
   "source": [
    "sns.barplot(data=eu_rating, x=eu_rating.index, y=eu_rating['eu_sales'])"
   ]
  },
  {
   "cell_type": "markdown",
   "metadata": {},
   "source": [
    "In the EU, the situation with the ratings of the best-selling games is exactly the same as in the USA. Let's see which games are the best selling in Japan:"
   ]
  },
  {
   "cell_type": "markdown",
   "metadata": {},
   "source": [
    "**Japan**"
   ]
  },
  {
   "cell_type": "code",
   "execution_count": 131,
   "metadata": {},
   "outputs": [
    {
     "data": {
      "text/html": [
       "<div>\n",
       "<style scoped>\n",
       "    .dataframe tbody tr th:only-of-type {\n",
       "        vertical-align: middle;\n",
       "    }\n",
       "\n",
       "    .dataframe tbody tr th {\n",
       "        vertical-align: top;\n",
       "    }\n",
       "\n",
       "    .dataframe thead th {\n",
       "        text-align: right;\n",
       "    }\n",
       "</style>\n",
       "<table border=\"1\" class=\"dataframe\">\n",
       "  <thead>\n",
       "    <tr style=\"text-align: right;\">\n",
       "      <th></th>\n",
       "      <th>jp_sales</th>\n",
       "    </tr>\n",
       "    <tr>\n",
       "      <th>rating</th>\n",
       "      <th></th>\n",
       "    </tr>\n",
       "  </thead>\n",
       "  <tbody>\n",
       "    <tr>\n",
       "      <th>Nan</th>\n",
       "      <td>109.08</td>\n",
       "    </tr>\n",
       "    <tr>\n",
       "      <th>E</th>\n",
       "      <td>28.33</td>\n",
       "    </tr>\n",
       "    <tr>\n",
       "      <th>T</th>\n",
       "      <td>26.02</td>\n",
       "    </tr>\n",
       "    <tr>\n",
       "      <th>M</th>\n",
       "      <td>21.20</td>\n",
       "    </tr>\n",
       "    <tr>\n",
       "      <th>E10+</th>\n",
       "      <td>8.19</td>\n",
       "    </tr>\n",
       "  </tbody>\n",
       "</table>\n",
       "</div>"
      ],
      "text/plain": [
       "        jp_sales\n",
       "rating          \n",
       "Nan       109.08\n",
       "E          28.33\n",
       "T          26.02\n",
       "M          21.20\n",
       "E10+        8.19"
      ]
     },
     "execution_count": 131,
     "metadata": {},
     "output_type": "execute_result"
    }
   ],
   "source": [
    "jp_rating = data_2012.pivot_table(index = 'rating', values = 'jp_sales', aggfunc = 'sum')\n",
    "jp_rating = jp_rating.sort_values(by = 'jp_sales', ascending = False)\n",
    "jp_rating"
   ]
  },
  {
   "cell_type": "code",
   "execution_count": 132,
   "metadata": {},
   "outputs": [
    {
     "data": {
      "text/plain": [
       "<AxesSubplot:xlabel='rating', ylabel='jp_sales'>"
      ]
     },
     "execution_count": 132,
     "metadata": {},
     "output_type": "execute_result"
    },
    {
     "data": {
      "image/png": "[encoded data removed]",
      "text/plain": [
       "<Figure size 432x288 with 1 Axes>"
      ]
     },
     "metadata": {
      "needs_background": "light"
     },
     "output_type": "display_data"
    }
   ],
   "source": [
    "sns.barplot(data=jp_rating, x=jp_rating.index, y=jp_rating['jp_sales'])"
   ]
  },
  {
   "cell_type": "markdown",
   "metadata": {},
   "source": [
    "In Japan, things are a little different than in the US and the EU. The best-selling games are undefined games, with over 10 billion such games sold between 2012 and 2016. The second most popular games for everyone - 2.8 billion games with this rating. Games for teens are in third place - 2.6 billion."
   ]
  },
  {
   "cell_type": "markdown",
   "metadata": {},
   "source": [
    "Summing up, the analysis made it possible to compose a user portrait of each of the regions:\n",
    "1. **In the US**, the X360 platform has the largest share of the games market (28% of the games sold belong to this platform). The second place in sales of games is shared by PS4 and PS3: approximately 20% of copies of all games are sold on each of these platforms. The most favorite genres of games among US residents are Action, Shooter, Sports. If we talk about the ratings of games, then in this region, games for adults are most often bought, as well as games for all ages.\n",
    "2. **In the EU**, the most popular gaming platforms are as follows: 33% of the EU games market belongs to the PS4 platform, which leads the region's list. Second place belongs to PS3, which owns 25% of all games sold in the EU. In third place is the X360 gaming platform with 17% of games sold. As for the genre of the best-selling games in the EU, they do not differ from the USA. The three most popular are Action, Shooter and Sports. The same goes for game ratings. Their popularity in terms of sales of games does not differ from that of the United States: the most popular ratings are games for adults and games for all ages.\n",
    "3. **Japan** significantly differs from the US and the EU in all of the analyzed indicators. So, in terms of gaming platforms, in the first place is 3DS with 87 million sold copies of games (50% of the market), in second place is PS3 with 35 million (20% of the market). The third place is taken by the PSV platform, which was not in the top 5 of either the US or the EU. The top 5 genres for Japan include the following genres in the following order: Role-Playing, Action, Misc, Simulation, and Fighting. In terms of ratings, the top-selling games in Japan have no rating. In second place are games for all ages, and in third place are teenage games."
   ]
  },
  {
   "cell_type": "markdown",
   "metadata": {},
   "source": [
    "## Hypotheses testing"
   ]
  },
  {
   "cell_type": "markdown",
   "metadata": {},
   "source": [
    "**Average user ratings for Xbox One and PC platforms are the same**"
   ]
  },
  {
   "cell_type": "markdown",
   "metadata": {},
   "source": [
    "To begin with, let's formulate a null and an alternative hypothesis:\n",
    "\n",
    "**H0:** Average user ratings for Xbox One and PC platforms are the same\n",
    "\n",
    "**H1:** Average user ratings vary between Xbox One and PC platforms\n",
    "\n",
    "Since the hypotheses formulated relate to the means of two samples, a two-tailed t-test is applicable. Let's take the threshold value of 0.05 as the significance level."
   ]
  },
  {
   "cell_type": "markdown",
   "metadata": {},
   "source": [
    "As first step, there is need to change the type of the variable for further analysis, and also remove the missing values in the 'user_score' variable."
   ]
  },
  {
   "cell_type": "code",
   "execution_count": 133,
   "metadata": {},
   "outputs": [],
   "source": [
    "data_2012['user_score'] = data_2012['user_score'].astype(float)"
   ]
  },
  {
   "cell_type": "code",
   "execution_count": 134,
   "metadata": {},
   "outputs": [
    {
     "name": "stdout",
     "output_type": "stream",
     "text": [
      "0\n"
     ]
    }
   ],
   "source": [
    "data_2012.dropna(subset = ['user_score'], inplace = True)\n",
    "print(len(data_2012[data_2012['user_score'].isna()]))"
   ]
  },
  {
   "cell_type": "code",
   "execution_count": 136,
   "metadata": {},
   "outputs": [],
   "source": [
    "xbox = data_2012.query('platform == \"XOne\"')['user_score']\n",
    "pc = data_2012.query('platform == \"PC\"')['user_score']"
   ]
  },
  {
   "cell_type": "markdown",
   "metadata": {},
   "source": [
    "Let's check if there are missing values that can mess up the calculations:"
   ]
  },
  {
   "cell_type": "code",
   "execution_count": 137,
   "metadata": {},
   "outputs": [
    {
     "data": {
      "text/plain": [
       "0"
      ]
     },
     "execution_count": 137,
     "metadata": {},
     "output_type": "execute_result"
    }
   ],
   "source": [
    "xbox.isna().sum()"
   ]
  },
  {
   "cell_type": "code",
   "execution_count": 138,
   "metadata": {},
   "outputs": [
    {
     "data": {
      "text/plain": [
       "0"
      ]
     },
     "execution_count": 138,
     "metadata": {},
     "output_type": "execute_result"
    }
   ],
   "source": [
    "pc.isna().sum()"
   ]
  },
  {
   "cell_type": "markdown",
   "metadata": {},
   "source": [
    "There are no missing values, so the hypothesis testing can be performed:"
   ]
  },
  {
   "cell_type": "code",
   "execution_count": 139,
   "metadata": {},
   "outputs": [
    {
     "name": "stdout",
     "output_type": "stream",
     "text": [
      "p-value: 0.6206366351489678\n",
      "Cannot reject H0\n"
     ]
    }
   ],
   "source": [
    "alpha = 0.05\n",
    "\n",
    "results = st.ttest_ind(xbox, pc, equal_var = False)\n",
    "\n",
    "print('p-value:', results.pvalue)\n",
    "\n",
    "if (results.pvalue < alpha):\n",
    "    print('Reject H0')\n",
    "else:\n",
    "    print('Cannot reject H0')"
   ]
  },
  {
   "cell_type": "markdown",
   "metadata": {},
   "source": [
    "So, as can be seen, the p-value turns out to be much higher than the given one, so we were unable to reject H0. In this regard, it cannot be said that the user ratings of the Xbox One and PC platforms differ at a statistically significant level. Therefore, they do not differ."
   ]
  },
  {
   "cell_type": "markdown",
   "metadata": {},
   "source": [
    "**The average user ratings for the Action and Sports genres are different.**"
   ]
  },
  {
   "cell_type": "markdown",
   "metadata": {},
   "source": [
    "The formulation of the null and alternative hypotheses:\n",
    "\n",
    "**H0:** Average user ratings for Action and Sports genres do not differ\n",
    "\n",
    "**H1:** Average user ratings for Action and Sports genres differ\n",
    "\n",
    "Since the hypotheses formulated relate to the means of two samples, a two-tailed t-test is applicable. Let's take the threshold value of 0.05 as the significance level."
   ]
  },
  {
   "cell_type": "code",
   "execution_count": 140,
   "metadata": {},
   "outputs": [
    {
     "name": "stdout",
     "output_type": "stream",
     "text": [
      "p-value: 2.337200239591976e-20\n",
      "Reject H0\n"
     ]
    }
   ],
   "source": [
    "action = data_2012.query('genre == \"Action\"')['user_score']\n",
    "sports = data_2012.query('genre == \"Sports\"')['user_score']\n",
    "\n",
    "alpha = 0.05\n",
    "\n",
    "results = st.ttest_ind(action, sports, equal_var = False)\n",
    "\n",
    "print('p-value:', results.pvalue)\n",
    "\n",
    "if (results.pvalue < alpha):\n",
    "    print('Reject H0')\n",
    "else:\n",
    "    print('Cannot reject H0')"
   ]
  },
  {
   "cell_type": "markdown",
   "metadata": {},
   "source": [
    "As can be seen, the p-value takes on a very small value, so we cannot accept H0. We conclude that the user ratings of action games and sports competitions differ statistically significantly."
   ]
  },
  {
   "cell_type": "markdown",
   "metadata": {},
   "source": [
    "## Conclusion"
   ]
  },
  {
   "cell_type": "markdown",
   "metadata": {},
   "source": [
    "In the first two parts of the work, various manipulations were carried out with the obtained data:\n",
    "\n",
    "- missing values have been filled where possible;\n",
    "- some lines with missing values were removed;\n",
    "- column names have been changed to lowercase;\n",
    "- where necessary, the data type has been changed;\n",
    "- the values of the variables with ratings were processed.\n",
    "All this made it possible to prepare the data for subsequent analysis. \n",
    "\n",
    "Exploratory data analysis has shown the following:\n",
    "- The main activity in the production of games began in 1995;\n",
    "- For the period from 1995 to 2016, the following platforms turned out to be the most successful in selling games: PS2, X360, PS3, WII, DS\n",
    "- The average lifespan and activity of the platform is 10 years. - Top platforms began their activity around 2005, and peak sales for them reached around 2013;\n",
    "- Based on the goal of the entire analysis, which is forecasting for 2017, the current period for subsequent analysis was designated by the framework of 2012-2016;\n",
    "- For the period 2012-2016, 5 most successful platforms were identified. Among them, only 3 are serving potential in sales for the next 10 years: PS4, 3DS and XOne;\n",
    "- If we talk about the most successful genres in the last 5 years until 2017, then these are Shooter, Sports and Platform, in which it would be worth investing in 2017. The least attention should be paid to Puzzle and Adventure;\n",
    "- As far as the impact of ratings on the number of copies of games sold, critics' scores do have a small positive impact. At the same time, user scores have nothing to do with the sales success of a particular game.\n",
    "\n",
    "Analysis of the data separately for each of the three regions (USA, EU and Japan) showed the characteristics of each of them in relation to the consumption of games:\n",
    "\n",
    "- **In the US**, the X360 platform has the largest share of the games market (28% of games sold belong to this platform). The second place in sales of games is shared by PS4 and PS3: approximately 20% of copies of all games are sold on each of these platforms. The most favorite genres of games among US residents are Action, Shooter, Sports. If we talk about the ratings of games, then in this region, games for adults are most often bought, as well as games for all ages.\n",
    "- **In the EU**, the most popular gaming platforms are as follows: 33% of the EU game market belongs to the PS4 platform, which leads the region's list. Second place belongs to PS3, which owns 25% of all games sold in the EU. In third place is the X360 gaming platform with 17% of games sold. As for the genre of the best-selling games in the EU, they do not differ from the USA. The three most popular are Action, Shooter and Sports. The same goes for game ratings. Their popularity in terms of sales of games does not differ from that of the United States: the most popular ratings are games for adults and games for all ages.\n",
    "- **Japan** differs significantly from the US and EU in all of the analyzed indicators. So, in terms of gaming platforms, in the first place is 3DS with 87 million sold copies of games (50% of the market), in second place is PS3 with 35 million (20% of the market). The third place is taken by the PSV platform, which was not in the top 5 of either the US or the EU. The top 5 genres for Japan include the following genres in the following order: Role-Playing, Action, Misc, Simulation, and Fighting. In terms of ratings, the top-selling games in Japan have no rating. In second place are games for all ages, and in third place are teenage games.\n",
    "\n",
    "Returning to the main goal of the study - to identify the patterns that determine the success of the game for determining a potentially popular product and planning an advertising campaign for 2017, the following recommendations can be made:\n",
    "1. In the US and EU, the most reliable platform is the PS4. Genres: Action, Shooter and Sports. In terms of age, these regions are the best selling games for adults and universal games for all ages.\n",
    "2. For Japan, it is worth doing a separate campaign, since the sale of games in this region is significantly different from the US and the EU. Here, the most successful gaming platform in recent years is 3DS, which occupies 1/2 of the total games market. The most profitable game genres for Japan are Role-Playing and Action. As for the age rating for Japan, it is worth doing a separate analysis of this issue, since the best-selling games in Japan are classified in an undefined rating."
   ]
  },
  {
   "cell_type": "code",
   "execution_count": null,
   "metadata": {},
   "outputs": [],
   "source": []
  }
 ],
 "metadata": {
  "ExecuteTimeLog": [
   {
    "duration": 4324,
    "start_time": "2021-10-28T12:53:30.193Z"
   },
   {
    "duration": -1156,
    "start_time": "2021-10-28T12:53:35.677Z"
   },
   {
    "duration": -1157,
    "start_time": "2021-10-28T12:53:35.680Z"
   },
   {
    "duration": -1159,
    "start_time": "2021-10-28T12:53:35.682Z"
   },
   {
    "duration": -1159,
    "start_time": "2021-10-28T12:53:35.684Z"
   },
   {
    "duration": -1160,
    "start_time": "2021-10-28T12:53:35.686Z"
   },
   {
    "duration": -1161,
    "start_time": "2021-10-28T12:53:35.688Z"
   },
   {
    "duration": -1162,
    "start_time": "2021-10-28T12:53:35.690Z"
   },
   {
    "duration": -1164,
    "start_time": "2021-10-28T12:53:35.692Z"
   },
   {
    "duration": -1169,
    "start_time": "2021-10-28T12:53:35.698Z"
   },
   {
    "duration": -1170,
    "start_time": "2021-10-28T12:53:35.700Z"
   },
   {
    "duration": -1170,
    "start_time": "2021-10-28T12:53:35.702Z"
   },
   {
    "duration": -1171,
    "start_time": "2021-10-28T12:53:35.704Z"
   },
   {
    "duration": -1172,
    "start_time": "2021-10-28T12:53:35.706Z"
   },
   {
    "duration": -1173,
    "start_time": "2021-10-28T12:53:35.708Z"
   },
   {
    "duration": -1174,
    "start_time": "2021-10-28T12:53:35.710Z"
   },
   {
    "duration": -1175,
    "start_time": "2021-10-28T12:53:35.712Z"
   },
   {
    "duration": -1175,
    "start_time": "2021-10-28T12:53:35.713Z"
   },
   {
    "duration": -1176,
    "start_time": "2021-10-28T12:53:35.715Z"
   },
   {
    "duration": -1177,
    "start_time": "2021-10-28T12:53:35.717Z"
   },
   {
    "duration": -1178,
    "start_time": "2021-10-28T12:53:35.719Z"
   },
   {
    "duration": -1179,
    "start_time": "2021-10-28T12:53:35.721Z"
   },
   {
    "duration": -1182,
    "start_time": "2021-10-28T12:53:35.724Z"
   },
   {
    "duration": -1181,
    "start_time": "2021-10-28T12:53:35.725Z"
   },
   {
    "duration": -1184,
    "start_time": "2021-10-28T12:53:35.728Z"
   },
   {
    "duration": -1186,
    "start_time": "2021-10-28T12:53:35.731Z"
   },
   {
    "duration": -1187,
    "start_time": "2021-10-28T12:53:35.733Z"
   },
   {
    "duration": -1189,
    "start_time": "2021-10-28T12:53:35.736Z"
   },
   {
    "duration": -1191,
    "start_time": "2021-10-28T12:53:35.739Z"
   },
   {
    "duration": -1192,
    "start_time": "2021-10-28T12:53:35.741Z"
   },
   {
    "duration": -1193,
    "start_time": "2021-10-28T12:53:35.743Z"
   },
   {
    "duration": -1194,
    "start_time": "2021-10-28T12:53:35.745Z"
   },
   {
    "duration": -1196,
    "start_time": "2021-10-28T12:53:35.748Z"
   },
   {
    "duration": -1196,
    "start_time": "2021-10-28T12:53:35.749Z"
   },
   {
    "duration": -1198,
    "start_time": "2021-10-28T12:53:35.752Z"
   },
   {
    "duration": -1199,
    "start_time": "2021-10-28T12:53:35.754Z"
   },
   {
    "duration": -1200,
    "start_time": "2021-10-28T12:53:35.756Z"
   },
   {
    "duration": -1203,
    "start_time": "2021-10-28T12:53:35.760Z"
   },
   {
    "duration": -1205,
    "start_time": "2021-10-28T12:53:35.763Z"
   },
   {
    "duration": -1207,
    "start_time": "2021-10-28T12:53:35.765Z"
   },
   {
    "duration": -1208,
    "start_time": "2021-10-28T12:53:35.768Z"
   },
   {
    "duration": -1209,
    "start_time": "2021-10-28T12:53:35.770Z"
   },
   {
    "duration": -1211,
    "start_time": "2021-10-28T12:53:35.772Z"
   },
   {
    "duration": -1213,
    "start_time": "2021-10-28T12:53:35.775Z"
   },
   {
    "duration": -1216,
    "start_time": "2021-10-28T12:53:35.779Z"
   },
   {
    "duration": -1218,
    "start_time": "2021-10-28T12:53:35.782Z"
   },
   {
    "duration": -1220,
    "start_time": "2021-10-28T12:53:35.784Z"
   },
   {
    "duration": -1221,
    "start_time": "2021-10-28T12:53:35.786Z"
   },
   {
    "duration": -1222,
    "start_time": "2021-10-28T12:53:35.788Z"
   },
   {
    "duration": -1224,
    "start_time": "2021-10-28T12:53:35.791Z"
   },
   {
    "duration": -1226,
    "start_time": "2021-10-28T12:53:35.794Z"
   },
   {
    "duration": -1228,
    "start_time": "2021-10-28T12:53:35.797Z"
   },
   {
    "duration": -1231,
    "start_time": "2021-10-28T12:53:35.800Z"
   },
   {
    "duration": -1232,
    "start_time": "2021-10-28T12:53:35.802Z"
   },
   {
    "duration": -1233,
    "start_time": "2021-10-28T12:53:35.804Z"
   },
   {
    "duration": -1234,
    "start_time": "2021-10-28T12:53:35.806Z"
   },
   {
    "duration": -1238,
    "start_time": "2021-10-28T12:53:35.810Z"
   },
   {
    "duration": -1240,
    "start_time": "2021-10-28T12:53:35.813Z"
   },
   {
    "duration": -1242,
    "start_time": "2021-10-28T12:53:35.816Z"
   },
   {
    "duration": -1244,
    "start_time": "2021-10-28T12:53:35.818Z"
   },
   {
    "duration": -1245,
    "start_time": "2021-10-28T12:53:35.821Z"
   },
   {
    "duration": -1247,
    "start_time": "2021-10-28T12:53:35.823Z"
   },
   {
    "duration": -1249,
    "start_time": "2021-10-28T12:53:35.826Z"
   },
   {
    "duration": -1251,
    "start_time": "2021-10-28T12:53:35.829Z"
   },
   {
    "duration": -1253,
    "start_time": "2021-10-28T12:53:35.832Z"
   },
   {
    "duration": -1254,
    "start_time": "2021-10-28T12:53:35.834Z"
   },
   {
    "duration": -1255,
    "start_time": "2021-10-28T12:53:35.836Z"
   },
   {
    "duration": -1257,
    "start_time": "2021-10-28T12:53:35.838Z"
   },
   {
    "duration": -1259,
    "start_time": "2021-10-28T12:53:35.841Z"
   },
   {
    "duration": -1261,
    "start_time": "2021-10-28T12:53:35.844Z"
   },
   {
    "duration": -1263,
    "start_time": "2021-10-28T12:53:35.847Z"
   },
   {
    "duration": -1265,
    "start_time": "2021-10-28T12:53:35.849Z"
   },
   {
    "duration": -1267,
    "start_time": "2021-10-28T12:53:35.852Z"
   },
   {
    "duration": -1268,
    "start_time": "2021-10-28T12:53:35.854Z"
   },
   {
    "duration": -1271,
    "start_time": "2021-10-28T12:53:35.857Z"
   },
   {
    "duration": -1272,
    "start_time": "2021-10-28T12:53:35.859Z"
   },
   {
    "duration": -1217,
    "start_time": "2021-10-28T12:53:35.862Z"
   },
   {
    "duration": -1220,
    "start_time": "2021-10-28T12:53:35.865Z"
   },
   {
    "duration": -1222,
    "start_time": "2021-10-28T12:53:35.868Z"
   },
   {
    "duration": -1223,
    "start_time": "2021-10-28T12:53:35.870Z"
   },
   {
    "duration": -1224,
    "start_time": "2021-10-28T12:53:35.872Z"
   },
   {
    "duration": -1226,
    "start_time": "2021-10-28T12:53:35.875Z"
   },
   {
    "duration": -1229,
    "start_time": "2021-10-28T12:53:35.878Z"
   },
   {
    "duration": -1231,
    "start_time": "2021-10-28T12:53:35.881Z"
   },
   {
    "duration": -1233,
    "start_time": "2021-10-28T12:53:35.884Z"
   },
   {
    "duration": -1234,
    "start_time": "2021-10-28T12:53:35.886Z"
   },
   {
    "duration": -1237,
    "start_time": "2021-10-28T12:53:35.889Z"
   },
   {
    "duration": -1238,
    "start_time": "2021-10-28T12:53:35.891Z"
   },
   {
    "duration": -1240,
    "start_time": "2021-10-28T12:53:35.894Z"
   },
   {
    "duration": -1242,
    "start_time": "2021-10-28T12:53:35.897Z"
   },
   {
    "duration": -1245,
    "start_time": "2021-10-28T12:53:35.900Z"
   },
   {
    "duration": -1246,
    "start_time": "2021-10-28T12:53:35.902Z"
   },
   {
    "duration": -1247,
    "start_time": "2021-10-28T12:53:35.904Z"
   },
   {
    "duration": -1249,
    "start_time": "2021-10-28T12:53:35.907Z"
   },
   {
    "duration": -1252,
    "start_time": "2021-10-28T12:53:35.910Z"
   },
   {
    "duration": -1254,
    "start_time": "2021-10-28T12:53:35.913Z"
   },
   {
    "duration": -1255,
    "start_time": "2021-10-28T12:53:35.915Z"
   },
   {
    "duration": 57,
    "start_time": "2021-10-28T13:12:14.389Z"
   },
   {
    "duration": 56,
    "start_time": "2021-10-28T13:12:35.765Z"
   },
   {
    "duration": 34,
    "start_time": "2021-10-28T13:12:36.345Z"
   },
   {
    "duration": 10,
    "start_time": "2021-10-28T13:12:36.861Z"
   },
   {
    "duration": 14,
    "start_time": "2021-10-28T13:12:37.217Z"
   },
   {
    "duration": 13,
    "start_time": "2021-10-28T13:12:37.372Z"
   },
   {
    "duration": 21,
    "start_time": "2021-10-28T13:12:37.929Z"
   },
   {
    "duration": 29,
    "start_time": "2021-10-28T13:12:38.433Z"
   },
   {
    "duration": 28,
    "start_time": "2021-10-28T13:12:39.177Z"
   },
   {
    "duration": 373,
    "start_time": "2021-10-28T13:12:39.977Z"
   },
   {
    "duration": 9,
    "start_time": "2021-10-28T13:12:40.403Z"
   },
   {
    "duration": 11,
    "start_time": "2021-10-28T13:12:40.835Z"
   },
   {
    "duration": 10,
    "start_time": "2021-10-28T13:12:41.195Z"
   },
   {
    "duration": 11,
    "start_time": "2021-10-28T13:12:41.845Z"
   },
   {
    "duration": 8,
    "start_time": "2021-10-28T13:12:42.559Z"
   },
   {
    "duration": 10,
    "start_time": "2021-10-28T13:12:43.027Z"
   },
   {
    "duration": 7,
    "start_time": "2021-10-28T13:12:43.497Z"
   },
   {
    "duration": 8,
    "start_time": "2021-10-28T13:12:43.688Z"
   },
   {
    "duration": 7,
    "start_time": "2021-10-28T13:12:44.121Z"
   },
   {
    "duration": 6,
    "start_time": "2021-10-28T13:12:44.343Z"
   },
   {
    "duration": 11,
    "start_time": "2021-10-28T13:12:44.571Z"
   },
   {
    "duration": 8,
    "start_time": "2021-10-28T13:12:45.013Z"
   },
   {
    "duration": 9,
    "start_time": "2021-10-28T13:12:45.367Z"
   },
   {
    "duration": 90,
    "start_time": "2021-10-28T13:12:45.499Z"
   },
   {
    "duration": 7,
    "start_time": "2021-10-28T13:12:45.707Z"
   },
   {
    "duration": 8,
    "start_time": "2021-10-28T13:12:45.873Z"
   },
   {
    "duration": 25,
    "start_time": "2021-10-28T13:12:46.191Z"
   },
   {
    "duration": 14,
    "start_time": "2021-10-28T13:12:46.765Z"
   },
   {
    "duration": 17,
    "start_time": "2021-10-28T13:12:47.401Z"
   },
   {
    "duration": 16,
    "start_time": "2021-10-28T13:12:47.505Z"
   },
   {
    "duration": 8,
    "start_time": "2021-10-28T13:12:47.896Z"
   },
   {
    "duration": 20,
    "start_time": "2021-10-28T13:12:48.229Z"
   },
   {
    "duration": 2115,
    "start_time": "2021-10-28T13:12:48.378Z"
   },
   {
    "duration": 25,
    "start_time": "2021-10-28T13:12:50.495Z"
   },
   {
    "duration": 18,
    "start_time": "2021-10-28T13:12:50.523Z"
   },
   {
    "duration": 25,
    "start_time": "2021-10-28T13:12:50.543Z"
   },
   {
    "duration": 21,
    "start_time": "2021-10-28T13:12:50.570Z"
   },
   {
    "duration": 831,
    "start_time": "2021-10-28T13:12:50.593Z"
   },
   {
    "duration": 271,
    "start_time": "2021-10-28T13:12:51.426Z"
   },
   {
    "duration": 268,
    "start_time": "2021-10-28T13:12:51.698Z"
   },
   {
    "duration": 16,
    "start_time": "2021-10-28T13:12:52.103Z"
   },
   {
    "duration": 5,
    "start_time": "2021-10-28T13:12:52.519Z"
   },
   {
    "duration": 300,
    "start_time": "2021-10-28T13:12:52.909Z"
   },
   {
    "duration": 5,
    "start_time": "2021-10-28T13:12:53.211Z"
   },
   {
    "duration": 312,
    "start_time": "2021-10-28T13:12:53.581Z"
   },
   {
    "duration": 6,
    "start_time": "2021-10-28T13:12:53.895Z"
   },
   {
    "duration": 8,
    "start_time": "2021-10-28T13:12:54.407Z"
   },
   {
    "duration": 449,
    "start_time": "2021-10-28T13:12:54.562Z"
   },
   {
    "duration": 6,
    "start_time": "2021-10-28T13:12:55.013Z"
   },
   {
    "duration": 334,
    "start_time": "2021-10-28T13:12:55.022Z"
   },
   {
    "duration": 9,
    "start_time": "2021-10-28T13:12:55.358Z"
   },
   {
    "duration": 10,
    "start_time": "2021-10-28T13:12:55.374Z"
   },
   {
    "duration": 359,
    "start_time": "2021-10-28T13:12:55.569Z"
   },
   {
    "duration": 5,
    "start_time": "2021-10-28T13:12:55.931Z"
   },
   {
    "duration": 418,
    "start_time": "2021-10-28T13:12:55.941Z"
   },
   {
    "duration": 6,
    "start_time": "2021-10-28T13:12:56.363Z"
   },
   {
    "duration": 10,
    "start_time": "2021-10-28T13:12:56.444Z"
   },
   {
    "duration": 276,
    "start_time": "2021-10-28T13:12:56.592Z"
   },
   {
    "duration": 5,
    "start_time": "2021-10-28T13:12:56.871Z"
   },
   {
    "duration": 298,
    "start_time": "2021-10-28T13:12:56.942Z"
   },
   {
    "duration": 5,
    "start_time": "2021-10-28T13:12:57.242Z"
   },
   {
    "duration": 8,
    "start_time": "2021-10-28T13:12:57.466Z"
   },
   {
    "duration": 271,
    "start_time": "2021-10-28T13:12:57.694Z"
   },
   {
    "duration": 6,
    "start_time": "2021-10-28T13:12:57.967Z"
   },
   {
    "duration": 328,
    "start_time": "2021-10-28T13:12:58.058Z"
   },
   {
    "duration": 5,
    "start_time": "2021-10-28T13:12:58.388Z"
   },
   {
    "duration": 22,
    "start_time": "2021-10-28T13:12:58.790Z"
   },
   {
    "duration": 20,
    "start_time": "2021-10-28T13:13:00.128Z"
   },
   {
    "duration": 240,
    "start_time": "2021-10-28T13:13:00.357Z"
   },
   {
    "duration": 12,
    "start_time": "2021-10-28T13:13:00.801Z"
   },
   {
    "duration": 224,
    "start_time": "2021-10-28T13:13:01.032Z"
   },
   {
    "duration": 21,
    "start_time": "2021-10-28T13:13:01.636Z"
   },
   {
    "duration": 234,
    "start_time": "2021-10-28T13:13:01.844Z"
   },
   {
    "duration": 12,
    "start_time": "2021-10-28T13:13:02.230Z"
   },
   {
    "duration": 161,
    "start_time": "2021-10-28T13:13:02.416Z"
   },
   {
    "duration": 16,
    "start_time": "2021-10-28T13:13:02.971Z"
   },
   {
    "duration": 151,
    "start_time": "2021-10-28T13:13:03.143Z"
   },
   {
    "duration": 12,
    "start_time": "2021-10-28T13:13:03.296Z"
   },
   {
    "duration": 359,
    "start_time": "2021-10-28T13:13:03.672Z"
   },
   {
    "duration": 17,
    "start_time": "2021-10-28T13:13:04.386Z"
   },
   {
    "duration": 165,
    "start_time": "2021-10-28T13:13:04.516Z"
   },
   {
    "duration": 15,
    "start_time": "2021-10-28T13:13:04.694Z"
   },
   {
    "duration": 268,
    "start_time": "2021-10-28T13:13:04.810Z"
   },
   {
    "duration": 23,
    "start_time": "2021-10-28T13:13:05.228Z"
   },
   {
    "duration": 168,
    "start_time": "2021-10-28T13:13:05.386Z"
   },
   {
    "duration": 15,
    "start_time": "2021-10-28T13:13:06.300Z"
   },
   {
    "duration": 145,
    "start_time": "2021-10-28T13:13:06.428Z"
   },
   {
    "duration": 15,
    "start_time": "2021-10-28T13:13:07.034Z"
   },
   {
    "duration": 164,
    "start_time": "2021-10-28T13:13:07.170Z"
   },
   {
    "duration": 14,
    "start_time": "2021-10-28T13:13:07.792Z"
   },
   {
    "duration": 149,
    "start_time": "2021-10-28T13:13:07.908Z"
   },
   {
    "duration": 6,
    "start_time": "2021-10-28T13:13:09.559Z"
   },
   {
    "duration": 12,
    "start_time": "2021-10-28T13:13:09.725Z"
   },
   {
    "duration": 9,
    "start_time": "2021-10-28T13:13:09.887Z"
   },
   {
    "duration": 6,
    "start_time": "2021-10-28T13:13:10.254Z"
   },
   {
    "duration": 5,
    "start_time": "2021-10-28T13:13:10.430Z"
   },
   {
    "duration": 5,
    "start_time": "2021-10-28T13:13:10.800Z"
   },
   {
    "duration": 12,
    "start_time": "2021-10-28T13:13:11.511Z"
   },
   {
    "duration": 848,
    "start_time": "2021-10-28T18:14:13.356Z"
   },
   {
    "duration": 46,
    "start_time": "2021-10-28T18:14:14.207Z"
   },
   {
    "duration": 11,
    "start_time": "2021-10-28T18:14:14.256Z"
   },
   {
    "duration": 21,
    "start_time": "2021-10-28T18:14:14.270Z"
   },
   {
    "duration": 48,
    "start_time": "2021-10-28T18:14:14.293Z"
   },
   {
    "duration": 36,
    "start_time": "2021-10-28T18:14:14.344Z"
   },
   {
    "duration": 50,
    "start_time": "2021-10-28T18:14:14.383Z"
   },
   {
    "duration": 28,
    "start_time": "2021-10-28T18:14:14.437Z"
   },
   {
    "duration": 626,
    "start_time": "2021-10-28T18:14:14.468Z"
   },
   {
    "duration": 11,
    "start_time": "2021-10-28T18:14:15.097Z"
   },
   {
    "duration": 18,
    "start_time": "2021-10-28T18:14:15.110Z"
   },
   {
    "duration": 15,
    "start_time": "2021-10-28T18:14:15.130Z"
   },
   {
    "duration": 14,
    "start_time": "2021-10-28T18:14:15.147Z"
   },
   {
    "duration": 14,
    "start_time": "2021-10-28T18:14:15.164Z"
   },
   {
    "duration": 24,
    "start_time": "2021-10-28T18:14:15.181Z"
   },
   {
    "duration": 9,
    "start_time": "2021-10-28T18:14:15.207Z"
   },
   {
    "duration": 15,
    "start_time": "2021-10-28T18:14:15.219Z"
   },
   {
    "duration": 18,
    "start_time": "2021-10-28T18:14:15.236Z"
   },
   {
    "duration": 15,
    "start_time": "2021-10-28T18:14:15.256Z"
   },
   {
    "duration": 40,
    "start_time": "2021-10-28T18:14:15.274Z"
   },
   {
    "duration": 20,
    "start_time": "2021-10-28T18:14:15.317Z"
   },
   {
    "duration": 26,
    "start_time": "2021-10-28T18:14:15.340Z"
   },
   {
    "duration": 126,
    "start_time": "2021-10-28T18:14:15.372Z"
   },
   {
    "duration": -2808,
    "start_time": "2021-10-28T18:14:18.311Z"
   },
   {
    "duration": -2811,
    "start_time": "2021-10-28T18:14:18.315Z"
   },
   {
    "duration": -2813,
    "start_time": "2021-10-28T18:14:18.319Z"
   },
   {
    "duration": -2814,
    "start_time": "2021-10-28T18:14:18.322Z"
   },
   {
    "duration": -2820,
    "start_time": "2021-10-28T18:14:18.329Z"
   },
   {
    "duration": -2823,
    "start_time": "2021-10-28T18:14:18.334Z"
   },
   {
    "duration": -2828,
    "start_time": "2021-10-28T18:14:18.340Z"
   },
   {
    "duration": -2834,
    "start_time": "2021-10-28T18:14:18.348Z"
   },
   {
    "duration": -2834,
    "start_time": "2021-10-28T18:14:18.350Z"
   },
   {
    "duration": -2836,
    "start_time": "2021-10-28T18:14:18.353Z"
   },
   {
    "duration": -2841,
    "start_time": "2021-10-28T18:14:18.360Z"
   },
   {
    "duration": -2880,
    "start_time": "2021-10-28T18:14:18.400Z"
   },
   {
    "duration": -2884,
    "start_time": "2021-10-28T18:14:18.405Z"
   },
   {
    "duration": -2885,
    "start_time": "2021-10-28T18:14:18.408Z"
   },
   {
    "duration": -3588,
    "start_time": "2021-10-28T18:14:19.112Z"
   },
   {
    "duration": -3591,
    "start_time": "2021-10-28T18:14:19.117Z"
   },
   {
    "duration": -3593,
    "start_time": "2021-10-28T18:14:19.120Z"
   },
   {
    "duration": -3596,
    "start_time": "2021-10-28T18:14:19.125Z"
   },
   {
    "duration": -3600,
    "start_time": "2021-10-28T18:14:19.130Z"
   },
   {
    "duration": -3603,
    "start_time": "2021-10-28T18:14:19.134Z"
   },
   {
    "duration": -3603,
    "start_time": "2021-10-28T18:14:19.136Z"
   },
   {
    "duration": -3605,
    "start_time": "2021-10-28T18:14:19.139Z"
   },
   {
    "duration": -3607,
    "start_time": "2021-10-28T18:14:19.142Z"
   },
   {
    "duration": -3608,
    "start_time": "2021-10-28T18:14:19.145Z"
   },
   {
    "duration": -3609,
    "start_time": "2021-10-28T18:14:19.147Z"
   },
   {
    "duration": -3609,
    "start_time": "2021-10-28T18:14:19.149Z"
   },
   {
    "duration": -3610,
    "start_time": "2021-10-28T18:14:19.151Z"
   },
   {
    "duration": -3610,
    "start_time": "2021-10-28T18:14:19.153Z"
   },
   {
    "duration": -3610,
    "start_time": "2021-10-28T18:14:19.155Z"
   },
   {
    "duration": -3611,
    "start_time": "2021-10-28T18:14:19.157Z"
   },
   {
    "duration": -3612,
    "start_time": "2021-10-28T18:14:19.160Z"
   },
   {
    "duration": -3613,
    "start_time": "2021-10-28T18:14:19.162Z"
   },
   {
    "duration": -3613,
    "start_time": "2021-10-28T18:14:19.164Z"
   },
   {
    "duration": -3614,
    "start_time": "2021-10-28T18:14:19.166Z"
   },
   {
    "duration": -3614,
    "start_time": "2021-10-28T18:14:19.168Z"
   },
   {
    "duration": -3615,
    "start_time": "2021-10-28T18:14:19.171Z"
   },
   {
    "duration": -3615,
    "start_time": "2021-10-28T18:14:19.173Z"
   },
   {
    "duration": -3615,
    "start_time": "2021-10-28T18:14:19.175Z"
   },
   {
    "duration": -3616,
    "start_time": "2021-10-28T18:14:19.177Z"
   },
   {
    "duration": -3616,
    "start_time": "2021-10-28T18:14:19.179Z"
   },
   {
    "duration": -3617,
    "start_time": "2021-10-28T18:14:19.181Z"
   },
   {
    "duration": -3617,
    "start_time": "2021-10-28T18:14:19.183Z"
   },
   {
    "duration": -3619,
    "start_time": "2021-10-28T18:14:19.186Z"
   },
   {
    "duration": -3619,
    "start_time": "2021-10-28T18:14:19.188Z"
   },
   {
    "duration": -3621,
    "start_time": "2021-10-28T18:14:19.191Z"
   },
   {
    "duration": -3622,
    "start_time": "2021-10-28T18:14:19.193Z"
   },
   {
    "duration": -3625,
    "start_time": "2021-10-28T18:14:19.198Z"
   },
   {
    "duration": -3625,
    "start_time": "2021-10-28T18:14:19.200Z"
   },
   {
    "duration": -3626,
    "start_time": "2021-10-28T18:14:19.202Z"
   },
   {
    "duration": -3626,
    "start_time": "2021-10-28T18:14:19.204Z"
   },
   {
    "duration": -3626,
    "start_time": "2021-10-28T18:14:19.206Z"
   },
   {
    "duration": -3627,
    "start_time": "2021-10-28T18:14:19.208Z"
   },
   {
    "duration": -3652,
    "start_time": "2021-10-28T18:14:19.234Z"
   },
   {
    "duration": -3652,
    "start_time": "2021-10-28T18:14:19.236Z"
   },
   {
    "duration": -3654,
    "start_time": "2021-10-28T18:14:19.239Z"
   },
   {
    "duration": -3658,
    "start_time": "2021-10-28T18:14:19.244Z"
   },
   {
    "duration": -3661,
    "start_time": "2021-10-28T18:14:19.248Z"
   },
   {
    "duration": -3662,
    "start_time": "2021-10-28T18:14:19.251Z"
   },
   {
    "duration": -3630,
    "start_time": "2021-10-28T18:14:19.253Z"
   },
   {
    "duration": -3629,
    "start_time": "2021-10-28T18:14:19.255Z"
   },
   {
    "duration": -3628,
    "start_time": "2021-10-28T18:14:19.257Z"
   },
   {
    "duration": -3629,
    "start_time": "2021-10-28T18:14:19.259Z"
   },
   {
    "duration": -3630,
    "start_time": "2021-10-28T18:14:19.261Z"
   },
   {
    "duration": -3631,
    "start_time": "2021-10-28T18:14:19.263Z"
   },
   {
    "duration": -3632,
    "start_time": "2021-10-28T18:14:19.265Z"
   },
   {
    "duration": -3632,
    "start_time": "2021-10-28T18:14:19.267Z"
   },
   {
    "duration": -3632,
    "start_time": "2021-10-28T18:14:19.269Z"
   },
   {
    "duration": -3633,
    "start_time": "2021-10-28T18:14:19.271Z"
   },
   {
    "duration": -3633,
    "start_time": "2021-10-28T18:14:19.273Z"
   },
   {
    "duration": -3633,
    "start_time": "2021-10-28T18:14:19.275Z"
   },
   {
    "duration": -3632,
    "start_time": "2021-10-28T18:14:19.276Z"
   },
   {
    "duration": -3632,
    "start_time": "2021-10-28T18:14:19.278Z"
   },
   {
    "duration": -3634,
    "start_time": "2021-10-28T18:14:19.281Z"
   },
   {
    "duration": -3634,
    "start_time": "2021-10-28T18:14:19.283Z"
   },
   {
    "duration": 103,
    "start_time": "2021-10-28T18:18:19.700Z"
   },
   {
    "duration": -1682,
    "start_time": "2021-10-28T18:18:21.491Z"
   },
   {
    "duration": -1685,
    "start_time": "2021-10-28T18:18:21.496Z"
   },
   {
    "duration": -1710,
    "start_time": "2021-10-28T18:18:21.523Z"
   },
   {
    "duration": -1713,
    "start_time": "2021-10-28T18:18:21.527Z"
   },
   {
    "duration": -1715,
    "start_time": "2021-10-28T18:18:21.531Z"
   },
   {
    "duration": -1720,
    "start_time": "2021-10-28T18:18:21.537Z"
   },
   {
    "duration": -1722,
    "start_time": "2021-10-28T18:18:21.541Z"
   },
   {
    "duration": -1724,
    "start_time": "2021-10-28T18:18:21.544Z"
   },
   {
    "duration": -1725,
    "start_time": "2021-10-28T18:18:21.547Z"
   },
   {
    "duration": -1726,
    "start_time": "2021-10-28T18:18:21.549Z"
   },
   {
    "duration": -1726,
    "start_time": "2021-10-28T18:18:21.551Z"
   },
   {
    "duration": -1729,
    "start_time": "2021-10-28T18:18:21.555Z"
   },
   {
    "duration": -1730,
    "start_time": "2021-10-28T18:18:21.558Z"
   },
   {
    "duration": -1731,
    "start_time": "2021-10-28T18:18:21.560Z"
   },
   {
    "duration": -1731,
    "start_time": "2021-10-28T18:18:21.562Z"
   },
   {
    "duration": -1733,
    "start_time": "2021-10-28T18:18:21.565Z"
   },
   {
    "duration": -1733,
    "start_time": "2021-10-28T18:18:21.567Z"
   },
   {
    "duration": -1734,
    "start_time": "2021-10-28T18:18:21.569Z"
   },
   {
    "duration": -1735,
    "start_time": "2021-10-28T18:18:21.572Z"
   },
   {
    "duration": -1736,
    "start_time": "2021-10-28T18:18:21.574Z"
   },
   {
    "duration": -1739,
    "start_time": "2021-10-28T18:18:21.579Z"
   },
   {
    "duration": -1740,
    "start_time": "2021-10-28T18:18:21.581Z"
   },
   {
    "duration": -1740,
    "start_time": "2021-10-28T18:18:21.583Z"
   },
   {
    "duration": -1741,
    "start_time": "2021-10-28T18:18:21.585Z"
   },
   {
    "duration": -1741,
    "start_time": "2021-10-28T18:18:21.587Z"
   },
   {
    "duration": -1742,
    "start_time": "2021-10-28T18:18:21.589Z"
   },
   {
    "duration": -1742,
    "start_time": "2021-10-28T18:18:21.591Z"
   },
   {
    "duration": -1743,
    "start_time": "2021-10-28T18:18:21.593Z"
   },
   {
    "duration": -1743,
    "start_time": "2021-10-28T18:18:21.595Z"
   },
   {
    "duration": -1750,
    "start_time": "2021-10-28T18:18:21.603Z"
   },
   {
    "duration": -1750,
    "start_time": "2021-10-28T18:18:21.605Z"
   },
   {
    "duration": -1751,
    "start_time": "2021-10-28T18:18:21.607Z"
   },
   {
    "duration": -1752,
    "start_time": "2021-10-28T18:18:21.610Z"
   },
   {
    "duration": -1752,
    "start_time": "2021-10-28T18:18:21.611Z"
   },
   {
    "duration": -1753,
    "start_time": "2021-10-28T18:18:21.614Z"
   },
   {
    "duration": -1694,
    "start_time": "2021-10-28T18:18:21.616Z"
   },
   {
    "duration": -1717,
    "start_time": "2021-10-28T18:18:21.641Z"
   },
   {
    "duration": -1717,
    "start_time": "2021-10-28T18:18:21.643Z"
   },
   {
    "duration": -1718,
    "start_time": "2021-10-28T18:18:21.645Z"
   },
   {
    "duration": -1719,
    "start_time": "2021-10-28T18:18:21.647Z"
   },
   {
    "duration": -1719,
    "start_time": "2021-10-28T18:18:21.649Z"
   },
   {
    "duration": -1733,
    "start_time": "2021-10-28T18:18:21.665Z"
   },
   {
    "duration": -1735,
    "start_time": "2021-10-28T18:18:21.668Z"
   },
   {
    "duration": -1736,
    "start_time": "2021-10-28T18:18:21.671Z"
   },
   {
    "duration": -2037,
    "start_time": "2021-10-28T18:18:21.973Z"
   },
   {
    "duration": -2096,
    "start_time": "2021-10-28T18:18:22.033Z"
   },
   {
    "duration": -2131,
    "start_time": "2021-10-28T18:18:22.070Z"
   },
   {
    "duration": -2132,
    "start_time": "2021-10-28T18:18:22.072Z"
   },
   {
    "duration": -2133,
    "start_time": "2021-10-28T18:18:22.074Z"
   },
   {
    "duration": -2133,
    "start_time": "2021-10-28T18:18:22.076Z"
   },
   {
    "duration": -2134,
    "start_time": "2021-10-28T18:18:22.078Z"
   },
   {
    "duration": -2135,
    "start_time": "2021-10-28T18:18:22.080Z"
   },
   {
    "duration": -2136,
    "start_time": "2021-10-28T18:18:22.082Z"
   },
   {
    "duration": -2141,
    "start_time": "2021-10-28T18:18:22.088Z"
   },
   {
    "duration": -2145,
    "start_time": "2021-10-28T18:18:22.094Z"
   },
   {
    "duration": -2146,
    "start_time": "2021-10-28T18:18:22.096Z"
   },
   {
    "duration": -2147,
    "start_time": "2021-10-28T18:18:22.098Z"
   },
   {
    "duration": -2147,
    "start_time": "2021-10-28T18:18:22.100Z"
   },
   {
    "duration": -2148,
    "start_time": "2021-10-28T18:18:22.102Z"
   },
   {
    "duration": -2153,
    "start_time": "2021-10-28T18:18:22.108Z"
   },
   {
    "duration": -2154,
    "start_time": "2021-10-28T18:18:22.110Z"
   },
   {
    "duration": -2154,
    "start_time": "2021-10-28T18:18:22.112Z"
   },
   {
    "duration": -2155,
    "start_time": "2021-10-28T18:18:22.114Z"
   },
   {
    "duration": -2156,
    "start_time": "2021-10-28T18:18:22.116Z"
   },
   {
    "duration": -2095,
    "start_time": "2021-10-28T18:18:22.118Z"
   },
   {
    "duration": -2100,
    "start_time": "2021-10-28T18:18:22.124Z"
   },
   {
    "duration": -2101,
    "start_time": "2021-10-28T18:18:22.126Z"
   },
   {
    "duration": -2101,
    "start_time": "2021-10-28T18:18:22.128Z"
   },
   {
    "duration": -2102,
    "start_time": "2021-10-28T18:18:22.130Z"
   },
   {
    "duration": 1117,
    "start_time": "2021-10-28T18:18:20.033Z"
   },
   {
    "duration": -1673,
    "start_time": "2021-10-28T18:18:22.826Z"
   },
   {
    "duration": -1684,
    "start_time": "2021-10-28T18:18:22.838Z"
   },
   {
    "duration": -1687,
    "start_time": "2021-10-28T18:18:22.843Z"
   },
   {
    "duration": -1689,
    "start_time": "2021-10-28T18:18:22.846Z"
   },
   {
    "duration": 8,
    "start_time": "2021-10-28T18:18:27.326Z"
   },
   {
    "duration": 10,
    "start_time": "2021-10-28T18:18:28.356Z"
   },
   {
    "duration": 41,
    "start_time": "2021-10-28T18:18:31.898Z"
   },
   {
    "duration": 28,
    "start_time": "2021-10-28T18:18:31.943Z"
   },
   {
    "duration": 77,
    "start_time": "2021-10-28T18:18:31.975Z"
   },
   {
    "duration": 67,
    "start_time": "2021-10-28T18:18:32.056Z"
   },
   {
    "duration": 11,
    "start_time": "2021-10-28T18:18:32.126Z"
   },
   {
    "duration": 32,
    "start_time": "2021-10-28T18:18:32.140Z"
   },
   {
    "duration": 3273,
    "start_time": "2021-10-28T18:18:32.175Z"
   },
   {
    "duration": 25,
    "start_time": "2021-10-28T18:18:35.450Z"
   },
   {
    "duration": 44,
    "start_time": "2021-10-28T18:18:35.480Z"
   },
   {
    "duration": 11,
    "start_time": "2021-10-28T18:18:35.527Z"
   },
   {
    "duration": 31,
    "start_time": "2021-10-28T18:18:35.541Z"
   },
   {
    "duration": 1395,
    "start_time": "2021-10-28T18:18:35.574Z"
   },
   {
    "duration": 438,
    "start_time": "2021-10-28T18:18:36.972Z"
   },
   {
    "duration": 510,
    "start_time": "2021-10-28T18:18:37.412Z"
   },
   {
    "duration": 32,
    "start_time": "2021-10-28T18:18:37.926Z"
   },
   {
    "duration": 10,
    "start_time": "2021-10-28T18:18:37.962Z"
   },
   {
    "duration": 463,
    "start_time": "2021-10-28T18:18:37.975Z"
   },
   {
    "duration": 7,
    "start_time": "2021-10-28T18:18:38.441Z"
   },
   {
    "duration": 508,
    "start_time": "2021-10-28T18:18:38.451Z"
   },
   {
    "duration": 7,
    "start_time": "2021-10-28T18:18:38.961Z"
   },
   {
    "duration": 10,
    "start_time": "2021-10-28T18:18:38.970Z"
   },
   {
    "duration": 426,
    "start_time": "2021-10-28T18:18:38.982Z"
   },
   {
    "duration": 13,
    "start_time": "2021-10-28T18:18:39.411Z"
   },
   {
    "duration": 393,
    "start_time": "2021-10-28T18:18:39.426Z"
   },
   {
    "duration": 6,
    "start_time": "2021-10-28T18:18:39.822Z"
   },
   {
    "duration": 11,
    "start_time": "2021-10-28T18:18:39.830Z"
   },
   {
    "duration": 404,
    "start_time": "2021-10-28T18:18:39.848Z"
   },
   {
    "duration": 8,
    "start_time": "2021-10-28T18:18:40.257Z"
   },
   {
    "duration": 463,
    "start_time": "2021-10-28T18:18:40.268Z"
   },
   {
    "duration": 6,
    "start_time": "2021-10-28T18:18:40.734Z"
   },
   {
    "duration": 10,
    "start_time": "2021-10-28T18:18:40.743Z"
   },
   {
    "duration": 458,
    "start_time": "2021-10-28T18:18:40.755Z"
   },
   {
    "duration": 6,
    "start_time": "2021-10-28T18:18:41.222Z"
   },
   {
    "duration": 406,
    "start_time": "2021-10-28T18:18:41.230Z"
   },
   {
    "duration": 7,
    "start_time": "2021-10-28T18:18:41.638Z"
   },
   {
    "duration": 10,
    "start_time": "2021-10-28T18:18:41.648Z"
   },
   {
    "duration": 464,
    "start_time": "2021-10-28T18:18:41.661Z"
   },
   {
    "duration": 7,
    "start_time": "2021-10-28T18:18:42.127Z"
   },
   {
    "duration": 412,
    "start_time": "2021-10-28T18:18:42.137Z"
   },
   {
    "duration": 6,
    "start_time": "2021-10-28T18:18:42.551Z"
   },
   {
    "duration": 28,
    "start_time": "2021-10-28T18:18:42.559Z"
   },
   {
    "duration": 41,
    "start_time": "2021-10-28T18:18:42.590Z"
   },
   {
    "duration": 369,
    "start_time": "2021-10-28T18:18:42.634Z"
   },
   {
    "duration": 18,
    "start_time": "2021-10-28T18:18:43.006Z"
   },
   {
    "duration": 270,
    "start_time": "2021-10-28T18:18:43.027Z"
   },
   {
    "duration": 29,
    "start_time": "2021-10-28T18:18:43.299Z"
   },
   {
    "duration": 275,
    "start_time": "2021-10-28T18:18:43.330Z"
   },
   {
    "duration": 16,
    "start_time": "2021-10-28T18:18:43.607Z"
   },
   {
    "duration": 355,
    "start_time": "2021-10-28T18:18:43.626Z"
   },
   {
    "duration": 21,
    "start_time": "2021-10-28T18:18:43.984Z"
   },
   {
    "duration": 258,
    "start_time": "2021-10-28T18:18:44.023Z"
   },
   {
    "duration": 12,
    "start_time": "2021-10-28T18:18:44.283Z"
   },
   {
    "duration": 280,
    "start_time": "2021-10-28T18:18:44.297Z"
   },
   {
    "duration": 19,
    "start_time": "2021-10-28T18:18:44.580Z"
   },
   {
    "duration": 292,
    "start_time": "2021-10-28T18:18:44.602Z"
   },
   {
    "duration": 30,
    "start_time": "2021-10-28T18:18:44.896Z"
   },
   {
    "duration": 281,
    "start_time": "2021-10-28T18:18:44.928Z"
   },
   {
    "duration": 24,
    "start_time": "2021-10-28T18:18:45.211Z"
   },
   {
    "duration": 270,
    "start_time": "2021-10-28T18:18:45.237Z"
   },
   {
    "duration": 22,
    "start_time": "2021-10-28T18:18:45.521Z"
   },
   {
    "duration": 248,
    "start_time": "2021-10-28T18:18:45.546Z"
   },
   {
    "duration": 29,
    "start_time": "2021-10-28T18:18:45.797Z"
   },
   {
    "duration": 272,
    "start_time": "2021-10-28T18:18:45.828Z"
   },
   {
    "duration": 29,
    "start_time": "2021-10-28T18:18:46.102Z"
   },
   {
    "duration": 258,
    "start_time": "2021-10-28T18:18:46.133Z"
   },
   {
    "duration": 6,
    "start_time": "2021-10-28T18:18:46.393Z"
   },
   {
    "duration": 30,
    "start_time": "2021-10-28T18:18:46.401Z"
   },
   {
    "duration": 11,
    "start_time": "2021-10-28T18:18:46.434Z"
   },
   {
    "duration": 12,
    "start_time": "2021-10-28T18:18:46.447Z"
   },
   {
    "duration": 5,
    "start_time": "2021-10-28T18:18:46.462Z"
   },
   {
    "duration": 9,
    "start_time": "2021-10-28T18:18:46.469Z"
   },
   {
    "duration": 53,
    "start_time": "2021-10-28T18:18:46.481Z"
   },
   {
    "duration": 424,
    "start_time": "2021-10-28T18:24:47.601Z"
   },
   {
    "duration": 37,
    "start_time": "2021-10-28T18:26:02.321Z"
   },
   {
    "duration": 1359,
    "start_time": "2021-10-28T18:26:42.377Z"
   },
   {
    "duration": 1367,
    "start_time": "2021-10-28T18:26:51.721Z"
   },
   {
    "duration": 340,
    "start_time": "2021-10-28T18:28:06.841Z"
   },
   {
    "duration": 21,
    "start_time": "2021-10-28T18:28:24.566Z"
   },
   {
    "duration": 335,
    "start_time": "2021-10-28T18:30:53.861Z"
   },
   {
    "duration": 404,
    "start_time": "2021-10-28T18:31:27.127Z"
   },
   {
    "duration": 1448,
    "start_time": "2021-10-28T18:31:32.223Z"
   },
   {
    "duration": 886,
    "start_time": "2021-11-01T15:24:57.542Z"
   },
   {
    "duration": 4,
    "start_time": "2021-11-01T15:24:59.093Z"
   },
   {
    "duration": 47,
    "start_time": "2021-11-01T15:25:01.686Z"
   },
   {
    "duration": 12,
    "start_time": "2021-11-01T15:25:02.862Z"
   },
   {
    "duration": 20,
    "start_time": "2021-11-01T15:25:03.352Z"
   },
   {
    "duration": 19,
    "start_time": "2021-11-01T15:25:03.608Z"
   },
   {
    "duration": 31,
    "start_time": "2021-11-01T15:25:04.470Z"
   },
   {
    "duration": 23,
    "start_time": "2021-11-01T15:25:06.626Z"
   },
   {
    "duration": 30,
    "start_time": "2021-11-01T15:25:08.138Z"
   },
   {
    "duration": 518,
    "start_time": "2021-11-01T15:25:09.482Z"
   },
   {
    "duration": 11,
    "start_time": "2021-11-01T15:25:13.929Z"
   },
   {
    "duration": 14,
    "start_time": "2021-11-01T15:25:14.386Z"
   },
   {
    "duration": 14,
    "start_time": "2021-11-01T15:25:14.623Z"
   },
   {
    "duration": 15,
    "start_time": "2021-11-01T15:25:15.412Z"
   },
   {
    "duration": 11,
    "start_time": "2021-11-01T15:25:16.216Z"
   },
   {
    "duration": 12,
    "start_time": "2021-11-01T15:25:17.067Z"
   },
   {
    "duration": 8,
    "start_time": "2021-11-01T15:25:17.591Z"
   },
   {
    "duration": 9,
    "start_time": "2021-11-01T15:25:17.920Z"
   },
   {
    "duration": 9,
    "start_time": "2021-11-01T15:25:18.434Z"
   },
   {
    "duration": 8,
    "start_time": "2021-11-01T15:25:18.716Z"
   },
   {
    "duration": 15,
    "start_time": "2021-11-01T15:25:18.996Z"
   },
   {
    "duration": 9,
    "start_time": "2021-11-01T15:25:19.512Z"
   },
   {
    "duration": 13,
    "start_time": "2021-11-01T15:25:20.159Z"
   },
   {
    "duration": 91,
    "start_time": "2021-11-01T15:25:21.028Z"
   },
   {
    "duration": 9,
    "start_time": "2021-11-01T15:29:42.204Z"
   },
   {
    "duration": 10,
    "start_time": "2021-11-01T15:29:42.445Z"
   },
   {
    "duration": 40,
    "start_time": "2021-11-01T15:29:43.162Z"
   },
   {
    "duration": 20,
    "start_time": "2021-11-01T15:29:45.932Z"
   },
   {
    "duration": 25,
    "start_time": "2021-11-01T15:29:47.128Z"
   },
   {
    "duration": 22,
    "start_time": "2021-11-01T15:29:47.438Z"
   },
   {
    "duration": 10,
    "start_time": "2021-11-01T15:29:48.030Z"
   },
   {
    "duration": 26,
    "start_time": "2021-11-01T15:29:48.544Z"
   },
   {
    "duration": 3045,
    "start_time": "2021-11-01T15:29:48.896Z"
   },
   {
    "duration": 25,
    "start_time": "2021-11-01T15:29:51.944Z"
   },
   {
    "duration": 23,
    "start_time": "2021-11-01T15:29:52.122Z"
   },
   {
    "duration": 10,
    "start_time": "2021-11-01T15:29:52.739Z"
   },
   {
    "duration": 26,
    "start_time": "2021-11-01T15:29:53.307Z"
   },
   {
    "duration": 1291,
    "start_time": "2021-11-01T15:29:53.579Z"
   },
   {
    "duration": 18,
    "start_time": "2021-11-01T15:39:34.995Z"
   },
   {
    "duration": 426,
    "start_time": "2021-11-01T15:41:27.600Z"
   },
   {
    "duration": 24,
    "start_time": "2021-11-01T15:41:38.626Z"
   },
   {
    "duration": 1325,
    "start_time": "2021-11-01T15:41:58.009Z"
   },
   {
    "duration": 7637,
    "start_time": "2021-11-01T15:42:34.264Z"
   },
   {
    "duration": 301,
    "start_time": "2021-11-01T15:43:40.107Z"
   },
   {
    "duration": 6923,
    "start_time": "2021-11-01T15:43:48.009Z"
   },
   {
    "duration": 16,
    "start_time": "2021-11-01T15:46:07.086Z"
   },
   {
    "duration": 531,
    "start_time": "2021-11-01T15:46:13.035Z"
   },
   {
    "duration": 545,
    "start_time": "2021-11-01T15:46:43.039Z"
   },
   {
    "duration": 546,
    "start_time": "2021-11-01T15:46:58.153Z"
   },
   {
    "duration": 536,
    "start_time": "2021-11-01T15:47:06.716Z"
   },
   {
    "duration": 563,
    "start_time": "2021-11-01T15:47:17.142Z"
   },
   {
    "duration": 557,
    "start_time": "2021-11-01T15:47:24.929Z"
   },
   {
    "duration": 27,
    "start_time": "2021-11-01T15:48:10.090Z"
   },
   {
    "duration": 97,
    "start_time": "2021-11-01T15:55:36.004Z"
   },
   {
    "duration": 42,
    "start_time": "2021-11-01T16:07:42.504Z"
   },
   {
    "duration": 24,
    "start_time": "2021-11-01T16:07:54.036Z"
   },
   {
    "duration": 40,
    "start_time": "2021-11-01T16:08:53.598Z"
   },
   {
    "duration": 109,
    "start_time": "2021-11-01T16:09:38.643Z"
   },
   {
    "duration": 23,
    "start_time": "2021-11-01T16:09:56.770Z"
   },
   {
    "duration": 557,
    "start_time": "2021-11-01T16:10:42.589Z"
   },
   {
    "duration": 416,
    "start_time": "2021-11-01T16:10:47.234Z"
   },
   {
    "duration": 402,
    "start_time": "2021-11-01T16:11:21.246Z"
   },
   {
    "duration": 326,
    "start_time": "2021-11-01T16:12:35.904Z"
   },
   {
    "duration": 35,
    "start_time": "2021-11-01T16:12:42.094Z"
   },
   {
    "duration": 20,
    "start_time": "2021-11-01T16:12:48.459Z"
   },
   {
    "duration": 21,
    "start_time": "2021-11-01T16:13:31.118Z"
   },
   {
    "duration": 286,
    "start_time": "2021-11-01T16:15:01.012Z"
   },
   {
    "duration": 11,
    "start_time": "2021-11-01T16:15:03.966Z"
   },
   {
    "duration": 22,
    "start_time": "2021-11-01T16:15:22.988Z"
   },
   {
    "duration": 6,
    "start_time": "2021-11-01T16:15:23.671Z"
   },
   {
    "duration": 444,
    "start_time": "2021-11-01T16:15:24.388Z"
   },
   {
    "duration": 7,
    "start_time": "2021-11-01T16:15:24.834Z"
   },
   {
    "duration": 410,
    "start_time": "2021-11-01T16:15:25.332Z"
   },
   {
    "duration": 6,
    "start_time": "2021-11-01T16:15:25.745Z"
   },
   {
    "duration": 9,
    "start_time": "2021-11-01T16:15:27.814Z"
   },
   {
    "duration": 454,
    "start_time": "2021-11-01T16:15:28.172Z"
   },
   {
    "duration": 6,
    "start_time": "2021-11-01T16:15:28.629Z"
   },
   {
    "duration": 375,
    "start_time": "2021-11-01T16:15:28.638Z"
   },
   {
    "duration": 10,
    "start_time": "2021-11-01T16:15:29.015Z"
   },
   {
    "duration": 9,
    "start_time": "2021-11-01T16:15:29.095Z"
   },
   {
    "duration": 418,
    "start_time": "2021-11-01T16:15:29.390Z"
   },
   {
    "duration": 15,
    "start_time": "2021-11-01T16:15:29.811Z"
   },
   {
    "duration": 417,
    "start_time": "2021-11-01T16:15:29.862Z"
   },
   {
    "duration": 6,
    "start_time": "2021-11-01T16:15:30.282Z"
   },
   {
    "duration": 9,
    "start_time": "2021-11-01T16:15:30.565Z"
   },
   {
    "duration": 393,
    "start_time": "2021-11-01T16:15:30.943Z"
   },
   {
    "duration": 7,
    "start_time": "2021-11-01T16:15:31.339Z"
   },
   {
    "duration": 375,
    "start_time": "2021-11-01T16:15:31.545Z"
   },
   {
    "duration": 6,
    "start_time": "2021-11-01T16:15:31.923Z"
   },
   {
    "duration": 9,
    "start_time": "2021-11-01T16:15:32.685Z"
   },
   {
    "duration": 383,
    "start_time": "2021-11-01T16:15:33.052Z"
   },
   {
    "duration": 6,
    "start_time": "2021-11-01T16:15:33.439Z"
   },
   {
    "duration": 443,
    "start_time": "2021-11-01T16:15:33.584Z"
   },
   {
    "duration": 6,
    "start_time": "2021-11-01T16:15:34.029Z"
   },
   {
    "duration": 24,
    "start_time": "2021-11-01T16:15:35.668Z"
   },
   {
    "duration": 127,
    "start_time": "2021-11-01T16:49:41.666Z"
   },
   {
    "duration": 23,
    "start_time": "2021-11-01T16:50:06.445Z"
   },
   {
    "duration": 24,
    "start_time": "2021-11-01T16:50:24.835Z"
   },
   {
    "duration": 19,
    "start_time": "2021-11-01T16:50:33.734Z"
   },
   {
    "duration": 25,
    "start_time": "2021-11-01T16:50:42.595Z"
   },
   {
    "duration": 5,
    "start_time": "2021-11-01T17:03:17.822Z"
   },
   {
    "duration": 12,
    "start_time": "2021-11-01T17:03:18.061Z"
   },
   {
    "duration": 11,
    "start_time": "2021-11-01T17:03:18.295Z"
   },
   {
    "duration": 6,
    "start_time": "2021-11-01T17:03:18.859Z"
   },
   {
    "duration": 6,
    "start_time": "2021-11-01T17:03:19.063Z"
   },
   {
    "duration": 7,
    "start_time": "2021-11-01T17:03:19.593Z"
   },
   {
    "duration": 13,
    "start_time": "2021-11-01T17:03:20.311Z"
   }
  ],
  "kernelspec": {
   "display_name": "Python 3",
   "language": "python",
   "name": "python3"
  },
  "language_info": {
   "codemirror_mode": {
    "name": "ipython",
    "version": 3
   },
   "file_extension": ".py",
   "mimetype": "text/x-python",
   "name": "python",
   "nbconvert_exporter": "python",
   "pygments_lexer": "ipython3",
   "version": "3.8.5"
  },
  "toc": {
   "base_numbering": 1,
   "nav_menu": {},
   "number_sections": true,
   "sideBar": true,
   "skip_h1_title": true,
   "title_cell": "Table of Contents",
   "title_sidebar": "Contents",
   "toc_cell": true,
   "toc_position": {
    "height": "calc(100% - 180px)",
    "left": "10px",
    "top": "150px",
    "width": "165px"
   },
   "toc_section_display": true,
   "toc_window_display": true
  }
 },
 "nbformat": 4,
 "nbformat_minor": 4
}
