{
 "cells": [
  {
   "cell_type": "markdown",
   "metadata": {},
   "source": [
    "# Customers churn analysis"
   ]
  },
  {
   "cell_type": "markdown",
   "metadata": {},
   "source": [
    "Clients started leaving Beta-Bank. Every month. A little, but noticeable. Bank marketers figured that calling current customers is cheaper than attracting new ones. **The project goal**: to predict whether the client will leave the bank in the near future or not.\n",
    "\n",
    "**Data**: historical data on customer behavior and termination of agreements with the bank. It is necessary to build a model with a high level of F1-measure."
   ]
  },
  {
   "cell_type": "markdown",
   "metadata": {},
   "source": [
    "<h1>Table of content<span class=\"tocSkip\"></span></h1>\n",
    "<div class=\"toc\"><ul class=\"toc-item\"><li><span><a href=\"#Data-preprocessing\" data-toc-modified-id=\"Data-preprocessing-1\"><span class=\"toc-item-num\">1&nbsp;&nbsp;</span>Data preprocessing</a></span></li><li><span><a href=\"#Models-testing\" data-toc-modified-id=\"Models-testing-2\"><span class=\"toc-item-num\">2&nbsp;&nbsp;</span>Models testing</a></span></li><li><span><a href=\"#Classes-balancing\" data-toc-modified-id=\"Classes-balancing-3\"><span class=\"toc-item-num\">3&nbsp;&nbsp;</span>Classes balancing</a></span></li><li><span><a href=\"#Checking-the-model-on-a-test-sample\" data-toc-modified-id=\"Checking-the-model-on-a-test-sample-4\"><span class=\"toc-item-num\">4&nbsp;&nbsp;</span>Checking the model on a test sample</a></span></li></ul></div>"
   ]
  },
  {
   "cell_type": "markdown",
   "metadata": {},
   "source": [
    "## Data preprocessing"
   ]
  },
  {
   "cell_type": "markdown",
   "metadata": {},
   "source": [
    "**Loading the required libraries and open the data**"
   ]
  },
  {
   "cell_type": "code",
   "execution_count": 3,
   "metadata": {},
   "outputs": [
    {
     "data": {
      "text/html": [
       "<div>\n",
       "<style scoped>\n",
       "    .dataframe tbody tr th:only-of-type {\n",
       "        vertical-align: middle;\n",
       "    }\n",
       "\n",
       "    .dataframe tbody tr th {\n",
       "        vertical-align: top;\n",
       "    }\n",
       "\n",
       "    .dataframe thead th {\n",
       "        text-align: right;\n",
       "    }\n",
       "</style>\n",
       "<table border=\"1\" class=\"dataframe\">\n",
       "  <thead>\n",
       "    <tr style=\"text-align: right;\">\n",
       "      <th></th>\n",
       "      <th>RowNumber</th>\n",
       "      <th>CustomerId</th>\n",
       "      <th>Surname</th>\n",
       "      <th>CreditScore</th>\n",
       "      <th>Geography</th>\n",
       "      <th>Gender</th>\n",
       "      <th>Age</th>\n",
       "      <th>Tenure</th>\n",
       "      <th>Balance</th>\n",
       "      <th>NumOfProducts</th>\n",
       "      <th>HasCrCard</th>\n",
       "      <th>IsActiveMember</th>\n",
       "      <th>EstimatedSalary</th>\n",
       "      <th>Exited</th>\n",
       "    </tr>\n",
       "  </thead>\n",
       "  <tbody>\n",
       "    <tr>\n",
       "      <th>0</th>\n",
       "      <td>1</td>\n",
       "      <td>15634602</td>\n",
       "      <td>Hargrave</td>\n",
       "      <td>619</td>\n",
       "      <td>France</td>\n",
       "      <td>Female</td>\n",
       "      <td>42</td>\n",
       "      <td>2.0</td>\n",
       "      <td>0.00</td>\n",
       "      <td>1</td>\n",
       "      <td>1</td>\n",
       "      <td>1</td>\n",
       "      <td>101348.88</td>\n",
       "      <td>1</td>\n",
       "    </tr>\n",
       "    <tr>\n",
       "      <th>1</th>\n",
       "      <td>2</td>\n",
       "      <td>15647311</td>\n",
       "      <td>Hill</td>\n",
       "      <td>608</td>\n",
       "      <td>Spain</td>\n",
       "      <td>Female</td>\n",
       "      <td>41</td>\n",
       "      <td>1.0</td>\n",
       "      <td>83807.86</td>\n",
       "      <td>1</td>\n",
       "      <td>0</td>\n",
       "      <td>1</td>\n",
       "      <td>112542.58</td>\n",
       "      <td>0</td>\n",
       "    </tr>\n",
       "    <tr>\n",
       "      <th>2</th>\n",
       "      <td>3</td>\n",
       "      <td>15619304</td>\n",
       "      <td>Onio</td>\n",
       "      <td>502</td>\n",
       "      <td>France</td>\n",
       "      <td>Female</td>\n",
       "      <td>42</td>\n",
       "      <td>8.0</td>\n",
       "      <td>159660.80</td>\n",
       "      <td>3</td>\n",
       "      <td>1</td>\n",
       "      <td>0</td>\n",
       "      <td>113931.57</td>\n",
       "      <td>1</td>\n",
       "    </tr>\n",
       "    <tr>\n",
       "      <th>3</th>\n",
       "      <td>4</td>\n",
       "      <td>15701354</td>\n",
       "      <td>Boni</td>\n",
       "      <td>699</td>\n",
       "      <td>France</td>\n",
       "      <td>Female</td>\n",
       "      <td>39</td>\n",
       "      <td>1.0</td>\n",
       "      <td>0.00</td>\n",
       "      <td>2</td>\n",
       "      <td>0</td>\n",
       "      <td>0</td>\n",
       "      <td>93826.63</td>\n",
       "      <td>0</td>\n",
       "    </tr>\n",
       "    <tr>\n",
       "      <th>4</th>\n",
       "      <td>5</td>\n",
       "      <td>15737888</td>\n",
       "      <td>Mitchell</td>\n",
       "      <td>850</td>\n",
       "      <td>Spain</td>\n",
       "      <td>Female</td>\n",
       "      <td>43</td>\n",
       "      <td>2.0</td>\n",
       "      <td>125510.82</td>\n",
       "      <td>1</td>\n",
       "      <td>1</td>\n",
       "      <td>1</td>\n",
       "      <td>79084.10</td>\n",
       "      <td>0</td>\n",
       "    </tr>\n",
       "  </tbody>\n",
       "</table>\n",
       "</div>"
      ],
      "text/plain": [
       "   RowNumber  CustomerId   Surname  CreditScore Geography  Gender  Age  \\\n",
       "0          1    15634602  Hargrave          619    France  Female   42   \n",
       "1          2    15647311      Hill          608     Spain  Female   41   \n",
       "2          3    15619304      Onio          502    France  Female   42   \n",
       "3          4    15701354      Boni          699    France  Female   39   \n",
       "4          5    15737888  Mitchell          850     Spain  Female   43   \n",
       "\n",
       "   Tenure    Balance  NumOfProducts  HasCrCard  IsActiveMember  \\\n",
       "0     2.0       0.00              1          1               1   \n",
       "1     1.0   83807.86              1          0               1   \n",
       "2     8.0  159660.80              3          1               0   \n",
       "3     1.0       0.00              2          0               0   \n",
       "4     2.0  125510.82              1          1               1   \n",
       "\n",
       "   EstimatedSalary  Exited  \n",
       "0        101348.88       1  \n",
       "1        112542.58       0  \n",
       "2        113931.57       1  \n",
       "3         93826.63       0  \n",
       "4         79084.10       0  "
      ]
     },
     "execution_count": 3,
     "metadata": {},
     "output_type": "execute_result"
    }
   ],
   "source": [
    "import pandas as pd\n",
    "import numpy as np\n",
    "from sklearn.model_selection import train_test_split\n",
    "from sklearn.preprocessing import StandardScaler\n",
    "from sklearn.tree import DecisionTreeClassifier\n",
    "from sklearn.ensemble import RandomForestClassifier \n",
    "from sklearn.linear_model import LogisticRegression \n",
    "from sklearn.metrics import accuracy_score\n",
    "from sklearn.metrics import f1_score\n",
    "from sklearn.utils import shuffle\n",
    "from sklearn.metrics import roc_curve\n",
    "from sklearn.metrics import roc_auc_score\n",
    "import matplotlib.pyplot as plt\n",
    "import warnings\n",
    "\n",
    "# mute notifications\n",
    "warnings.filterwarnings('ignore')\n",
    "\n",
    "# import data\n",
    "data = pd.read_csv('Churn.csv')\n",
    "data.head(5)"
   ]
  },
  {
   "cell_type": "markdown",
   "metadata": {},
   "source": [
    "Checking basic information about dataset"
   ]
  },
  {
   "cell_type": "code",
   "execution_count": 4,
   "metadata": {},
   "outputs": [
    {
     "name": "stdout",
     "output_type": "stream",
     "text": [
      "<class 'pandas.core.frame.DataFrame'>\n",
      "RangeIndex: 10000 entries, 0 to 9999\n",
      "Data columns (total 14 columns):\n",
      " #   Column           Non-Null Count  Dtype  \n",
      "---  ------           --------------  -----  \n",
      " 0   RowNumber        10000 non-null  int64  \n",
      " 1   CustomerId       10000 non-null  int64  \n",
      " 2   Surname          10000 non-null  object \n",
      " 3   CreditScore      10000 non-null  int64  \n",
      " 4   Geography        10000 non-null  object \n",
      " 5   Gender           10000 non-null  object \n",
      " 6   Age              10000 non-null  int64  \n",
      " 7   Tenure           9091 non-null   float64\n",
      " 8   Balance          10000 non-null  float64\n",
      " 9   NumOfProducts    10000 non-null  int64  \n",
      " 10  HasCrCard        10000 non-null  int64  \n",
      " 11  IsActiveMember   10000 non-null  int64  \n",
      " 12  EstimatedSalary  10000 non-null  float64\n",
      " 13  Exited           10000 non-null  int64  \n",
      "dtypes: float64(3), int64(8), object(3)\n",
      "memory usage: 1.1+ MB\n",
      "None\n",
      "\n",
      "         RowNumber    CustomerId   CreditScore           Age       Tenure  \\\n",
      "count  10000.00000  1.000000e+04  10000.000000  10000.000000  9091.000000   \n",
      "mean    5000.50000  1.569094e+07    650.528800     38.921800     4.997690   \n",
      "std     2886.89568  7.193619e+04     96.653299     10.487806     2.894723   \n",
      "min        1.00000  1.556570e+07    350.000000     18.000000     0.000000   \n",
      "25%     2500.75000  1.562853e+07    584.000000     32.000000     2.000000   \n",
      "50%     5000.50000  1.569074e+07    652.000000     37.000000     5.000000   \n",
      "75%     7500.25000  1.575323e+07    718.000000     44.000000     7.000000   \n",
      "max    10000.00000  1.581569e+07    850.000000     92.000000    10.000000   \n",
      "\n",
      "             Balance  NumOfProducts    HasCrCard  IsActiveMember  \\\n",
      "count   10000.000000   10000.000000  10000.00000    10000.000000   \n",
      "mean    76485.889288       1.530200      0.70550        0.515100   \n",
      "std     62397.405202       0.581654      0.45584        0.499797   \n",
      "min         0.000000       1.000000      0.00000        0.000000   \n",
      "25%         0.000000       1.000000      0.00000        0.000000   \n",
      "50%     97198.540000       1.000000      1.00000        1.000000   \n",
      "75%    127644.240000       2.000000      1.00000        1.000000   \n",
      "max    250898.090000       4.000000      1.00000        1.000000   \n",
      "\n",
      "       EstimatedSalary        Exited  \n",
      "count     10000.000000  10000.000000  \n",
      "mean     100090.239881      0.203700  \n",
      "std       57510.492818      0.402769  \n",
      "min          11.580000      0.000000  \n",
      "25%       51002.110000      0.000000  \n",
      "50%      100193.915000      0.000000  \n",
      "75%      149388.247500      0.000000  \n",
      "max      199992.480000      1.000000  \n"
     ]
    }
   ],
   "source": [
    "print(data.info())\n",
    "print('')\n",
    "print(data.describe())"
   ]
  },
  {
   "cell_type": "markdown",
   "metadata": {},
   "source": [
    "Based on the information received, the dataset contains 10,000 observations that display information about the bank's clients, as well as whether the client has left the bank. The dataset contains the following thirteen variables:\n",
    "\n",
    "- RowNumber - the index of the row in the data;\n",
    "- CustomerId - unique customer identifier;\n",
    "- Surname - surname;\n",
    "- CreditScore - credit rating;\n",
    "- Geography - country of residence;\n",
    "- Gender - gender;\n",
    "- Age - age;\n",
    "- Tenure - how many years a person has been a client of the bank;\n",
    "- Balance - account balance;\n",
    "- NumOfProducts - the number of bank products used by the client;\n",
    "- HasCrCard - availability of a credit card;\n",
    "- IsActiveMember - client activity;\n",
    "- EstimatedSalary - estimated salary;\n",
    "- Exited - the fact of the client leaving.\n",
    "\n",
    "If we talk about the types of variables, then there are three types in the dataset:\n",
    "\n",
    "- strings: variables 'Surname', 'Geography' and 'Gender';\n",
    "- integers: variables 'RowNumber', 'CustomerId', 'CreditScore', 'Age', 'NumOfProducts', 'HasCrCard', 'IsActiveMember', 'IsActiveMember', 'Exited' (many of these variables are binary, reflecting the fact or his absence);\n",
    "- real numbers: variables 'Tenure', 'Balance', 'EstimatedSalary'.\n",
    "\n",
    "Let's check the data for gaps and duplicates:"
   ]
  },
  {
   "cell_type": "code",
   "execution_count": 13,
   "metadata": {},
   "outputs": [
    {
     "data": {
      "text/plain": [
       "RowNumber          0\n",
       "CustomerId         0\n",
       "Surname            0\n",
       "CreditScore        0\n",
       "Geography          0\n",
       "Gender             0\n",
       "Age                0\n",
       "Tenure             0\n",
       "Balance            0\n",
       "NumOfProducts      0\n",
       "HasCrCard          0\n",
       "IsActiveMember     0\n",
       "EstimatedSalary    0\n",
       "Exited             0\n",
       "dtype: int64"
      ]
     },
     "execution_count": 13,
     "metadata": {},
     "output_type": "execute_result"
    }
   ],
   "source": [
    "data.isna().sum()"
   ]
  },
  {
   "cell_type": "markdown",
   "metadata": {},
   "source": [
    "There were 909 missing values in the variable representing the number of years a person has been a customer of the bank. Let's look at the values of this variable to see if the gaps can be filled with the median / mean:"
   ]
  },
  {
   "cell_type": "code",
   "execution_count": 14,
   "metadata": {},
   "outputs": [
    {
     "name": "stdout",
     "output_type": "stream",
     "text": [
      "Maximum number of years: 10.0\n",
      "Minimal number of years: 0.0\n",
      "Average number of years: 4.9979\n",
      "Median number of years: 5.0\n"
     ]
    }
   ],
   "source": [
    "Tenure_max = data['Tenure'].max()\n",
    "Tenure_min = data['Tenure'].min()\n",
    "Tenure_mean = data['Tenure'].mean()\n",
    "Tenure_median = data['Tenure'].median()\n",
    "print('Maximum number of years:', Tenure_max)\n",
    "print('Minimal number of years:', Tenure_min)\n",
    "print('Average number of years:', Tenure_mean)\n",
    "print('Median number of years:', Tenure_median)"
   ]
  },
  {
   "cell_type": "markdown",
   "metadata": {},
   "source": [
    "As can be seen, both the median and average values are very close to each other and are about 5 years. In this regard, I propose to fill in the gaps with a value of 5 (median):"
   ]
  },
  {
   "cell_type": "code",
   "execution_count": 15,
   "metadata": {},
   "outputs": [
    {
     "name": "stdout",
     "output_type": "stream",
     "text": [
      "0\n"
     ]
    }
   ],
   "source": [
    "data['Tenure'] = data['Tenure'].fillna(Tenure_median)\n",
    "print(data['Tenure'].isna().sum())"
   ]
  },
  {
   "cell_type": "markdown",
   "metadata": {},
   "source": [
    "Let's also check the data for duplicates:"
   ]
  },
  {
   "cell_type": "code",
   "execution_count": 16,
   "metadata": {},
   "outputs": [
    {
     "data": {
      "text/plain": [
       "0"
      ]
     },
     "execution_count": 16,
     "metadata": {},
     "output_type": "execute_result"
    }
   ],
   "source": [
    "data.duplicated().sum()"
   ]
  },
  {
   "cell_type": "markdown",
   "metadata": {},
   "source": [
    "There are no dublicates in dataset."
   ]
  },
  {
   "cell_type": "markdown",
   "metadata": {},
   "source": [
    "**Preparing features for machine learning**"
   ]
  },
  {
   "cell_type": "markdown",
   "metadata": {},
   "source": [
    "To begin with, I propose to simplify the dataset by removing unnecessary variables from it. Firstly, let's see the values of the 'RowNumber' variable:"
   ]
  },
  {
   "cell_type": "code",
   "execution_count": 17,
   "metadata": {},
   "outputs": [
    {
     "data": {
      "text/plain": [
       "array([    1,     2,     3, ...,  9998,  9999, 10000])"
      ]
     },
     "execution_count": 17,
     "metadata": {},
     "output_type": "execute_result"
    }
   ],
   "source": [
    "data['RowNumber'].unique()"
   ]
  },
  {
   "cell_type": "markdown",
   "metadata": {},
   "source": [
    "As can be seen, this variable duplicates line numbers and does not carry any semantic meaning for subsequent models. It can be removed.\n",
    "\n",
    "Also, given the main task - to predict whether a customer will leave the bank or not, two variables ('CustomerId' and 'Surname') will not make any difference, because with a high degree of probability they are not able to influence the customer's churn. Therefore, these variables can also be deleted. But just in case, let's first check these variables for duplicates:"
   ]
  },
  {
   "cell_type": "code",
   "execution_count": 18,
   "metadata": {},
   "outputs": [
    {
     "name": "stdout",
     "output_type": "stream",
     "text": [
      "10000\n",
      "10000\n"
     ]
    }
   ],
   "source": [
    "print(data['CustomerId'].value_counts().sum())\n",
    "print(data['Surname'].value_counts().sum())"
   ]
  },
  {
   "cell_type": "markdown",
   "metadata": {},
   "source": [
    "There are no dublicates, so we can carry out manipulations to remove three variables:"
   ]
  },
  {
   "cell_type": "code",
   "execution_count": 19,
   "metadata": {},
   "outputs": [
    {
     "data": {
      "text/html": [
       "<div>\n",
       "<style scoped>\n",
       "    .dataframe tbody tr th:only-of-type {\n",
       "        vertical-align: middle;\n",
       "    }\n",
       "\n",
       "    .dataframe tbody tr th {\n",
       "        vertical-align: top;\n",
       "    }\n",
       "\n",
       "    .dataframe thead th {\n",
       "        text-align: right;\n",
       "    }\n",
       "</style>\n",
       "<table border=\"1\" class=\"dataframe\">\n",
       "  <thead>\n",
       "    <tr style=\"text-align: right;\">\n",
       "      <th></th>\n",
       "      <th>CreditScore</th>\n",
       "      <th>Geography</th>\n",
       "      <th>Gender</th>\n",
       "      <th>Age</th>\n",
       "      <th>Tenure</th>\n",
       "      <th>Balance</th>\n",
       "      <th>NumOfProducts</th>\n",
       "      <th>HasCrCard</th>\n",
       "      <th>IsActiveMember</th>\n",
       "      <th>EstimatedSalary</th>\n",
       "      <th>Exited</th>\n",
       "    </tr>\n",
       "  </thead>\n",
       "  <tbody>\n",
       "    <tr>\n",
       "      <th>0</th>\n",
       "      <td>619</td>\n",
       "      <td>France</td>\n",
       "      <td>Female</td>\n",
       "      <td>42</td>\n",
       "      <td>2.0</td>\n",
       "      <td>0.00</td>\n",
       "      <td>1</td>\n",
       "      <td>1</td>\n",
       "      <td>1</td>\n",
       "      <td>101348.88</td>\n",
       "      <td>1</td>\n",
       "    </tr>\n",
       "    <tr>\n",
       "      <th>1</th>\n",
       "      <td>608</td>\n",
       "      <td>Spain</td>\n",
       "      <td>Female</td>\n",
       "      <td>41</td>\n",
       "      <td>1.0</td>\n",
       "      <td>83807.86</td>\n",
       "      <td>1</td>\n",
       "      <td>0</td>\n",
       "      <td>1</td>\n",
       "      <td>112542.58</td>\n",
       "      <td>0</td>\n",
       "    </tr>\n",
       "    <tr>\n",
       "      <th>2</th>\n",
       "      <td>502</td>\n",
       "      <td>France</td>\n",
       "      <td>Female</td>\n",
       "      <td>42</td>\n",
       "      <td>8.0</td>\n",
       "      <td>159660.80</td>\n",
       "      <td>3</td>\n",
       "      <td>1</td>\n",
       "      <td>0</td>\n",
       "      <td>113931.57</td>\n",
       "      <td>1</td>\n",
       "    </tr>\n",
       "    <tr>\n",
       "      <th>3</th>\n",
       "      <td>699</td>\n",
       "      <td>France</td>\n",
       "      <td>Female</td>\n",
       "      <td>39</td>\n",
       "      <td>1.0</td>\n",
       "      <td>0.00</td>\n",
       "      <td>2</td>\n",
       "      <td>0</td>\n",
       "      <td>0</td>\n",
       "      <td>93826.63</td>\n",
       "      <td>0</td>\n",
       "    </tr>\n",
       "    <tr>\n",
       "      <th>4</th>\n",
       "      <td>850</td>\n",
       "      <td>Spain</td>\n",
       "      <td>Female</td>\n",
       "      <td>43</td>\n",
       "      <td>2.0</td>\n",
       "      <td>125510.82</td>\n",
       "      <td>1</td>\n",
       "      <td>1</td>\n",
       "      <td>1</td>\n",
       "      <td>79084.10</td>\n",
       "      <td>0</td>\n",
       "    </tr>\n",
       "  </tbody>\n",
       "</table>\n",
       "</div>"
      ],
      "text/plain": [
       "   CreditScore Geography  Gender  Age  Tenure    Balance  NumOfProducts  \\\n",
       "0          619    France  Female   42     2.0       0.00              1   \n",
       "1          608     Spain  Female   41     1.0   83807.86              1   \n",
       "2          502    France  Female   42     8.0  159660.80              3   \n",
       "3          699    France  Female   39     1.0       0.00              2   \n",
       "4          850     Spain  Female   43     2.0  125510.82              1   \n",
       "\n",
       "   HasCrCard  IsActiveMember  EstimatedSalary  Exited  \n",
       "0          1               1        101348.88       1  \n",
       "1          0               1        112542.58       0  \n",
       "2          1               0        113931.57       1  \n",
       "3          0               0         93826.63       0  \n",
       "4          1               1         79084.10       0  "
      ]
     },
     "execution_count": 19,
     "metadata": {},
     "output_type": "execute_result"
    }
   ],
   "source": [
    "data_new = data.drop(['RowNumber', 'CustomerId', 'Surname'], axis=1)\n",
    "data_new.head(5)"
   ]
  },
  {
   "cell_type": "markdown",
   "metadata": {},
   "source": [
    "Next, let's work with categorical variables: 'Geography' and 'Gender'. To transform variables into dummies, I will use the OHE method:"
   ]
  },
  {
   "cell_type": "code",
   "execution_count": 20,
   "metadata": {},
   "outputs": [
    {
     "data": {
      "text/html": [
       "<div>\n",
       "<style scoped>\n",
       "    .dataframe tbody tr th:only-of-type {\n",
       "        vertical-align: middle;\n",
       "    }\n",
       "\n",
       "    .dataframe tbody tr th {\n",
       "        vertical-align: top;\n",
       "    }\n",
       "\n",
       "    .dataframe thead th {\n",
       "        text-align: right;\n",
       "    }\n",
       "</style>\n",
       "<table border=\"1\" class=\"dataframe\">\n",
       "  <thead>\n",
       "    <tr style=\"text-align: right;\">\n",
       "      <th></th>\n",
       "      <th>CreditScore</th>\n",
       "      <th>Age</th>\n",
       "      <th>Tenure</th>\n",
       "      <th>Balance</th>\n",
       "      <th>NumOfProducts</th>\n",
       "      <th>HasCrCard</th>\n",
       "      <th>IsActiveMember</th>\n",
       "      <th>EstimatedSalary</th>\n",
       "      <th>Exited</th>\n",
       "      <th>Geography_Germany</th>\n",
       "      <th>Geography_Spain</th>\n",
       "      <th>Gender_Male</th>\n",
       "    </tr>\n",
       "  </thead>\n",
       "  <tbody>\n",
       "    <tr>\n",
       "      <th>0</th>\n",
       "      <td>619</td>\n",
       "      <td>42</td>\n",
       "      <td>2.0</td>\n",
       "      <td>0.00</td>\n",
       "      <td>1</td>\n",
       "      <td>1</td>\n",
       "      <td>1</td>\n",
       "      <td>101348.88</td>\n",
       "      <td>1</td>\n",
       "      <td>0</td>\n",
       "      <td>0</td>\n",
       "      <td>0</td>\n",
       "    </tr>\n",
       "    <tr>\n",
       "      <th>1</th>\n",
       "      <td>608</td>\n",
       "      <td>41</td>\n",
       "      <td>1.0</td>\n",
       "      <td>83807.86</td>\n",
       "      <td>1</td>\n",
       "      <td>0</td>\n",
       "      <td>1</td>\n",
       "      <td>112542.58</td>\n",
       "      <td>0</td>\n",
       "      <td>0</td>\n",
       "      <td>1</td>\n",
       "      <td>0</td>\n",
       "    </tr>\n",
       "    <tr>\n",
       "      <th>2</th>\n",
       "      <td>502</td>\n",
       "      <td>42</td>\n",
       "      <td>8.0</td>\n",
       "      <td>159660.80</td>\n",
       "      <td>3</td>\n",
       "      <td>1</td>\n",
       "      <td>0</td>\n",
       "      <td>113931.57</td>\n",
       "      <td>1</td>\n",
       "      <td>0</td>\n",
       "      <td>0</td>\n",
       "      <td>0</td>\n",
       "    </tr>\n",
       "    <tr>\n",
       "      <th>3</th>\n",
       "      <td>699</td>\n",
       "      <td>39</td>\n",
       "      <td>1.0</td>\n",
       "      <td>0.00</td>\n",
       "      <td>2</td>\n",
       "      <td>0</td>\n",
       "      <td>0</td>\n",
       "      <td>93826.63</td>\n",
       "      <td>0</td>\n",
       "      <td>0</td>\n",
       "      <td>0</td>\n",
       "      <td>0</td>\n",
       "    </tr>\n",
       "    <tr>\n",
       "      <th>4</th>\n",
       "      <td>850</td>\n",
       "      <td>43</td>\n",
       "      <td>2.0</td>\n",
       "      <td>125510.82</td>\n",
       "      <td>1</td>\n",
       "      <td>1</td>\n",
       "      <td>1</td>\n",
       "      <td>79084.10</td>\n",
       "      <td>0</td>\n",
       "      <td>0</td>\n",
       "      <td>1</td>\n",
       "      <td>0</td>\n",
       "    </tr>\n",
       "  </tbody>\n",
       "</table>\n",
       "</div>"
      ],
      "text/plain": [
       "   CreditScore  Age  Tenure    Balance  NumOfProducts  HasCrCard  \\\n",
       "0          619   42     2.0       0.00              1          1   \n",
       "1          608   41     1.0   83807.86              1          0   \n",
       "2          502   42     8.0  159660.80              3          1   \n",
       "3          699   39     1.0       0.00              2          0   \n",
       "4          850   43     2.0  125510.82              1          1   \n",
       "\n",
       "   IsActiveMember  EstimatedSalary  Exited  Geography_Germany  \\\n",
       "0               1        101348.88       1                  0   \n",
       "1               1        112542.58       0                  0   \n",
       "2               0        113931.57       1                  0   \n",
       "3               0         93826.63       0                  0   \n",
       "4               1         79084.10       0                  0   \n",
       "\n",
       "   Geography_Spain  Gender_Male  \n",
       "0                0            0  \n",
       "1                1            0  \n",
       "2                0            0  \n",
       "3                0            0  \n",
       "4                1            0  "
      ]
     },
     "execution_count": 20,
     "metadata": {},
     "output_type": "execute_result"
    }
   ],
   "source": [
    "data_new = pd.get_dummies(data_new, drop_first=True)\n",
    "data_new.head(5)"
   ]
  },
  {
   "cell_type": "markdown",
   "metadata": {},
   "source": [
    "**Dividing the data into three samples: training, validation and test**"
   ]
  },
  {
   "cell_type": "code",
   "execution_count": 21,
   "metadata": {},
   "outputs": [
    {
     "name": "stdout",
     "output_type": "stream",
     "text": [
      "(6000, 12)\n",
      "(4000, 12)\n"
     ]
    }
   ],
   "source": [
    "# Separating the training sample from the available data\n",
    "# (equal to 60% of all data)\n",
    "data_train, data2 = train_test_split(data_new, test_size=0.4, random_state=12345) \n",
    "print(data_train.shape)\n",
    "print(data2.shape)"
   ]
  },
  {
   "cell_type": "code",
   "execution_count": 22,
   "metadata": {},
   "outputs": [
    {
     "name": "stdout",
     "output_type": "stream",
     "text": [
      "(2000, 12)\n",
      "(2000, 12)\n"
     ]
    }
   ],
   "source": [
    "# The remaining 40% of the sample will be divided into test \n",
    "# and validation samples (50% each, that is, 20% of the original data)\n",
    "data_valid, data_test = train_test_split(data2, test_size=0.5, random_state=12345)\n",
    "print(data_valid.shape)\n",
    "print(data_test.shape)"
   ]
  },
  {
   "cell_type": "markdown",
   "metadata": {},
   "source": [
    "Thus, there are three samples:\n",
    "\n",
    "- Training (data_train) with 6000 observations (60%);\n",
    "- Validation (data_valid) from 2000 observations (20%);\n",
    "- Test (data_test) with 2000 observations (20%).\n",
    "\n",
    "Now let's set variables with features and a target parameter (client leaving):"
   ]
  },
  {
   "cell_type": "code",
   "execution_count": 24,
   "metadata": {},
   "outputs": [
    {
     "name": "stdout",
     "output_type": "stream",
     "text": [
      "(6000, 11)\n",
      "(6000,)\n",
      "(2000, 11)\n",
      "(2000,)\n",
      "(2000, 11)\n",
      "(2000,)\n"
     ]
    }
   ],
   "source": [
    "# Subset for train sample:\n",
    "features_train = data_train.drop(['Exited'], axis=1)\n",
    "target_train = data_train['Exited']\n",
    "\n",
    "# Subset for validation sample:\n",
    "features_valid = data_valid.drop(['Exited'], axis=1)\n",
    "target_valid = data_valid['Exited']\n",
    "\n",
    "# Subset for test sample:\n",
    "features_test = data_test.drop(['Exited'], axis=1)\n",
    "target_test = data_test['Exited']\n",
    "\n",
    "# Checking shapes of new subsamples:\n",
    "print(features_train.shape)\n",
    "print(target_train.shape)\n",
    "print(features_valid.shape)\n",
    "print(target_valid.shape)\n",
    "print(features_test.shape)\n",
    "print(target_test.shape)"
   ]
  },
  {
   "cell_type": "markdown",
   "metadata": {},
   "source": [
    "**Features scaling**"
   ]
  },
  {
   "cell_type": "markdown",
   "metadata": {},
   "source": [
    "Scaling is carried out for numerical features (not dummy), so they should be fixed in a separate variable:"
   ]
  },
  {
   "cell_type": "code",
   "execution_count": 25,
   "metadata": {},
   "outputs": [
    {
     "data": {
      "text/html": [
       "<div>\n",
       "<style scoped>\n",
       "    .dataframe tbody tr th:only-of-type {\n",
       "        vertical-align: middle;\n",
       "    }\n",
       "\n",
       "    .dataframe tbody tr th {\n",
       "        vertical-align: top;\n",
       "    }\n",
       "\n",
       "    .dataframe thead th {\n",
       "        text-align: right;\n",
       "    }\n",
       "</style>\n",
       "<table border=\"1\" class=\"dataframe\">\n",
       "  <thead>\n",
       "    <tr style=\"text-align: right;\">\n",
       "      <th></th>\n",
       "      <th>CreditScore</th>\n",
       "      <th>Age</th>\n",
       "      <th>Tenure</th>\n",
       "      <th>Balance</th>\n",
       "      <th>NumOfProducts</th>\n",
       "      <th>HasCrCard</th>\n",
       "      <th>IsActiveMember</th>\n",
       "      <th>EstimatedSalary</th>\n",
       "      <th>Geography_Germany</th>\n",
       "      <th>Geography_Spain</th>\n",
       "      <th>Gender_Male</th>\n",
       "    </tr>\n",
       "  </thead>\n",
       "  <tbody>\n",
       "    <tr>\n",
       "      <th>7479</th>\n",
       "      <td>-0.886751</td>\n",
       "      <td>-0.373192</td>\n",
       "      <td>1.082277</td>\n",
       "      <td>1.232271</td>\n",
       "      <td>-0.891560</td>\n",
       "      <td>1</td>\n",
       "      <td>0</td>\n",
       "      <td>-0.187705</td>\n",
       "      <td>0</td>\n",
       "      <td>1</td>\n",
       "      <td>1</td>\n",
       "    </tr>\n",
       "    <tr>\n",
       "      <th>3411</th>\n",
       "      <td>0.608663</td>\n",
       "      <td>-0.183385</td>\n",
       "      <td>1.082277</td>\n",
       "      <td>0.600563</td>\n",
       "      <td>-0.891560</td>\n",
       "      <td>0</td>\n",
       "      <td>0</td>\n",
       "      <td>-0.333945</td>\n",
       "      <td>0</td>\n",
       "      <td>0</td>\n",
       "      <td>0</td>\n",
       "    </tr>\n",
       "    <tr>\n",
       "      <th>6027</th>\n",
       "      <td>2.052152</td>\n",
       "      <td>0.480939</td>\n",
       "      <td>-0.737696</td>\n",
       "      <td>1.027098</td>\n",
       "      <td>0.830152</td>\n",
       "      <td>0</td>\n",
       "      <td>1</td>\n",
       "      <td>1.503095</td>\n",
       "      <td>1</td>\n",
       "      <td>0</td>\n",
       "      <td>1</td>\n",
       "    </tr>\n",
       "    <tr>\n",
       "      <th>1247</th>\n",
       "      <td>-1.457915</td>\n",
       "      <td>-1.417129</td>\n",
       "      <td>0.354288</td>\n",
       "      <td>-1.233163</td>\n",
       "      <td>0.830152</td>\n",
       "      <td>1</td>\n",
       "      <td>0</td>\n",
       "      <td>-1.071061</td>\n",
       "      <td>0</td>\n",
       "      <td>0</td>\n",
       "      <td>1</td>\n",
       "    </tr>\n",
       "    <tr>\n",
       "      <th>3716</th>\n",
       "      <td>0.130961</td>\n",
       "      <td>-1.132419</td>\n",
       "      <td>-1.101690</td>\n",
       "      <td>1.140475</td>\n",
       "      <td>-0.891560</td>\n",
       "      <td>0</td>\n",
       "      <td>0</td>\n",
       "      <td>1.524268</td>\n",
       "      <td>1</td>\n",
       "      <td>0</td>\n",
       "      <td>0</td>\n",
       "    </tr>\n",
       "  </tbody>\n",
       "</table>\n",
       "</div>"
      ],
      "text/plain": [
       "      CreditScore       Age    Tenure   Balance  NumOfProducts  HasCrCard  \\\n",
       "7479    -0.886751 -0.373192  1.082277  1.232271      -0.891560          1   \n",
       "3411     0.608663 -0.183385  1.082277  0.600563      -0.891560          0   \n",
       "6027     2.052152  0.480939 -0.737696  1.027098       0.830152          0   \n",
       "1247    -1.457915 -1.417129  0.354288 -1.233163       0.830152          1   \n",
       "3716     0.130961 -1.132419 -1.101690  1.140475      -0.891560          0   \n",
       "\n",
       "      IsActiveMember  EstimatedSalary  Geography_Germany  Geography_Spain  \\\n",
       "7479               0        -0.187705                  0                1   \n",
       "3411               0        -0.333945                  0                0   \n",
       "6027               1         1.503095                  1                0   \n",
       "1247               0        -1.071061                  0                0   \n",
       "3716               0         1.524268                  1                0   \n",
       "\n",
       "      Gender_Male  \n",
       "7479            1  \n",
       "3411            0  \n",
       "6027            1  \n",
       "1247            1  \n",
       "3716            0  "
      ]
     },
     "execution_count": 25,
     "metadata": {},
     "output_type": "execute_result"
    }
   ],
   "source": [
    "numeric = ['CreditScore', 'Age', 'Tenure', 'Balance', 'NumOfProducts', 'EstimatedSalary']\n",
    "\n",
    "scaler = StandardScaler()\n",
    "scaler.fit(features_train[numeric])\n",
    "\n",
    "# Train sample:\n",
    "features_train[numeric] = scaler.transform(features_train[numeric])\n",
    "\n",
    "# Validation sample:\n",
    "features_valid[numeric] = scaler.transform(features_valid[numeric]) \n",
    "\n",
    "# Test sample:\n",
    "features_test[numeric] = scaler.transform(features_test[numeric]) \n",
    "\n",
    "# Transformation results on the training sample:\n",
    "features_train.head(5)"
   ]
  },
  {
   "cell_type": "markdown",
   "metadata": {},
   "source": [
    "Thus, the data was prepared for subsequent machine learning:\n",
    "\n",
    "- The sample, number and types of variables were examined;\n",
    "- A check for missing values was performed, the missing values in the 'Tenure' variable were filled with median value (= 5), and a duplicate check was also performed;\n",
    "- Extra variables have been removed;\n",
    "- Direct encoding (OHE) of the 'Geography' and 'Gender' variables was carried out, which made it possible to transform them into dummy variables;\n",
    "- The sample was divided into three new ones: training, validation and test;\n",
    "- Scaling of numerical features was carried out.\n",
    "\n",
    "Now, the data is ready for subsequent machine learning manipulations."
   ]
  },
  {
   "cell_type": "markdown",
   "metadata": {},
   "source": [
    "## Models testing"
   ]
  },
  {
   "cell_type": "markdown",
   "metadata": {},
   "source": [
    "Firstly, let's build three models: logistic regression, decision tree and random forest and compare their accuracy. To do this, let's write the accuracy_score function:"
   ]
  },
  {
   "cell_type": "code",
   "execution_count": 26,
   "metadata": {},
   "outputs": [],
   "source": [
    "def models_accuracy_score(features_train, target_train, features_valid, target_valid):\n",
    "    \n",
    "    # Logistic regression:\n",
    "    model_logit = LogisticRegression(random_state = 12345)\n",
    "    model_logit.fit(features_train, target_train)\n",
    "    logit_score = model_logit.score(features_valid, target_valid)\n",
    "    \n",
    "    # Decision tree:\n",
    "    model_tree = DecisionTreeClassifier(random_state = 12345)\n",
    "    model_tree.fit(features_train, target_train)\n",
    "    tree_score = model_tree.score(features_valid, target_valid)\n",
    "    \n",
    "    # Random forest:\n",
    "    model_forest = RandomForestClassifier(random_state=12345)\n",
    "    model_forest.fit(features_train, target_train)\n",
    "    forest_score = model_forest.score(features_valid, target_valid)\n",
    "    \n",
    "    print('Accuracy of Logistic regression:', logit_score, '\\n' \n",
    "          'Accuracy of Decision tree:', tree_score, '\\n'\n",
    "          'Accuracy of Random Forest:', forest_score)"
   ]
  },
  {
   "cell_type": "code",
   "execution_count": 27,
   "metadata": {},
   "outputs": [
    {
     "name": "stdout",
     "output_type": "stream",
     "text": [
      "Accuracy of Logistic regression: 0.802 \n",
      "Accuracy of Decision tree: 0.7935 \n",
      "Accuracy of Random Forest: 0.8585\n"
     ]
    }
   ],
   "source": [
    "models_accuracy_score(features_train, target_train, features_valid, target_valid)"
   ]
  },
  {
   "cell_type": "markdown",
   "metadata": {},
   "source": [
    "So, at the stage of studying the Accuracy value of the three models, the random forest model shows the best result: 0.8585. It should be noted that all three models have a fairly high level of proportion of correct answers (about 80% for each model), which can be explained by the class imbalance.\n",
    "\n",
    "**Class balance testing**\n",
    "\n",
    "Let's conduct a separate analysis of this phenomenon. Firstly, let's count the classes in the target variable:"
   ]
  },
  {
   "cell_type": "code",
   "execution_count": 28,
   "metadata": {},
   "outputs": [
    {
     "name": "stdout",
     "output_type": "stream",
     "text": [
      "0    0.7963\n",
      "1    0.2037\n",
      "Name: Exited, dtype: float64\n"
     ]
    },
    {
     "data": {
      "text/plain": [
       "<AxesSubplot:>"
      ]
     },
     "execution_count": 28,
     "metadata": {},
     "output_type": "execute_result"
    },
    {
     "data": {
      "image/png": "[encoded data removed]",
      "text/plain": [
       "<Figure size 432x288 with 1 Axes>"
      ]
     },
     "metadata": {
      "needs_background": "light"
     },
     "output_type": "display_data"
    }
   ],
   "source": [
    "class_frequency = data_new['Exited'].value_counts(normalize = True)\n",
    "print(class_frequency)\n",
    "class_frequency.plot(kind='bar', rot=0)"
   ]
  },
  {
   "cell_type": "markdown",
   "metadata": {},
   "source": [
    "As can be seen, the ratio of customers who did not leave and who left is roughly 80% to 20%, reflecting a rather strong class imbalance that makes the models more likely to predict 0.\n",
    "\n",
    "Let's also analyze the frequencies of the classes in the results of the predictions of all three models:"
   ]
  },
  {
   "cell_type": "code",
   "execution_count": 29,
   "metadata": {},
   "outputs": [],
   "source": [
    "def models_class_frequency(features_train, target_train, features_valid, target_valid):\n",
    "    \n",
    "    # Logistic regression:\n",
    "    model_logit = LogisticRegression(random_state = 12345)\n",
    "    model_logit.fit(features_train, target_train)\n",
    "    predicted_valid_logit = pd.Series(model_logit.predict(features_valid))\n",
    "    class_frequency_logit = predicted_valid_logit.value_counts(normalize = True)\n",
    "    \n",
    "    # Decision tree:\n",
    "    model_tree = DecisionTreeClassifier(random_state = 12345)\n",
    "    model_tree.fit(features_train, target_train)\n",
    "    predicted_valid_tree = pd.Series(model_tree.predict(features_valid))\n",
    "    class_frequency_tree = predicted_valid_tree.value_counts(normalize = True)\n",
    "\n",
    "    # Random forest:\n",
    "    model_forest = RandomForestClassifier(random_state=12345)\n",
    "    model_forest.fit(features_train, target_train)\n",
    "    predicted_valid_forest = pd.Series(model_forest.predict(features_valid))\n",
    "    class_frequency_forest = predicted_valid_forest.value_counts(normalize = True)\n",
    "    \n",
    "    print('Logistic regression response shares:', class_frequency_logit, '\\n' \n",
    "          'Decision tree response shares:', class_frequency_tree, '\\n'\n",
    "          'Random forest response shares:', class_frequency_forest)"
   ]
  },
  {
   "cell_type": "code",
   "execution_count": 30,
   "metadata": {},
   "outputs": [
    {
     "name": "stdout",
     "output_type": "stream",
     "text": [
      "Logistic regression response shares: 0    0.913\n",
      "1    0.087\n",
      "dtype: float64 \n",
      "Decision tree response shares: 0    0.7955\n",
      "1    0.2045\n",
      "dtype: float64 \n",
      "Random forest response shares: 0    0.8745\n",
      "1    0.1255\n",
      "dtype: float64\n"
     ]
    }
   ],
   "source": [
    "models_class_frequency(features_train, target_train, features_valid, target_valid)"
   ]
  },
  {
   "cell_type": "markdown",
   "metadata": {},
   "source": [
    "As can be seen, there is a strong imbalance in predictions. For example, logistic regression predicts a negative outcome in more than 90% of cases. The random forest, which previously showed high accuracy, also strongly tends to predict 0."
   ]
  },
  {
   "cell_type": "markdown",
   "metadata": {},
   "source": [
    "Let's compare the results obtained with the constant model:"
   ]
  },
  {
   "cell_type": "code",
   "execution_count": 31,
   "metadata": {},
   "outputs": [
    {
     "name": "stdout",
     "output_type": "stream",
     "text": [
      "0.791\n"
     ]
    }
   ],
   "source": [
    "target_pred_constant = pd.Series(np.zeros_like(target_valid))\n",
    "print(accuracy_score(target_valid, target_pred_constant))"
   ]
  },
  {
   "cell_type": "markdown",
   "metadata": {},
   "source": [
    "The constant model shows results that are close to what we obtained earlier when testing the three models. The problem is class imbalance.\n",
    "\n",
    "To do better testing of the models, let's turn to the F1 metric:"
   ]
  },
  {
   "cell_type": "code",
   "execution_count": 32,
   "metadata": {},
   "outputs": [],
   "source": [
    "def models_f1_score(features_train, target_train, features_valid, target_valid):\n",
    "    \n",
    "    # Logistica regression:\n",
    "    model_logit = LogisticRegression(random_state = 12345)\n",
    "    model_logit.fit(features_train, target_train)\n",
    "    predicted_valid_logit = pd.Series(model_logit.predict(features_valid))\n",
    "    logit_f1_score = f1_score(target_valid, predicted_valid_logit)\n",
    "    \n",
    "    # Devision tree:\n",
    "    model_tree = DecisionTreeClassifier(random_state = 12345)\n",
    "    model_tree.fit(features_train, target_train)\n",
    "    predicted_valid_tree = pd.Series(model_tree.predict(features_valid))\n",
    "    tree_f1_score = f1_score(target_valid, predicted_valid_tree)\n",
    "    \n",
    "    # Random forest:\n",
    "    model_forest = RandomForestClassifier(random_state=12345, n_estimators = 80)\n",
    "    model_forest.fit(features_train, target_train)\n",
    "    predicted_valid_forest = pd.Series(model_forest.predict(features_valid))\n",
    "    forest_f1_score = f1_score(target_valid, predicted_valid_forest)\n",
    "    \n",
    "    print('F1 of Logistic regression:', logit_f1_score, '\\n' \n",
    "          'F1 of Decision Tree:', tree_f1_score, '\\n'\n",
    "          'F1 of Random forest:', forest_f1_score)"
   ]
  },
  {
   "cell_type": "code",
   "execution_count": 33,
   "metadata": {},
   "outputs": [
    {
     "name": "stdout",
     "output_type": "stream",
     "text": [
      "F1 of Logistic regression: 0.33108108108108103 \n",
      "F1 of Decision Tree: 0.5006045949214026 \n",
      "F1 of Random forest: 0.5787106446776611\n"
     ]
    }
   ],
   "source": [
    "models_f1_score(features_train, target_train, features_valid, target_valid)"
   ]
  },
  {
   "cell_type": "markdown",
   "metadata": {},
   "source": [
    "Since F1 reflects the ratio of recall and accuracy, the higher it is, the more harmonious this ratio. As can be seen from the results presented, the most harmonious relationship is observed in the random forest model. Therefore, I further propose to continue to work on improving the quality of this model for the final model training."
   ]
  },
  {
   "cell_type": "markdown",
   "metadata": {},
   "source": [
    "**Choosing hyperparameters for the Random Forest:**"
   ]
  },
  {
   "cell_type": "code",
   "execution_count": 34,
   "metadata": {},
   "outputs": [
    {
     "name": "stdout",
     "output_type": "stream",
     "text": [
      "max_est = 15\n",
      "max_depth = 14\n",
      "F1 of the best model: 0.5941\n"
     ]
    }
   ],
   "source": [
    "best_model = None\n",
    "best_result = 0\n",
    "for est in range(10, 25):\n",
    "    for i in range(10, 20):\n",
    "        model_forest = RandomForestClassifier(random_state=12345, \n",
    "                                              n_estimators= est, \n",
    "                                              max_depth = i) \n",
    "        model_forest.fit(features_train, target_train)\n",
    "        predicted_valid_forest = model_forest.predict(features_valid)\n",
    "        result = f1_score(target_valid, predicted_valid_forest)\n",
    "        if result > best_result:\n",
    "            best_model = model_forest\n",
    "            best_result = result\n",
    "\n",
    "print(\"max_est =\", best_model.n_estimators, end='')\n",
    "print('')\n",
    "print(\"max_depth =\", best_model.max_depth, end='')\n",
    "print('')\n",
    "print(\"F1 of the best model: {:.4f}\".format(best_result))\n"
   ]
  },
  {
   "cell_type": "markdown",
   "metadata": {},
   "source": [
    "So, the best result of the F1 metric (0.59) for the Random Forest model was achieved with depth = 14 and number of trees = 15."
   ]
  },
  {
   "cell_type": "markdown",
   "metadata": {},
   "source": [
    "## Classes balancing"
   ]
  },
  {
   "cell_type": "markdown",
   "metadata": {},
   "source": [
    "**Upsampling**\n",
    "\n",
    "The first measure that should be taken to improve the quality of the model is to balance the classes, as their strong imbalance was previously identified. The first way to balance classes is to increase the number of the most important classes.\n",
    "\n",
    "To do this, let's create the upsample function and apply it to the most successful model - a random forest:"
   ]
  },
  {
   "cell_type": "code",
   "execution_count": 44,
   "metadata": {},
   "outputs": [
    {
     "name": "stdout",
     "output_type": "stream",
     "text": [
      "(9588, 11)\n",
      "(9588,)\n"
     ]
    }
   ],
   "source": [
    "def upsample(features, target, repeat):\n",
    "    features_zeros = features[target == 0]\n",
    "    features_ones = features[target == 1]\n",
    "    target_zeros = target[target == 0]\n",
    "    target_ones = target[target == 1]\n",
    "    features_upsampled = pd.concat([features_zeros] + [features_ones] * repeat)\n",
    "    target_upsampled = pd.concat([target_zeros] + [target_ones] * repeat)\n",
    "    features_upsampled = shuffle(features_upsampled, random_state=12345)\n",
    "    target_upsampled = shuffle(target_upsampled, random_state=12345)\n",
    "    return features_upsampled, target_upsampled\n",
    "\n",
    "features_upsampled, target_upsampled = upsample(features_train, target_train, 4)\n",
    "\n",
    "print(features_upsampled.shape)\n",
    "print(target_upsampled.shape)"
   ]
  },
  {
   "cell_type": "markdown",
   "metadata": {},
   "source": [
    "Let's check the balance of classes on an enlarged sample:"
   ]
  },
  {
   "cell_type": "code",
   "execution_count": 47,
   "metadata": {},
   "outputs": [
    {
     "data": {
      "text/html": [
       "<div>\n",
       "<style scoped>\n",
       "    .dataframe tbody tr th:only-of-type {\n",
       "        vertical-align: middle;\n",
       "    }\n",
       "\n",
       "    .dataframe tbody tr th {\n",
       "        vertical-align: top;\n",
       "    }\n",
       "\n",
       "    .dataframe thead th {\n",
       "        text-align: right;\n",
       "    }\n",
       "</style>\n",
       "<table border=\"1\" class=\"dataframe\">\n",
       "  <thead>\n",
       "    <tr style=\"text-align: right;\">\n",
       "      <th></th>\n",
       "      <th>index</th>\n",
       "      <th>Exited</th>\n",
       "    </tr>\n",
       "  </thead>\n",
       "  <tbody>\n",
       "    <tr>\n",
       "      <th>0</th>\n",
       "      <td>3637</td>\n",
       "      <td>1</td>\n",
       "    </tr>\n",
       "    <tr>\n",
       "      <th>1</th>\n",
       "      <td>3248</td>\n",
       "      <td>0</td>\n",
       "    </tr>\n",
       "    <tr>\n",
       "      <th>2</th>\n",
       "      <td>7516</td>\n",
       "      <td>0</td>\n",
       "    </tr>\n",
       "    <tr>\n",
       "      <th>3</th>\n",
       "      <td>7542</td>\n",
       "      <td>0</td>\n",
       "    </tr>\n",
       "    <tr>\n",
       "      <th>4</th>\n",
       "      <td>3490</td>\n",
       "      <td>1</td>\n",
       "    </tr>\n",
       "  </tbody>\n",
       "</table>\n",
       "</div>"
      ],
      "text/plain": [
       "   index  Exited\n",
       "0   3637       1\n",
       "1   3248       0\n",
       "2   7516       0\n",
       "3   7542       0\n",
       "4   3490       1"
      ]
     },
     "execution_count": 47,
     "metadata": {},
     "output_type": "execute_result"
    }
   ],
   "source": [
    "# making target_upsampled as a table with 'Exited' values\n",
    "target_upsampled_df = pd.DataFrame({'index':target_upsampled.index, 'Exited':target_upsampled.values})\n",
    "target_upsampled_df.head(5)"
   ]
  },
  {
   "cell_type": "code",
   "execution_count": 48,
   "metadata": {},
   "outputs": [
    {
     "name": "stdout",
     "output_type": "stream",
     "text": [
      "0    0.501043\n",
      "1    0.498957\n",
      "Name: Exited, dtype: float64\n"
     ]
    },
    {
     "data": {
      "text/plain": [
       "<AxesSubplot:>"
      ]
     },
     "execution_count": 48,
     "metadata": {},
     "output_type": "execute_result"
    },
    {
     "data": {
      "image/png": "[encoded data removed]",
      "text/plain": [
       "<Figure size 432x288 with 1 Axes>"
      ]
     },
     "metadata": {
      "needs_background": "light"
     },
     "output_type": "display_data"
    }
   ],
   "source": [
    "class_frequency = target_upsampled_df['Exited'].value_counts(normalize = True)\n",
    "print(class_frequency)\n",
    "class_frequency.plot(kind='bar', rot=0)"
   ]
  },
  {
   "cell_type": "markdown",
   "metadata": {},
   "source": [
    "As can be seen, with an increase in the presence of significant categories in the sample by 4 times, it was possible to achieve a balance in the prediction of classes. Let's see what happens when training a Random Forest on a larger sample: "
   ]
  },
  {
   "cell_type": "code",
   "execution_count": 49,
   "metadata": {},
   "outputs": [
    {
     "name": "stdout",
     "output_type": "stream",
     "text": [
      "F1 on upsampled sample: 0.6084656084656085\n"
     ]
    }
   ],
   "source": [
    "model_forest = RandomForestClassifier(random_state=12345)\n",
    "model_forest.fit(features_upsampled, target_upsampled) \n",
    "predicted_valid_upsampled = model_forest.predict(features_valid)\n",
    "print(\"F1 on upsampled sample:\", f1_score(target_valid, predicted_valid_upsampled))"
   ]
  },
  {
   "cell_type": "markdown",
   "metadata": {},
   "source": [
    "As can be seen, by increasing the sample, it was not possible to significantly increase the value of the prediction quality F1. But still it helped to reach the value = 0.6. "
   ]
  },
  {
   "cell_type": "markdown",
   "metadata": {},
   "source": [
    "**Downsampling**\n",
    "\n",
    "Let's also try the second option for - downsampling, which allows to remove some of the objects of a larger class:"
   ]
  },
  {
   "cell_type": "code",
   "execution_count": 73,
   "metadata": {},
   "outputs": [
    {
     "name": "stdout",
     "output_type": "stream",
     "text": [
      "(2637, 11)\n",
      "(2637,)\n"
     ]
    }
   ],
   "source": [
    "def downsample(features, target, fraction):\n",
    "    features_zeros = features[target == 0]\n",
    "    features_ones = features[target == 1]\n",
    "    target_zeros = target[target == 0]\n",
    "    target_ones = target[target == 1]\n",
    "    features_downsampled = pd.concat([features_zeros.sample(frac=fraction, random_state=12345)] + [features_ones]) \n",
    "    target_downsampled = pd.concat([target_zeros.sample(frac=fraction, random_state=12345)] + [target_ones]) \n",
    "    features_downsampled = shuffle(features_downsampled, random_state=12345)\n",
    "    target_downsampled = shuffle(target_downsampled, random_state=12345)\n",
    "    return features_downsampled, target_downsampled\n",
    "\n",
    "features_downsampled, target_downsampled = downsample(features_train, target_train, 0.3)\n",
    "\n",
    "print(features_downsampled.shape)\n",
    "print(target_downsampled.shape)"
   ]
  },
  {
   "cell_type": "markdown",
   "metadata": {},
   "source": [
    "Let's check the balance of classes on a downsampled sample:"
   ]
  },
  {
   "cell_type": "code",
   "execution_count": 74,
   "metadata": {},
   "outputs": [
    {
     "data": {
      "text/html": [
       "<div>\n",
       "<style scoped>\n",
       "    .dataframe tbody tr th:only-of-type {\n",
       "        vertical-align: middle;\n",
       "    }\n",
       "\n",
       "    .dataframe tbody tr th {\n",
       "        vertical-align: top;\n",
       "    }\n",
       "\n",
       "    .dataframe thead th {\n",
       "        text-align: right;\n",
       "    }\n",
       "</style>\n",
       "<table border=\"1\" class=\"dataframe\">\n",
       "  <thead>\n",
       "    <tr style=\"text-align: right;\">\n",
       "      <th></th>\n",
       "      <th>index</th>\n",
       "      <th>Exited</th>\n",
       "    </tr>\n",
       "  </thead>\n",
       "  <tbody>\n",
       "    <tr>\n",
       "      <th>0</th>\n",
       "      <td>2872</td>\n",
       "      <td>1</td>\n",
       "    </tr>\n",
       "    <tr>\n",
       "      <th>1</th>\n",
       "      <td>7748</td>\n",
       "      <td>1</td>\n",
       "    </tr>\n",
       "    <tr>\n",
       "      <th>2</th>\n",
       "      <td>1409</td>\n",
       "      <td>0</td>\n",
       "    </tr>\n",
       "    <tr>\n",
       "      <th>3</th>\n",
       "      <td>1657</td>\n",
       "      <td>1</td>\n",
       "    </tr>\n",
       "    <tr>\n",
       "      <th>4</th>\n",
       "      <td>3623</td>\n",
       "      <td>0</td>\n",
       "    </tr>\n",
       "  </tbody>\n",
       "</table>\n",
       "</div>"
      ],
      "text/plain": [
       "   index  Exited\n",
       "0   2872       1\n",
       "1   7748       1\n",
       "2   1409       0\n",
       "3   1657       1\n",
       "4   3623       0"
      ]
     },
     "execution_count": 74,
     "metadata": {},
     "output_type": "execute_result"
    }
   ],
   "source": [
    "# making target_downsampled as a table with values 'Exited'\n",
    "target_downsampled_df = pd.DataFrame({'index':target_downsampled.index, 'Exited':target_downsampled.values})\n",
    "target_downsampled_df.head(5)"
   ]
  },
  {
   "cell_type": "code",
   "execution_count": 75,
   "metadata": {},
   "outputs": [
    {
     "name": "stdout",
     "output_type": "stream",
     "text": [
      "0    0.546454\n",
      "1    0.453546\n",
      "Name: Exited, dtype: float64\n"
     ]
    },
    {
     "data": {
      "text/plain": [
       "<AxesSubplot:>"
      ]
     },
     "execution_count": 75,
     "metadata": {},
     "output_type": "execute_result"
    },
    {
     "data": {
      "image/png": "[encoded data removed]",
      "text/plain": [
       "<Figure size 432x288 with 1 Axes>"
      ]
     },
     "metadata": {
      "needs_background": "light"
     },
     "output_type": "display_data"
    }
   ],
   "source": [
    "class_frequency = target_downsampled_df['Exited'].value_counts(normalize = True)\n",
    "print(class_frequency)\n",
    "class_frequency.plot(kind='bar', rot=0)"
   ]
  },
  {
   "cell_type": "markdown",
   "metadata": {},
   "source": [
    "So, downsampling has made it possible to somewhat improve the class imbalance problem. Let's check if this helps to get a higher value of the model prediction quality:"
   ]
  },
  {
   "cell_type": "code",
   "execution_count": 77,
   "metadata": {},
   "outputs": [
    {
     "name": "stdout",
     "output_type": "stream",
     "text": [
      "F1 on downsampled sample: 0.5981688708036622\n"
     ]
    }
   ],
   "source": [
    "model_forest = RandomForestClassifier(random_state=12345)\n",
    "model_forest.fit(features_downsampled, target_downsampled) \n",
    "predicted_valid_downsampled = model_forest.predict(features_valid)\n",
    "print(\"F1 on downsampled sample:\", f1_score(target_valid, predicted_valid_downsampled))"
   ]
  },
  {
   "cell_type": "code",
   "execution_count": 78,
   "metadata": {},
   "outputs": [
    {
     "name": "stdout",
     "output_type": "stream",
     "text": [
      "F1 on unbalanced sample: 0.5787106446776611\n"
     ]
    }
   ],
   "source": [
    "model_forest = RandomForestClassifier(random_state=12345, n_estimators = 80)\n",
    "model_forest.fit(features_train, target_train)\n",
    "predicted_valid_forest = pd.Series(model_forest.predict(features_valid))\n",
    "print(\"F1 on unbalanced sample:\", f1_score(target_valid, predicted_valid_forest))"
   ]
  },
  {
   "cell_type": "markdown",
   "metadata": {},
   "source": [
    "As a result, the downsampling only slightly affected the F1 parameter, so this measure should be abandoned.\n",
    "\n",
    "**Hyperparameters of Random forest model for upsampled data**\n",
    "\n",
    "Let's go back to the upsampled data and check which hyperparameter values give the best results:"
   ]
  },
  {
   "cell_type": "code",
   "execution_count": 80,
   "metadata": {},
   "outputs": [
    {
     "name": "stdout",
     "output_type": "stream",
     "text": [
      "max_est = 20\n",
      "max_depth = 14\n",
      "F1 of the best model on upsampled sample: 0.6275\n"
     ]
    }
   ],
   "source": [
    "best_model = None\n",
    "best_result = 0\n",
    "for est in range(10, 25):\n",
    "    for i in range(10, 20):\n",
    "        model_forest = RandomForestClassifier(random_state=12345, \n",
    "                                              n_estimators= est, \n",
    "                                              max_depth = i) \n",
    "        model_forest.fit(features_upsampled, target_upsampled)\n",
    "        predicted_valid_upsampled = model_forest.predict(features_valid)\n",
    "        result = f1_score(target_valid, predicted_valid_upsampled)\n",
    "        if result > best_result:\n",
    "            best_model = model_forest\n",
    "            best_result = result\n",
    "\n",
    "print(\"max_est =\", best_model.n_estimators, end='')\n",
    "print('')\n",
    "print(\"max_depth =\", best_model.max_depth, end='')\n",
    "print('')\n",
    "print(\"F1 of the best model on upsampled sample: {:.4f}\".format(best_result))  \n"
   ]
  },
  {
   "cell_type": "markdown",
   "metadata": {},
   "source": [
    "All in all, as a result of maipulations with data, the highest F1 value, which was achieved, is about 0.62. It was obtained using the model of the Random Forest on an enlarged sample with the following hyperparameters:\n",
    "\n",
    "- n_estimators = 20\n",
    "- max_depth = 14."
   ]
  },
  {
   "cell_type": "code",
   "execution_count": 81,
   "metadata": {},
   "outputs": [
    {
     "name": "stdout",
     "output_type": "stream",
     "text": [
      "F1 of final model: 0.6274509803921569\n"
     ]
    }
   ],
   "source": [
    "model_forest_final = RandomForestClassifier(random_state=12345, \n",
    "                                              n_estimators=20, \n",
    "                                              max_depth=14) \n",
    "model_forest_final.fit(features_upsampled, target_upsampled)\n",
    "predicted_valid_upsampled_final = model_forest_final.predict(features_valid)\n",
    "result = f1_score(target_valid, predicted_valid_upsampled_final)\n",
    "print(\"F1 of final model:\", result)        "
   ]
  },
  {
   "cell_type": "markdown",
   "metadata": {},
   "source": [
    "Additionally, the AUC-ROC can be measured and compared with the obtained F1 value:"
   ]
  },
  {
   "cell_type": "code",
   "execution_count": 87,
   "metadata": {},
   "outputs": [
    {
     "data": {
      "image/png": "[encoded data removed]",
      "text/plain": [
       "<Figure size 432x288 with 1 Axes>"
      ]
     },
     "metadata": {
      "needs_background": "light"
     },
     "output_type": "display_data"
    }
   ],
   "source": [
    "probabilities_valid = model_forest_final.predict_proba(features_valid)\n",
    "probabilities_one_valid = probabilities_valid[:, 1]\n",
    "\n",
    "fpr, tpr, thresholds = roc_curve(target_valid, probabilities_one_valid) \n",
    "\n",
    "plt.figure()\n",
    "plt.plot(fpr, tpr)\n",
    "\n",
    "# ROC-curve of the random model\n",
    "plt.plot([0, 1], [0, 1], linestyle='--')\n",
    "\n",
    "plt.xlim([0.0, 1.0])\n",
    "plt.ylim([0.0, 1.0])\n",
    "plt.xlabel('False Positive Rate')\n",
    "plt.ylabel('True Positive Rate')\n",
    "plt.title('ROC-curve')\n",
    "\n",
    "plt.show()"
   ]
  },
  {
   "cell_type": "code",
   "execution_count": 83,
   "metadata": {},
   "outputs": [
    {
     "name": "stdout",
     "output_type": "stream",
     "text": [
      "AUC-ROC of final model: 0.8368850525347964\n"
     ]
    }
   ],
   "source": [
    "auc_roc = roc_auc_score(target_valid, probabilities_one_valid)\n",
    "\n",
    "print(\"AUC-ROC of final model:\", auc_roc)"
   ]
  },
  {
   "cell_type": "markdown",
   "metadata": {},
   "source": [
    "The quality metric AUC-ROC allows to compare the model with a random model. Using our model, we managed to reach a value of ≈ 0.83, which indicates a fairly good quality of the model."
   ]
  },
  {
   "cell_type": "markdown",
   "metadata": {},
   "source": [
    "In this way, thanks to the manipulations carried out, it was possible to:\n",
    "- tackle class imbalance by increasing the sample size;\n",
    "- find the hyperparameters at which the random forest model produced the highest value F1 = 0.62;\n",
    "- analyze the AUC-ROC metric, which has confirmed a fairly decent quality of the model.\n",
    "\n",
    "Next, the selected model on a test sample will be analyzed. "
   ]
  },
  {
   "cell_type": "markdown",
   "metadata": {},
   "source": [
    "## Checking the model on a test sample"
   ]
  },
  {
   "cell_type": "code",
   "execution_count": 84,
   "metadata": {},
   "outputs": [
    {
     "name": "stdout",
     "output_type": "stream",
     "text": [
      "F1 of the test model: 0.5749690210656753\n"
     ]
    }
   ],
   "source": [
    "final_prediction = model_forest_final.predict(features_test)\n",
    "print(\"F1 of the test model:\", f1_score(target_test, final_prediction))"
   ]
  },
  {
   "cell_type": "code",
   "execution_count": 85,
   "metadata": {},
   "outputs": [
    {
     "name": "stdout",
     "output_type": "stream",
     "text": [
      "AUC-ROC of the test model 0.8368850525347964\n"
     ]
    }
   ],
   "source": [
    "final_probabilities = model_forest_final.predict_proba(features_test)\n",
    "final_probabilities_one = probabilities_valid[:, 1]\n",
    "\n",
    "final_auc_roc = roc_auc_score(target_test, final_probabilities_one)\n",
    "\n",
    "print(\"AUC-ROC of the test model\", auc_roc)"
   ]
  },
  {
   "cell_type": "code",
   "execution_count": 88,
   "metadata": {},
   "outputs": [
    {
     "data": {
      "image/png": "[encoded data removed]",
      "text/plain": [
       "<Figure size 432x288 with 1 Axes>"
      ]
     },
     "metadata": {
      "needs_background": "light"
     },
     "output_type": "display_data"
    }
   ],
   "source": [
    "probabilities_test = model_forest_final.predict_proba(features_test)\n",
    "probabilities_one_test = probabilities_test[:, 1]\n",
    "\n",
    "fpr, tpr, thresholds = roc_curve(target_test, probabilities_one_test) \n",
    "\n",
    "plt.figure()\n",
    "plt.plot(fpr, tpr)\n",
    "\n",
    "# ROC-curve of the random model\n",
    "plt.plot([0, 1], [0, 1], linestyle='--')\n",
    "\n",
    "plt.xlim([0.0, 1.0])\n",
    "plt.ylim([0.0, 1.0])\n",
    "plt.xlabel('False Positive Rate')\n",
    "plt.ylabel('True Positive Rate')\n",
    "plt.title('ROC-curve')\n",
    "\n",
    "plt.show()"
   ]
  },
  {
   "cell_type": "markdown",
   "metadata": {},
   "source": [
    "To summarize, the work done allowed to build a model that showed decent values on the test sample:\n",
    "\n",
    "- F1 is around 0.57. This means that the ratio of completeness and accuracy metrics is around 6:4;\n",
    "- The AUC-ROC is 0.83. This measure shows how much the constructed model differs from the predictions of the random model. Since the obtained value is greater than 0.5, we can say that the constructed model predicts an order of magnitude better than a random one and can be used to predict the churn of bank customers."
   ]
  }
 ],
 "metadata": {
  "ExecuteTimeLog": [
   {
    "duration": 1253,
    "start_time": "2021-12-03T13:41:49.777Z"
   },
   {
    "duration": 3,
    "start_time": "2021-12-03T13:41:53.775Z"
   },
   {
    "duration": 2437,
    "start_time": "2021-12-03T13:41:56.989Z"
   },
   {
    "duration": 43,
    "start_time": "2021-12-03T13:42:19.842Z"
   },
   {
    "duration": 43,
    "start_time": "2021-12-03T13:42:32.012Z"
   },
   {
    "duration": 8,
    "start_time": "2021-12-03T13:43:11.926Z"
   },
   {
    "duration": 7,
    "start_time": "2021-12-03T13:43:28.198Z"
   },
   {
    "duration": 5,
    "start_time": "2021-12-03T13:43:39.091Z"
   },
   {
    "duration": 12,
    "start_time": "2021-12-03T13:43:50.771Z"
   },
   {
    "duration": 5,
    "start_time": "2021-12-03T13:44:17.845Z"
   },
   {
    "duration": 9,
    "start_time": "2021-12-03T13:44:33.972Z"
   },
   {
    "duration": 12,
    "start_time": "2021-12-03T13:44:44.942Z"
   },
   {
    "duration": 24,
    "start_time": "2021-12-03T13:44:58.888Z"
   },
   {
    "duration": 9,
    "start_time": "2021-12-03T13:45:09.731Z"
   },
   {
    "duration": 7,
    "start_time": "2021-12-03T13:45:13.229Z"
   },
   {
    "duration": 9,
    "start_time": "2021-12-03T13:45:34.315Z"
   },
   {
    "duration": 36,
    "start_time": "2021-12-03T13:45:51.243Z"
   },
   {
    "duration": 5,
    "start_time": "2021-12-03T13:46:37.668Z"
   },
   {
    "duration": 311,
    "start_time": "2021-12-03T13:46:42.299Z"
   },
   {
    "duration": 148,
    "start_time": "2021-12-03T13:46:55.615Z"
   },
   {
    "duration": 6,
    "start_time": "2021-12-03T13:47:13.078Z"
   },
   {
    "duration": 263,
    "start_time": "2021-12-03T13:47:17.146Z"
   },
   {
    "duration": 6,
    "start_time": "2021-12-03T13:47:34.368Z"
   },
   {
    "duration": 5,
    "start_time": "2021-12-03T13:47:45.380Z"
   },
   {
    "duration": 779,
    "start_time": "2021-12-03T13:47:50.715Z"
   },
   {
    "duration": 19,
    "start_time": "2021-12-03T13:48:15.259Z"
   },
   {
    "duration": 150,
    "start_time": "2021-12-03T13:48:25.517Z"
   },
   {
    "duration": 589,
    "start_time": "2021-12-03T13:48:37.564Z"
   },
   {
    "duration": 16,
    "start_time": "2021-12-03T13:48:52.867Z"
   },
   {
    "duration": 220,
    "start_time": "2021-12-03T13:48:55.508Z"
   },
   {
    "duration": 547,
    "start_time": "2021-12-03T13:48:59.539Z"
   },
   {
    "duration": 34333,
    "start_time": "2021-12-03T13:49:20.010Z"
   },
   {
    "duration": 285,
    "start_time": "2021-12-03T13:49:54.345Z"
   },
   {
    "duration": 178,
    "start_time": "2021-12-03T13:50:08.800Z"
   },
   {
    "duration": 6,
    "start_time": "2021-12-03T13:50:15.386Z"
   },
   {
    "duration": 16,
    "start_time": "2021-12-03T13:50:34.519Z"
   },
   {
    "duration": 16,
    "start_time": "2021-12-03T13:50:43.687Z"
   },
   {
    "duration": 107,
    "start_time": "2021-12-03T13:51:05.092Z"
   },
   {
    "duration": 199,
    "start_time": "2021-12-06T09:02:52.826Z"
   },
   {
    "duration": 1103,
    "start_time": "2021-12-06T09:02:58.678Z"
   },
   {
    "duration": 3,
    "start_time": "2021-12-06T09:02:59.782Z"
   },
   {
    "duration": 42,
    "start_time": "2021-12-06T09:02:59.788Z"
   },
   {
    "duration": 38,
    "start_time": "2021-12-06T09:02:59.832Z"
   },
   {
    "duration": 6,
    "start_time": "2021-12-06T09:02:59.871Z"
   },
   {
    "duration": 7,
    "start_time": "2021-12-06T09:03:00.240Z"
   },
   {
    "duration": 5,
    "start_time": "2021-12-06T09:03:00.500Z"
   },
   {
    "duration": 11,
    "start_time": "2021-12-06T09:03:00.959Z"
   },
   {
    "duration": 5,
    "start_time": "2021-12-06T09:03:01.540Z"
   },
   {
    "duration": 8,
    "start_time": "2021-12-06T09:03:01.836Z"
   },
   {
    "duration": 13,
    "start_time": "2021-12-06T09:03:02.143Z"
   },
   {
    "duration": 21,
    "start_time": "2021-12-06T09:03:02.637Z"
   },
   {
    "duration": 8,
    "start_time": "2021-12-06T09:03:03.477Z"
   },
   {
    "duration": 6,
    "start_time": "2021-12-06T09:03:03.667Z"
   },
   {
    "duration": 8,
    "start_time": "2021-12-06T09:03:04.167Z"
   },
   {
    "duration": 31,
    "start_time": "2021-12-06T09:03:05.163Z"
   },
   {
    "duration": 4,
    "start_time": "2021-12-06T09:03:06.348Z"
   },
   {
    "duration": 227,
    "start_time": "2021-12-06T09:03:06.745Z"
   },
   {
    "duration": 155,
    "start_time": "2021-12-06T09:03:07.858Z"
   },
   {
    "duration": 6,
    "start_time": "2021-12-06T09:03:23.064Z"
   },
   {
    "duration": 5,
    "start_time": "2021-12-06T09:03:37.721Z"
   },
   {
    "duration": 5,
    "start_time": "2021-12-06T09:03:48.003Z"
   },
   {
    "duration": 723,
    "start_time": "2021-12-06T09:03:54.395Z"
   },
   {
    "duration": 55,
    "start_time": "2021-12-06T09:04:16.272Z"
   },
   {
    "duration": 302,
    "start_time": "2021-12-06T09:12:02.658Z"
   },
   {
    "duration": 16422,
    "start_time": "2021-12-06T09:12:19.614Z"
   },
   {
    "duration": 224,
    "start_time": "2021-12-06T09:16:02.345Z"
   },
   {
    "duration": 232,
    "start_time": "2021-12-06T09:18:08.293Z"
   },
   {
    "duration": 15527,
    "start_time": "2021-12-06T09:18:33.208Z"
   },
   {
    "duration": 3,
    "start_time": "2021-12-06T09:18:48.737Z"
   },
   {
    "duration": 16006,
    "start_time": "2021-12-06T09:20:12.040Z"
   },
   {
    "duration": 15936,
    "start_time": "2021-12-06T09:21:52.136Z"
   },
   {
    "duration": 16324,
    "start_time": "2021-12-06T09:23:02.337Z"
   },
   {
    "duration": 15924,
    "start_time": "2021-12-06T09:23:42.253Z"
   },
   {
    "duration": 16160,
    "start_time": "2021-12-06T09:24:11.380Z"
   },
   {
    "duration": 55,
    "start_time": "2021-12-06T09:24:35.635Z"
   },
   {
    "duration": 16180,
    "start_time": "2021-12-06T09:24:58.224Z"
   },
   {
    "duration": 15951,
    "start_time": "2021-12-06T09:25:31.894Z"
   },
   {
    "duration": 59,
    "start_time": "2021-12-06T09:26:14.587Z"
   },
   {
    "duration": 16200,
    "start_time": "2021-12-06T09:26:17.264Z"
   },
   {
    "duration": 15851,
    "start_time": "2021-12-06T09:26:39.166Z"
   },
   {
    "duration": 1332,
    "start_time": "2021-12-06T09:31:39.413Z"
   },
   {
    "duration": 543,
    "start_time": "2021-12-06T09:32:23.994Z"
   },
   {
    "duration": 67,
    "start_time": "2021-12-06T09:40:12.442Z"
   },
   {
    "duration": 17,
    "start_time": "2021-12-06T09:42:23.800Z"
   },
   {
    "duration": 22,
    "start_time": "2021-12-06T09:42:34.882Z"
   },
   {
    "duration": 190,
    "start_time": "2021-12-06T09:42:48.430Z"
   },
   {
    "duration": 11,
    "start_time": "2021-12-06T09:42:52.792Z"
   },
   {
    "duration": 16,
    "start_time": "2021-12-06T09:43:02.925Z"
   },
   {
    "duration": 15,
    "start_time": "2021-12-06T09:43:49.978Z"
   },
   {
    "duration": 5,
    "start_time": "2021-12-06T09:43:59.182Z"
   },
   {
    "duration": 32,
    "start_time": "2021-12-06T09:44:11.698Z"
   },
   {
    "duration": 5,
    "start_time": "2021-12-06T09:44:39.847Z"
   },
   {
    "duration": 182,
    "start_time": "2021-12-06T09:44:49.856Z"
   },
   {
    "duration": 162,
    "start_time": "2021-12-06T09:45:24.351Z"
   },
   {
    "duration": 395,
    "start_time": "2021-12-06T09:45:31.553Z"
   },
   {
    "duration": 3,
    "start_time": "2021-12-06T09:45:36.311Z"
   },
   {
    "duration": 4,
    "start_time": "2021-12-06T09:45:39.873Z"
   },
   {
    "duration": 177,
    "start_time": "2021-12-06T09:46:27.334Z"
   },
   {
    "duration": 16,
    "start_time": "2021-12-06T09:47:56.771Z"
   },
   {
    "duration": 5,
    "start_time": "2021-12-06T09:48:01.767Z"
   },
   {
    "duration": 56,
    "start_time": "2021-12-06T09:48:17.469Z"
   },
   {
    "duration": 72,
    "start_time": "2021-12-06T09:48:24.024Z"
   },
   {
    "duration": 7,
    "start_time": "2021-12-06T09:48:35.456Z"
   },
   {
    "duration": 167,
    "start_time": "2021-12-06T09:48:42.977Z"
   },
   {
    "duration": 167,
    "start_time": "2021-12-06T09:49:04.838Z"
   },
   {
    "duration": 18,
    "start_time": "2021-12-06T09:49:11.452Z"
   },
   {
    "duration": 5,
    "start_time": "2021-12-06T09:49:11.834Z"
   },
   {
    "duration": 10,
    "start_time": "2021-12-06T09:49:14.350Z"
   },
   {
    "duration": 16,
    "start_time": "2021-12-06T09:49:22.240Z"
   },
   {
    "duration": 5,
    "start_time": "2021-12-06T09:49:22.447Z"
   },
   {
    "duration": 9,
    "start_time": "2021-12-06T09:49:26.017Z"
   },
   {
    "duration": 244,
    "start_time": "2021-12-06T09:50:34.474Z"
   },
   {
    "duration": 15,
    "start_time": "2021-12-06T09:50:40.741Z"
   },
   {
    "duration": 5,
    "start_time": "2021-12-06T09:50:41.012Z"
   },
   {
    "duration": 8,
    "start_time": "2021-12-06T09:50:42.779Z"
   },
   {
    "duration": 16,
    "start_time": "2021-12-06T09:50:51.428Z"
   },
   {
    "duration": 5,
    "start_time": "2021-12-06T09:50:51.777Z"
   },
   {
    "duration": 9,
    "start_time": "2021-12-06T09:50:59.419Z"
   },
   {
    "duration": 15,
    "start_time": "2021-12-06T09:51:14.390Z"
   },
   {
    "duration": 5,
    "start_time": "2021-12-06T09:51:14.601Z"
   },
   {
    "duration": 8,
    "start_time": "2021-12-06T09:51:16.448Z"
   },
   {
    "duration": 15,
    "start_time": "2021-12-06T09:51:25.230Z"
   },
   {
    "duration": 5,
    "start_time": "2021-12-06T09:51:25.436Z"
   },
   {
    "duration": 10,
    "start_time": "2021-12-06T09:51:28.073Z"
   },
   {
    "duration": 8,
    "start_time": "2021-12-06T09:51:31.816Z"
   },
   {
    "duration": 20,
    "start_time": "2021-12-06T09:51:37.056Z"
   },
   {
    "duration": 15,
    "start_time": "2021-12-06T09:51:59.667Z"
   },
   {
    "duration": 5,
    "start_time": "2021-12-06T09:52:00.166Z"
   },
   {
    "duration": 8,
    "start_time": "2021-12-06T09:52:03.577Z"
   },
   {
    "duration": 24,
    "start_time": "2021-12-06T09:52:06.108Z"
   },
   {
    "duration": 16,
    "start_time": "2021-12-06T09:52:22.017Z"
   },
   {
    "duration": 5,
    "start_time": "2021-12-06T09:52:23.297Z"
   },
   {
    "duration": 5,
    "start_time": "2021-12-06T09:52:28.177Z"
   },
   {
    "duration": 9,
    "start_time": "2021-12-06T09:52:37.109Z"
   },
   {
    "duration": 230,
    "start_time": "2021-12-06T09:52:40.295Z"
   },
   {
    "duration": 16,
    "start_time": "2021-12-06T09:52:44.646Z"
   },
   {
    "duration": 180,
    "start_time": "2021-12-06T09:52:46.362Z"
   },
   {
    "duration": 14,
    "start_time": "2021-12-06T09:52:49.764Z"
   },
   {
    "duration": 4,
    "start_time": "2021-12-06T09:52:50.215Z"
   },
   {
    "duration": 173,
    "start_time": "2021-12-06T09:52:52.430Z"
   },
   {
    "duration": 177,
    "start_time": "2021-12-06T09:53:06.705Z"
   },
   {
    "duration": 271,
    "start_time": "2021-12-06T09:53:08.698Z"
   },
   {
    "duration": 16,
    "start_time": "2021-12-06T09:53:12.515Z"
   },
   {
    "duration": 5,
    "start_time": "2021-12-06T09:53:12.712Z"
   },
   {
    "duration": 170,
    "start_time": "2021-12-06T09:53:15.314Z"
   },
   {
    "duration": 16,
    "start_time": "2021-12-06T09:53:22.093Z"
   },
   {
    "duration": 21,
    "start_time": "2021-12-06T09:53:24.477Z"
   },
   {
    "duration": 4393,
    "start_time": "2021-12-06T09:53:33.777Z"
   },
   {
    "duration": 5092,
    "start_time": "2021-12-06T09:53:45.495Z"
   },
   {
    "duration": 16,
    "start_time": "2021-12-06T09:53:55.354Z"
   },
   {
    "duration": 22,
    "start_time": "2021-12-06T09:53:57.453Z"
   },
   {
    "duration": 18,
    "start_time": "2021-12-06T09:54:14.774Z"
   },
   {
    "duration": 175,
    "start_time": "2021-12-06T09:54:35.810Z"
   },
   {
    "duration": 15,
    "start_time": "2021-12-06T09:54:39.180Z"
   },
   {
    "duration": 16,
    "start_time": "2021-12-06T09:55:44.980Z"
   },
   {
    "duration": 8,
    "start_time": "2021-12-06T09:55:45.197Z"
   },
   {
    "duration": 174,
    "start_time": "2021-12-06T09:55:50.398Z"
   },
   {
    "duration": 16,
    "start_time": "2021-12-06T09:55:52.222Z"
   },
   {
    "duration": 7,
    "start_time": "2021-12-06T09:55:52.692Z"
   },
   {
    "duration": 147,
    "start_time": "2021-12-06T09:56:22.886Z"
   },
   {
    "duration": 3,
    "start_time": "2021-12-06T09:58:48.220Z"
   },
   {
    "duration": 136,
    "start_time": "2021-12-06T10:00:22.019Z"
   },
   {
    "duration": 527,
    "start_time": "2021-12-06T10:00:24.708Z"
   },
   {
    "duration": 4,
    "start_time": "2021-12-06T10:01:33.418Z"
   },
   {
    "duration": 136,
    "start_time": "2021-12-06T10:01:55.566Z"
   },
   {
    "duration": 533,
    "start_time": "2021-12-06T10:01:56.849Z"
   },
   {
    "duration": 170,
    "start_time": "2021-12-06T10:01:58.570Z"
   },
   {
    "duration": 176,
    "start_time": "2021-12-06T10:02:48.742Z"
   },
   {
    "duration": 144,
    "start_time": "2021-12-06T10:02:55.790Z"
   },
   {
    "duration": 138,
    "start_time": "2021-12-06T10:02:57.080Z"
   },
   {
    "duration": 518,
    "start_time": "2021-12-06T10:02:58.225Z"
   },
   {
    "duration": 166,
    "start_time": "2021-12-06T10:02:59.087Z"
   },
   {
    "duration": 4,
    "start_time": "2021-12-06T10:03:35.798Z"
   },
   {
    "duration": 1017,
    "start_time": "2021-12-06T10:04:42.261Z"
   },
   {
    "duration": 4,
    "start_time": "2021-12-06T10:12:52.248Z"
   },
   {
    "duration": 668,
    "start_time": "2021-12-06T10:12:52.833Z"
   },
   {
    "duration": 3,
    "start_time": "2021-12-06T10:13:38.480Z"
   },
   {
    "duration": 136,
    "start_time": "2021-12-06T10:13:39.018Z"
   },
   {
    "duration": 73,
    "start_time": "2021-12-06T10:15:18.102Z"
   },
   {
    "duration": 79,
    "start_time": "2021-12-06T10:15:48.451Z"
   },
   {
    "duration": 134,
    "start_time": "2021-12-06T10:15:50.059Z"
   },
   {
    "duration": 75,
    "start_time": "2021-12-06T10:15:51.021Z"
   },
   {
    "duration": 20919,
    "start_time": "2021-12-06T10:17:29.306Z"
   },
   {
    "duration": 35531,
    "start_time": "2021-12-06T10:18:33.563Z"
   },
   {
    "duration": 142,
    "start_time": "2021-12-06T10:19:28.856Z"
   },
   {
    "duration": 30175,
    "start_time": "2021-12-06T10:20:17.027Z"
   },
   {
    "duration": 14,
    "start_time": "2021-12-06T10:21:51.218Z"
   },
   {
    "duration": 19,
    "start_time": "2021-12-06T10:22:26.973Z"
   },
   {
    "duration": 2413,
    "start_time": "2021-12-06T10:22:31.060Z"
   },
   {
    "duration": 141,
    "start_time": "2021-12-06T10:22:44.266Z"
   },
   {
    "duration": 5,
    "start_time": "2021-12-06T10:23:01.307Z"
   },
   {
    "duration": 3,
    "start_time": "2021-12-06T10:23:20.549Z"
   },
   {
    "duration": 2,
    "start_time": "2021-12-06T10:23:20.698Z"
   },
   {
    "duration": 38,
    "start_time": "2021-12-06T10:23:20.982Z"
   },
   {
    "duration": 93,
    "start_time": "2021-12-06T10:23:21.252Z"
   },
   {
    "duration": 7,
    "start_time": "2021-12-06T10:23:21.569Z"
   },
   {
    "duration": 6,
    "start_time": "2021-12-06T10:23:22.022Z"
   },
   {
    "duration": 5,
    "start_time": "2021-12-06T10:23:22.318Z"
   },
   {
    "duration": 11,
    "start_time": "2021-12-06T10:23:22.768Z"
   },
   {
    "duration": 5,
    "start_time": "2021-12-06T10:23:23.378Z"
   },
   {
    "duration": 8,
    "start_time": "2021-12-06T10:23:23.694Z"
   },
   {
    "duration": 14,
    "start_time": "2021-12-06T10:23:24.008Z"
   },
   {
    "duration": 20,
    "start_time": "2021-12-06T10:23:24.498Z"
   },
   {
    "duration": 7,
    "start_time": "2021-12-06T10:23:24.992Z"
   },
   {
    "duration": 7,
    "start_time": "2021-12-06T10:23:25.146Z"
   },
   {
    "duration": 10,
    "start_time": "2021-12-06T10:23:25.480Z"
   },
   {
    "duration": 33,
    "start_time": "2021-12-06T10:23:26.107Z"
   },
   {
    "duration": 5,
    "start_time": "2021-12-06T10:23:26.880Z"
   },
   {
    "duration": 272,
    "start_time": "2021-12-06T10:23:27.022Z"
   },
   {
    "duration": 144,
    "start_time": "2021-12-06T10:23:27.364Z"
   },
   {
    "duration": 5,
    "start_time": "2021-12-06T10:23:28.319Z"
   },
   {
    "duration": 293,
    "start_time": "2021-12-06T10:23:28.491Z"
   },
   {
    "duration": 5,
    "start_time": "2021-12-06T10:23:28.965Z"
   },
   {
    "duration": 5,
    "start_time": "2021-12-06T10:23:29.290Z"
   },
   {
    "duration": 722,
    "start_time": "2021-12-06T10:23:29.413Z"
   },
   {
    "duration": 535,
    "start_time": "2021-12-06T10:23:30.698Z"
   },
   {
    "duration": 15950,
    "start_time": "2021-12-06T10:23:31.315Z"
   },
   {
    "duration": 24,
    "start_time": "2021-12-06T10:23:47.267Z"
   },
   {
    "duration": -152,
    "start_time": "2021-12-06T10:23:50.226Z"
   },
   {
    "duration": 2793,
    "start_time": "2021-12-06T10:23:58.407Z"
   },
   {
    "duration": 9,
    "start_time": "2021-12-06T10:24:57.387Z"
   },
   {
    "duration": 186,
    "start_time": "2021-12-06T10:25:14.467Z"
   },
   {
    "duration": 18,
    "start_time": "2021-12-06T10:25:20.014Z"
   },
   {
    "duration": 9,
    "start_time": "2021-12-06T10:25:21.353Z"
   },
   {
    "duration": 142,
    "start_time": "2021-12-06T10:25:24.173Z"
   },
   {
    "duration": 5,
    "start_time": "2021-12-06T10:25:46.571Z"
   },
   {
    "duration": 9,
    "start_time": "2021-12-06T10:26:02.681Z"
   },
   {
    "duration": 183,
    "start_time": "2021-12-06T10:26:07.438Z"
   },
   {
    "duration": 14,
    "start_time": "2021-12-06T10:26:14.292Z"
   },
   {
    "duration": 7,
    "start_time": "2021-12-06T10:26:15.882Z"
   },
   {
    "duration": 16,
    "start_time": "2021-12-06T10:26:27.346Z"
   },
   {
    "duration": 10,
    "start_time": "2021-12-06T10:26:28.174Z"
   },
   {
    "duration": 125,
    "start_time": "2021-12-06T10:26:32.907Z"
   },
   {
    "duration": 223,
    "start_time": "2021-12-06T10:28:18.692Z"
   },
   {
    "duration": 183,
    "start_time": "2021-12-06T10:28:19.836Z"
   },
   {
    "duration": 1069,
    "start_time": "2021-12-06T10:28:28.933Z"
   },
   {
    "duration": 3,
    "start_time": "2021-12-06T10:28:30.004Z"
   },
   {
    "duration": 51,
    "start_time": "2021-12-06T10:28:30.009Z"
   },
   {
    "duration": 41,
    "start_time": "2021-12-06T10:28:30.062Z"
   },
   {
    "duration": 6,
    "start_time": "2021-12-06T10:28:30.105Z"
   },
   {
    "duration": 7,
    "start_time": "2021-12-06T10:28:30.138Z"
   },
   {
    "duration": 7,
    "start_time": "2021-12-06T10:28:30.323Z"
   },
   {
    "duration": 12,
    "start_time": "2021-12-06T10:28:30.687Z"
   },
   {
    "duration": 5,
    "start_time": "2021-12-06T10:28:31.324Z"
   },
   {
    "duration": 9,
    "start_time": "2021-12-06T10:28:31.628Z"
   },
   {
    "duration": 14,
    "start_time": "2021-12-06T10:28:31.882Z"
   },
   {
    "duration": 21,
    "start_time": "2021-12-06T10:28:32.436Z"
   },
   {
    "duration": 10,
    "start_time": "2021-12-06T10:28:33.069Z"
   },
   {
    "duration": 7,
    "start_time": "2021-12-06T10:28:33.214Z"
   },
   {
    "duration": 9,
    "start_time": "2021-12-06T10:28:33.556Z"
   },
   {
    "duration": 29,
    "start_time": "2021-12-06T10:28:34.219Z"
   },
   {
    "duration": 4,
    "start_time": "2021-12-06T10:28:35.257Z"
   },
   {
    "duration": 254,
    "start_time": "2021-12-06T10:28:35.718Z"
   },
   {
    "duration": 136,
    "start_time": "2021-12-06T10:28:36.748Z"
   },
   {
    "duration": 4,
    "start_time": "2021-12-06T10:28:38.770Z"
   },
   {
    "duration": 279,
    "start_time": "2021-12-06T10:28:38.893Z"
   },
   {
    "duration": 5,
    "start_time": "2021-12-06T10:28:39.714Z"
   },
   {
    "duration": 5,
    "start_time": "2021-12-06T10:28:40.076Z"
   },
   {
    "duration": 698,
    "start_time": "2021-12-06T10:28:40.222Z"
   },
   {
    "duration": 779,
    "start_time": "2021-12-06T10:28:43.054Z"
   },
   {
    "duration": 695,
    "start_time": "2021-12-06T10:28:46.659Z"
   },
   {
    "duration": 537,
    "start_time": "2021-12-06T10:29:00.538Z"
   },
   {
    "duration": 15994,
    "start_time": "2021-12-06T10:29:10.894Z"
   },
   {
    "duration": 17,
    "start_time": "2021-12-06T10:29:33.326Z"
   },
   {
    "duration": 8,
    "start_time": "2021-12-06T10:29:35.812Z"
   },
   {
    "duration": 135,
    "start_time": "2021-12-06T10:29:37.337Z"
   },
   {
    "duration": 138,
    "start_time": "2021-12-06T10:29:39.703Z"
   },
   {
    "duration": 87,
    "start_time": "2021-12-06T10:29:41.465Z"
   },
   {
    "duration": 3,
    "start_time": "2021-12-06T10:29:43.640Z"
   },
   {
    "duration": 30261,
    "start_time": "2021-12-06T10:30:22.111Z"
   },
   {
    "duration": 14,
    "start_time": "2021-12-06T10:30:55.830Z"
   },
   {
    "duration": 8,
    "start_time": "2021-12-06T10:30:58.115Z"
   },
   {
    "duration": 150,
    "start_time": "2021-12-06T10:30:59.881Z"
   },
   {
    "duration": 203,
    "start_time": "2021-12-06T10:31:02.284Z"
   },
   {
    "duration": 518,
    "start_time": "2021-12-06T10:31:05.477Z"
   },
   {
    "duration": 30567,
    "start_time": "2021-12-06T10:31:28.540Z"
   },
   {
    "duration": 320,
    "start_time": "2021-12-06T10:32:59.845Z"
   },
   {
    "duration": 3,
    "start_time": "2021-12-06T10:34:06.271Z"
   },
   {
    "duration": 3,
    "start_time": "2021-12-06T10:34:06.512Z"
   },
   {
    "duration": 40,
    "start_time": "2021-12-06T10:34:06.870Z"
   },
   {
    "duration": 42,
    "start_time": "2021-12-06T10:34:07.254Z"
   },
   {
    "duration": 7,
    "start_time": "2021-12-06T10:34:07.556Z"
   },
   {
    "duration": 8,
    "start_time": "2021-12-06T10:34:08.014Z"
   },
   {
    "duration": 5,
    "start_time": "2021-12-06T10:34:08.276Z"
   },
   {
    "duration": 13,
    "start_time": "2021-12-06T10:34:08.769Z"
   },
   {
    "duration": 5,
    "start_time": "2021-12-06T10:34:09.292Z"
   },
   {
    "duration": 10,
    "start_time": "2021-12-06T10:34:09.642Z"
   },
   {
    "duration": 13,
    "start_time": "2021-12-06T10:34:09.942Z"
   },
   {
    "duration": 22,
    "start_time": "2021-12-06T10:34:10.496Z"
   },
   {
    "duration": 8,
    "start_time": "2021-12-06T10:34:10.968Z"
   },
   {
    "duration": 7,
    "start_time": "2021-12-06T10:34:11.111Z"
   },
   {
    "duration": 10,
    "start_time": "2021-12-06T10:34:11.418Z"
   },
   {
    "duration": 32,
    "start_time": "2021-12-06T10:34:12.600Z"
   },
   {
    "duration": 5,
    "start_time": "2021-12-06T10:34:12.777Z"
   },
   {
    "duration": 250,
    "start_time": "2021-12-06T10:34:12.931Z"
   },
   {
    "duration": 133,
    "start_time": "2021-12-06T10:34:13.252Z"
   },
   {
    "duration": 5,
    "start_time": "2021-12-06T10:34:13.557Z"
   },
   {
    "duration": 268,
    "start_time": "2021-12-06T10:34:13.704Z"
   },
   {
    "duration": 5,
    "start_time": "2021-12-06T10:34:14.196Z"
   },
   {
    "duration": 5,
    "start_time": "2021-12-06T10:34:14.530Z"
   },
   {
    "duration": 752,
    "start_time": "2021-12-06T10:34:14.688Z"
   },
   {
    "duration": 549,
    "start_time": "2021-12-06T10:34:16.259Z"
   },
   {
    "duration": 16124,
    "start_time": "2021-12-06T10:34:17.007Z"
   },
   {
    "duration": 17,
    "start_time": "2021-12-06T10:34:33.133Z"
   },
   {
    "duration": 7,
    "start_time": "2021-12-06T10:34:33.152Z"
   },
   {
    "duration": 220,
    "start_time": "2021-12-06T10:34:33.161Z"
   },
   {
    "duration": 150,
    "start_time": "2021-12-06T10:34:33.382Z"
   },
   {
    "duration": 80,
    "start_time": "2021-12-06T10:34:33.534Z"
   },
   {
    "duration": 4,
    "start_time": "2021-12-06T10:34:33.615Z"
   },
   {
    "duration": 145,
    "start_time": "2021-12-06T10:34:33.621Z"
   },
   {
    "duration": 30411,
    "start_time": "2021-12-06T10:34:33.768Z"
   },
   {
    "duration": 17,
    "start_time": "2021-12-06T10:35:04.181Z"
   },
   {
    "duration": 9,
    "start_time": "2021-12-06T10:35:04.199Z"
   },
   {
    "duration": 157,
    "start_time": "2021-12-06T10:35:04.210Z"
   },
   {
    "duration": 206,
    "start_time": "2021-12-06T10:35:04.368Z"
   },
   {
    "duration": 529,
    "start_time": "2021-12-06T10:35:04.576Z"
   },
   {
    "duration": 309,
    "start_time": "2021-12-06T10:35:05.107Z"
   },
   {
    "duration": 249,
    "start_time": "2021-12-06T10:35:29.505Z"
   },
   {
    "duration": 29958,
    "start_time": "2021-12-06T10:36:38.751Z"
   },
   {
    "duration": 261,
    "start_time": "2021-12-06T10:37:15.068Z"
   },
   {
    "duration": 16,
    "start_time": "2021-12-06T10:37:39.419Z"
   },
   {
    "duration": 141,
    "start_time": "2021-12-06T10:37:45.345Z"
   },
   {
    "duration": 77,
    "start_time": "2021-12-06T10:37:47.101Z"
   },
   {
    "duration": 3,
    "start_time": "2021-12-06T10:37:48.922Z"
   },
   {
    "duration": 298,
    "start_time": "2021-12-06T10:38:44.279Z"
   },
   {
    "duration": 31173,
    "start_time": "2021-12-06T10:39:56.970Z"
   },
   {
    "duration": 62,
    "start_time": "2021-12-06T10:40:57.754Z"
   },
   {
    "duration": 297,
    "start_time": "2021-12-06T10:41:37.956Z"
   },
   {
    "duration": 307,
    "start_time": "2021-12-06T10:41:44.980Z"
   },
   {
    "duration": 245,
    "start_time": "2021-12-06T10:42:04.277Z"
   },
   {
    "duration": 293,
    "start_time": "2021-12-06T10:42:13.862Z"
   },
   {
    "duration": 304,
    "start_time": "2021-12-06T10:43:27.412Z"
   },
   {
    "duration": 34,
    "start_time": "2021-12-06T10:44:05.514Z"
   },
   {
    "duration": 527,
    "start_time": "2021-12-06T10:44:06.910Z"
   },
   {
    "duration": 150,
    "start_time": "2021-12-06T10:44:23.874Z"
   },
   {
    "duration": 527,
    "start_time": "2021-12-06T10:44:59.590Z"
   },
   {
    "duration": 16,
    "start_time": "2021-12-06T10:45:22.555Z"
   },
   {
    "duration": 18,
    "start_time": "2021-12-06T10:45:32.845Z"
   },
   {
    "duration": 142,
    "start_time": "2021-12-06T10:46:33.455Z"
   },
   {
    "duration": 76,
    "start_time": "2021-12-06T10:46:35.299Z"
   },
   {
    "duration": 3,
    "start_time": "2021-12-06T10:46:37.755Z"
   },
   {
    "duration": 137,
    "start_time": "2021-12-06T10:46:40.106Z"
   },
   {
    "duration": 30783,
    "start_time": "2021-12-06T10:46:50.728Z"
   },
   {
    "duration": 31099,
    "start_time": "2021-12-06T10:48:34.700Z"
   },
   {
    "duration": 30925,
    "start_time": "2021-12-06T10:49:35.285Z"
   },
   {
    "duration": 30301,
    "start_time": "2021-12-06T10:51:30.083Z"
   },
   {
    "duration": 41649,
    "start_time": "2021-12-06T10:54:59.848Z"
   },
   {
    "duration": 54,
    "start_time": "2021-12-06T10:56:35.071Z"
   },
   {
    "duration": 309,
    "start_time": "2021-12-06T10:56:49.482Z"
   },
   {
    "duration": 306,
    "start_time": "2021-12-06T10:57:15.712Z"
   },
   {
    "duration": 300,
    "start_time": "2021-12-06T10:57:21.968Z"
   },
   {
    "duration": 30317,
    "start_time": "2021-12-06T10:57:26.102Z"
   },
   {
    "duration": 5,
    "start_time": "2021-12-06T10:58:26.477Z"
   },
   {
    "duration": 3207,
    "start_time": "2021-12-06T10:58:35.921Z"
   },
   {
    "duration": 31083,
    "start_time": "2021-12-06T11:00:09.876Z"
   },
   {
    "duration": 30205,
    "start_time": "2021-12-06T11:02:20.364Z"
   },
   {
    "duration": -125,
    "start_time": "2021-12-06T11:03:44.664Z"
   },
   {
    "duration": 4,
    "start_time": "2021-12-06T11:07:23.994Z"
   },
   {
    "duration": 5,
    "start_time": "2021-12-06T11:07:24.010Z"
   },
   {
    "duration": 27,
    "start_time": "2021-12-06T11:07:24.027Z"
   },
   {
    "duration": 41,
    "start_time": "2021-12-06T11:07:24.095Z"
   },
   {
    "duration": 27,
    "start_time": "2021-12-06T11:07:24.143Z"
   },
   {
    "duration": 8,
    "start_time": "2021-12-06T11:07:28.570Z"
   },
   {
    "duration": 5,
    "start_time": "2021-12-06T11:07:29.164Z"
   },
   {
    "duration": 13,
    "start_time": "2021-12-06T11:07:29.701Z"
   },
   {
    "duration": 5,
    "start_time": "2021-12-06T11:07:30.405Z"
   },
   {
    "duration": 8,
    "start_time": "2021-12-06T11:07:30.795Z"
   },
   {
    "duration": 13,
    "start_time": "2021-12-06T11:07:31.127Z"
   },
   {
    "duration": 24,
    "start_time": "2021-12-06T11:07:31.609Z"
   },
   {
    "duration": 8,
    "start_time": "2021-12-06T11:07:32.081Z"
   },
   {
    "duration": 7,
    "start_time": "2021-12-06T11:07:32.253Z"
   },
   {
    "duration": 9,
    "start_time": "2021-12-06T11:07:32.576Z"
   },
   {
    "duration": 32,
    "start_time": "2021-12-06T11:07:33.223Z"
   },
   {
    "duration": 4,
    "start_time": "2021-12-06T11:07:34.599Z"
   },
   {
    "duration": 298,
    "start_time": "2021-12-06T11:07:34.760Z"
   },
   {
    "duration": 139,
    "start_time": "2021-12-06T11:07:35.126Z"
   },
   {
    "duration": 5,
    "start_time": "2021-12-06T11:07:35.433Z"
   },
   {
    "duration": 277,
    "start_time": "2021-12-06T11:07:35.597Z"
   },
   {
    "duration": 5,
    "start_time": "2021-12-06T11:07:36.104Z"
   },
   {
    "duration": 5,
    "start_time": "2021-12-06T11:07:36.487Z"
   },
   {
    "duration": 759,
    "start_time": "2021-12-06T11:07:36.666Z"
   },
   {
    "duration": 539,
    "start_time": "2021-12-06T11:07:38.121Z"
   },
   {
    "duration": 15877,
    "start_time": "2021-12-06T11:07:38.747Z"
   },
   {
    "duration": 17,
    "start_time": "2021-12-06T11:07:54.625Z"
   },
   {
    "duration": 7,
    "start_time": "2021-12-06T11:07:54.644Z"
   },
   {
    "duration": 163,
    "start_time": "2021-12-06T11:07:54.653Z"
   },
   {
    "duration": 151,
    "start_time": "2021-12-06T11:07:54.818Z"
   },
   {
    "duration": 83,
    "start_time": "2021-12-06T11:07:54.971Z"
   },
   {
    "duration": 3,
    "start_time": "2021-12-06T11:07:55.056Z"
   },
   {
    "duration": 149,
    "start_time": "2021-12-06T11:07:55.062Z"
   },
   {
    "duration": 30166,
    "start_time": "2021-12-06T11:08:25.853Z"
   },
   {
    "duration": 316,
    "start_time": "2021-12-06T11:08:56.021Z"
   },
   {
    "duration": 1086,
    "start_time": "2021-12-06T11:09:26.321Z"
   },
   {
    "duration": 2,
    "start_time": "2021-12-06T11:09:27.409Z"
   },
   {
    "duration": 45,
    "start_time": "2021-12-06T11:09:27.413Z"
   },
   {
    "duration": 39,
    "start_time": "2021-12-06T11:09:27.460Z"
   },
   {
    "duration": 6,
    "start_time": "2021-12-06T11:09:27.501Z"
   },
   {
    "duration": 7,
    "start_time": "2021-12-06T11:09:27.509Z"
   },
   {
    "duration": 4,
    "start_time": "2021-12-06T11:09:27.518Z"
   },
   {
    "duration": 13,
    "start_time": "2021-12-06T11:09:27.524Z"
   },
   {
    "duration": 3,
    "start_time": "2021-12-06T11:09:27.540Z"
   },
   {
    "duration": 8,
    "start_time": "2021-12-06T11:09:27.545Z"
   },
   {
    "duration": 12,
    "start_time": "2021-12-06T11:09:27.590Z"
   },
   {
    "duration": 22,
    "start_time": "2021-12-06T11:09:27.604Z"
   },
   {
    "duration": 7,
    "start_time": "2021-12-06T11:09:27.628Z"
   },
   {
    "duration": 5,
    "start_time": "2021-12-06T11:09:27.637Z"
   },
   {
    "duration": 8,
    "start_time": "2021-12-06T11:09:27.644Z"
   },
   {
    "duration": 61,
    "start_time": "2021-12-06T11:09:27.654Z"
   },
   {
    "duration": 4,
    "start_time": "2021-12-06T11:09:27.716Z"
   },
   {
    "duration": 274,
    "start_time": "2021-12-06T11:09:27.722Z"
   },
   {
    "duration": 161,
    "start_time": "2021-12-06T11:09:27.998Z"
   },
   {
    "duration": 5,
    "start_time": "2021-12-06T11:09:28.161Z"
   },
   {
    "duration": 311,
    "start_time": "2021-12-06T11:09:28.167Z"
   },
   {
    "duration": 13,
    "start_time": "2021-12-06T11:09:28.480Z"
   },
   {
    "duration": 5,
    "start_time": "2021-12-06T11:09:28.495Z"
   },
   {
    "duration": 730,
    "start_time": "2021-12-06T11:09:28.502Z"
   },
   {
    "duration": 525,
    "start_time": "2021-12-06T11:09:29.234Z"
   },
   {
    "duration": 16353,
    "start_time": "2021-12-06T11:09:29.761Z"
   },
   {
    "duration": 15,
    "start_time": "2021-12-06T11:09:46.117Z"
   },
   {
    "duration": 7,
    "start_time": "2021-12-06T11:09:46.133Z"
   },
   {
    "duration": 157,
    "start_time": "2021-12-06T11:09:46.142Z"
   },
   {
    "duration": 146,
    "start_time": "2021-12-06T11:09:46.301Z"
   },
   {
    "duration": 84,
    "start_time": "2021-12-06T11:09:46.448Z"
   },
   {
    "duration": 3,
    "start_time": "2021-12-06T11:09:46.534Z"
   },
   {
    "duration": 152,
    "start_time": "2021-12-06T11:09:46.539Z"
   },
   {
    "duration": 30442,
    "start_time": "2021-12-06T11:09:46.693Z"
   },
   {
    "duration": 307,
    "start_time": "2021-12-06T11:10:17.137Z"
   },
   {
    "duration": 31046,
    "start_time": "2021-12-06T11:10:17.445Z"
   },
   {
    "duration": 7,
    "start_time": "2021-12-06T11:10:48.508Z"
   },
   {
    "duration": 169,
    "start_time": "2021-12-06T11:10:48.516Z"
   },
   {
    "duration": 37,
    "start_time": "2021-12-06T11:10:48.687Z"
   },
   {
    "duration": 538,
    "start_time": "2021-12-06T11:10:48.726Z"
   },
   {
    "duration": 324,
    "start_time": "2021-12-06T11:10:49.266Z"
   },
   {
    "duration": 188,
    "start_time": "2021-12-06T11:10:49.592Z"
   },
   {
    "duration": 14,
    "start_time": "2021-12-06T11:10:49.782Z"
   },
   {
    "duration": 17,
    "start_time": "2021-12-06T11:10:49.797Z"
   },
   {
    "duration": 16,
    "start_time": "2021-12-06T11:10:49.815Z"
   },
   {
    "duration": 12,
    "start_time": "2021-12-06T11:10:49.833Z"
   },
   {
    "duration": 30560,
    "start_time": "2021-12-06T11:11:05.458Z"
   },
   {
    "duration": 60,
    "start_time": "2021-12-06T11:11:58.563Z"
   },
   {
    "duration": 30320,
    "start_time": "2021-12-06T11:12:04.694Z"
   },
   {
    "duration": 16223,
    "start_time": "2021-12-06T11:13:24.567Z"
   },
   {
    "duration": 248,
    "start_time": "2021-12-06T11:14:42.576Z"
   },
   {
    "duration": 173,
    "start_time": "2021-12-06T11:14:53.141Z"
   },
   {
    "duration": 7,
    "start_time": "2021-12-06T11:14:58.312Z"
   },
   {
    "duration": 54,
    "start_time": "2021-12-06T11:20:05.935Z"
   },
   {
    "duration": 79,
    "start_time": "2021-12-06T11:21:12.273Z"
   },
   {
    "duration": 33,
    "start_time": "2021-12-06T11:23:13.648Z"
   },
   {
    "duration": 4,
    "start_time": "2021-12-06T11:23:41.318Z"
   },
   {
    "duration": 4,
    "start_time": "2021-12-06T11:26:49.879Z"
   },
   {
    "duration": 1059,
    "start_time": "2021-12-06T11:26:50.231Z"
   },
   {
    "duration": 34,
    "start_time": "2021-12-06T11:26:57.923Z"
   },
   {
    "duration": 3,
    "start_time": "2021-12-06T11:26:58.681Z"
   },
   {
    "duration": 395,
    "start_time": "2021-12-06T11:26:59.090Z"
   },
   {
    "duration": 4,
    "start_time": "2021-12-06T11:27:07.349Z"
   },
   {
    "duration": 3,
    "start_time": "2021-12-06T11:27:07.530Z"
   },
   {
    "duration": 37,
    "start_time": "2021-12-06T11:27:07.907Z"
   },
   {
    "duration": 103,
    "start_time": "2021-12-06T11:27:08.371Z"
   },
   {
    "duration": 7,
    "start_time": "2021-12-06T11:27:08.669Z"
   },
   {
    "duration": 7,
    "start_time": "2021-12-06T11:27:09.131Z"
   },
   {
    "duration": 6,
    "start_time": "2021-12-06T11:27:09.423Z"
   },
   {
    "duration": 12,
    "start_time": "2021-12-06T11:27:09.865Z"
   },
   {
    "duration": 5,
    "start_time": "2021-12-06T11:27:10.488Z"
   },
   {
    "duration": 9,
    "start_time": "2021-12-06T11:27:10.929Z"
   },
   {
    "duration": 13,
    "start_time": "2021-12-06T11:27:11.245Z"
   },
   {
    "duration": 21,
    "start_time": "2021-12-06T11:27:11.724Z"
   },
   {
    "duration": 8,
    "start_time": "2021-12-06T11:27:12.182Z"
   },
   {
    "duration": 7,
    "start_time": "2021-12-06T11:27:12.368Z"
   },
   {
    "duration": 9,
    "start_time": "2021-12-06T11:27:13.421Z"
   },
   {
    "duration": 31,
    "start_time": "2021-12-06T11:27:13.464Z"
   },
   {
    "duration": 4,
    "start_time": "2021-12-06T11:27:14.275Z"
   },
   {
    "duration": 293,
    "start_time": "2021-12-06T11:27:14.466Z"
   },
   {
    "duration": 142,
    "start_time": "2021-12-06T11:27:14.833Z"
   },
   {
    "duration": 5,
    "start_time": "2021-12-06T11:27:15.376Z"
   },
   {
    "duration": 259,
    "start_time": "2021-12-06T11:27:15.551Z"
   },
   {
    "duration": 5,
    "start_time": "2021-12-06T11:27:16.227Z"
   },
   {
    "duration": 5,
    "start_time": "2021-12-06T11:27:16.703Z"
   },
   {
    "duration": 731,
    "start_time": "2021-12-06T11:27:16.908Z"
   },
   {
    "duration": 537,
    "start_time": "2021-12-06T11:27:18.804Z"
   },
   {
    "duration": 16190,
    "start_time": "2021-12-06T11:27:19.343Z"
   },
   {
    "duration": 16,
    "start_time": "2021-12-06T11:27:35.535Z"
   },
   {
    "duration": 7,
    "start_time": "2021-12-06T11:27:35.552Z"
   },
   {
    "duration": 239,
    "start_time": "2021-12-06T11:27:35.561Z"
   },
   {
    "duration": 161,
    "start_time": "2021-12-06T11:27:35.802Z"
   },
   {
    "duration": 84,
    "start_time": "2021-12-06T11:27:35.966Z"
   },
   {
    "duration": 3,
    "start_time": "2021-12-06T11:27:36.052Z"
   },
   {
    "duration": 155,
    "start_time": "2021-12-06T11:27:36.057Z"
   },
   {
    "duration": 30294,
    "start_time": "2021-12-06T11:27:36.214Z"
   },
   {
    "duration": 15,
    "start_time": "2021-12-06T11:28:06.510Z"
   },
   {
    "duration": 7,
    "start_time": "2021-12-06T11:28:06.526Z"
   },
   {
    "duration": 164,
    "start_time": "2021-12-06T11:28:06.535Z"
   },
   {
    "duration": 35,
    "start_time": "2021-12-06T11:28:06.701Z"
   },
   {
    "duration": 541,
    "start_time": "2021-12-06T11:28:06.737Z"
   },
   {
    "duration": 57,
    "start_time": "2021-12-06T11:28:07.279Z"
   },
   {
    "duration": 34,
    "start_time": "2021-12-06T11:28:07.338Z"
   },
   {
    "duration": 3,
    "start_time": "2021-12-06T11:28:07.374Z"
   },
   {
    "duration": 386,
    "start_time": "2021-12-06T11:28:07.391Z"
   },
   {
    "duration": 3,
    "start_time": "2021-12-06T11:28:29.421Z"
   },
   {
    "duration": 458,
    "start_time": "2021-12-06T11:28:30.496Z"
   },
   {
    "duration": 4,
    "start_time": "2021-12-06T11:29:37.364Z"
   },
   {
    "duration": 2,
    "start_time": "2021-12-06T11:29:37.558Z"
   },
   {
    "duration": 37,
    "start_time": "2021-12-06T11:29:37.860Z"
   },
   {
    "duration": 41,
    "start_time": "2021-12-06T11:29:38.120Z"
   },
   {
    "duration": 7,
    "start_time": "2021-12-06T11:29:38.414Z"
   },
   {
    "duration": 6,
    "start_time": "2021-12-06T11:29:38.832Z"
   },
   {
    "duration": 5,
    "start_time": "2021-12-06T11:29:39.074Z"
   },
   {
    "duration": 12,
    "start_time": "2021-12-06T11:29:39.694Z"
   },
   {
    "duration": 4,
    "start_time": "2021-12-06T11:29:40.340Z"
   },
   {
    "duration": 9,
    "start_time": "2021-12-06T11:29:40.706Z"
   },
   {
    "duration": 14,
    "start_time": "2021-12-06T11:29:41.106Z"
   },
   {
    "duration": 21,
    "start_time": "2021-12-06T11:29:41.591Z"
   },
   {
    "duration": 8,
    "start_time": "2021-12-06T11:29:42.033Z"
   },
   {
    "duration": 9,
    "start_time": "2021-12-06T11:29:42.122Z"
   },
   {
    "duration": 10,
    "start_time": "2021-12-06T11:29:42.386Z"
   },
   {
    "duration": 33,
    "start_time": "2021-12-06T11:29:43.155Z"
   },
   {
    "duration": 5,
    "start_time": "2021-12-06T11:29:44.172Z"
   },
   {
    "duration": 238,
    "start_time": "2021-12-06T11:29:44.336Z"
   },
   {
    "duration": 152,
    "start_time": "2021-12-06T11:29:44.665Z"
   },
   {
    "duration": 6,
    "start_time": "2021-12-06T11:29:45.017Z"
   },
   {
    "duration": 297,
    "start_time": "2021-12-06T11:29:45.169Z"
   },
   {
    "duration": 7,
    "start_time": "2021-12-06T11:29:45.697Z"
   },
   {
    "duration": 5,
    "start_time": "2021-12-06T11:29:46.196Z"
   },
   {
    "duration": 740,
    "start_time": "2021-12-06T11:29:46.346Z"
   },
   {
    "duration": 533,
    "start_time": "2021-12-06T11:29:47.933Z"
   },
   {
    "duration": 16124,
    "start_time": "2021-12-06T11:29:48.467Z"
   },
   {
    "duration": 17,
    "start_time": "2021-12-06T11:30:04.593Z"
   },
   {
    "duration": 7,
    "start_time": "2021-12-06T11:30:04.612Z"
   },
   {
    "duration": 161,
    "start_time": "2021-12-06T11:30:04.621Z"
   },
   {
    "duration": 138,
    "start_time": "2021-12-06T11:30:04.784Z"
   },
   {
    "duration": 82,
    "start_time": "2021-12-06T11:30:04.925Z"
   },
   {
    "duration": 4,
    "start_time": "2021-12-06T11:30:05.009Z"
   },
   {
    "duration": 150,
    "start_time": "2021-12-06T11:30:05.014Z"
   },
   {
    "duration": 30436,
    "start_time": "2021-12-06T11:30:05.165Z"
   },
   {
    "duration": 13,
    "start_time": "2021-12-06T11:30:35.603Z"
   },
   {
    "duration": 13,
    "start_time": "2021-12-06T11:30:35.617Z"
   },
   {
    "duration": 151,
    "start_time": "2021-12-06T11:30:35.632Z"
   },
   {
    "duration": 39,
    "start_time": "2021-12-06T11:30:35.785Z"
   },
   {
    "duration": 528,
    "start_time": "2021-12-06T11:30:35.826Z"
   },
   {
    "duration": 60,
    "start_time": "2021-12-06T11:30:36.356Z"
   },
   {
    "duration": 32,
    "start_time": "2021-12-06T11:30:36.418Z"
   },
   {
    "duration": 3,
    "start_time": "2021-12-06T11:30:36.452Z"
   },
   {
    "duration": 460,
    "start_time": "2021-12-06T11:30:36.458Z"
   },
   {
    "duration": 692,
    "start_time": "2021-12-06T11:33:38.077Z"
   },
   {
    "duration": 937,
    "start_time": "2021-12-06T11:33:44.663Z"
   },
   {
    "duration": 14,
    "start_time": "2021-12-06T11:35:12.316Z"
   },
   {
    "duration": 188,
    "start_time": "2021-12-06T11:38:00.994Z"
   },
   {
    "duration": 53,
    "start_time": "2021-12-06T11:42:01.944Z"
   },
   {
    "duration": 100,
    "start_time": "2021-12-06T11:42:09.596Z"
   },
   {
    "duration": 59,
    "start_time": "2021-12-06T11:42:30.901Z"
   },
   {
    "duration": 67,
    "start_time": "2021-12-06T11:42:33.827Z"
   },
   {
    "duration": 86,
    "start_time": "2021-12-06T11:44:00.810Z"
   },
   {
    "duration": 56,
    "start_time": "2021-12-06T11:45:51.536Z"
   },
   {
    "duration": 18,
    "start_time": "2021-12-06T11:47:26.582Z"
   },
   {
    "duration": 15,
    "start_time": "2021-12-06T11:47:30.968Z"
   },
   {
    "duration": 179,
    "start_time": "2021-12-06T11:48:48.515Z"
   },
   {
    "duration": 587,
    "start_time": "2021-12-07T08:18:33.653Z"
   },
   {
    "duration": 1580,
    "start_time": "2021-12-07T08:18:38.921Z"
   },
   {
    "duration": 3,
    "start_time": "2021-12-07T08:18:40.503Z"
   },
   {
    "duration": 58,
    "start_time": "2021-12-07T08:18:40.510Z"
   },
   {
    "duration": 62,
    "start_time": "2021-12-07T08:18:40.571Z"
   },
   {
    "duration": 29,
    "start_time": "2021-12-07T08:18:40.635Z"
   },
   {
    "duration": 11,
    "start_time": "2021-12-07T08:18:40.666Z"
   },
   {
    "duration": 7,
    "start_time": "2021-12-07T08:18:40.870Z"
   },
   {
    "duration": 19,
    "start_time": "2021-12-07T08:18:41.339Z"
   },
   {
    "duration": 6,
    "start_time": "2021-12-07T08:18:41.991Z"
   },
   {
    "duration": 12,
    "start_time": "2021-12-07T08:18:42.322Z"
   },
   {
    "duration": 18,
    "start_time": "2021-12-07T08:18:42.686Z"
   },
   {
    "duration": 32,
    "start_time": "2021-12-07T08:18:43.260Z"
   },
   {
    "duration": 11,
    "start_time": "2021-12-07T08:18:43.907Z"
   },
   {
    "duration": 8,
    "start_time": "2021-12-07T08:18:44.125Z"
   },
   {
    "duration": 13,
    "start_time": "2021-12-07T08:18:44.529Z"
   },
   {
    "duration": 46,
    "start_time": "2021-12-07T08:18:45.491Z"
   },
   {
    "duration": 7,
    "start_time": "2021-12-07T08:18:46.700Z"
   },
   {
    "duration": 339,
    "start_time": "2021-12-07T08:18:46.866Z"
   },
   {
    "duration": 341,
    "start_time": "2021-12-07T08:18:47.262Z"
   },
   {
    "duration": 7,
    "start_time": "2021-12-07T08:18:47.899Z"
   },
   {
    "duration": 337,
    "start_time": "2021-12-07T08:18:48.664Z"
   },
   {
    "duration": 7,
    "start_time": "2021-12-07T08:18:49.468Z"
   },
   {
    "duration": 7,
    "start_time": "2021-12-07T08:18:49.998Z"
   },
   {
    "duration": 1255,
    "start_time": "2021-12-07T08:18:50.360Z"
   },
   {
    "duration": 802,
    "start_time": "2021-12-07T08:18:53.655Z"
   },
   {
    "duration": 25503,
    "start_time": "2021-12-07T08:18:54.460Z"
   },
   {
    "duration": 38,
    "start_time": "2021-12-07T08:19:19.966Z"
   },
   {
    "duration": 9,
    "start_time": "2021-12-07T08:19:20.007Z"
   },
   {
    "duration": 351,
    "start_time": "2021-12-07T08:19:20.019Z"
   },
   {
    "duration": 22,
    "start_time": "2021-12-07T08:19:35.196Z"
   },
   {
    "duration": 11,
    "start_time": "2021-12-07T08:19:36.277Z"
   },
   {
    "duration": 224,
    "start_time": "2021-12-07T08:19:36.743Z"
   },
   {
    "duration": 166,
    "start_time": "2021-12-07T08:19:43.689Z"
   },
   {
    "duration": 7,
    "start_time": "2021-12-07T08:19:49.314Z"
   },
   {
    "duration": 162,
    "start_time": "2021-12-07T08:19:49.730Z"
   },
   {
    "duration": 38626,
    "start_time": "2021-12-07T08:19:56.687Z"
   },
   {
    "duration": 20,
    "start_time": "2021-12-07T08:20:59.036Z"
   },
   {
    "duration": 22,
    "start_time": "2021-12-07T08:21:04.071Z"
   },
   {
    "duration": 21,
    "start_time": "2021-12-07T08:21:12.214Z"
   },
   {
    "duration": 11,
    "start_time": "2021-12-07T08:21:14.690Z"
   },
   {
    "duration": 227,
    "start_time": "2021-12-07T08:21:16.128Z"
   },
   {
    "duration": 30,
    "start_time": "2021-12-07T08:22:38.134Z"
   },
   {
    "duration": 11,
    "start_time": "2021-12-07T08:22:40.106Z"
   },
   {
    "duration": 216,
    "start_time": "2021-12-07T08:22:40.425Z"
   },
   {
    "duration": 25,
    "start_time": "2021-12-07T08:22:44.752Z"
   },
   {
    "duration": 11,
    "start_time": "2021-12-07T08:22:45.854Z"
   },
   {
    "duration": 303,
    "start_time": "2021-12-07T08:22:46.228Z"
   },
   {
    "duration": 24,
    "start_time": "2021-12-07T08:22:51.862Z"
   },
   {
    "duration": 10,
    "start_time": "2021-12-07T08:22:52.750Z"
   },
   {
    "duration": 202,
    "start_time": "2021-12-07T08:22:53.102Z"
   },
   {
    "duration": 19,
    "start_time": "2021-12-07T08:22:57.257Z"
   },
   {
    "duration": 10,
    "start_time": "2021-12-07T08:22:57.849Z"
   },
   {
    "duration": 222,
    "start_time": "2021-12-07T08:22:58.270Z"
   },
   {
    "duration": 26,
    "start_time": "2021-12-07T08:23:03.701Z"
   },
   {
    "duration": 11,
    "start_time": "2021-12-07T08:23:04.224Z"
   },
   {
    "duration": 442,
    "start_time": "2021-12-07T08:23:04.717Z"
   },
   {
    "duration": 262,
    "start_time": "2021-12-07T08:23:09.162Z"
   },
   {
    "duration": 110,
    "start_time": "2021-12-07T08:23:11.529Z"
   },
   {
    "duration": 5,
    "start_time": "2021-12-07T08:23:15.630Z"
   },
   {
    "duration": 153,
    "start_time": "2021-12-07T08:23:16.292Z"
   },
   {
    "duration": 36393,
    "start_time": "2021-12-07T08:23:34.472Z"
   },
   {
    "duration": 287,
    "start_time": "2021-12-07T08:24:39.573Z"
   },
   {
    "duration": 262,
    "start_time": "2021-12-07T08:24:42.267Z"
   },
   {
    "duration": 8,
    "start_time": "2021-12-07T08:24:56.129Z"
   },
   {
    "duration": 20,
    "start_time": "2021-12-07T08:24:59.121Z"
   },
   {
    "duration": 21,
    "start_time": "2021-12-07T08:25:03.245Z"
   },
   {
    "duration": 19,
    "start_time": "2021-12-07T08:25:06.578Z"
   },
   {
    "duration": 29,
    "start_time": "2021-12-07T08:25:22.110Z"
   },
   {
    "duration": 10,
    "start_time": "2021-12-07T08:25:22.860Z"
   },
   {
    "duration": 204,
    "start_time": "2021-12-07T08:25:23.082Z"
   },
   {
    "duration": 241,
    "start_time": "2021-12-07T08:25:23.734Z"
   },
   {
    "duration": 114,
    "start_time": "2021-12-07T08:25:24.044Z"
   },
   {
    "duration": 5,
    "start_time": "2021-12-07T08:25:24.486Z"
   },
   {
    "duration": 228,
    "start_time": "2021-12-07T08:25:24.680Z"
   },
   {
    "duration": 52022,
    "start_time": "2021-12-07T08:25:25.375Z"
   },
   {
    "duration": 20,
    "start_time": "2021-12-07T08:26:17.399Z"
   },
   {
    "duration": 9,
    "start_time": "2021-12-07T08:26:17.422Z"
   },
   {
    "duration": 236,
    "start_time": "2021-12-07T08:26:17.459Z"
   },
   {
    "duration": 50,
    "start_time": "2021-12-07T08:26:17.698Z"
   },
   {
    "duration": 781,
    "start_time": "2021-12-07T08:26:17.760Z"
   },
   {
    "duration": 89,
    "start_time": "2021-12-07T08:26:18.544Z"
   },
   {
    "duration": 59,
    "start_time": "2021-12-07T08:26:18.637Z"
   },
   {
    "duration": 1480,
    "start_time": "2021-12-07T08:26:18.698Z"
   },
   {
    "duration": 19,
    "start_time": "2021-12-07T08:26:20.180Z"
   },
   {
    "duration": 284,
    "start_time": "2021-12-07T08:26:20.201Z"
   },
   {
    "duration": 76,
    "start_time": "2021-12-07T08:26:20.487Z"
   },
   {
    "duration": 211,
    "start_time": "2021-12-07T08:26:20.567Z"
   },
   {
    "duration": 113,
    "start_time": "2021-12-07T08:26:20.861Z"
   },
   {
    "duration": 611,
    "start_time": "2021-12-07T08:26:20.977Z"
   },
   {
    "duration": 300,
    "start_time": "2021-12-07T08:26:21.591Z"
   },
   {
    "duration": 20,
    "start_time": "2021-12-07T08:26:29.562Z"
   },
   {
    "duration": 21,
    "start_time": "2021-12-07T08:26:30.585Z"
   },
   {
    "duration": 373,
    "start_time": "2021-12-07T08:26:31.038Z"
   }
  ],
  "kernelspec": {
   "display_name": "Python 3",
   "language": "python",
   "name": "python3"
  },
  "language_info": {
   "codemirror_mode": {
    "name": "ipython",
    "version": 3
   },
   "file_extension": ".py",
   "mimetype": "text/x-python",
   "name": "python",
   "nbconvert_exporter": "python",
   "pygments_lexer": "ipython3",
   "version": "3.8.5"
  },
  "toc": {
   "base_numbering": 1,
   "nav_menu": {},
   "number_sections": true,
   "sideBar": true,
   "skip_h1_title": true,
   "title_cell": "Содержание",
   "title_sidebar": "Contents",
   "toc_cell": true,
   "toc_position": {},
   "toc_section_display": true,
   "toc_window_display": false
  }
 },
 "nbformat": 4,
 "nbformat_minor": 2
}
