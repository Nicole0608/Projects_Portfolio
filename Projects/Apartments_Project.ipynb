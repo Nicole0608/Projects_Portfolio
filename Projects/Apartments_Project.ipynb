{
 "cells": [
  {
   "cell_type": "markdown",
   "metadata": {},
   "source": [
    "# Research analysis of apartment advertisements\n",
    "\n",
    "As **data**, there is an archive of advertisements for the sale of apartments in St. Petersburg and neighboring settlements for several years. **The purpose** of this project is to study the main parameters of apartments affecting their price. \n",
    "\n",
    "The analysis contains **several stages**:\n",
    "- data preprocessing and preparation of variables for analysis;\n",
    "- study of the main parameters' distributions which can potentially affect the market price of apartments;\n",
    "- analysis of the relationship between various parameters of apartments and their prices;\n",
    "- research of the apartments' market pricein the settlements with the largest number of apartment sales advertisements.\n",
    "\n",
    "**Description of variables:**\n",
    "- 'airports_nearest' - distance to the nearest airport in meters (m)\n",
    "- 'balcony' - number of balconies\n",
    "- 'ceiling_height' - ceiling height (m)\n",
    "- 'cityCenters_nearest' - distance to the city center (m)\n",
    "- 'days_exposition' - how many days the ad was posted (from publication to withdrawal)\n",
    "- 'first_day_exposition' - publication date\n",
    "- 'floor' - floor\n",
    "- 'floors_total' - total floors in the house\n",
    "- 'is_apartment' - apartments (boolean type)\n",
    "- 'kitchen_area' - kitchen area in square meters (m²)\n",
    "- 'last_price' - price at the time of unpublishing\n",
    "- 'living_area' - living area in square meters (m²)\n",
    "- 'locality_name' - name of the settlement\n",
    "- 'open_plan' - free plan (boolean)\n",
    "- 'parks_around3000' - the number of parks within a 3 km radius\n",
    "- 'parks_nearest' - distance to the nearest park (m)\n",
    "- 'ponds_around3000' - the number of reservoirs within a radius of 3 km\n",
    "- 'ponds_nearest' - distance to the nearest body of water (m)\n",
    "- 'rooms' - number of rooms\n",
    "- 'studio' - studio apartment (boolean type)\n",
    "- 'total_area' - apartment area in square meters (m²)\n",
    "- 'total_images' - the number of apartment photos in the ad"
   ]
  },
  {
   "cell_type": "markdown",
   "metadata": {},
   "source": [
    "<h1>Table of Contents<span class=\"tocSkip\"></span></h1>\n",
    "<div class=\"toc\"><ul class=\"toc-item\"><li><span><a href=\"#Data-Preprocessing\" data-toc-modified-id=\"Data-Preprocessing-1\"><span class=\"toc-item-num\">1&nbsp;&nbsp;</span>Data Preprocessing</a></span></li><li><span><a href=\"#Exploratory-data-analysis\" data-toc-modified-id=\"Exploratory-data-analysis-2\"><span class=\"toc-item-num\">2&nbsp;&nbsp;</span>Exploratory data analysis</a></span></li><li><span><a href=\"#Removing-rare-and-outliers'-values\" data-toc-modified-id=\"Removing-rare-and-outliers'-values-3\"><span class=\"toc-item-num\">3&nbsp;&nbsp;</span>Removing rare and outliers' values</a></span></li><li><span><a href=\"#What-factors-mostly-affect-the-price-of-an-apartment?\" data-toc-modified-id=\"What-factors-mostly-affect-the-price-of-an-apartment?-4\"><span class=\"toc-item-num\">4&nbsp;&nbsp;</span>What factors mostly affect the price of an apartment?</a></span></li><li><span><a href=\"#Research-of-settlements-with-the-largest-number-of-ads\" data-toc-modified-id=\"Research-of-settlements-with-the-largest-number-of-ads-5\"><span class=\"toc-item-num\">5&nbsp;&nbsp;</span>Research of settlements with the largest number of ads</a></span></li><li><span><a href=\"#Conclusion\" data-toc-modified-id=\"Conclusion-6\"><span class=\"toc-item-num\">6&nbsp;&nbsp;</span>Conclusion</a></span></li></ul></div>"
   ]
  },
  {
   "cell_type": "markdown",
   "metadata": {},
   "source": [
    "## Data Preprocessing"
   ]
  },
  {
   "cell_type": "markdown",
   "metadata": {},
   "source": [
    "**Import necessary libraries and data:**"
   ]
  },
  {
   "cell_type": "code",
   "execution_count": 12,
   "metadata": {
    "scrolled": true
   },
   "outputs": [
    {
     "data": {
      "text/html": [
       "<div>\n",
       "<style scoped>\n",
       "    .dataframe tbody tr th:only-of-type {\n",
       "        vertical-align: middle;\n",
       "    }\n",
       "\n",
       "    .dataframe tbody tr th {\n",
       "        vertical-align: top;\n",
       "    }\n",
       "\n",
       "    .dataframe thead th {\n",
       "        text-align: right;\n",
       "    }\n",
       "</style>\n",
       "<table border=\"1\" class=\"dataframe\">\n",
       "  <thead>\n",
       "    <tr style=\"text-align: right;\">\n",
       "      <th></th>\n",
       "      <th>total_images</th>\n",
       "      <th>last_price</th>\n",
       "      <th>total_area</th>\n",
       "      <th>first_day_exposition</th>\n",
       "      <th>rooms</th>\n",
       "      <th>ceiling_height</th>\n",
       "      <th>floors_total</th>\n",
       "      <th>living_area</th>\n",
       "      <th>floor</th>\n",
       "      <th>is_apartment</th>\n",
       "      <th>...</th>\n",
       "      <th>kitchen_area</th>\n",
       "      <th>balcony</th>\n",
       "      <th>locality_name</th>\n",
       "      <th>airports_nearest</th>\n",
       "      <th>cityCenters_nearest</th>\n",
       "      <th>parks_around3000</th>\n",
       "      <th>parks_nearest</th>\n",
       "      <th>ponds_around3000</th>\n",
       "      <th>ponds_nearest</th>\n",
       "      <th>days_exposition</th>\n",
       "    </tr>\n",
       "  </thead>\n",
       "  <tbody>\n",
       "    <tr>\n",
       "      <th>0</th>\n",
       "      <td>20</td>\n",
       "      <td>13000000.0</td>\n",
       "      <td>108.0</td>\n",
       "      <td>2019-03-07T00:00:00</td>\n",
       "      <td>3</td>\n",
       "      <td>2.70</td>\n",
       "      <td>16.0</td>\n",
       "      <td>51.0</td>\n",
       "      <td>8</td>\n",
       "      <td>NaN</td>\n",
       "      <td>...</td>\n",
       "      <td>25.0</td>\n",
       "      <td>NaN</td>\n",
       "      <td>Saint Petersburg</td>\n",
       "      <td>18863.0</td>\n",
       "      <td>16028.0</td>\n",
       "      <td>1.0</td>\n",
       "      <td>482.0</td>\n",
       "      <td>2.0</td>\n",
       "      <td>755.0</td>\n",
       "      <td>NaN</td>\n",
       "    </tr>\n",
       "    <tr>\n",
       "      <th>1</th>\n",
       "      <td>7</td>\n",
       "      <td>3350000.0</td>\n",
       "      <td>40.4</td>\n",
       "      <td>2018-12-04T00:00:00</td>\n",
       "      <td>1</td>\n",
       "      <td>NaN</td>\n",
       "      <td>11.0</td>\n",
       "      <td>18.6</td>\n",
       "      <td>1</td>\n",
       "      <td>NaN</td>\n",
       "      <td>...</td>\n",
       "      <td>11.0</td>\n",
       "      <td>2.0</td>\n",
       "      <td>Shushary village</td>\n",
       "      <td>12817.0</td>\n",
       "      <td>18603.0</td>\n",
       "      <td>0.0</td>\n",
       "      <td>NaN</td>\n",
       "      <td>0.0</td>\n",
       "      <td>NaN</td>\n",
       "      <td>81.0</td>\n",
       "    </tr>\n",
       "    <tr>\n",
       "      <th>2</th>\n",
       "      <td>10</td>\n",
       "      <td>5196000.0</td>\n",
       "      <td>56.0</td>\n",
       "      <td>2015-08-20T00:00:00</td>\n",
       "      <td>2</td>\n",
       "      <td>NaN</td>\n",
       "      <td>5.0</td>\n",
       "      <td>34.3</td>\n",
       "      <td>4</td>\n",
       "      <td>NaN</td>\n",
       "      <td>...</td>\n",
       "      <td>8.3</td>\n",
       "      <td>0.0</td>\n",
       "      <td>Saint Petersburg</td>\n",
       "      <td>21741.0</td>\n",
       "      <td>13933.0</td>\n",
       "      <td>1.0</td>\n",
       "      <td>90.0</td>\n",
       "      <td>2.0</td>\n",
       "      <td>574.0</td>\n",
       "      <td>558.0</td>\n",
       "    </tr>\n",
       "    <tr>\n",
       "      <th>3</th>\n",
       "      <td>0</td>\n",
       "      <td>64900000.0</td>\n",
       "      <td>159.0</td>\n",
       "      <td>2015-07-24T00:00:00</td>\n",
       "      <td>3</td>\n",
       "      <td>NaN</td>\n",
       "      <td>14.0</td>\n",
       "      <td>NaN</td>\n",
       "      <td>9</td>\n",
       "      <td>NaN</td>\n",
       "      <td>...</td>\n",
       "      <td>NaN</td>\n",
       "      <td>0.0</td>\n",
       "      <td>Saint Petersburg</td>\n",
       "      <td>28098.0</td>\n",
       "      <td>6800.0</td>\n",
       "      <td>2.0</td>\n",
       "      <td>84.0</td>\n",
       "      <td>3.0</td>\n",
       "      <td>234.0</td>\n",
       "      <td>424.0</td>\n",
       "    </tr>\n",
       "    <tr>\n",
       "      <th>4</th>\n",
       "      <td>2</td>\n",
       "      <td>10000000.0</td>\n",
       "      <td>100.0</td>\n",
       "      <td>2018-06-19T00:00:00</td>\n",
       "      <td>2</td>\n",
       "      <td>3.03</td>\n",
       "      <td>14.0</td>\n",
       "      <td>32.0</td>\n",
       "      <td>13</td>\n",
       "      <td>NaN</td>\n",
       "      <td>...</td>\n",
       "      <td>41.0</td>\n",
       "      <td>NaN</td>\n",
       "      <td>Saint Petersburg</td>\n",
       "      <td>31856.0</td>\n",
       "      <td>8098.0</td>\n",
       "      <td>2.0</td>\n",
       "      <td>112.0</td>\n",
       "      <td>1.0</td>\n",
       "      <td>48.0</td>\n",
       "      <td>121.0</td>\n",
       "    </tr>\n",
       "  </tbody>\n",
       "</table>\n",
       "<p>5 rows × 22 columns</p>\n",
       "</div>"
      ],
      "text/plain": [
       "   total_images  last_price  total_area first_day_exposition  rooms  \\\n",
       "0            20  13000000.0       108.0  2019-03-07T00:00:00      3   \n",
       "1             7   3350000.0        40.4  2018-12-04T00:00:00      1   \n",
       "2            10   5196000.0        56.0  2015-08-20T00:00:00      2   \n",
       "3             0  64900000.0       159.0  2015-07-24T00:00:00      3   \n",
       "4             2  10000000.0       100.0  2018-06-19T00:00:00      2   \n",
       "\n",
       "   ceiling_height  floors_total  living_area  floor is_apartment  ...  \\\n",
       "0            2.70          16.0         51.0      8          NaN  ...   \n",
       "1             NaN          11.0         18.6      1          NaN  ...   \n",
       "2             NaN           5.0         34.3      4          NaN  ...   \n",
       "3             NaN          14.0          NaN      9          NaN  ...   \n",
       "4            3.03          14.0         32.0     13          NaN  ...   \n",
       "\n",
       "   kitchen_area  balcony     locality_name  airports_nearest  \\\n",
       "0          25.0      NaN  Saint Petersburg           18863.0   \n",
       "1          11.0      2.0  Shushary village           12817.0   \n",
       "2           8.3      0.0  Saint Petersburg           21741.0   \n",
       "3           NaN      0.0  Saint Petersburg           28098.0   \n",
       "4          41.0      NaN  Saint Petersburg           31856.0   \n",
       "\n",
       "  cityCenters_nearest  parks_around3000  parks_nearest  ponds_around3000  \\\n",
       "0             16028.0               1.0          482.0               2.0   \n",
       "1             18603.0               0.0            NaN               0.0   \n",
       "2             13933.0               1.0           90.0               2.0   \n",
       "3              6800.0               2.0           84.0               3.0   \n",
       "4              8098.0               2.0          112.0               1.0   \n",
       "\n",
       "   ponds_nearest  days_exposition  \n",
       "0          755.0              NaN  \n",
       "1            NaN             81.0  \n",
       "2          574.0            558.0  \n",
       "3          234.0            424.0  \n",
       "4           48.0            121.0  \n",
       "\n",
       "[5 rows x 22 columns]"
      ]
     },
     "execution_count": 12,
     "metadata": {},
     "output_type": "execute_result"
    }
   ],
   "source": [
    "# library\n",
    "import pandas as pd\n",
    "import warnings\n",
    "\n",
    "# mute notifications\n",
    "warnings.filterwarnings('ignore')\n",
    "\n",
    "# importing dataset\n",
    "data = pd.read_csv('real_estate_data_en.csv')\n",
    "data.head(5)"
   ]
  },
  {
   "cell_type": "markdown",
   "metadata": {},
   "source": [
    "**Explore and prepare a dataframe for further analysis:**"
   ]
  },
  {
   "cell_type": "code",
   "execution_count": 13,
   "metadata": {},
   "outputs": [
    {
     "name": "stdout",
     "output_type": "stream",
     "text": [
      "<class 'pandas.core.frame.DataFrame'>\n",
      "RangeIndex: 23699 entries, 0 to 23698\n",
      "Data columns (total 22 columns):\n",
      " #   Column                Non-Null Count  Dtype  \n",
      "---  ------                --------------  -----  \n",
      " 0   total_images          23699 non-null  int64  \n",
      " 1   last_price            23699 non-null  float64\n",
      " 2   total_area            23699 non-null  float64\n",
      " 3   first_day_exposition  23699 non-null  object \n",
      " 4   rooms                 23699 non-null  int64  \n",
      " 5   ceiling_height        14504 non-null  float64\n",
      " 6   floors_total          23613 non-null  float64\n",
      " 7   living_area           21796 non-null  float64\n",
      " 8   floor                 23699 non-null  int64  \n",
      " 9   is_apartment          2775 non-null   object \n",
      " 10  studio                23699 non-null  bool   \n",
      " 11  open_plan             23699 non-null  bool   \n",
      " 12  kitchen_area          21421 non-null  float64\n",
      " 13  balcony               12180 non-null  float64\n",
      " 14  locality_name         23650 non-null  object \n",
      " 15  airports_nearest      18157 non-null  float64\n",
      " 16  cityCenters_nearest   18180 non-null  float64\n",
      " 17  parks_around3000      18181 non-null  float64\n",
      " 18  parks_nearest         8079 non-null   float64\n",
      " 19  ponds_around3000      18181 non-null  float64\n",
      " 20  ponds_nearest         9110 non-null   float64\n",
      " 21  days_exposition       20518 non-null  float64\n",
      "dtypes: bool(2), float64(14), int64(3), object(3)\n",
      "memory usage: 3.7+ MB\n",
      "None\n"
     ]
    },
    {
     "data": {
      "text/html": [
       "<div>\n",
       "<style scoped>\n",
       "    .dataframe tbody tr th:only-of-type {\n",
       "        vertical-align: middle;\n",
       "    }\n",
       "\n",
       "    .dataframe tbody tr th {\n",
       "        vertical-align: top;\n",
       "    }\n",
       "\n",
       "    .dataframe thead th {\n",
       "        text-align: right;\n",
       "    }\n",
       "</style>\n",
       "<table border=\"1\" class=\"dataframe\">\n",
       "  <thead>\n",
       "    <tr style=\"text-align: right;\">\n",
       "      <th></th>\n",
       "      <th>total_images</th>\n",
       "      <th>last_price</th>\n",
       "      <th>total_area</th>\n",
       "      <th>rooms</th>\n",
       "      <th>ceiling_height</th>\n",
       "      <th>floors_total</th>\n",
       "      <th>living_area</th>\n",
       "      <th>floor</th>\n",
       "      <th>kitchen_area</th>\n",
       "      <th>balcony</th>\n",
       "      <th>airports_nearest</th>\n",
       "      <th>cityCenters_nearest</th>\n",
       "      <th>parks_around3000</th>\n",
       "      <th>parks_nearest</th>\n",
       "      <th>ponds_around3000</th>\n",
       "      <th>ponds_nearest</th>\n",
       "      <th>days_exposition</th>\n",
       "    </tr>\n",
       "  </thead>\n",
       "  <tbody>\n",
       "    <tr>\n",
       "      <th>count</th>\n",
       "      <td>23699.000000</td>\n",
       "      <td>2.369900e+04</td>\n",
       "      <td>23699.000000</td>\n",
       "      <td>23699.000000</td>\n",
       "      <td>14504.000000</td>\n",
       "      <td>23613.000000</td>\n",
       "      <td>21796.000000</td>\n",
       "      <td>23699.000000</td>\n",
       "      <td>21421.000000</td>\n",
       "      <td>12180.000000</td>\n",
       "      <td>18157.000000</td>\n",
       "      <td>18180.000000</td>\n",
       "      <td>18181.000000</td>\n",
       "      <td>8079.000000</td>\n",
       "      <td>18181.000000</td>\n",
       "      <td>9110.000000</td>\n",
       "      <td>20518.000000</td>\n",
       "    </tr>\n",
       "    <tr>\n",
       "      <th>mean</th>\n",
       "      <td>9.858475</td>\n",
       "      <td>6.541549e+06</td>\n",
       "      <td>60.348651</td>\n",
       "      <td>2.070636</td>\n",
       "      <td>2.771499</td>\n",
       "      <td>10.673824</td>\n",
       "      <td>34.457852</td>\n",
       "      <td>5.892358</td>\n",
       "      <td>10.569807</td>\n",
       "      <td>1.150082</td>\n",
       "      <td>28793.672193</td>\n",
       "      <td>14191.277833</td>\n",
       "      <td>0.611408</td>\n",
       "      <td>490.804555</td>\n",
       "      <td>0.770255</td>\n",
       "      <td>517.980900</td>\n",
       "      <td>180.888634</td>\n",
       "    </tr>\n",
       "    <tr>\n",
       "      <th>std</th>\n",
       "      <td>5.682529</td>\n",
       "      <td>1.088701e+07</td>\n",
       "      <td>35.654083</td>\n",
       "      <td>1.078405</td>\n",
       "      <td>1.261056</td>\n",
       "      <td>6.597173</td>\n",
       "      <td>22.030445</td>\n",
       "      <td>4.885249</td>\n",
       "      <td>5.905438</td>\n",
       "      <td>1.071300</td>\n",
       "      <td>12630.880622</td>\n",
       "      <td>8608.386210</td>\n",
       "      <td>0.802074</td>\n",
       "      <td>342.317995</td>\n",
       "      <td>0.938346</td>\n",
       "      <td>277.720643</td>\n",
       "      <td>219.727988</td>\n",
       "    </tr>\n",
       "    <tr>\n",
       "      <th>min</th>\n",
       "      <td>0.000000</td>\n",
       "      <td>1.219000e+04</td>\n",
       "      <td>12.000000</td>\n",
       "      <td>0.000000</td>\n",
       "      <td>1.000000</td>\n",
       "      <td>1.000000</td>\n",
       "      <td>2.000000</td>\n",
       "      <td>1.000000</td>\n",
       "      <td>1.300000</td>\n",
       "      <td>0.000000</td>\n",
       "      <td>0.000000</td>\n",
       "      <td>181.000000</td>\n",
       "      <td>0.000000</td>\n",
       "      <td>1.000000</td>\n",
       "      <td>0.000000</td>\n",
       "      <td>13.000000</td>\n",
       "      <td>1.000000</td>\n",
       "    </tr>\n",
       "    <tr>\n",
       "      <th>25%</th>\n",
       "      <td>6.000000</td>\n",
       "      <td>3.400000e+06</td>\n",
       "      <td>40.000000</td>\n",
       "      <td>1.000000</td>\n",
       "      <td>2.520000</td>\n",
       "      <td>5.000000</td>\n",
       "      <td>18.600000</td>\n",
       "      <td>2.000000</td>\n",
       "      <td>7.000000</td>\n",
       "      <td>0.000000</td>\n",
       "      <td>18585.000000</td>\n",
       "      <td>9238.000000</td>\n",
       "      <td>0.000000</td>\n",
       "      <td>288.000000</td>\n",
       "      <td>0.000000</td>\n",
       "      <td>294.000000</td>\n",
       "      <td>45.000000</td>\n",
       "    </tr>\n",
       "    <tr>\n",
       "      <th>50%</th>\n",
       "      <td>9.000000</td>\n",
       "      <td>4.650000e+06</td>\n",
       "      <td>52.000000</td>\n",
       "      <td>2.000000</td>\n",
       "      <td>2.650000</td>\n",
       "      <td>9.000000</td>\n",
       "      <td>30.000000</td>\n",
       "      <td>4.000000</td>\n",
       "      <td>9.100000</td>\n",
       "      <td>1.000000</td>\n",
       "      <td>26726.000000</td>\n",
       "      <td>13098.500000</td>\n",
       "      <td>0.000000</td>\n",
       "      <td>455.000000</td>\n",
       "      <td>1.000000</td>\n",
       "      <td>502.000000</td>\n",
       "      <td>95.000000</td>\n",
       "    </tr>\n",
       "    <tr>\n",
       "      <th>75%</th>\n",
       "      <td>14.000000</td>\n",
       "      <td>6.800000e+06</td>\n",
       "      <td>69.900000</td>\n",
       "      <td>3.000000</td>\n",
       "      <td>2.800000</td>\n",
       "      <td>16.000000</td>\n",
       "      <td>42.300000</td>\n",
       "      <td>8.000000</td>\n",
       "      <td>12.000000</td>\n",
       "      <td>2.000000</td>\n",
       "      <td>37273.000000</td>\n",
       "      <td>16293.000000</td>\n",
       "      <td>1.000000</td>\n",
       "      <td>612.000000</td>\n",
       "      <td>1.000000</td>\n",
       "      <td>729.000000</td>\n",
       "      <td>232.000000</td>\n",
       "    </tr>\n",
       "    <tr>\n",
       "      <th>max</th>\n",
       "      <td>50.000000</td>\n",
       "      <td>7.630000e+08</td>\n",
       "      <td>900.000000</td>\n",
       "      <td>19.000000</td>\n",
       "      <td>100.000000</td>\n",
       "      <td>60.000000</td>\n",
       "      <td>409.700000</td>\n",
       "      <td>33.000000</td>\n",
       "      <td>112.000000</td>\n",
       "      <td>5.000000</td>\n",
       "      <td>84869.000000</td>\n",
       "      <td>65968.000000</td>\n",
       "      <td>3.000000</td>\n",
       "      <td>3190.000000</td>\n",
       "      <td>3.000000</td>\n",
       "      <td>1344.000000</td>\n",
       "      <td>1580.000000</td>\n",
       "    </tr>\n",
       "  </tbody>\n",
       "</table>\n",
       "</div>"
      ],
      "text/plain": [
       "       total_images    last_price    total_area         rooms  ceiling_height  \\\n",
       "count  23699.000000  2.369900e+04  23699.000000  23699.000000    14504.000000   \n",
       "mean       9.858475  6.541549e+06     60.348651      2.070636        2.771499   \n",
       "std        5.682529  1.088701e+07     35.654083      1.078405        1.261056   \n",
       "min        0.000000  1.219000e+04     12.000000      0.000000        1.000000   \n",
       "25%        6.000000  3.400000e+06     40.000000      1.000000        2.520000   \n",
       "50%        9.000000  4.650000e+06     52.000000      2.000000        2.650000   \n",
       "75%       14.000000  6.800000e+06     69.900000      3.000000        2.800000   \n",
       "max       50.000000  7.630000e+08    900.000000     19.000000      100.000000   \n",
       "\n",
       "       floors_total   living_area         floor  kitchen_area       balcony  \\\n",
       "count  23613.000000  21796.000000  23699.000000  21421.000000  12180.000000   \n",
       "mean      10.673824     34.457852      5.892358     10.569807      1.150082   \n",
       "std        6.597173     22.030445      4.885249      5.905438      1.071300   \n",
       "min        1.000000      2.000000      1.000000      1.300000      0.000000   \n",
       "25%        5.000000     18.600000      2.000000      7.000000      0.000000   \n",
       "50%        9.000000     30.000000      4.000000      9.100000      1.000000   \n",
       "75%       16.000000     42.300000      8.000000     12.000000      2.000000   \n",
       "max       60.000000    409.700000     33.000000    112.000000      5.000000   \n",
       "\n",
       "       airports_nearest  cityCenters_nearest  parks_around3000  parks_nearest  \\\n",
       "count      18157.000000         18180.000000      18181.000000    8079.000000   \n",
       "mean       28793.672193         14191.277833          0.611408     490.804555   \n",
       "std        12630.880622          8608.386210          0.802074     342.317995   \n",
       "min            0.000000           181.000000          0.000000       1.000000   \n",
       "25%        18585.000000          9238.000000          0.000000     288.000000   \n",
       "50%        26726.000000         13098.500000          0.000000     455.000000   \n",
       "75%        37273.000000         16293.000000          1.000000     612.000000   \n",
       "max        84869.000000         65968.000000          3.000000    3190.000000   \n",
       "\n",
       "       ponds_around3000  ponds_nearest  days_exposition  \n",
       "count      18181.000000    9110.000000     20518.000000  \n",
       "mean           0.770255     517.980900       180.888634  \n",
       "std            0.938346     277.720643       219.727988  \n",
       "min            0.000000      13.000000         1.000000  \n",
       "25%            0.000000     294.000000        45.000000  \n",
       "50%            1.000000     502.000000        95.000000  \n",
       "75%            1.000000     729.000000       232.000000  \n",
       "max            3.000000    1344.000000      1580.000000  "
      ]
     },
     "metadata": {},
     "output_type": "display_data"
    }
   ],
   "source": [
    "print(data.info())\n",
    "display(data.describe())"
   ]
  },
  {
   "cell_type": "markdown",
   "metadata": {},
   "source": [
    "In total, the dataset contains 22 variables and 23699 observations.\n",
    "\n",
    "Among them are variables with four data types:\n",
    "\n",
    "- 14 variables of float64 type: 'last_price', 'total_area', 'ceiling_height', 'floors_total', 'living_area', 'kitchen_area', 'balcony', 'airports_nearest', 'cityCenters_nearest', 'parks_around3000', 'parks_nearest', 'ponds_around3000', 'ponds_nearest', 'days_exposition'\n",
    "- 3 variables of int64 type: 'total_images', 'rooms', 'floor')\n",
    "- 3 variables of object type: 'first_day_exposition', 'is_apartment', 'locality_name'\n",
    "- 2 variables of bool type: 'studio', 'open_plan'"
   ]
  },
  {
   "cell_type": "markdown",
   "metadata": {},
   "source": [
    "**Checking data for missing values:**"
   ]
  },
  {
   "cell_type": "code",
   "execution_count": 14,
   "metadata": {},
   "outputs": [
    {
     "data": {
      "text/plain": [
       "total_images                0\n",
       "last_price                  0\n",
       "total_area                  0\n",
       "first_day_exposition        0\n",
       "rooms                       0\n",
       "ceiling_height           9195\n",
       "floors_total               86\n",
       "living_area              1903\n",
       "floor                       0\n",
       "is_apartment            20924\n",
       "studio                      0\n",
       "open_plan                   0\n",
       "kitchen_area             2278\n",
       "balcony                 11519\n",
       "locality_name              49\n",
       "airports_nearest         5542\n",
       "cityCenters_nearest      5519\n",
       "parks_around3000         5518\n",
       "parks_nearest           15620\n",
       "ponds_around3000         5518\n",
       "ponds_nearest           14589\n",
       "days_exposition          3181\n",
       "dtype: int64"
      ]
     },
     "execution_count": 14,
     "metadata": {},
     "output_type": "execute_result"
    }
   ],
   "source": [
    "data.isna().sum()"
   ]
  },
  {
   "cell_type": "markdown",
   "metadata": {},
   "source": [
    "As can be seen, there are many variables with missing values in the dataset. Let's deal with all of them in order:\n",
    "\n",
    "**'balcony' variable:**"
   ]
  },
  {
   "cell_type": "code",
   "execution_count": 15,
   "metadata": {},
   "outputs": [
    {
     "data": {
      "text/plain": [
       "11519"
      ]
     },
     "execution_count": 15,
     "metadata": {},
     "output_type": "execute_result"
    }
   ],
   "source": [
    "data['balcony'].isna().sum()"
   ]
  },
  {
   "cell_type": "markdown",
   "metadata": {},
   "source": [
    "This variable contains 11519 missing values, which is almost half of the entire sample, so they cannot be simply removed. Based on the essence of the variable - whether there is a balcony in the apartment or not - it is possible to hypothesize that the missing values = the absence of balconies in the apartments. Therefore, we replace all the missing values of this variable with 0: "
   ]
  },
  {
   "cell_type": "code",
   "execution_count": 16,
   "metadata": {},
   "outputs": [
    {
     "data": {
      "text/plain": [
       "0"
      ]
     },
     "execution_count": 16,
     "metadata": {},
     "output_type": "execute_result"
    }
   ],
   "source": [
    "data['balcony'] = data['balcony'].fillna('0')\n",
    "data['balcony'].isna().sum()"
   ]
  },
  {
   "cell_type": "markdown",
   "metadata": {},
   "source": [
    "**'ceiling_height' variable**"
   ]
  },
  {
   "cell_type": "code",
   "execution_count": 17,
   "metadata": {},
   "outputs": [
    {
     "data": {
      "text/plain": [
       "9195"
      ]
     },
     "execution_count": 17,
     "metadata": {},
     "output_type": "execute_result"
    }
   ],
   "source": [
    "data['ceiling_height'].isna().sum()"
   ]
  },
  {
   "cell_type": "markdown",
   "metadata": {},
   "source": [
    "The variable reflecting the height of the ceilings has 9 thousand missing values, which is 0.3 shares of all data in the sample. Therefore, missing values cannot be removed. Let's look at the minimum, maximum, average and median ceiling heights according to the data in the table:"
   ]
  },
  {
   "cell_type": "code",
   "execution_count": 18,
   "metadata": {},
   "outputs": [
    {
     "name": "stdout",
     "output_type": "stream",
     "text": [
      "Maximum ceiling height: 100.0\n",
      "Minimum ceiling height: 1.0\n",
      "Average ceiling height: 2.7714988968559835\n",
      "Median ceiling height: 2.65\n"
     ]
    }
   ],
   "source": [
    "ceiling_max = data['ceiling_height'].max()\n",
    "ceiling_min = data['ceiling_height'].min()\n",
    "ceiling_mean = data['ceiling_height'].mean()\n",
    "ceiling_median = data['ceiling_height'].median()\n",
    "print('Maximum ceiling height:', ceiling_max)\n",
    "print('Minimum ceiling height:', ceiling_min)\n",
    "print('Average ceiling height:', ceiling_mean)\n",
    "print('Median ceiling height:', ceiling_median)"
   ]
  },
  {
   "cell_type": "markdown",
   "metadata": {},
   "source": [
    "As can be seen, the mean and median are not very different. Therefore, to fill in the missing values, I suggest using the median value:"
   ]
  },
  {
   "cell_type": "code",
   "execution_count": 19,
   "metadata": {},
   "outputs": [
    {
     "data": {
      "text/plain": [
       "0"
      ]
     },
     "execution_count": 19,
     "metadata": {},
     "output_type": "execute_result"
    }
   ],
   "source": [
    "data['ceiling_height'] = data['ceiling_height'].fillna(ceiling_median)\n",
    "data['ceiling_height'].isna().sum()"
   ]
  },
  {
   "cell_type": "markdown",
   "metadata": {},
   "source": [
    "**'is_apartment' variable**"
   ]
  },
  {
   "cell_type": "code",
   "execution_count": 20,
   "metadata": {},
   "outputs": [
    {
     "data": {
      "text/plain": [
       "20924"
      ]
     },
     "execution_count": 20,
     "metadata": {},
     "output_type": "execute_result"
    }
   ],
   "source": [
    "data['is_apartment'].isna().sum()"
   ]
  },
  {
   "cell_type": "markdown",
   "metadata": {},
   "source": [
    "21 thousand missing values in a variable reflecting the type of property - apartments or not. It would be logical to assume that the missing values reflect cases when the property type is a flat (not an apartment). Therefore, missing values can be replaced with False."
   ]
  },
  {
   "cell_type": "code",
   "execution_count": 21,
   "metadata": {},
   "outputs": [
    {
     "data": {
      "text/plain": [
       "0"
      ]
     },
     "execution_count": 21,
     "metadata": {},
     "output_type": "execute_result"
    }
   ],
   "source": [
    "data['is_apartment'] = data['is_apartment'].fillna('False')\n",
    "data['is_apartment'].isna().sum()"
   ]
  },
  {
   "cell_type": "markdown",
   "metadata": {},
   "source": [
    "**'kitchen_area' variable**"
   ]
  },
  {
   "cell_type": "code",
   "execution_count": 22,
   "metadata": {},
   "outputs": [
    {
     "data": {
      "text/plain": [
       "2278"
      ]
     },
     "execution_count": 22,
     "metadata": {},
     "output_type": "execute_result"
    }
   ],
   "source": [
    "data['kitchen_area'].isna().sum()"
   ]
  },
  {
   "cell_type": "markdown",
   "metadata": {},
   "source": [
    "Almost 10% of the variable are missing values. Let's look at the available values for this variable:"
   ]
  },
  {
   "cell_type": "code",
   "execution_count": 23,
   "metadata": {},
   "outputs": [
    {
     "name": "stdout",
     "output_type": "stream",
     "text": [
      "Maximum kitchen area: 112.0\n",
      "Minimum kitchen area: 1.3\n",
      "Average kitchen area: 10.569807198543522\n",
      "Median kitchen area: 9.1\n"
     ]
    }
   ],
   "source": [
    "kitchen_max = data['kitchen_area'].max()\n",
    "kitchen_min = data['kitchen_area'].min()\n",
    "kitchen_mean = data['kitchen_area'].mean()\n",
    "kitchen_median = data['kitchen_area'].median()\n",
    "print('Maximum kitchen area:', kitchen_max)\n",
    "print('Minimum kitchen area:', kitchen_min)\n",
    "print('Average kitchen area:', kitchen_mean)\n",
    "print('Median kitchen area:', kitchen_median)"
   ]
  },
  {
   "cell_type": "markdown",
   "metadata": {},
   "source": [
    "The minimum and maximum values are very different. Also, the median value is very different from the mean. Therefore, I propose to divide the apartments into several groups depending on their area. First, let's calculate the thresholds:"
   ]
  },
  {
   "cell_type": "code",
   "execution_count": 24,
   "metadata": {},
   "outputs": [
    {
     "data": {
      "text/plain": [
       "(11.999, 40.0]    6042\n",
       "(69.9, 900.0]     5921\n",
       "(40.0, 52.0]      5913\n",
       "(52.0, 69.9]      5823\n",
       "Name: total_area, dtype: int64"
      ]
     },
     "execution_count": 24,
     "metadata": {},
     "output_type": "execute_result"
    }
   ],
   "source": [
    "pd.qcut(data['total_area'], 4).value_counts()"
   ]
  },
  {
   "cell_type": "markdown",
   "metadata": {},
   "source": [
    "Let's write a function that divides apartments by their size in accordance with the specified threshold values:"
   ]
  },
  {
   "cell_type": "code",
   "execution_count": 25,
   "metadata": {},
   "outputs": [],
   "source": [
    "def area_group(area):    \n",
    "    if 11.999 <= area <= 40.0:\n",
    "        return '12 - 40 m.'\n",
    "    if 40.0 <= area <= 52.0:\n",
    "        return '40 - 52 m.'\n",
    "    if 52.0 <= area <= 69.9:\n",
    "        return '52 - 70 m.'\n",
    "    return '70 - 900 m.'"
   ]
  },
  {
   "cell_type": "markdown",
   "metadata": {},
   "source": [
    "Let's apply this function and create a new variable 'total_area_new' for the obtained indicators:"
   ]
  },
  {
   "cell_type": "code",
   "execution_count": 26,
   "metadata": {},
   "outputs": [],
   "source": [
    "data['total_area_new'] = data['total_area'].apply(area_group)"
   ]
  },
  {
   "cell_type": "code",
   "execution_count": 27,
   "metadata": {},
   "outputs": [
    {
     "data": {
      "text/plain": [
       "12 - 40 m.     6042\n",
       "70 - 900 m.    5921\n",
       "40 - 52 m.     5913\n",
       "52 - 70 m.     5823\n",
       "Name: total_area_new, dtype: int64"
      ]
     },
     "execution_count": 27,
     "metadata": {},
     "output_type": "execute_result"
    }
   ],
   "source": [
    "data['total_area_new'].value_counts()"
   ]
  },
  {
   "cell_type": "markdown",
   "metadata": {},
   "source": [
    "Let's look at the median value of the size of the kitchen in apartments, depending on their area:"
   ]
  },
  {
   "cell_type": "code",
   "execution_count": 28,
   "metadata": {},
   "outputs": [
    {
     "name": "stdout",
     "output_type": "stream",
     "text": [
      "total_area_new\n",
      "12 - 40 m.      8.25\n",
      "40 - 52 m.      8.00\n",
      "52 - 70 m.      9.00\n",
      "70 - 900 m.    13.00\n",
      "Name: kitchen_area, dtype: float64\n"
     ]
    }
   ],
   "source": [
    "kitchen_median = data.groupby('total_area_new')['kitchen_area'].median()\n",
    "print(kitchen_median)"
   ]
  },
  {
   "cell_type": "markdown",
   "metadata": {},
   "source": [
    "These values can be used to fill in missing values in a variable representing kitchen area by apartment size:"
   ]
  },
  {
   "cell_type": "code",
   "execution_count": 29,
   "metadata": {},
   "outputs": [],
   "source": [
    "data['kitchen_area'] = data.groupby('total_area_new')['kitchen_area'].apply(lambda x: x.fillna(x.median()))"
   ]
  },
  {
   "cell_type": "code",
   "execution_count": 30,
   "metadata": {},
   "outputs": [
    {
     "data": {
      "text/plain": [
       "0"
      ]
     },
     "execution_count": 30,
     "metadata": {},
     "output_type": "execute_result"
    }
   ],
   "source": [
    "data['kitchen_area'].isna().sum()"
   ]
  },
  {
   "cell_type": "markdown",
   "metadata": {},
   "source": [
    "**'living_area' variable**"
   ]
  },
  {
   "cell_type": "code",
   "execution_count": 31,
   "metadata": {},
   "outputs": [
    {
     "data": {
      "text/plain": [
       "1903"
      ]
     },
     "execution_count": 31,
     "metadata": {},
     "output_type": "execute_result"
    }
   ],
   "source": [
    "data['living_area'].isna().sum()"
   ]
  },
  {
   "cell_type": "markdown",
   "metadata": {},
   "source": [
    "The number of missing values is large enough. We can do the same manipulation as with the kitchen area:"
   ]
  },
  {
   "cell_type": "code",
   "execution_count": 32,
   "metadata": {},
   "outputs": [
    {
     "name": "stdout",
     "output_type": "stream",
     "text": [
      "Maximal Living Area: 409.7\n",
      "Minimal Living Area: 2.0\n",
      "Average Living Area: 34.45785242760111\n",
      "Median Living Area: 30.0\n"
     ]
    }
   ],
   "source": [
    "living_max = data['living_area'].max()\n",
    "living_min = data['living_area'].min()\n",
    "living_mean = data['living_area'].mean()\n",
    "living_median = data['living_area'].median()\n",
    "print('Maximal Living Area:', living_max)\n",
    "print('Minimal Living Area:', living_min)\n",
    "print('Average Living Area:', living_mean)\n",
    "print('Median Living Area:', living_median)"
   ]
  },
  {
   "cell_type": "markdown",
   "metadata": {},
   "source": [
    "Previously, we have already divided apartments into 4 groups, depending on their area. Let's look at the median living area for each of the groups:"
   ]
  },
  {
   "cell_type": "code",
   "execution_count": 33,
   "metadata": {},
   "outputs": [
    {
     "name": "stdout",
     "output_type": "stream",
     "text": [
      "total_area_new\n",
      "12 - 40 m.     17.2\n",
      "40 - 52 m.     27.4\n",
      "52 - 70 m.     35.5\n",
      "70 - 900 m.    51.3\n",
      "Name: living_area, dtype: float64\n"
     ]
    }
   ],
   "source": [
    "living_median = data.groupby('total_area_new')['living_area'].median()\n",
    "print(living_median)"
   ]
  },
  {
   "cell_type": "markdown",
   "metadata": {},
   "source": [
    "These values can be used in order to fill in the missing values of the living area depending on the total size of the apartment:"
   ]
  },
  {
   "cell_type": "code",
   "execution_count": 34,
   "metadata": {},
   "outputs": [],
   "source": [
    "data['living_area'] = data.groupby('total_area_new')['living_area'].apply(lambda x: x.fillna(x.median()))\n"
   ]
  },
  {
   "cell_type": "code",
   "execution_count": 35,
   "metadata": {},
   "outputs": [
    {
     "data": {
      "text/plain": [
       "0"
      ]
     },
     "execution_count": 35,
     "metadata": {},
     "output_type": "execute_result"
    }
   ],
   "source": [
    "data['living_area'].isna().sum()"
   ]
  },
  {
   "cell_type": "markdown",
   "metadata": {},
   "source": [
    "**distance and location related variables**:"
   ]
  },
  {
   "cell_type": "code",
   "execution_count": 36,
   "metadata": {},
   "outputs": [
    {
     "data": {
      "text/plain": [
       "5542"
      ]
     },
     "execution_count": 36,
     "metadata": {},
     "output_type": "execute_result"
    }
   ],
   "source": [
    "data['airports_nearest'].isna().sum()"
   ]
  },
  {
   "cell_type": "markdown",
   "metadata": {},
   "source": [
    "Again, there are a lot of missing values. In this case, the average distance to the airport can be calculated by grouping the data according to districts. But, unfortunately, in the dataset there is only information on the locality, reflected in the 'locality_name' variable, in which St. Petersburg is one large group, which is completely unrepresentative. Therefore, I propose to simply leave these values blank.\n",
    "\n",
    "The same logic applies to variables reflecting the presence of parks and ponds, as well as the distance to the center, namely, to the following variables:\n",
    "- 'CityCenteres_nearest';\n",
    "- 'parks_around3000';\n",
    "- 'parks_nearest';\n",
    "- 'ponds_around3000';\n",
    "- 'ponds_nearest'."
   ]
  },
  {
   "cell_type": "markdown",
   "metadata": {},
   "source": [
    "It is impossible to come up with any viable hypothesis for the variables tested above, so I propose to simply leave the values missing and then inform the customer about them."
   ]
  },
  {
   "cell_type": "markdown",
   "metadata": {},
   "source": [
    "**'days_exposition' variable**"
   ]
  },
  {
   "cell_type": "code",
   "execution_count": 37,
   "metadata": {},
   "outputs": [
    {
     "data": {
      "text/plain": [
       "3181"
      ]
     },
     "execution_count": 37,
     "metadata": {},
     "output_type": "execute_result"
    }
   ],
   "source": [
    "data['days_exposition'].isna().sum()"
   ]
  },
  {
   "cell_type": "markdown",
   "metadata": {},
   "source": [
    "Given the essence of the variable - how many days an ad was posted (from publication to withdrawal) - it can be assumed that 3181 ads might not have been withdrawn from publication at the time the data was uploaded. Therefore, these values should be left blank."
   ]
  },
  {
   "cell_type": "markdown",
   "metadata": {},
   "source": [
    "**'floors_total' variable**"
   ]
  },
  {
   "cell_type": "code",
   "execution_count": 38,
   "metadata": {},
   "outputs": [
    {
     "data": {
      "text/plain": [
       "86"
      ]
     },
     "execution_count": 38,
     "metadata": {},
     "output_type": "execute_result"
    }
   ],
   "source": [
    "data['floors_total'].isna().sum()"
   ]
  },
  {
   "cell_type": "markdown",
   "metadata": {},
   "source": [
    "Given the relatively small percentage of missing values: 0.3%, I suggest simply removing these lines:"
   ]
  },
  {
   "cell_type": "code",
   "execution_count": 39,
   "metadata": {},
   "outputs": [
    {
     "data": {
      "text/plain": [
       "0"
      ]
     },
     "execution_count": 39,
     "metadata": {},
     "output_type": "execute_result"
    }
   ],
   "source": [
    "data.dropna(subset = ['floors_total'], inplace = True)\n",
    "data['floors_total'].isna().sum()"
   ]
  },
  {
   "cell_type": "markdown",
   "metadata": {},
   "source": [
    "**'locality_name' variable**"
   ]
  },
  {
   "cell_type": "code",
   "execution_count": 40,
   "metadata": {},
   "outputs": [
    {
     "data": {
      "text/plain": [
       "48"
      ]
     },
     "execution_count": 40,
     "metadata": {},
     "output_type": "execute_result"
    }
   ],
   "source": [
    "data['locality_name'].isna().sum()"
   ]
  },
  {
   "cell_type": "markdown",
   "metadata": {},
   "source": [
    "Again, there is a small amount of missing values that can be simply removed from the dataset:"
   ]
  },
  {
   "cell_type": "code",
   "execution_count": 41,
   "metadata": {},
   "outputs": [
    {
     "data": {
      "text/plain": [
       "0"
      ]
     },
     "execution_count": 41,
     "metadata": {},
     "output_type": "execute_result"
    }
   ],
   "source": [
    "data.dropna(subset = ['locality_name'], inplace = True)\n",
    "data['locality_name'].isna().sum()"
   ]
  },
  {
   "cell_type": "markdown",
   "metadata": {},
   "source": [
    "Thus, at this stage, all the missing values were processed, many of which were filled in."
   ]
  },
  {
   "cell_type": "markdown",
   "metadata": {},
   "source": [
    "**Changing data types**"
   ]
  },
  {
   "cell_type": "markdown",
   "metadata": {},
   "source": [
    "For subsequent manipulations with data, it is needed to change the types of some variables:\n",
    "1. The variables 'floors_total' and 'balcony' must be changed to integers:"
   ]
  },
  {
   "cell_type": "code",
   "execution_count": 42,
   "metadata": {},
   "outputs": [],
   "source": [
    "data[['floors_total', 'balcony']] = data[['floors_total', 'balcony']].astype('int')"
   ]
  },
  {
   "cell_type": "markdown",
   "metadata": {},
   "source": [
    "2. The variable is_apartment must be changed to boolean type, since it accepts only two values:"
   ]
  },
  {
   "cell_type": "code",
   "execution_count": 43,
   "metadata": {},
   "outputs": [],
   "source": [
    "data['is_apartment'] = data['is_apartment'].astype('bool')"
   ]
  },
  {
   "cell_type": "markdown",
   "metadata": {},
   "source": [
    "3. Let's make the variable 'total_area' of float type:"
   ]
  },
  {
   "cell_type": "code",
   "execution_count": 44,
   "metadata": {},
   "outputs": [],
   "source": [
    "data['total_area'] = data['total_area'].astype('float')"
   ]
  },
  {
   "cell_type": "markdown",
   "metadata": {},
   "source": [
    "Checking the results of variable's types fixing:"
   ]
  },
  {
   "cell_type": "code",
   "execution_count": 45,
   "metadata": {},
   "outputs": [
    {
     "name": "stdout",
     "output_type": "stream",
     "text": [
      "<class 'pandas.core.frame.DataFrame'>\n",
      "Int64Index: 23565 entries, 0 to 23698\n",
      "Data columns (total 23 columns):\n",
      " #   Column                Non-Null Count  Dtype  \n",
      "---  ------                --------------  -----  \n",
      " 0   total_images          23565 non-null  int64  \n",
      " 1   last_price            23565 non-null  float64\n",
      " 2   total_area            23565 non-null  float64\n",
      " 3   first_day_exposition  23565 non-null  object \n",
      " 4   rooms                 23565 non-null  int64  \n",
      " 5   ceiling_height        23565 non-null  float64\n",
      " 6   floors_total          23565 non-null  int64  \n",
      " 7   living_area           23565 non-null  float64\n",
      " 8   floor                 23565 non-null  int64  \n",
      " 9   is_apartment          23565 non-null  bool   \n",
      " 10  studio                23565 non-null  bool   \n",
      " 11  open_plan             23565 non-null  bool   \n",
      " 12  kitchen_area          23565 non-null  float64\n",
      " 13  balcony               23565 non-null  int64  \n",
      " 14  locality_name         23565 non-null  object \n",
      " 15  airports_nearest      18041 non-null  float64\n",
      " 16  cityCenters_nearest   18064 non-null  float64\n",
      " 17  parks_around3000      18065 non-null  float64\n",
      " 18  parks_nearest         8030 non-null   float64\n",
      " 19  ponds_around3000      18065 non-null  float64\n",
      " 20  ponds_nearest         9036 non-null   float64\n",
      " 21  days_exposition       20394 non-null  float64\n",
      " 22  total_area_new        23565 non-null  object \n",
      "dtypes: bool(3), float64(12), int64(5), object(3)\n",
      "memory usage: 3.8+ MB\n",
      "None\n"
     ]
    }
   ],
   "source": [
    "print(data.info())"
   ]
  },
  {
   "cell_type": "markdown",
   "metadata": {},
   "source": [
    "**Adding new variables for further analysis**"
   ]
  },
  {
   "cell_type": "markdown",
   "metadata": {},
   "source": [
    "**Price per square meter**"
   ]
  },
  {
   "cell_type": "code",
   "execution_count": 46,
   "metadata": {},
   "outputs": [
    {
     "name": "stdout",
     "output_type": "stream",
     "text": [
      "0    120370.370370\n",
      "1     82920.792079\n",
      "2     92785.714286\n",
      "3    408176.100629\n",
      "4    100000.000000\n",
      "Name: price_per_meter, dtype: float64\n"
     ]
    }
   ],
   "source": [
    "data['price_per_meter'] = data['last_price'] / data['total_area']\n",
    "print(data['price_per_meter'].head(5))"
   ]
  },
  {
   "cell_type": "markdown",
   "metadata": {},
   "source": [
    "**Day of the week, month and year of the ad's publication**"
   ]
  },
  {
   "cell_type": "code",
   "execution_count": 47,
   "metadata": {},
   "outputs": [
    {
     "data": {
      "text/html": [
       "<div>\n",
       "<style scoped>\n",
       "    .dataframe tbody tr th:only-of-type {\n",
       "        vertical-align: middle;\n",
       "    }\n",
       "\n",
       "    .dataframe tbody tr th {\n",
       "        vertical-align: top;\n",
       "    }\n",
       "\n",
       "    .dataframe thead th {\n",
       "        text-align: right;\n",
       "    }\n",
       "</style>\n",
       "<table border=\"1\" class=\"dataframe\">\n",
       "  <thead>\n",
       "    <tr style=\"text-align: right;\">\n",
       "      <th></th>\n",
       "      <th>total_images</th>\n",
       "      <th>last_price</th>\n",
       "      <th>total_area</th>\n",
       "      <th>first_day_exposition</th>\n",
       "      <th>rooms</th>\n",
       "      <th>ceiling_height</th>\n",
       "      <th>floors_total</th>\n",
       "      <th>living_area</th>\n",
       "      <th>floor</th>\n",
       "      <th>is_apartment</th>\n",
       "      <th>...</th>\n",
       "      <th>parks_nearest</th>\n",
       "      <th>ponds_around3000</th>\n",
       "      <th>ponds_nearest</th>\n",
       "      <th>days_exposition</th>\n",
       "      <th>total_area_new</th>\n",
       "      <th>price_per_meter</th>\n",
       "      <th>datetime</th>\n",
       "      <th>weekday</th>\n",
       "      <th>month</th>\n",
       "      <th>year</th>\n",
       "    </tr>\n",
       "  </thead>\n",
       "  <tbody>\n",
       "    <tr>\n",
       "      <th>0</th>\n",
       "      <td>20</td>\n",
       "      <td>13000000.0</td>\n",
       "      <td>108.0</td>\n",
       "      <td>2019-03-07T00:00:00</td>\n",
       "      <td>3</td>\n",
       "      <td>2.70</td>\n",
       "      <td>16</td>\n",
       "      <td>51.0</td>\n",
       "      <td>8</td>\n",
       "      <td>True</td>\n",
       "      <td>...</td>\n",
       "      <td>482.0</td>\n",
       "      <td>2.0</td>\n",
       "      <td>755.0</td>\n",
       "      <td>NaN</td>\n",
       "      <td>70 - 900 m.</td>\n",
       "      <td>120370.370370</td>\n",
       "      <td>2019-03-07</td>\n",
       "      <td>3</td>\n",
       "      <td>3</td>\n",
       "      <td>2019</td>\n",
       "    </tr>\n",
       "    <tr>\n",
       "      <th>1</th>\n",
       "      <td>7</td>\n",
       "      <td>3350000.0</td>\n",
       "      <td>40.4</td>\n",
       "      <td>2018-12-04T00:00:00</td>\n",
       "      <td>1</td>\n",
       "      <td>2.65</td>\n",
       "      <td>11</td>\n",
       "      <td>18.6</td>\n",
       "      <td>1</td>\n",
       "      <td>True</td>\n",
       "      <td>...</td>\n",
       "      <td>NaN</td>\n",
       "      <td>0.0</td>\n",
       "      <td>NaN</td>\n",
       "      <td>81.0</td>\n",
       "      <td>40 - 52 m.</td>\n",
       "      <td>82920.792079</td>\n",
       "      <td>2018-12-04</td>\n",
       "      <td>1</td>\n",
       "      <td>12</td>\n",
       "      <td>2018</td>\n",
       "    </tr>\n",
       "    <tr>\n",
       "      <th>2</th>\n",
       "      <td>10</td>\n",
       "      <td>5196000.0</td>\n",
       "      <td>56.0</td>\n",
       "      <td>2015-08-20T00:00:00</td>\n",
       "      <td>2</td>\n",
       "      <td>2.65</td>\n",
       "      <td>5</td>\n",
       "      <td>34.3</td>\n",
       "      <td>4</td>\n",
       "      <td>True</td>\n",
       "      <td>...</td>\n",
       "      <td>90.0</td>\n",
       "      <td>2.0</td>\n",
       "      <td>574.0</td>\n",
       "      <td>558.0</td>\n",
       "      <td>52 - 70 m.</td>\n",
       "      <td>92785.714286</td>\n",
       "      <td>2015-08-20</td>\n",
       "      <td>3</td>\n",
       "      <td>8</td>\n",
       "      <td>2015</td>\n",
       "    </tr>\n",
       "    <tr>\n",
       "      <th>3</th>\n",
       "      <td>0</td>\n",
       "      <td>64900000.0</td>\n",
       "      <td>159.0</td>\n",
       "      <td>2015-07-24T00:00:00</td>\n",
       "      <td>3</td>\n",
       "      <td>2.65</td>\n",
       "      <td>14</td>\n",
       "      <td>51.3</td>\n",
       "      <td>9</td>\n",
       "      <td>True</td>\n",
       "      <td>...</td>\n",
       "      <td>84.0</td>\n",
       "      <td>3.0</td>\n",
       "      <td>234.0</td>\n",
       "      <td>424.0</td>\n",
       "      <td>70 - 900 m.</td>\n",
       "      <td>408176.100629</td>\n",
       "      <td>2015-07-24</td>\n",
       "      <td>4</td>\n",
       "      <td>7</td>\n",
       "      <td>2015</td>\n",
       "    </tr>\n",
       "    <tr>\n",
       "      <th>4</th>\n",
       "      <td>2</td>\n",
       "      <td>10000000.0</td>\n",
       "      <td>100.0</td>\n",
       "      <td>2018-06-19T00:00:00</td>\n",
       "      <td>2</td>\n",
       "      <td>3.03</td>\n",
       "      <td>14</td>\n",
       "      <td>32.0</td>\n",
       "      <td>13</td>\n",
       "      <td>True</td>\n",
       "      <td>...</td>\n",
       "      <td>112.0</td>\n",
       "      <td>1.0</td>\n",
       "      <td>48.0</td>\n",
       "      <td>121.0</td>\n",
       "      <td>70 - 900 m.</td>\n",
       "      <td>100000.000000</td>\n",
       "      <td>2018-06-19</td>\n",
       "      <td>1</td>\n",
       "      <td>6</td>\n",
       "      <td>2018</td>\n",
       "    </tr>\n",
       "  </tbody>\n",
       "</table>\n",
       "<p>5 rows × 28 columns</p>\n",
       "</div>"
      ],
      "text/plain": [
       "   total_images  last_price  total_area first_day_exposition  rooms  \\\n",
       "0            20  13000000.0       108.0  2019-03-07T00:00:00      3   \n",
       "1             7   3350000.0        40.4  2018-12-04T00:00:00      1   \n",
       "2            10   5196000.0        56.0  2015-08-20T00:00:00      2   \n",
       "3             0  64900000.0       159.0  2015-07-24T00:00:00      3   \n",
       "4             2  10000000.0       100.0  2018-06-19T00:00:00      2   \n",
       "\n",
       "   ceiling_height  floors_total  living_area  floor  is_apartment  ...  \\\n",
       "0            2.70            16         51.0      8          True  ...   \n",
       "1            2.65            11         18.6      1          True  ...   \n",
       "2            2.65             5         34.3      4          True  ...   \n",
       "3            2.65            14         51.3      9          True  ...   \n",
       "4            3.03            14         32.0     13          True  ...   \n",
       "\n",
       "   parks_nearest  ponds_around3000  ponds_nearest  days_exposition  \\\n",
       "0          482.0               2.0          755.0              NaN   \n",
       "1            NaN               0.0            NaN             81.0   \n",
       "2           90.0               2.0          574.0            558.0   \n",
       "3           84.0               3.0          234.0            424.0   \n",
       "4          112.0               1.0           48.0            121.0   \n",
       "\n",
       "  total_area_new  price_per_meter   datetime  weekday  month  year  \n",
       "0    70 - 900 m.    120370.370370 2019-03-07        3      3  2019  \n",
       "1     40 - 52 m.     82920.792079 2018-12-04        1     12  2018  \n",
       "2     52 - 70 m.     92785.714286 2015-08-20        3      8  2015  \n",
       "3    70 - 900 m.    408176.100629 2015-07-24        4      7  2015  \n",
       "4    70 - 900 m.    100000.000000 2018-06-19        1      6  2018  \n",
       "\n",
       "[5 rows x 28 columns]"
      ]
     },
     "execution_count": 47,
     "metadata": {},
     "output_type": "execute_result"
    }
   ],
   "source": [
    "# date\n",
    "data['datetime'] = pd.to_datetime(data['first_day_exposition'], format = '%Y-%m-%dT%H:%M:%S')\n",
    "# weekday\n",
    "data['weekday'] = data['datetime'].dt.weekday\n",
    "# month\n",
    "data['month'] = data['datetime'].dt.month\n",
    "#year\n",
    "data['year'] = data['datetime'].dt.year\n",
    "\n",
    "data.head(5)"
   ]
  },
  {
   "cell_type": "markdown",
   "metadata": {},
   "source": [
    "**Floor of the apartment:**\n",
    "- first\n",
    "- last\n",
    "- other"
   ]
  },
  {
   "cell_type": "code",
   "execution_count": 48,
   "metadata": {},
   "outputs": [],
   "source": [
    "# function for separating apartments based on the floor\n",
    "def floor_group(row):\n",
    "    last_floor = row['floors_total']\n",
    "    floor = row['floor']\n",
    "    if floor == 1:\n",
    "        return 'first'\n",
    "    if floor == last_floor:\n",
    "        return 'last'\n",
    "    return 'other'"
   ]
  },
  {
   "cell_type": "code",
   "execution_count": 49,
   "metadata": {},
   "outputs": [
    {
     "name": "stdout",
     "output_type": "stream",
     "text": [
      "0    other\n",
      "1    first\n",
      "2    other\n",
      "3    other\n",
      "4    other\n",
      "Name: floor_group, dtype: object\n"
     ]
    }
   ],
   "source": [
    "# applying function to dataset for making new variable 'floor_group'\n",
    "data['floor_group'] = data.apply(floor_group, axis = 1)\n",
    "print(data['floor_group'].head(5))"
   ]
  },
  {
   "cell_type": "markdown",
   "metadata": {},
   "source": [
    "**The ratio of living area to total area, as well as the ratio of kitchen area to total.**"
   ]
  },
  {
   "cell_type": "code",
   "execution_count": 50,
   "metadata": {},
   "outputs": [
    {
     "name": "stdout",
     "output_type": "stream",
     "text": [
      "0    0.472222\n",
      "1    0.460396\n",
      "2    0.612500\n",
      "3    0.322642\n",
      "4    0.320000\n",
      "Name: living_total, dtype: float64\n"
     ]
    }
   ],
   "source": [
    "data['living_total'] = data['living_area'] / data['total_area']\n",
    "print(data['living_total'].head(5))"
   ]
  },
  {
   "cell_type": "code",
   "execution_count": 51,
   "metadata": {},
   "outputs": [
    {
     "name": "stdout",
     "output_type": "stream",
     "text": [
      "0    0.231481\n",
      "1    0.272277\n",
      "2    0.148214\n",
      "3    0.081761\n",
      "4    0.410000\n",
      "Name: kitchen_total, dtype: float64\n"
     ]
    }
   ],
   "source": [
    "data['kitchen_total'] = data['kitchen_area'] / data['total_area']\n",
    "print(data['kitchen_total'].head(5))"
   ]
  },
  {
   "cell_type": "markdown",
   "metadata": {},
   "source": [
    "## Exploratory data analysis"
   ]
  },
  {
   "cell_type": "markdown",
   "metadata": {},
   "source": [
    "**Exploring the distribution of main parameters:**\n",
    "- total area;\n",
    "- price;\n",
    "- rooms number;\n",
    "- ceiling height."
   ]
  },
  {
   "cell_type": "markdown",
   "metadata": {},
   "source": [
    "**Total Area**"
   ]
  },
  {
   "cell_type": "code",
   "execution_count": 52,
   "metadata": {},
   "outputs": [
    {
     "data": {
      "text/plain": [
       "count    23565.000000\n",
       "mean        60.322824\n",
       "std         35.657060\n",
       "min         12.000000\n",
       "25%         40.000000\n",
       "50%         52.000000\n",
       "75%         69.700000\n",
       "max        900.000000\n",
       "Name: total_area, dtype: float64"
      ]
     },
     "execution_count": 52,
     "metadata": {},
     "output_type": "execute_result"
    }
   ],
   "source": [
    "data['total_area'].describe()"
   ]
  },
  {
   "cell_type": "code",
   "execution_count": 53,
   "metadata": {},
   "outputs": [
    {
     "data": {
      "text/plain": [
       "<AxesSubplot:title={'center':'Total Area Distribution'}, ylabel='Frequency'>"
      ]
     },
     "execution_count": 53,
     "metadata": {},
     "output_type": "execute_result"
    },
    {
     "data": {
      "image/png": "[encoded data removed]",
      "text/plain": [
       "<Figure size 432x288 with 1 Axes>"
      ]
     },
     "metadata": {
      "needs_background": "light"
     },
     "output_type": "display_data"
    }
   ],
   "source": [
    "data.plot(y = 'total_area', kind='hist', bins=50, range=(0, 300), title='Total Area Distribution', grid = True, colormap='PiYG')"
   ]
  },
  {
   "cell_type": "markdown",
   "metadata": {},
   "source": [
    "As can be seen from the histogram, the distribution is not entirely \"normal\", but overall there is data to the left and right of the peak. The most common apartment area is approximately 45-50 square meters. The minimum value is 12 square meters and the maximum is 900. "
   ]
  },
  {
   "cell_type": "markdown",
   "metadata": {},
   "source": [
    "**Price**"
   ]
  },
  {
   "cell_type": "code",
   "execution_count": 54,
   "metadata": {},
   "outputs": [
    {
     "data": {
      "text/plain": [
       "count    2.356500e+04\n",
       "mean     6.540058e+06\n",
       "std      1.091093e+07\n",
       "min      1.219000e+04\n",
       "25%      3.400000e+06\n",
       "50%      4.646000e+06\n",
       "75%      6.790000e+06\n",
       "max      7.630000e+08\n",
       "Name: last_price, dtype: float64"
      ]
     },
     "execution_count": 54,
     "metadata": {},
     "output_type": "execute_result"
    }
   ],
   "source": [
    "data['last_price'].describe()"
   ]
  },
  {
   "cell_type": "code",
   "execution_count": 55,
   "metadata": {},
   "outputs": [
    {
     "data": {
      "text/plain": [
       "<AxesSubplot:title={'center':'Price Distribution'}, ylabel='Frequency'>"
      ]
     },
     "execution_count": 55,
     "metadata": {},
     "output_type": "execute_result"
    },
    {
     "data": {
      "image/png": "[encoded data removed]",
      "text/plain": [
       "<Figure size 432x288 with 1 Axes>"
      ]
     },
     "metadata": {
      "needs_background": "light"
     },
     "output_type": "display_data"
    }
   ],
   "source": [
    "data.plot(y = 'last_price', kind = 'hist', bins=50, range = (0,15000000), title = 'Price Distribution', grid = True, colormap='PiYG')"
   ]
  },
  {
   "cell_type": "markdown",
   "metadata": {},
   "source": [
    "As for the variable with the price of apartments, it takes on very different meanings. The minimum cost is 12190 RUB, and the maximum is 763000000 RUB. Judging by the histogram, the data have a normal distribution, while the \"right\" tail of the maximum values is very long. The peak value on the chart is at the level of 4-5 million RUB."
   ]
  },
  {
   "cell_type": "markdown",
   "metadata": {},
   "source": [
    "**Rooms Number**"
   ]
  },
  {
   "cell_type": "code",
   "execution_count": 56,
   "metadata": {},
   "outputs": [
    {
     "data": {
      "text/plain": [
       "count    23565.000000\n",
       "mean         2.070656\n",
       "std          1.078591\n",
       "min          0.000000\n",
       "25%          1.000000\n",
       "50%          2.000000\n",
       "75%          3.000000\n",
       "max         19.000000\n",
       "Name: rooms, dtype: float64"
      ]
     },
     "execution_count": 56,
     "metadata": {},
     "output_type": "execute_result"
    }
   ],
   "source": [
    "data['rooms'].describe()"
   ]
  },
  {
   "cell_type": "code",
   "execution_count": 57,
   "metadata": {},
   "outputs": [
    {
     "data": {
      "text/plain": [
       "<AxesSubplot:title={'center':'Rooms Number Distribution'}, ylabel='Frequency'>"
      ]
     },
     "execution_count": 57,
     "metadata": {},
     "output_type": "execute_result"
    },
    {
     "data": {
      "image/png": "[encoded data removed]",
      "text/plain": [
       "<Figure size 432x288 with 1 Axes>"
      ]
     },
     "metadata": {
      "needs_background": "light"
     },
     "output_type": "display_data"
    }
   ],
   "source": [
    "data.plot(y = 'rooms', kind = 'hist', bins=10, range = (0,10), title = 'Rooms Number Distribution', grid = True, colormap='PiYG')"
   ]
  },
  {
   "cell_type": "markdown",
   "metadata": {},
   "source": [
    "The smallest number of rooms in the dataset is 0, and the largest is 19. As can be seen from the graph, there is a large peak in the interval of 1-4 rooms, and then the number of apartments with more than 4 rooms decreases."
   ]
  },
  {
   "cell_type": "markdown",
   "metadata": {},
   "source": [
    "**Ceiling Height**"
   ]
  },
  {
   "cell_type": "code",
   "execution_count": 58,
   "metadata": {},
   "outputs": [
    {
     "data": {
      "text/plain": [
       "count    23565.000000\n",
       "mean         2.724530\n",
       "std          0.991026\n",
       "min          1.000000\n",
       "25%          2.600000\n",
       "50%          2.650000\n",
       "75%          2.700000\n",
       "max        100.000000\n",
       "Name: ceiling_height, dtype: float64"
      ]
     },
     "execution_count": 58,
     "metadata": {},
     "output_type": "execute_result"
    }
   ],
   "source": [
    "data['ceiling_height'].describe()"
   ]
  },
  {
   "cell_type": "code",
   "execution_count": 59,
   "metadata": {},
   "outputs": [
    {
     "data": {
      "text/plain": [
       "<AxesSubplot:title={'center':'Ceiling Height Distribution'}, ylabel='Frequency'>"
      ]
     },
     "execution_count": 59,
     "metadata": {},
     "output_type": "execute_result"
    },
    {
     "data": {
      "image/png": "[encoded data removed]",
      "text/plain": [
       "<Figure size 432x288 with 1 Axes>"
      ]
     },
     "metadata": {
      "needs_background": "light"
     },
     "output_type": "display_data"
    }
   ],
   "source": [
    "data.plot(y = 'ceiling_height', kind = 'hist', bins=30, range = (2.25,4), title = 'Ceiling Height Distribution', grid = True, colormap='PiYG')"
   ]
  },
  {
   "cell_type": "markdown",
   "metadata": {},
   "source": [
    "The histogram immediately catches the eye with a large peak around 2.6 meters, as this is most likely the standard ceiling height in typical buildings. Most of the value is in the range 2.4 - 3.25 meters. The smallest indicator is 1 meter, and the largest is 100 (which may be an error in filling out the data)."
   ]
  },
  {
   "cell_type": "markdown",
   "metadata": {},
   "source": [
    "**Exploring the time needed to sell the apartment**"
   ]
  },
  {
   "cell_type": "markdown",
   "metadata": {},
   "source": [
    "To reveal the sale time of an apartment, let's look at the distribution of the variable 'days_exposition', reflecting how many days the ad was posted (from its publication to withdrawal)."
   ]
  },
  {
   "cell_type": "code",
   "execution_count": 60,
   "metadata": {},
   "outputs": [
    {
     "data": {
      "text/plain": [
       "count    20394.000000\n",
       "mean       180.741395\n",
       "std        219.732782\n",
       "min          1.000000\n",
       "25%         45.000000\n",
       "50%         95.000000\n",
       "75%        231.000000\n",
       "max       1580.000000\n",
       "Name: days_exposition, dtype: float64"
      ]
     },
     "execution_count": 60,
     "metadata": {},
     "output_type": "execute_result"
    }
   ],
   "source": [
    "data['days_exposition'].describe()"
   ]
  },
  {
   "cell_type": "code",
   "execution_count": 61,
   "metadata": {},
   "outputs": [
    {
     "data": {
      "text/plain": [
       "<AxesSubplot:title={'center':'Days Exposition Distribution'}, ylabel='Frequency'>"
      ]
     },
     "execution_count": 61,
     "metadata": {},
     "output_type": "execute_result"
    },
    {
     "data": {
      "image/png": "[encoded data removed]",
      "text/plain": [
       "<Figure size 432x288 with 1 Axes>"
      ]
     },
     "metadata": {
      "needs_background": "light"
     },
     "output_type": "display_data"
    }
   ],
   "source": [
    "data.plot(y = 'days_exposition', kind = 'hist', bins=30, range = (0,1600), title = 'Days Exposition Distribution', grid = True, colormap='Oranges_r')\n"
   ]
  },
  {
   "cell_type": "code",
   "execution_count": 62,
   "metadata": {},
   "outputs": [
    {
     "data": {
      "text/plain": [
       "<AxesSubplot:>"
      ]
     },
     "execution_count": 62,
     "metadata": {},
     "output_type": "execute_result"
    },
    {
     "data": {
      "image/png": "[encoded data removed]",
      "text/plain": [
       "<Figure size 432x288 with 1 Axes>"
      ]
     },
     "metadata": {
      "needs_background": "light"
     },
     "output_type": "display_data"
    }
   ],
   "source": [
    "import matplotlib.pyplot as plt\n",
    "plt.ylim(-50, 1700)\n",
    "\n",
    "data.boxplot('days_exposition')"
   ]
  },
  {
   "cell_type": "markdown",
   "metadata": {},
   "source": [
    "In order to explore the time of apartment sale, a histogram and boxplot were used. It can be seen on the histogram that the variable is distributed according to the Poisson distribution, as befits \"temporary\" variables. All values range from 0 days to 1600. The average value of selling days is 180, and the median is 95, which is quite different, what can be caused by outliers. \n",
    "\n",
    "Based on the quartiles data, everything that is included in the first quartile, that is, the time up to 45 days, can be considered as the \"fast\" time for the sale of an apartment. The sale of an apartment for more than 230 days (more than the third quartile) can be called “long”."
   ]
  },
  {
   "cell_type": "markdown",
   "metadata": {},
   "source": [
    "## Removing rare and outliers' values"
   ]
  },
  {
   "cell_type": "markdown",
   "metadata": {},
   "source": [
    "Based on the data obtained above, it is not yet possible to identify specific outliers' values. But, if we look at the histogram,  a peak between values from 0 to 200 can be seen. Let's take a closer look at this interval:"
   ]
  },
  {
   "cell_type": "code",
   "execution_count": 63,
   "metadata": {},
   "outputs": [
    {
     "data": {
      "text/plain": [
       "<AxesSubplot:title={'center':'Days Exposition Distribution'}, ylabel='Frequency'>"
      ]
     },
     "execution_count": 63,
     "metadata": {},
     "output_type": "execute_result"
    },
    {
     "data": {
      "image/png": "[encoded data removed]",
      "text/plain": [
       "<Figure size 432x288 with 1 Axes>"
      ]
     },
     "metadata": {
      "needs_background": "light"
     },
     "output_type": "display_data"
    }
   ],
   "source": [
    "data.plot(y = 'days_exposition', kind = 'hist', bins=50, range = (0,200), title = 'Days Exposition Distribution', grid = True, colormap='Oranges_r')"
   ]
  },
  {
   "cell_type": "markdown",
   "metadata": {},
   "source": [
    "Several peaks can be observed. To accurately determine them, let's look at the frequently encountered values:"
   ]
  },
  {
   "cell_type": "code",
   "execution_count": 64,
   "metadata": {},
   "outputs": [
    {
     "data": {
      "text/plain": [
       "45.0    879\n",
       "60.0    538\n",
       "7.0     234\n",
       "30.0    208\n",
       "90.0    200\n",
       "Name: days_exposition, dtype: int64"
      ]
     },
     "execution_count": 64,
     "metadata": {},
     "output_type": "execute_result"
    }
   ],
   "source": [
    "data['days_exposition'].value_counts().head(5)"
   ]
  },
  {
   "cell_type": "markdown",
   "metadata": {},
   "source": [
    "As can be seen, the outliers are presented by values of 7, 30, 45, 60 and 90 days, what represents a week, month, 1.5 months, 2 months and 3 months. This suggests that the publications could have been removed not because of the sale of the apartment, but for some regular technical reason.\n",
    "\n",
    "For the accuracy of subsequent manipulations, it is necessary to get rid of these outliers, since they can significantly affect the distribution:"
   ]
  },
  {
   "cell_type": "code",
   "execution_count": 65,
   "metadata": {
    "scrolled": true
   },
   "outputs": [
    {
     "name": "stdout",
     "output_type": "stream",
     "text": [
      "count    18335.000000\n",
      "mean       195.709136\n",
      "std        226.796685\n",
      "min          1.000000\n",
      "25%         44.000000\n",
      "50%        114.000000\n",
      "75%        259.000000\n",
      "max       1580.000000\n",
      "Name: days_exposition, dtype: float64\n"
     ]
    }
   ],
   "source": [
    "data_new = data.query('days_exposition != 45 and days_exposition != 30 and days_exposition != 60 and days_exposition != 90 and days_exposition != 7 and days_exposition != 0')\n",
    "print(data_new['days_exposition'].describe())"
   ]
  },
  {
   "cell_type": "markdown",
   "metadata": {},
   "source": [
    "As can be seen from the description of the new dataset with corrected data (without outliers in 'days_exposition' variable), the average value has increased significantly and approached the median."
   ]
  },
  {
   "cell_type": "markdown",
   "metadata": {},
   "source": [
    "## What factors mostly affect the price of an apartment?"
   ]
  },
  {
   "cell_type": "markdown",
   "metadata": {},
   "source": [
    "In order to answer the question about which factors are mostly associated with the cost of an apartment, the visualizations and the correlation coefficient will be applied.\n",
    "\n",
    "But firstly, it is worth making a price slice of the data, as it was previously shown that there are several cases of very high apartment prices, which can distort the study of relationships. Therefore, let's create a new dataset with \"cutted\" data containing apartments with a cost of no more than 15 million RUB:"
   ]
  },
  {
   "cell_type": "code",
   "execution_count": 66,
   "metadata": {},
   "outputs": [
    {
     "name": "stdout",
     "output_type": "stream",
     "text": [
      "<class 'pandas.core.frame.DataFrame'>\n",
      "Int64Index: 20331 entries, 0 to 23698\n",
      "Data columns (total 31 columns):\n",
      " #   Column                Non-Null Count  Dtype         \n",
      "---  ------                --------------  -----         \n",
      " 0   total_images          20331 non-null  int64         \n",
      " 1   last_price            20331 non-null  float64       \n",
      " 2   total_area            20331 non-null  float64       \n",
      " 3   first_day_exposition  20331 non-null  object        \n",
      " 4   rooms                 20331 non-null  int64         \n",
      " 5   ceiling_height        20331 non-null  float64       \n",
      " 6   floors_total          20331 non-null  int64         \n",
      " 7   living_area           20331 non-null  float64       \n",
      " 8   floor                 20331 non-null  int64         \n",
      " 9   is_apartment          20331 non-null  bool          \n",
      " 10  studio                20331 non-null  bool          \n",
      " 11  open_plan             20331 non-null  bool          \n",
      " 12  kitchen_area          20331 non-null  float64       \n",
      " 13  balcony               20331 non-null  int64         \n",
      " 14  locality_name         20331 non-null  object        \n",
      " 15  airports_nearest      15445 non-null  float64       \n",
      " 16  cityCenters_nearest   15459 non-null  float64       \n",
      " 17  parks_around3000      15460 non-null  float64       \n",
      " 18  parks_nearest         6631 non-null   float64       \n",
      " 19  ponds_around3000      15460 non-null  float64       \n",
      " 20  ponds_nearest         7506 non-null   float64       \n",
      " 21  days_exposition       17524 non-null  float64       \n",
      " 22  total_area_new        20331 non-null  object        \n",
      " 23  price_per_meter       20331 non-null  float64       \n",
      " 24  datetime              20331 non-null  datetime64[ns]\n",
      " 25  weekday               20331 non-null  int64         \n",
      " 26  month                 20331 non-null  int64         \n",
      " 27  year                  20331 non-null  int64         \n",
      " 28  floor_group           20331 non-null  object        \n",
      " 29  living_total          20331 non-null  float64       \n",
      " 30  kitchen_total         20331 non-null  float64       \n",
      "dtypes: bool(3), datetime64[ns](1), float64(15), int64(8), object(4)\n",
      "memory usage: 4.6+ MB\n"
     ]
    }
   ],
   "source": [
    "data_graph = data_new.query('last_price < 15000000.0')\n",
    "data_graph.info()"
   ]
  },
  {
   "cell_type": "markdown",
   "metadata": {},
   "source": [
    "Having “cut off” a piece of data with apartments worth 15 million and below, we lost only about 5 thousand rows. In total, the new dataset contains 21360 observations. \n",
    "\n",
    "Now, on the basis of new dataset, we can begin to study the relationship of various characteristics of an apartment with its price"
   ]
  },
  {
   "cell_type": "markdown",
   "metadata": {},
   "source": [
    "**1. Continuous variables: 'total_area' and 'CityCenters_nearest'**"
   ]
  },
  {
   "cell_type": "markdown",
   "metadata": {},
   "source": [
    "These variables are continuous, so scatter plots and the Pearson correlation coefficient can be used to investigate their relationship with the price of an apartment."
   ]
  },
  {
   "cell_type": "markdown",
   "metadata": {},
   "source": [
    "Firsly, in order to identify outliers in a variable reflecting the area of an apartment, let's turn to Boxplot:"
   ]
  },
  {
   "cell_type": "code",
   "execution_count": 67,
   "metadata": {},
   "outputs": [
    {
     "data": {
      "text/plain": [
       "<AxesSubplot:>"
      ]
     },
     "execution_count": 67,
     "metadata": {},
     "output_type": "execute_result"
    },
    {
     "data": {
      "image/png": "[encoded data removed]",
      "text/plain": [
       "<Figure size 432x288 with 1 Axes>"
      ]
     },
     "metadata": {
      "needs_background": "light"
     },
     "output_type": "display_data"
    }
   ],
   "source": [
    "import matplotlib.pyplot as plt\n",
    "plt.ylim(0, 400)\n",
    "\n",
    "data_graph.boxplot('total_area')"
   ]
  },
  {
   "cell_type": "markdown",
   "metadata": {},
   "source": [
    "As can be seen from the graph, the median apartment size is 50 square meters. Anything above about 100-105 square meters is considered an outlier. Therefore, we can \"cut off\" all unnecessary values above 100 square meters."
   ]
  },
  {
   "cell_type": "code",
   "execution_count": 68,
   "metadata": {},
   "outputs": [],
   "source": [
    "data_graph = data_graph.query('total_area < 100')"
   ]
  },
  {
   "cell_type": "markdown",
   "metadata": {},
   "source": [
    "Also, let's look at the presence/absence of outliers in the variable 'cityCenters_nearest':"
   ]
  },
  {
   "cell_type": "code",
   "execution_count": 69,
   "metadata": {},
   "outputs": [
    {
     "data": {
      "text/plain": [
       "<AxesSubplot:>"
      ]
     },
     "execution_count": 69,
     "metadata": {},
     "output_type": "execute_result"
    },
    {
     "data": {
      "image/png": "[encoded data removed]",
      "text/plain": [
       "<Figure size 432x288 with 1 Axes>"
      ]
     },
     "metadata": {
      "needs_background": "light"
     },
     "output_type": "display_data"
    }
   ],
   "source": [
    "import matplotlib.pyplot as plt\n",
    "plt.ylim(-2000, 70000)\n",
    "\n",
    "data_graph.boxplot('cityCenters_nearest')"
   ]
  },
  {
   "cell_type": "markdown",
   "metadata": {},
   "source": [
    "According to the graph, there is a fairly large number of outliers, but they will not interfere with the subsequent analysis, since they reflect the essence of the variable - the distance, which can be very small or very large. Therefore, no additional action is required with this variable."
   ]
  },
  {
   "cell_type": "code",
   "execution_count": 70,
   "metadata": {},
   "outputs": [
    {
     "data": {
      "text/plain": [
       "<AxesSubplot:xlabel='cityCenters_nearest', ylabel='last_price'>"
      ]
     },
     "execution_count": 70,
     "metadata": {},
     "output_type": "execute_result"
    },
    {
     "data": {
      "image/png": "[encoded data removed]",
      "text/plain": [
       "<Figure size 432x288 with 1 Axes>"
      ]
     },
     "metadata": {
      "needs_background": "light"
     },
     "output_type": "display_data"
    },
    {
     "data": {
      "image/png": "[encoded data removed]",
      "text/plain": [
       "<Figure size 432x288 with 1 Axes>"
      ]
     },
     "metadata": {
      "needs_background": "light"
     },
     "output_type": "display_data"
    }
   ],
   "source": [
    "data_graph.plot(x='total_area', y='last_price', kind='scatter', alpha=0.3, color='orange')\n",
    "data_graph.plot(x = 'cityCenters_nearest', y = 'last_price', kind = 'scatter', alpha = 0.3, color='orange')"
   ]
  },
  {
   "cell_type": "code",
   "execution_count": 71,
   "metadata": {},
   "outputs": [
    {
     "data": {
      "text/html": [
       "<div>\n",
       "<style scoped>\n",
       "    .dataframe tbody tr th:only-of-type {\n",
       "        vertical-align: middle;\n",
       "    }\n",
       "\n",
       "    .dataframe tbody tr th {\n",
       "        vertical-align: top;\n",
       "    }\n",
       "\n",
       "    .dataframe thead th {\n",
       "        text-align: right;\n",
       "    }\n",
       "</style>\n",
       "<table border=\"1\" class=\"dataframe\">\n",
       "  <thead>\n",
       "    <tr style=\"text-align: right;\">\n",
       "      <th></th>\n",
       "      <th>last_price</th>\n",
       "      <th>total_area</th>\n",
       "      <th>cityCenters_nearest</th>\n",
       "    </tr>\n",
       "  </thead>\n",
       "  <tbody>\n",
       "    <tr>\n",
       "      <th>last_price</th>\n",
       "      <td>1.000000</td>\n",
       "      <td>0.694719</td>\n",
       "      <td>-0.348754</td>\n",
       "    </tr>\n",
       "    <tr>\n",
       "      <th>total_area</th>\n",
       "      <td>0.694719</td>\n",
       "      <td>1.000000</td>\n",
       "      <td>-0.132550</td>\n",
       "    </tr>\n",
       "    <tr>\n",
       "      <th>cityCenters_nearest</th>\n",
       "      <td>-0.348754</td>\n",
       "      <td>-0.132550</td>\n",
       "      <td>1.000000</td>\n",
       "    </tr>\n",
       "  </tbody>\n",
       "</table>\n",
       "</div>"
      ],
      "text/plain": [
       "                     last_price  total_area  cityCenters_nearest\n",
       "last_price             1.000000    0.694719            -0.348754\n",
       "total_area             0.694719    1.000000            -0.132550\n",
       "cityCenters_nearest   -0.348754   -0.132550             1.000000"
      ]
     },
     "execution_count": 71,
     "metadata": {},
     "output_type": "execute_result"
    }
   ],
   "source": [
    "data_graph[['last_price', 'total_area', 'cityCenters_nearest']].corr()"
   ]
  },
  {
   "cell_type": "markdown",
   "metadata": {},
   "source": [
    "As can be seen from the data presented, there is indeed a connection between the price of an apartment and its total area: the larger the area, the higher the price. The correlation coefficient is about 0.7, which is a fairly significant indicator of the dependence of the two quantities under consideration. \n",
    "\n",
    "As for the second indicator - remoteness from the center - there is no relationship between the price of an apartment and this variable. If we interpret a negative correlation coefficient, it means that the shorter the distance to the center, the higher the price. But the value equal to 0.36 does not allow speaking about any dependence of the variables."
   ]
  },
  {
   "cell_type": "markdown",
   "metadata": {},
   "source": [
    "**2. Categorical and discrete variables: 'rooms', 'floor', 'weekday', 'month', 'year'**"
   ]
  },
  {
   "cell_type": "markdown",
   "metadata": {},
   "source": [
    "As first step, let's check 'rooms' variable for outliers. \n",
    "Other variables: 'floor_group', 'weekday', 'month' and 'year' represent different categories. A check for outliers for these variables in such form does not seem necessary"
   ]
  },
  {
   "cell_type": "markdown",
   "metadata": {},
   "source": [
    "Cheking 'rooms' variable for outliers:"
   ]
  },
  {
   "cell_type": "code",
   "execution_count": 74,
   "metadata": {},
   "outputs": [
    {
     "data": {
      "text/plain": [
       "<AxesSubplot:>"
      ]
     },
     "execution_count": 74,
     "metadata": {},
     "output_type": "execute_result"
    },
    {
     "data": {
      "image/png": "[encoded data removed]",
      "text/plain": [
       "<Figure size 432x288 with 1 Axes>"
      ]
     },
     "metadata": {
      "needs_background": "light"
     },
     "output_type": "display_data"
    }
   ],
   "source": [
    "import matplotlib.pyplot as plt\n",
    "plt.ylim(-1, 10)\n",
    "\n",
    "data_graph.boxplot('rooms')"
   ]
  },
  {
   "cell_type": "markdown",
   "metadata": {},
   "source": [
    "According to boxplot, there are no obvious outliers in the 'rooms' variable, so we can continue working with this variable further.\n",
    "\n",
    "To analyze the relationship between categorical and discrete variables with the price of an apartment, it is firstly needed to group them by their median (or mean) value, which will allow to look at the relationship on the graphs."
   ]
  },
  {
   "cell_type": "markdown",
   "metadata": {},
   "source": [
    "**Rooms:**"
   ]
  },
  {
   "cell_type": "code",
   "execution_count": 75,
   "metadata": {},
   "outputs": [
    {
     "data": {
      "text/html": [
       "<div>\n",
       "<style scoped>\n",
       "    .dataframe tbody tr th:only-of-type {\n",
       "        vertical-align: middle;\n",
       "    }\n",
       "\n",
       "    .dataframe tbody tr th {\n",
       "        vertical-align: top;\n",
       "    }\n",
       "\n",
       "    .dataframe thead tr th {\n",
       "        text-align: left;\n",
       "    }\n",
       "\n",
       "    .dataframe thead tr:last-of-type th {\n",
       "        text-align: right;\n",
       "    }\n",
       "</style>\n",
       "<table border=\"1\" class=\"dataframe\">\n",
       "  <thead>\n",
       "    <tr>\n",
       "      <th></th>\n",
       "      <th>count</th>\n",
       "      <th>mean</th>\n",
       "      <th>median</th>\n",
       "    </tr>\n",
       "    <tr>\n",
       "      <th></th>\n",
       "      <th>last_price</th>\n",
       "      <th>last_price</th>\n",
       "      <th>last_price</th>\n",
       "    </tr>\n",
       "    <tr>\n",
       "      <th>rooms</th>\n",
       "      <th></th>\n",
       "      <th></th>\n",
       "      <th></th>\n",
       "    </tr>\n",
       "  </thead>\n",
       "  <tbody>\n",
       "    <tr>\n",
       "      <th>0</th>\n",
       "      <td>165</td>\n",
       "      <td>2.889920e+06</td>\n",
       "      <td>2700000.0</td>\n",
       "    </tr>\n",
       "    <tr>\n",
       "      <th>1</th>\n",
       "      <td>7226</td>\n",
       "      <td>3.785415e+06</td>\n",
       "      <td>3600000.0</td>\n",
       "    </tr>\n",
       "    <tr>\n",
       "      <th>2</th>\n",
       "      <td>6988</td>\n",
       "      <td>5.192950e+06</td>\n",
       "      <td>4700000.0</td>\n",
       "    </tr>\n",
       "    <tr>\n",
       "      <th>3</th>\n",
       "      <td>4541</td>\n",
       "      <td>6.201721e+06</td>\n",
       "      <td>5750000.0</td>\n",
       "    </tr>\n",
       "    <tr>\n",
       "      <th>4</th>\n",
       "      <td>542</td>\n",
       "      <td>6.416142e+06</td>\n",
       "      <td>6325000.0</td>\n",
       "    </tr>\n",
       "    <tr>\n",
       "      <th>5</th>\n",
       "      <td>32</td>\n",
       "      <td>7.002812e+06</td>\n",
       "      <td>5800000.0</td>\n",
       "    </tr>\n",
       "    <tr>\n",
       "      <th>6</th>\n",
       "      <td>2</td>\n",
       "      <td>6.482000e+06</td>\n",
       "      <td>6482000.0</td>\n",
       "    </tr>\n",
       "  </tbody>\n",
       "</table>\n",
       "</div>"
      ],
      "text/plain": [
       "           count          mean     median\n",
       "      last_price    last_price last_price\n",
       "rooms                                    \n",
       "0            165  2.889920e+06  2700000.0\n",
       "1           7226  3.785415e+06  3600000.0\n",
       "2           6988  5.192950e+06  4700000.0\n",
       "3           4541  6.201721e+06  5750000.0\n",
       "4            542  6.416142e+06  6325000.0\n",
       "5             32  7.002812e+06  5800000.0\n",
       "6              2  6.482000e+06  6482000.0"
      ]
     },
     "execution_count": 75,
     "metadata": {},
     "output_type": "execute_result"
    }
   ],
   "source": [
    "# using pivot_table to group data\n",
    "rooms_data = data_graph.pivot_table(index = 'rooms', values = 'last_price', aggfunc = ['count', 'mean', 'median'])\n",
    "rooms_data"
   ]
  },
  {
   "cell_type": "code",
   "execution_count": 76,
   "metadata": {},
   "outputs": [
    {
     "data": {
      "text/plain": [
       "<AxesSubplot:title={'center':'Rooms Mean Value'}, xlabel='rooms'>"
      ]
     },
     "execution_count": 76,
     "metadata": {},
     "output_type": "execute_result"
    },
    {
     "data": {
      "image/png": "[encoded data removed]",
      "text/plain": [
       "<Figure size 432x288 with 1 Axes>"
      ]
     },
     "metadata": {
      "needs_background": "light"
     },
     "output_type": "display_data"
    },
    {
     "data": {
      "image/png": "[encoded data removed]",
      "text/plain": [
       "<Figure size 432x288 with 1 Axes>"
      ]
     },
     "metadata": {
      "needs_background": "light"
     },
     "output_type": "display_data"
    }
   ],
   "source": [
    "rooms_data.plot(y = 'median', title = 'Rooms Median Value', grid = True, kind = 'bar', colormap='Set2', rot=0)\n",
    "rooms_data.plot(y = 'mean', title = 'Rooms Mean Value', grid = True, kind = 'bar', colormap='Set2', rot=0)"
   ]
  },
  {
   "cell_type": "markdown",
   "metadata": {},
   "source": [
    "According to graphs, the general trend is that the more rooms, the higher the price. If we refer to the median value, then the most expensive are apartments with 4 and 6 rooms. According to the mean value of 'rooms' variable, the most expensive apartments are those with 5 rooms. "
   ]
  },
  {
   "cell_type": "markdown",
   "metadata": {},
   "source": [
    "**Floor:**"
   ]
  },
  {
   "cell_type": "markdown",
   "metadata": {},
   "source": [
    "At its core, a floor variable is categorical. Therefore, for further manipulations with the data, there is need to group the data by floors: first, last and others for futher visualizations:"
   ]
  },
  {
   "cell_type": "code",
   "execution_count": 77,
   "metadata": {},
   "outputs": [
    {
     "data": {
      "text/html": [
       "<div>\n",
       "<style scoped>\n",
       "    .dataframe tbody tr th:only-of-type {\n",
       "        vertical-align: middle;\n",
       "    }\n",
       "\n",
       "    .dataframe tbody tr th {\n",
       "        vertical-align: top;\n",
       "    }\n",
       "\n",
       "    .dataframe thead tr th {\n",
       "        text-align: left;\n",
       "    }\n",
       "\n",
       "    .dataframe thead tr:last-of-type th {\n",
       "        text-align: right;\n",
       "    }\n",
       "</style>\n",
       "<table border=\"1\" class=\"dataframe\">\n",
       "  <thead>\n",
       "    <tr>\n",
       "      <th></th>\n",
       "      <th>count</th>\n",
       "      <th>mean</th>\n",
       "      <th>median</th>\n",
       "    </tr>\n",
       "    <tr>\n",
       "      <th></th>\n",
       "      <th>last_price</th>\n",
       "      <th>last_price</th>\n",
       "      <th>last_price</th>\n",
       "    </tr>\n",
       "    <tr>\n",
       "      <th>floor_group</th>\n",
       "      <th></th>\n",
       "      <th></th>\n",
       "      <th></th>\n",
       "    </tr>\n",
       "  </thead>\n",
       "  <tbody>\n",
       "    <tr>\n",
       "      <th>first</th>\n",
       "      <td>2521</td>\n",
       "      <td>4.152918e+06</td>\n",
       "      <td>3850000.0</td>\n",
       "    </tr>\n",
       "    <tr>\n",
       "      <th>last</th>\n",
       "      <td>2681</td>\n",
       "      <td>4.541022e+06</td>\n",
       "      <td>4050000.0</td>\n",
       "    </tr>\n",
       "    <tr>\n",
       "      <th>other</th>\n",
       "      <td>14294</td>\n",
       "      <td>5.131608e+06</td>\n",
       "      <td>4600000.0</td>\n",
       "    </tr>\n",
       "  </tbody>\n",
       "</table>\n",
       "</div>"
      ],
      "text/plain": [
       "                 count          mean     median\n",
       "            last_price    last_price last_price\n",
       "floor_group                                    \n",
       "first             2521  4.152918e+06  3850000.0\n",
       "last              2681  4.541022e+06  4050000.0\n",
       "other            14294  5.131608e+06  4600000.0"
      ]
     },
     "execution_count": 77,
     "metadata": {},
     "output_type": "execute_result"
    }
   ],
   "source": [
    "floor_data = data_graph.pivot_table(index = 'floor_group', values = 'last_price', aggfunc = ['count', 'mean', 'median'])\n",
    "floor_data"
   ]
  },
  {
   "cell_type": "code",
   "execution_count": 78,
   "metadata": {},
   "outputs": [
    {
     "data": {
      "text/plain": [
       "<AxesSubplot:title={'center':'Floor Group'}, xlabel='floor_group'>"
      ]
     },
     "execution_count": 78,
     "metadata": {},
     "output_type": "execute_result"
    },
    {
     "data": {
      "image/png": "[encoded data removed]",
      "text/plain": [
       "<Figure size 432x288 with 1 Axes>"
      ]
     },
     "metadata": {
      "needs_background": "light"
     },
     "output_type": "display_data"
    },
    {
     "data": {
      "image/png": "[encoded data removed]",
      "text/plain": [
       "<Figure size 432x288 with 1 Axes>"
      ]
     },
     "metadata": {
      "needs_background": "light"
     },
     "output_type": "display_data"
    }
   ],
   "source": [
    "floor_data.plot(y = 'median', title = 'Floor Group', grid = True, kind = 'bar', colormap='PRGn_r', rot=0)\n",
    "floor_data.plot(y = 'mean', title = 'Floor Group', grid = True, kind = 'bar', colormap='PRGn_r', rot=0)"
   ]
  },
  {
   "cell_type": "markdown",
   "metadata": {},
   "source": [
    "As can be seen from the mean and median values, as well as from the graphs, the most expensive price is found for apartments on \"other\" floors, that is, not the first and not the last (4 million 600 thousand RUB). The lowest price is for apartments on the first floor (3 million 800 thousand RUB), and on the top floor - the average price (4 million 100 thousand RUB)."
   ]
  },
  {
   "cell_type": "markdown",
   "metadata": {},
   "source": [
    "**Weekday:**"
   ]
  },
  {
   "cell_type": "markdown",
   "metadata": {},
   "source": [
    "Let's start by grouping the data by the days of the week the ad is published:"
   ]
  },
  {
   "cell_type": "code",
   "execution_count": 79,
   "metadata": {},
   "outputs": [
    {
     "data": {
      "text/html": [
       "<div>\n",
       "<style scoped>\n",
       "    .dataframe tbody tr th:only-of-type {\n",
       "        vertical-align: middle;\n",
       "    }\n",
       "\n",
       "    .dataframe tbody tr th {\n",
       "        vertical-align: top;\n",
       "    }\n",
       "\n",
       "    .dataframe thead tr th {\n",
       "        text-align: left;\n",
       "    }\n",
       "\n",
       "    .dataframe thead tr:last-of-type th {\n",
       "        text-align: right;\n",
       "    }\n",
       "</style>\n",
       "<table border=\"1\" class=\"dataframe\">\n",
       "  <thead>\n",
       "    <tr>\n",
       "      <th></th>\n",
       "      <th>count</th>\n",
       "      <th>mean</th>\n",
       "      <th>median</th>\n",
       "    </tr>\n",
       "    <tr>\n",
       "      <th></th>\n",
       "      <th>last_price</th>\n",
       "      <th>last_price</th>\n",
       "      <th>last_price</th>\n",
       "    </tr>\n",
       "    <tr>\n",
       "      <th>weekday</th>\n",
       "      <th></th>\n",
       "      <th></th>\n",
       "      <th></th>\n",
       "    </tr>\n",
       "  </thead>\n",
       "  <tbody>\n",
       "    <tr>\n",
       "      <th>0</th>\n",
       "      <td>2988</td>\n",
       "      <td>4.942691e+06</td>\n",
       "      <td>4450000.0</td>\n",
       "    </tr>\n",
       "    <tr>\n",
       "      <th>1</th>\n",
       "      <td>3452</td>\n",
       "      <td>4.961202e+06</td>\n",
       "      <td>4500000.0</td>\n",
       "    </tr>\n",
       "    <tr>\n",
       "      <th>2</th>\n",
       "      <td>3226</td>\n",
       "      <td>4.952739e+06</td>\n",
       "      <td>4500000.0</td>\n",
       "    </tr>\n",
       "    <tr>\n",
       "      <th>3</th>\n",
       "      <td>3521</td>\n",
       "      <td>4.967421e+06</td>\n",
       "      <td>4400000.0</td>\n",
       "    </tr>\n",
       "    <tr>\n",
       "      <th>4</th>\n",
       "      <td>3345</td>\n",
       "      <td>4.878423e+06</td>\n",
       "      <td>4380000.0</td>\n",
       "    </tr>\n",
       "    <tr>\n",
       "      <th>5</th>\n",
       "      <td>1587</td>\n",
       "      <td>4.794920e+06</td>\n",
       "      <td>4400000.0</td>\n",
       "    </tr>\n",
       "    <tr>\n",
       "      <th>6</th>\n",
       "      <td>1377</td>\n",
       "      <td>4.869049e+06</td>\n",
       "      <td>4400000.0</td>\n",
       "    </tr>\n",
       "  </tbody>\n",
       "</table>\n",
       "</div>"
      ],
      "text/plain": [
       "             count          mean     median\n",
       "        last_price    last_price last_price\n",
       "weekday                                    \n",
       "0             2988  4.942691e+06  4450000.0\n",
       "1             3452  4.961202e+06  4500000.0\n",
       "2             3226  4.952739e+06  4500000.0\n",
       "3             3521  4.967421e+06  4400000.0\n",
       "4             3345  4.878423e+06  4380000.0\n",
       "5             1587  4.794920e+06  4400000.0\n",
       "6             1377  4.869049e+06  4400000.0"
      ]
     },
     "execution_count": 79,
     "metadata": {},
     "output_type": "execute_result"
    }
   ],
   "source": [
    "week_data = data_graph.pivot_table(index = 'weekday', values = 'last_price', aggfunc = ['count', 'mean', 'median'])\n",
    "week_data"
   ]
  },
  {
   "cell_type": "code",
   "execution_count": 80,
   "metadata": {},
   "outputs": [
    {
     "data": {
      "text/plain": [
       "<AxesSubplot:title={'center':'Weekday Mean'}, xlabel='weekday'>"
      ]
     },
     "execution_count": 80,
     "metadata": {},
     "output_type": "execute_result"
    },
    {
     "data": {
      "image/png": "[encoded data removed]",
      "text/plain": [
       "<Figure size 432x288 with 1 Axes>"
      ]
     },
     "metadata": {
      "needs_background": "light"
     },
     "output_type": "display_data"
    },
    {
     "data": {
      "image/png": "[encoded data removed]",
      "text/plain": [
       "<Figure size 432x288 with 1 Axes>"
      ]
     },
     "metadata": {
      "needs_background": "light"
     },
     "output_type": "display_data"
    }
   ],
   "source": [
    "week_data.plot(y = 'median', title = 'Weekday Median', grid = True, colormap='winter_r')\n",
    "week_data.plot(y = 'mean',  title = 'Weekday Mean', grid = True, colormap='winter_r')"
   ]
  },
  {
   "cell_type": "markdown",
   "metadata": {},
   "source": [
    "According to the information about the days of the week, not everything is so unambiguous, since the data on the arithmetic mean and median are quite different. In general, for both indicators, one can notice a decrease in the cost of prices by the weekend, namely on Saturday. The average price rises slightly on Sunday, but not significantly. The highest price is for announcements published on Tuesday and Wednesday."
   ]
  },
  {
   "cell_type": "markdown",
   "metadata": {},
   "source": [
    "**Month:**"
   ]
  },
  {
   "cell_type": "code",
   "execution_count": 81,
   "metadata": {},
   "outputs": [
    {
     "data": {
      "text/html": [
       "<div>\n",
       "<style scoped>\n",
       "    .dataframe tbody tr th:only-of-type {\n",
       "        vertical-align: middle;\n",
       "    }\n",
       "\n",
       "    .dataframe tbody tr th {\n",
       "        vertical-align: top;\n",
       "    }\n",
       "\n",
       "    .dataframe thead tr th {\n",
       "        text-align: left;\n",
       "    }\n",
       "\n",
       "    .dataframe thead tr:last-of-type th {\n",
       "        text-align: right;\n",
       "    }\n",
       "</style>\n",
       "<table border=\"1\" class=\"dataframe\">\n",
       "  <thead>\n",
       "    <tr>\n",
       "      <th></th>\n",
       "      <th>count</th>\n",
       "      <th>mean</th>\n",
       "      <th>median</th>\n",
       "    </tr>\n",
       "    <tr>\n",
       "      <th></th>\n",
       "      <th>last_price</th>\n",
       "      <th>last_price</th>\n",
       "      <th>last_price</th>\n",
       "    </tr>\n",
       "    <tr>\n",
       "      <th>month</th>\n",
       "      <th></th>\n",
       "      <th></th>\n",
       "      <th></th>\n",
       "    </tr>\n",
       "  </thead>\n",
       "  <tbody>\n",
       "    <tr>\n",
       "      <th>1</th>\n",
       "      <td>1188</td>\n",
       "      <td>4.959615e+06</td>\n",
       "      <td>4500000.0</td>\n",
       "    </tr>\n",
       "    <tr>\n",
       "      <th>2</th>\n",
       "      <td>2143</td>\n",
       "      <td>4.958914e+06</td>\n",
       "      <td>4450000.0</td>\n",
       "    </tr>\n",
       "    <tr>\n",
       "      <th>3</th>\n",
       "      <td>2178</td>\n",
       "      <td>4.928662e+06</td>\n",
       "      <td>4494500.0</td>\n",
       "    </tr>\n",
       "    <tr>\n",
       "      <th>4</th>\n",
       "      <td>2040</td>\n",
       "      <td>5.007802e+06</td>\n",
       "      <td>4550000.0</td>\n",
       "    </tr>\n",
       "    <tr>\n",
       "      <th>5</th>\n",
       "      <td>1049</td>\n",
       "      <td>4.906671e+06</td>\n",
       "      <td>4400000.0</td>\n",
       "    </tr>\n",
       "    <tr>\n",
       "      <th>6</th>\n",
       "      <td>1438</td>\n",
       "      <td>4.746764e+06</td>\n",
       "      <td>4250000.0</td>\n",
       "    </tr>\n",
       "    <tr>\n",
       "      <th>7</th>\n",
       "      <td>1346</td>\n",
       "      <td>4.818007e+06</td>\n",
       "      <td>4300000.0</td>\n",
       "    </tr>\n",
       "    <tr>\n",
       "      <th>8</th>\n",
       "      <td>1442</td>\n",
       "      <td>4.935510e+06</td>\n",
       "      <td>4392500.0</td>\n",
       "    </tr>\n",
       "    <tr>\n",
       "      <th>9</th>\n",
       "      <td>1614</td>\n",
       "      <td>4.975951e+06</td>\n",
       "      <td>4400000.0</td>\n",
       "    </tr>\n",
       "    <tr>\n",
       "      <th>10</th>\n",
       "      <td>1793</td>\n",
       "      <td>4.904576e+06</td>\n",
       "      <td>4450000.0</td>\n",
       "    </tr>\n",
       "    <tr>\n",
       "      <th>11</th>\n",
       "      <td>1967</td>\n",
       "      <td>4.941760e+06</td>\n",
       "      <td>4450000.0</td>\n",
       "    </tr>\n",
       "    <tr>\n",
       "      <th>12</th>\n",
       "      <td>1298</td>\n",
       "      <td>4.934638e+06</td>\n",
       "      <td>4490000.0</td>\n",
       "    </tr>\n",
       "  </tbody>\n",
       "</table>\n",
       "</div>"
      ],
      "text/plain": [
       "           count          mean     median\n",
       "      last_price    last_price last_price\n",
       "month                                    \n",
       "1           1188  4.959615e+06  4500000.0\n",
       "2           2143  4.958914e+06  4450000.0\n",
       "3           2178  4.928662e+06  4494500.0\n",
       "4           2040  5.007802e+06  4550000.0\n",
       "5           1049  4.906671e+06  4400000.0\n",
       "6           1438  4.746764e+06  4250000.0\n",
       "7           1346  4.818007e+06  4300000.0\n",
       "8           1442  4.935510e+06  4392500.0\n",
       "9           1614  4.975951e+06  4400000.0\n",
       "10          1793  4.904576e+06  4450000.0\n",
       "11          1967  4.941760e+06  4450000.0\n",
       "12          1298  4.934638e+06  4490000.0"
      ]
     },
     "execution_count": 81,
     "metadata": {},
     "output_type": "execute_result"
    }
   ],
   "source": [
    "month_data = data_graph.pivot_table(index = 'month', values = 'last_price', aggfunc = ['count', 'mean', 'median'])\n",
    "month_data"
   ]
  },
  {
   "cell_type": "code",
   "execution_count": 82,
   "metadata": {},
   "outputs": [
    {
     "data": {
      "text/plain": [
       "<AxesSubplot:title={'center':'Month Mean'}, xlabel='month'>"
      ]
     },
     "execution_count": 82,
     "metadata": {},
     "output_type": "execute_result"
    },
    {
     "data": {
      "image/png": "[encoded data removed]",
      "text/plain": [
       "<Figure size 432x288 with 1 Axes>"
      ]
     },
     "metadata": {
      "needs_background": "light"
     },
     "output_type": "display_data"
    },
    {
     "data": {
      "image/png": "[encoded data removed]",
      "text/plain": [
       "<Figure size 432x288 with 1 Axes>"
      ]
     },
     "metadata": {
      "needs_background": "light"
     },
     "output_type": "display_data"
    }
   ],
   "source": [
    "month_data.plot(y = 'median', title = 'Month Median', grid = True, colormap='BuPu_r')\n",
    "month_data.plot(y = 'mean',  title = 'Month Mean', grid = True, colormap='BuPu_r')"
   ]
  },
  {
   "cell_type": "markdown",
   "metadata": {},
   "source": [
    "If we consider the month of the ad's publication, then the lowest price is observed in June - the median price = 4 million 200 thousand RUB. Peaks in price can be observed in April - up to 4 million 610 thousand RUB and in September - up to 4 million 500 thousand RUB."
   ]
  },
  {
   "cell_type": "markdown",
   "metadata": {},
   "source": [
    "**Year:**"
   ]
  },
  {
   "cell_type": "code",
   "execution_count": 83,
   "metadata": {},
   "outputs": [
    {
     "data": {
      "text/html": [
       "<div>\n",
       "<style scoped>\n",
       "    .dataframe tbody tr th:only-of-type {\n",
       "        vertical-align: middle;\n",
       "    }\n",
       "\n",
       "    .dataframe tbody tr th {\n",
       "        vertical-align: top;\n",
       "    }\n",
       "\n",
       "    .dataframe thead tr th {\n",
       "        text-align: left;\n",
       "    }\n",
       "\n",
       "    .dataframe thead tr:last-of-type th {\n",
       "        text-align: right;\n",
       "    }\n",
       "</style>\n",
       "<table border=\"1\" class=\"dataframe\">\n",
       "  <thead>\n",
       "    <tr>\n",
       "      <th></th>\n",
       "      <th>count</th>\n",
       "      <th>mean</th>\n",
       "      <th>median</th>\n",
       "    </tr>\n",
       "    <tr>\n",
       "      <th></th>\n",
       "      <th>last_price</th>\n",
       "      <th>last_price</th>\n",
       "      <th>last_price</th>\n",
       "    </tr>\n",
       "    <tr>\n",
       "      <th>year</th>\n",
       "      <th></th>\n",
       "      <th></th>\n",
       "      <th></th>\n",
       "    </tr>\n",
       "  </thead>\n",
       "  <tbody>\n",
       "    <tr>\n",
       "      <th>2014</th>\n",
       "      <td>93</td>\n",
       "      <td>6.307486e+06</td>\n",
       "      <td>5650000.0</td>\n",
       "    </tr>\n",
       "    <tr>\n",
       "      <th>2015</th>\n",
       "      <td>971</td>\n",
       "      <td>5.233377e+06</td>\n",
       "      <td>4800000.0</td>\n",
       "    </tr>\n",
       "    <tr>\n",
       "      <th>2016</th>\n",
       "      <td>2333</td>\n",
       "      <td>4.840158e+06</td>\n",
       "      <td>4300000.0</td>\n",
       "    </tr>\n",
       "    <tr>\n",
       "      <th>2017</th>\n",
       "      <td>6751</td>\n",
       "      <td>4.799298e+06</td>\n",
       "      <td>4290000.0</td>\n",
       "    </tr>\n",
       "    <tr>\n",
       "      <th>2018</th>\n",
       "      <td>6856</td>\n",
       "      <td>4.882320e+06</td>\n",
       "      <td>4450000.0</td>\n",
       "    </tr>\n",
       "    <tr>\n",
       "      <th>2019</th>\n",
       "      <td>2492</td>\n",
       "      <td>5.281563e+06</td>\n",
       "      <td>4900000.0</td>\n",
       "    </tr>\n",
       "  </tbody>\n",
       "</table>\n",
       "</div>"
      ],
      "text/plain": [
       "          count          mean     median\n",
       "     last_price    last_price last_price\n",
       "year                                    \n",
       "2014         93  6.307486e+06  5650000.0\n",
       "2015        971  5.233377e+06  4800000.0\n",
       "2016       2333  4.840158e+06  4300000.0\n",
       "2017       6751  4.799298e+06  4290000.0\n",
       "2018       6856  4.882320e+06  4450000.0\n",
       "2019       2492  5.281563e+06  4900000.0"
      ]
     },
     "execution_count": 83,
     "metadata": {},
     "output_type": "execute_result"
    }
   ],
   "source": [
    "year_data = data_graph.pivot_table(index = 'year', values = 'last_price', aggfunc = ['count', 'mean', 'median'])\n",
    "year_data"
   ]
  },
  {
   "cell_type": "code",
   "execution_count": 84,
   "metadata": {},
   "outputs": [
    {
     "data": {
      "text/plain": [
       "<AxesSubplot:title={'center':'Year Mean'}, xlabel='year'>"
      ]
     },
     "execution_count": 84,
     "metadata": {},
     "output_type": "execute_result"
    },
    {
     "data": {
      "image/png": "[encoded data removed]",
      "text/plain": [
       "<Figure size 432x288 with 1 Axes>"
      ]
     },
     "metadata": {
      "needs_background": "light"
     },
     "output_type": "display_data"
    },
    {
     "data": {
      "image/png": "[encoded data removed]",
      "text/plain": [
       "<Figure size 432x288 with 1 Axes>"
      ]
     },
     "metadata": {
      "needs_background": "light"
     },
     "output_type": "display_data"
    }
   ],
   "source": [
    "year_data.plot(y = 'median', title = 'Year Median', grid = True, colormap='Paired_r')\n",
    "year_data.plot(y = 'mean',  title = 'Year Mean', grid = True, colormap='Paired_r')"
   ]
  },
  {
   "cell_type": "markdown",
   "metadata": {},
   "source": [
    "As for the year of publication, the most expensive apartment prices were observed in 2014 and 2015: 6 and 5 million RUB, respectively. Then, by 2016-2107, there is a strong decline in prices, reaching a value of 4 million 300 thousand RUB. By 2019, the median price began to rise and reached values of almost 4 million 900 thousand RUB."
   ]
  },
  {
   "cell_type": "markdown",
   "metadata": {},
   "source": [
    "## Research of settlements with the largest number of ads"
   ]
  },
  {
   "cell_type": "markdown",
   "metadata": {},
   "source": [
    "To begin with, let's sort the data by settlement to find out the number of ads in each, as well as the average price per square meter:"
   ]
  },
  {
   "cell_type": "code",
   "execution_count": 85,
   "metadata": {},
   "outputs": [
    {
     "data": {
      "text/html": [
       "<div>\n",
       "<style scoped>\n",
       "    .dataframe tbody tr th:only-of-type {\n",
       "        vertical-align: middle;\n",
       "    }\n",
       "\n",
       "    .dataframe tbody tr th {\n",
       "        vertical-align: top;\n",
       "    }\n",
       "\n",
       "    .dataframe thead th {\n",
       "        text-align: right;\n",
       "    }\n",
       "</style>\n",
       "<table border=\"1\" class=\"dataframe\">\n",
       "  <thead>\n",
       "    <tr style=\"text-align: right;\">\n",
       "      <th></th>\n",
       "      <th>count</th>\n",
       "      <th>median</th>\n",
       "      <th>mean</th>\n",
       "    </tr>\n",
       "    <tr>\n",
       "      <th>locality_name</th>\n",
       "      <th></th>\n",
       "      <th></th>\n",
       "      <th></th>\n",
       "    </tr>\n",
       "  </thead>\n",
       "  <tbody>\n",
       "    <tr>\n",
       "      <th>Aro village</th>\n",
       "      <td>3</td>\n",
       "      <td>50853.242321</td>\n",
       "      <td>51412.421933</td>\n",
       "    </tr>\n",
       "    <tr>\n",
       "      <th>Batovo village</th>\n",
       "      <td>8</td>\n",
       "      <td>30036.071032</td>\n",
       "      <td>30626.242755</td>\n",
       "    </tr>\n",
       "    <tr>\n",
       "      <th>Begunitsa village</th>\n",
       "      <td>13</td>\n",
       "      <td>37681.159420</td>\n",
       "      <td>37275.883670</td>\n",
       "    </tr>\n",
       "    <tr>\n",
       "      <th>Belogorka village</th>\n",
       "      <td>11</td>\n",
       "      <td>34090.909091</td>\n",
       "      <td>34358.668729</td>\n",
       "    </tr>\n",
       "    <tr>\n",
       "      <th>Boksitogorsk</th>\n",
       "      <td>11</td>\n",
       "      <td>16112.903226</td>\n",
       "      <td>17513.790766</td>\n",
       "    </tr>\n",
       "  </tbody>\n",
       "</table>\n",
       "</div>"
      ],
      "text/plain": [
       "                   count        median          mean\n",
       "locality_name                                       \n",
       "Aro village            3  50853.242321  51412.421933\n",
       "Batovo village         8  30036.071032  30626.242755\n",
       "Begunitsa village     13  37681.159420  37275.883670\n",
       "Belogorka village     11  34090.909091  34358.668729\n",
       "Boksitogorsk          11  16112.903226  17513.790766"
      ]
     },
     "execution_count": 85,
     "metadata": {},
     "output_type": "execute_result"
    }
   ],
   "source": [
    "locality_table = data_new.pivot_table(index = 'locality_name', values = 'price_per_meter', aggfunc = ['count', 'median', 'mean'])\n",
    "locality_table.columns = ['count', 'median', 'mean']\n",
    "locality_table.head(5)"
   ]
  },
  {
   "cell_type": "markdown",
   "metadata": {},
   "source": [
    "Selecting 10 settlements with the largest number of ads:"
   ]
  },
  {
   "cell_type": "code",
   "execution_count": 86,
   "metadata": {},
   "outputs": [
    {
     "data": {
      "text/html": [
       "<div>\n",
       "<style scoped>\n",
       "    .dataframe tbody tr th:only-of-type {\n",
       "        vertical-align: middle;\n",
       "    }\n",
       "\n",
       "    .dataframe tbody tr th {\n",
       "        vertical-align: top;\n",
       "    }\n",
       "\n",
       "    .dataframe thead th {\n",
       "        text-align: right;\n",
       "    }\n",
       "</style>\n",
       "<table border=\"1\" class=\"dataframe\">\n",
       "  <thead>\n",
       "    <tr style=\"text-align: right;\">\n",
       "      <th></th>\n",
       "      <th>count</th>\n",
       "      <th>median</th>\n",
       "      <th>mean</th>\n",
       "    </tr>\n",
       "    <tr>\n",
       "      <th>locality_name</th>\n",
       "      <th></th>\n",
       "      <th></th>\n",
       "      <th></th>\n",
       "    </tr>\n",
       "  </thead>\n",
       "  <tbody>\n",
       "    <tr>\n",
       "      <th>Saint Petersburg</th>\n",
       "      <td>14426</td>\n",
       "      <td>104838.709677</td>\n",
       "      <td>115025.127312</td>\n",
       "    </tr>\n",
       "    <tr>\n",
       "      <th>village Murino</th>\n",
       "      <td>504</td>\n",
       "      <td>85668.819086</td>\n",
       "      <td>85464.250726</td>\n",
       "    </tr>\n",
       "    <tr>\n",
       "      <th>Shushary village</th>\n",
       "      <td>390</td>\n",
       "      <td>76876.172608</td>\n",
       "      <td>78802.541028</td>\n",
       "    </tr>\n",
       "    <tr>\n",
       "      <th>Vsevolozhsk</th>\n",
       "      <td>364</td>\n",
       "      <td>65594.697751</td>\n",
       "      <td>68697.075165</td>\n",
       "    </tr>\n",
       "    <tr>\n",
       "      <th>Pushkin</th>\n",
       "      <td>345</td>\n",
       "      <td>100000.000000</td>\n",
       "      <td>103704.260452</td>\n",
       "    </tr>\n",
       "    <tr>\n",
       "      <th>Kolpino</th>\n",
       "      <td>303</td>\n",
       "      <td>75000.000000</td>\n",
       "      <td>75741.213694</td>\n",
       "    </tr>\n",
       "    <tr>\n",
       "      <th>village Pargolovo</th>\n",
       "      <td>286</td>\n",
       "      <td>92202.380952</td>\n",
       "      <td>90520.977614</td>\n",
       "    </tr>\n",
       "    <tr>\n",
       "      <th>Gatchina</th>\n",
       "      <td>280</td>\n",
       "      <td>67180.706522</td>\n",
       "      <td>68304.224329</td>\n",
       "    </tr>\n",
       "    <tr>\n",
       "      <th>the village of Kudrovo</th>\n",
       "      <td>265</td>\n",
       "      <td>91803.278689</td>\n",
       "      <td>92234.338086</td>\n",
       "    </tr>\n",
       "    <tr>\n",
       "      <th>Vyborg</th>\n",
       "      <td>207</td>\n",
       "      <td>58307.692308</td>\n",
       "      <td>58207.821031</td>\n",
       "    </tr>\n",
       "  </tbody>\n",
       "</table>\n",
       "</div>"
      ],
      "text/plain": [
       "                        count         median           mean\n",
       "locality_name                                              \n",
       "Saint Petersburg        14426  104838.709677  115025.127312\n",
       "village Murino            504   85668.819086   85464.250726\n",
       "Shushary village          390   76876.172608   78802.541028\n",
       "Vsevolozhsk               364   65594.697751   68697.075165\n",
       "Pushkin                   345  100000.000000  103704.260452\n",
       "Kolpino                   303   75000.000000   75741.213694\n",
       "village Pargolovo         286   92202.380952   90520.977614\n",
       "Gatchina                  280   67180.706522   68304.224329\n",
       "the village of Kudrovo    265   91803.278689   92234.338086\n",
       "Vyborg                    207   58307.692308   58207.821031"
      ]
     },
     "execution_count": 86,
     "metadata": {},
     "output_type": "execute_result"
    }
   ],
   "source": [
    "locality_top_10 = locality_table.sort_values(by = 'count', ascending = False).head(10)\n",
    "locality_top_10"
   ]
  },
  {
   "cell_type": "code",
   "execution_count": 87,
   "metadata": {},
   "outputs": [
    {
     "name": "stdout",
     "output_type": "stream",
     "text": [
      "Highest price per square meter: 115025.12731190899\n"
     ]
    }
   ],
   "source": [
    "max_price = locality_top_10['mean'].max()\n",
    "print('Highest price per square meter:', max_price)"
   ]
  },
  {
   "cell_type": "code",
   "execution_count": 88,
   "metadata": {},
   "outputs": [
    {
     "name": "stdout",
     "output_type": "stream",
     "text": [
      "Lowest price per square meter: 58207.82103142515\n"
     ]
    }
   ],
   "source": [
    "min_price = locality_top_10['mean'].min()\n",
    "print('Lowest price per square meter:', min_price)"
   ]
  },
  {
   "cell_type": "markdown",
   "metadata": {},
   "source": [
    "The highest average price per square meter is in St. Petersburg: 115,161 RUB. Of the top 10, the cheapest price per square meter in Vyborg is almost 58,000 RUB."
   ]
  },
  {
   "cell_type": "markdown",
   "metadata": {},
   "source": [
    "## Conclusion"
   ]
  },
  {
   "cell_type": "markdown",
   "metadata": {},
   "source": [
    "Based on the data provided, an analysis was carried out to further determine the market price of the apartments. In order to further build an automated system for tracking anomalies and fraudulent activity, several tasks were completed:\n",
    "\n",
    "1. Missing values were found in the variables 'balcony', 'ceiling heigh', 'is_apartment', 'kitchen_area', 'living_area', 'airports_nearest', 'cityCenters_nearest', 'parks_around3000', 'parks_nearest', 'ponds_around3000', 'ponds_nearest', 'days_exposition', 'floors_total' и 'locality_name'. In some of them, the missing values were filled in according to the available data.\n",
    "\n",
    "2. Data types have been changed for some variables in order to simplify subsequent analysis.\n",
    "\n",
    "3. New variables have been added to the dataset:\n",
    "- price per square meter - 'price_per_meter'\n",
    "- the day of the ad publication - 'weekday'\n",
    "- month of the ad publication - 'month'\n",
    "- year of the ad publication - 'year'\n",
    "- apartment floor category - 'floor_group' - which takes three possible values: first, last and other\n",
    "- the ratio of living area to total area - 'living_total'\n",
    "- the ratio of kitchen area to the total area - 'kitchen_total'\n",
    "\n",
    "4. Exploratory data analysis was carried out:\n",
    "- the parameters of the total area, the price, the number of rooms and the height of the ceilings were studied, as well as histograms were built to study the distribution of data\n",
    "- the time of the sale of the apartment has been studied\n",
    "- factors that can affect the price of an apartment were studies. As a result of the analysis, it was revealed that the indicators of the area and the number of rooms in the apartment have the greatest influence on ots price.\n",
    "\n",
    "5. An analysis of indicators was carried out in 10 settlements with the largest number of ads: St. Petersburg, Murino village, Shushary village, Vsevolozhsk, Pushkin, Kolpino, Pargolovo village, Gatchina, Kudrovo village and Vyborka. It was revealed that the highest price per square meter is in St. Petersburg, and the lowest (from the top 10 list) is in Vyborg.\n",
    "\n",
    "If we talk in more detail about the factors associated with the price of apartments, the research analysis carried out allowed us to identify the following patterns:\n",
    "    \n",
    "1. The total area of an apartment greatly affects its cost: the larger the area, the more expensive the apartment;\n",
    "    \n",
    "2. The number of rooms also has an effect: the more rooms, the higher the cost of the apartment. The most expensive are apartments with 4-6 rooms;\n",
    "    \n",
    "3. Remoteness from the center does not affect the cost of the apartment;\n",
    "    \n",
    "4. Floor affects the cost of an apartment: apartments not on the first and not on the last floors are more expensive;\n",
    "    \n",
    "5. As for the date of publication of the announcement: the cheapest apartments are from the announcements published on Thursday and in July. The most expensive apartments were in the announcements of September. In 2017, there was a sharp drop in apartment prices, and in 2019 prices began to rise again."
   ]
  }
 ],
 "metadata": {
  "ExecuteTimeLog": [
   {
    "duration": 4644,
    "start_time": "2021-10-04T09:43:29.840Z"
   },
   {
    "duration": -12949,
    "start_time": "2021-10-04T09:43:47.441Z"
   },
   {
    "duration": -12951,
    "start_time": "2021-10-04T09:43:47.445Z"
   },
   {
    "duration": -12956,
    "start_time": "2021-10-04T09:43:47.451Z"
   },
   {
    "duration": -12960,
    "start_time": "2021-10-04T09:43:47.456Z"
   },
   {
    "duration": -12962,
    "start_time": "2021-10-04T09:43:47.460Z"
   },
   {
    "duration": -12965,
    "start_time": "2021-10-04T09:43:47.464Z"
   },
   {
    "duration": -12969,
    "start_time": "2021-10-04T09:43:47.470Z"
   },
   {
    "duration": -12972,
    "start_time": "2021-10-04T09:43:47.474Z"
   },
   {
    "duration": -12975,
    "start_time": "2021-10-04T09:43:47.478Z"
   },
   {
    "duration": -12977,
    "start_time": "2021-10-04T09:43:47.482Z"
   },
   {
    "duration": -12980,
    "start_time": "2021-10-04T09:43:47.486Z"
   },
   {
    "duration": -12983,
    "start_time": "2021-10-04T09:43:47.490Z"
   },
   {
    "duration": -12985,
    "start_time": "2021-10-04T09:43:47.494Z"
   },
   {
    "duration": -12987,
    "start_time": "2021-10-04T09:43:47.497Z"
   },
   {
    "duration": -12990,
    "start_time": "2021-10-04T09:43:47.501Z"
   },
   {
    "duration": -12994,
    "start_time": "2021-10-04T09:43:47.507Z"
   },
   {
    "duration": -12998,
    "start_time": "2021-10-04T09:43:47.512Z"
   },
   {
    "duration": -13013,
    "start_time": "2021-10-04T09:43:47.529Z"
   },
   {
    "duration": -13020,
    "start_time": "2021-10-04T09:43:47.538Z"
   },
   {
    "duration": -13033,
    "start_time": "2021-10-04T09:43:47.552Z"
   },
   {
    "duration": -13044,
    "start_time": "2021-10-04T09:43:47.565Z"
   },
   {
    "duration": -13053,
    "start_time": "2021-10-04T09:43:47.576Z"
   },
   {
    "duration": -13060,
    "start_time": "2021-10-04T09:43:47.585Z"
   },
   {
    "duration": -13071,
    "start_time": "2021-10-04T09:43:47.597Z"
   },
   {
    "duration": -13075,
    "start_time": "2021-10-04T09:43:47.603Z"
   },
   {
    "duration": -13083,
    "start_time": "2021-10-04T09:43:47.612Z"
   },
   {
    "duration": -13093,
    "start_time": "2021-10-04T09:43:47.624Z"
   },
   {
    "duration": -13097,
    "start_time": "2021-10-04T09:43:47.629Z"
   },
   {
    "duration": -13107,
    "start_time": "2021-10-04T09:43:47.640Z"
   },
   {
    "duration": -13116,
    "start_time": "2021-10-04T09:43:47.650Z"
   },
   {
    "duration": -13119,
    "start_time": "2021-10-04T09:43:47.655Z"
   },
   {
    "duration": -13128,
    "start_time": "2021-10-04T09:43:47.665Z"
   },
   {
    "duration": -13137,
    "start_time": "2021-10-04T09:43:47.676Z"
   },
   {
    "duration": -13140,
    "start_time": "2021-10-04T09:43:47.680Z"
   },
   {
    "duration": -13142,
    "start_time": "2021-10-04T09:43:47.684Z"
   },
   {
    "duration": -13144,
    "start_time": "2021-10-04T09:43:47.687Z"
   },
   {
    "duration": -13147,
    "start_time": "2021-10-04T09:43:47.691Z"
   },
   {
    "duration": -13152,
    "start_time": "2021-10-04T09:43:47.697Z"
   },
   {
    "duration": -13154,
    "start_time": "2021-10-04T09:43:47.701Z"
   },
   {
    "duration": -13157,
    "start_time": "2021-10-04T09:43:47.705Z"
   },
   {
    "duration": -13160,
    "start_time": "2021-10-04T09:43:47.709Z"
   },
   {
    "duration": -13162,
    "start_time": "2021-10-04T09:43:47.713Z"
   },
   {
    "duration": -13164,
    "start_time": "2021-10-04T09:43:47.716Z"
   },
   {
    "duration": -13167,
    "start_time": "2021-10-04T09:43:47.720Z"
   },
   {
    "duration": -13169,
    "start_time": "2021-10-04T09:43:47.724Z"
   },
   {
    "duration": -13156,
    "start_time": "2021-10-04T09:43:47.728Z"
   },
   {
    "duration": -13158,
    "start_time": "2021-10-04T09:43:47.732Z"
   },
   {
    "duration": -13160,
    "start_time": "2021-10-04T09:43:47.735Z"
   },
   {
    "duration": -13163,
    "start_time": "2021-10-04T09:43:47.739Z"
   },
   {
    "duration": -13165,
    "start_time": "2021-10-04T09:43:47.742Z"
   },
   {
    "duration": -13167,
    "start_time": "2021-10-04T09:43:47.746Z"
   },
   {
    "duration": -13169,
    "start_time": "2021-10-04T09:43:47.750Z"
   },
   {
    "duration": -13171,
    "start_time": "2021-10-04T09:43:47.754Z"
   },
   {
    "duration": -13173,
    "start_time": "2021-10-04T09:43:47.757Z"
   },
   {
    "duration": -13175,
    "start_time": "2021-10-04T09:43:47.761Z"
   },
   {
    "duration": -13177,
    "start_time": "2021-10-04T09:43:47.765Z"
   },
   {
    "duration": -13178,
    "start_time": "2021-10-04T09:43:47.768Z"
   },
   {
    "duration": -13180,
    "start_time": "2021-10-04T09:43:47.771Z"
   },
   {
    "duration": -13192,
    "start_time": "2021-10-04T09:43:47.784Z"
   },
   {
    "duration": -13218,
    "start_time": "2021-10-04T09:43:47.811Z"
   },
   {
    "duration": -13221,
    "start_time": "2021-10-04T09:43:47.816Z"
   },
   {
    "duration": -13223,
    "start_time": "2021-10-04T09:43:47.819Z"
   },
   {
    "duration": -13226,
    "start_time": "2021-10-04T09:43:47.823Z"
   },
   {
    "duration": -13228,
    "start_time": "2021-10-04T09:43:47.826Z"
   },
   {
    "duration": -13231,
    "start_time": "2021-10-04T09:43:47.830Z"
   },
   {
    "duration": -13232,
    "start_time": "2021-10-04T09:43:47.833Z"
   },
   {
    "duration": -13235,
    "start_time": "2021-10-04T09:43:47.837Z"
   },
   {
    "duration": -13237,
    "start_time": "2021-10-04T09:43:47.840Z"
   },
   {
    "duration": -13239,
    "start_time": "2021-10-04T09:43:47.844Z"
   },
   {
    "duration": -13241,
    "start_time": "2021-10-04T09:43:47.847Z"
   },
   {
    "duration": -13244,
    "start_time": "2021-10-04T09:43:47.851Z"
   },
   {
    "duration": -13289,
    "start_time": "2021-10-04T09:43:47.897Z"
   },
   {
    "duration": -13291,
    "start_time": "2021-10-04T09:43:47.901Z"
   },
   {
    "duration": -13292,
    "start_time": "2021-10-04T09:43:47.904Z"
   },
   {
    "duration": -13296,
    "start_time": "2021-10-04T09:43:47.909Z"
   },
   {
    "duration": -13298,
    "start_time": "2021-10-04T09:43:47.913Z"
   },
   {
    "duration": -13299,
    "start_time": "2021-10-04T09:43:47.916Z"
   },
   {
    "duration": -13302,
    "start_time": "2021-10-04T09:43:47.920Z"
   },
   {
    "duration": -13393,
    "start_time": "2021-10-04T09:43:48.013Z"
   },
   {
    "duration": -13398,
    "start_time": "2021-10-04T09:43:48.020Z"
   },
   {
    "duration": -13405,
    "start_time": "2021-10-04T09:43:48.028Z"
   },
   {
    "duration": -13427,
    "start_time": "2021-10-04T09:43:48.051Z"
   },
   {
    "duration": -13430,
    "start_time": "2021-10-04T09:43:48.055Z"
   },
   {
    "duration": -13432,
    "start_time": "2021-10-04T09:43:48.059Z"
   },
   {
    "duration": -13456,
    "start_time": "2021-10-04T09:43:48.084Z"
   },
   {
    "duration": -13458,
    "start_time": "2021-10-04T09:43:48.087Z"
   },
   {
    "duration": -13460,
    "start_time": "2021-10-04T09:43:48.091Z"
   },
   {
    "duration": -13462,
    "start_time": "2021-10-04T09:43:48.094Z"
   },
   {
    "duration": -13465,
    "start_time": "2021-10-04T09:43:48.098Z"
   },
   {
    "duration": -13472,
    "start_time": "2021-10-04T09:43:48.139Z"
   },
   {
    "duration": -13475,
    "start_time": "2021-10-04T09:43:48.143Z"
   },
   {
    "duration": -13478,
    "start_time": "2021-10-04T09:43:48.147Z"
   },
   {
    "duration": -13479,
    "start_time": "2021-10-04T09:43:48.150Z"
   },
   {
    "duration": -13481,
    "start_time": "2021-10-04T09:43:48.153Z"
   },
   {
    "duration": -13503,
    "start_time": "2021-10-04T09:43:48.177Z"
   },
   {
    "duration": -13505,
    "start_time": "2021-10-04T09:43:48.181Z"
   },
   {
    "duration": -13507,
    "start_time": "2021-10-04T09:43:48.184Z"
   },
   {
    "duration": -13510,
    "start_time": "2021-10-04T09:43:48.189Z"
   },
   {
    "duration": -13512,
    "start_time": "2021-10-04T09:43:48.192Z"
   },
   {
    "duration": -13519,
    "start_time": "2021-10-04T09:43:48.201Z"
   },
   {
    "duration": -13521,
    "start_time": "2021-10-04T09:43:48.204Z"
   },
   {
    "duration": -13531,
    "start_time": "2021-10-04T09:43:48.215Z"
   },
   {
    "duration": -13542,
    "start_time": "2021-10-04T09:43:48.228Z"
   },
   {
    "duration": -13555,
    "start_time": "2021-10-04T09:43:48.243Z"
   },
   {
    "duration": -13573,
    "start_time": "2021-10-04T09:43:48.262Z"
   },
   {
    "duration": -13600,
    "start_time": "2021-10-04T09:43:48.291Z"
   },
   {
    "duration": -13644,
    "start_time": "2021-10-04T09:43:48.337Z"
   },
   {
    "duration": -13674,
    "start_time": "2021-10-04T09:43:48.368Z"
   },
   {
    "duration": 797,
    "start_time": "2021-10-04T13:29:12.942Z"
   },
   {
    "duration": 82,
    "start_time": "2021-10-04T13:30:40.935Z"
   },
   {
    "duration": 6,
    "start_time": "2021-10-04T13:30:54.261Z"
   },
   {
    "duration": 13,
    "start_time": "2021-10-04T13:30:54.701Z"
   },
   {
    "duration": 6,
    "start_time": "2021-10-04T13:30:55.124Z"
   },
   {
    "duration": 7,
    "start_time": "2021-10-04T13:30:55.463Z"
   },
   {
    "duration": 5,
    "start_time": "2021-10-04T13:30:55.816Z"
   },
   {
    "duration": 8,
    "start_time": "2021-10-04T13:30:56.182Z"
   },
   {
    "duration": 7,
    "start_time": "2021-10-04T13:30:56.533Z"
   },
   {
    "duration": 6,
    "start_time": "2021-10-04T13:30:56.936Z"
   },
   {
    "duration": 9,
    "start_time": "2021-10-04T13:30:57.302Z"
   },
   {
    "duration": 18,
    "start_time": "2021-10-04T13:30:57.689Z"
   },
   {
    "duration": 4,
    "start_time": "2021-10-04T13:30:58.003Z"
   },
   {
    "duration": 1363,
    "start_time": "2021-10-04T13:30:58.401Z"
   },
   {
    "duration": -86,
    "start_time": "2021-10-04T13:30:59.852Z"
   },
   {
    "duration": -89,
    "start_time": "2021-10-04T13:30:59.856Z"
   },
   {
    "duration": -90,
    "start_time": "2021-10-04T13:30:59.858Z"
   },
   {
    "duration": -90,
    "start_time": "2021-10-04T13:30:59.860Z"
   },
   {
    "duration": 6,
    "start_time": "2021-10-04T13:30:59.847Z"
   },
   {
    "duration": 8,
    "start_time": "2021-10-04T13:31:00.227Z"
   },
   {
    "duration": 274,
    "start_time": "2021-10-04T13:31:00.594Z"
   },
   {
    "duration": 286,
    "start_time": "2021-10-04T13:31:00.965Z"
   },
   {
    "duration": -1237,
    "start_time": "2021-10-04T13:31:02.490Z"
   },
   {
    "duration": 7,
    "start_time": "2021-10-04T13:31:02.444Z"
   },
   {
    "duration": 15,
    "start_time": "2021-10-04T13:31:02.453Z"
   },
   {
    "duration": 7568,
    "start_time": "2021-10-04T13:31:18.780Z"
   },
   {
    "duration": 3,
    "start_time": "2021-10-04T13:31:39.937Z"
   },
   {
    "duration": 12,
    "start_time": "2021-10-04T13:31:41.412Z"
   },
   {
    "duration": 4,
    "start_time": "2021-10-04T13:32:00.233Z"
   },
   {
    "duration": 14,
    "start_time": "2021-10-04T13:32:12.669Z"
   },
   {
    "duration": 10,
    "start_time": "2021-10-04T13:32:25.105Z"
   },
   {
    "duration": 9,
    "start_time": "2021-10-04T13:32:27.352Z"
   },
   {
    "duration": 10,
    "start_time": "2021-10-04T13:32:29.701Z"
   },
   {
    "duration": 10,
    "start_time": "2021-10-04T13:32:30.699Z"
   },
   {
    "duration": 5,
    "start_time": "2021-10-04T13:32:31.099Z"
   },
   {
    "duration": 7,
    "start_time": "2021-10-04T13:32:32.382Z"
   },
   {
    "duration": 7,
    "start_time": "2021-10-04T13:32:33.280Z"
   },
   {
    "duration": 7,
    "start_time": "2021-10-04T13:32:34.343Z"
   },
   {
    "duration": 10,
    "start_time": "2021-10-04T13:32:35.930Z"
   },
   {
    "duration": 5,
    "start_time": "2021-10-04T13:32:36.768Z"
   },
   {
    "duration": 6,
    "start_time": "2021-10-04T13:32:37.628Z"
   },
   {
    "duration": 8,
    "start_time": "2021-10-04T13:32:38.315Z"
   },
   {
    "duration": 6,
    "start_time": "2021-10-04T13:32:39.107Z"
   },
   {
    "duration": 6,
    "start_time": "2021-10-04T13:32:39.470Z"
   },
   {
    "duration": 7,
    "start_time": "2021-10-04T13:32:39.795Z"
   },
   {
    "duration": 7,
    "start_time": "2021-10-04T13:32:40.149Z"
   },
   {
    "duration": 6,
    "start_time": "2021-10-04T13:32:41.110Z"
   },
   {
    "duration": 6,
    "start_time": "2021-10-04T13:32:42.098Z"
   },
   {
    "duration": 12,
    "start_time": "2021-10-04T13:32:42.709Z"
   },
   {
    "duration": 6,
    "start_time": "2021-10-04T13:32:43.306Z"
   },
   {
    "duration": 12,
    "start_time": "2021-10-04T13:32:44.117Z"
   },
   {
    "duration": 14,
    "start_time": "2021-10-04T13:32:45.030Z"
   },
   {
    "duration": 11,
    "start_time": "2021-10-04T13:32:45.579Z"
   },
   {
    "duration": 4,
    "start_time": "2021-10-04T13:32:46.152Z"
   },
   {
    "duration": 3,
    "start_time": "2021-10-04T13:32:46.702Z"
   },
   {
    "duration": 14,
    "start_time": "2021-10-04T13:32:47.300Z"
   },
   {
    "duration": 10,
    "start_time": "2021-10-04T13:32:48.222Z"
   },
   {
    "duration": 11,
    "start_time": "2021-10-04T13:32:48.882Z"
   },
   {
    "duration": 8,
    "start_time": "2021-10-04T13:32:49.210Z"
   },
   {
    "duration": 7,
    "start_time": "2021-10-04T13:32:49.484Z"
   },
   {
    "duration": 8,
    "start_time": "2021-10-04T13:32:49.796Z"
   },
   {
    "duration": 4,
    "start_time": "2021-10-04T13:32:50.426Z"
   },
   {
    "duration": 492,
    "start_time": "2021-10-04T13:32:50.758Z"
   },
   {
    "duration": 6,
    "start_time": "2021-10-04T13:32:52.110Z"
   },
   {
    "duration": 7,
    "start_time": "2021-10-04T13:32:53.037Z"
   },
   {
    "duration": 10,
    "start_time": "2021-10-04T13:32:54.951Z"
   },
   {
    "duration": 370,
    "start_time": "2021-10-04T13:32:55.344Z"
   },
   {
    "duration": 9,
    "start_time": "2021-10-04T13:32:56.416Z"
   },
   {
    "duration": 299,
    "start_time": "2021-10-04T13:32:56.736Z"
   },
   {
    "duration": 19,
    "start_time": "2021-10-04T13:32:57.736Z"
   },
   {
    "duration": 237,
    "start_time": "2021-10-04T13:32:58.079Z"
   },
   {
    "duration": 12,
    "start_time": "2021-10-04T13:32:58.985Z"
   },
   {
    "duration": 261,
    "start_time": "2021-10-04T13:32:59.283Z"
   },
   {
    "duration": 9,
    "start_time": "2021-10-04T13:33:00.464Z"
   },
   {
    "duration": 284,
    "start_time": "2021-10-04T13:33:00.770Z"
   },
   {
    "duration": 153,
    "start_time": "2021-10-04T13:33:01.113Z"
   },
   {
    "duration": 309,
    "start_time": "2021-10-04T13:33:02.439Z"
   },
   {
    "duration": 7,
    "start_time": "2021-10-04T13:33:02.863Z"
   },
   {
    "duration": 19,
    "start_time": "2021-10-04T13:33:03.442Z"
   },
   {
    "duration": 22,
    "start_time": "2021-10-04T13:33:05.026Z"
   },
   {
    "duration": 621,
    "start_time": "2021-10-04T13:33:05.636Z"
   },
   {
    "duration": 4,
    "start_time": "2021-10-04T13:33:06.259Z"
   },
   {
    "duration": 548,
    "start_time": "2021-10-04T13:33:06.818Z"
   },
   {
    "duration": 9,
    "start_time": "2021-10-04T13:33:07.369Z"
   },
   {
    "duration": 561,
    "start_time": "2021-10-04T13:33:07.973Z"
   },
   {
    "duration": 5,
    "start_time": "2021-10-04T13:33:08.535Z"
   },
   {
    "duration": 28,
    "start_time": "2021-10-04T13:33:09.358Z"
   },
   {
    "duration": 340,
    "start_time": "2021-10-04T13:33:09.604Z"
   },
   {
    "duration": 28,
    "start_time": "2021-10-04T13:33:10.725Z"
   },
   {
    "duration": 396,
    "start_time": "2021-10-04T13:33:10.960Z"
   },
   {
    "duration": 26,
    "start_time": "2021-10-04T13:33:11.484Z"
   },
   {
    "duration": 359,
    "start_time": "2021-10-04T13:33:11.765Z"
   },
   {
    "duration": 26,
    "start_time": "2021-10-04T13:33:12.272Z"
   },
   {
    "duration": 386,
    "start_time": "2021-10-04T13:33:12.522Z"
   },
   {
    "duration": 32,
    "start_time": "2021-10-04T13:33:13.490Z"
   },
   {
    "duration": 12,
    "start_time": "2021-10-04T13:33:13.990Z"
   },
   {
    "duration": 4,
    "start_time": "2021-10-04T13:33:14.228Z"
   },
   {
    "duration": 4,
    "start_time": "2021-10-04T13:33:14.464Z"
   },
   {
    "duration": 12,
    "start_time": "2021-10-04T13:33:15.412Z"
   },
   {
    "duration": 7,
    "start_time": "2021-10-04T13:33:15.922Z"
   },
   {
    "duration": 32,
    "start_time": "2021-10-04T13:33:18.552Z"
   },
   {
    "duration": 170,
    "start_time": "2021-10-04T13:33:18.905Z"
   },
   {
    "duration": 9,
    "start_time": "2021-10-04T13:33:20.211Z"
   },
   {
    "duration": 11,
    "start_time": "2021-10-04T13:33:20.492Z"
   },
   {
    "duration": 9,
    "start_time": "2021-10-04T13:33:21.727Z"
   },
   {
    "duration": 284,
    "start_time": "2021-10-04T13:33:22.029Z"
   },
   {
    "duration": 8,
    "start_time": "2021-10-04T13:33:22.900Z"
   },
   {
    "duration": 4,
    "start_time": "2021-10-04T13:33:23.168Z"
   },
   {
    "duration": 5,
    "start_time": "2021-10-04T13:33:23.472Z"
   },
   {
    "duration": 363,
    "start_time": "2021-10-04T13:33:23.716Z"
   },
   {
    "duration": 8,
    "start_time": "2021-10-04T13:33:24.601Z"
   },
   {
    "duration": 212,
    "start_time": "2021-10-04T13:33:24.864Z"
   },
   {
    "duration": 8,
    "start_time": "2021-10-04T13:33:25.663Z"
   },
   {
    "duration": 8,
    "start_time": "2021-10-04T13:33:25.944Z"
   },
   {
    "duration": 208,
    "start_time": "2021-10-04T13:33:26.261Z"
   },
   {
    "duration": 359,
    "start_time": "2021-10-04T13:33:27.331Z"
   },
   {
    "duration": 4,
    "start_time": "2021-10-04T13:33:27.692Z"
   },
   {
    "duration": 29,
    "start_time": "2021-10-04T13:33:28.417Z"
   },
   {
    "duration": 343,
    "start_time": "2021-10-04T13:33:28.693Z"
   },
   {
    "duration": 318,
    "start_time": "2021-10-04T13:33:29.561Z"
   },
   {
    "duration": 3,
    "start_time": "2021-10-04T13:33:29.881Z"
   },
   {
    "duration": 26,
    "start_time": "2021-10-04T13:33:30.685Z"
   },
   {
    "duration": 374,
    "start_time": "2021-10-04T13:33:30.965Z"
   },
   {
    "duration": 28,
    "start_time": "2021-10-04T13:33:31.791Z"
   },
   {
    "duration": 361,
    "start_time": "2021-10-04T13:33:32.055Z"
   },
   {
    "duration": 26,
    "start_time": "2021-10-04T13:33:32.820Z"
   },
   {
    "duration": 348,
    "start_time": "2021-10-04T13:33:33.096Z"
   },
   {
    "duration": 764,
    "start_time": "2021-10-05T19:01:59.915Z"
   },
   {
    "duration": 6,
    "start_time": "2021-10-05T19:02:00.681Z"
   },
   {
    "duration": 16,
    "start_time": "2021-10-05T19:02:00.689Z"
   },
   {
    "duration": 6,
    "start_time": "2021-10-05T19:02:00.707Z"
   },
   {
    "duration": 18,
    "start_time": "2021-10-05T19:02:00.714Z"
   },
   {
    "duration": 25,
    "start_time": "2021-10-05T19:02:00.734Z"
   },
   {
    "duration": 18,
    "start_time": "2021-10-05T19:02:00.762Z"
   },
   {
    "duration": 13,
    "start_time": "2021-10-05T19:02:00.783Z"
   },
   {
    "duration": 16,
    "start_time": "2021-10-05T19:02:00.799Z"
   },
   {
    "duration": 19,
    "start_time": "2021-10-05T19:02:00.817Z"
   },
   {
    "duration": 34,
    "start_time": "2021-10-05T19:02:00.838Z"
   },
   {
    "duration": 4,
    "start_time": "2021-10-05T19:02:00.873Z"
   },
   {
    "duration": 33,
    "start_time": "2021-10-05T19:02:00.878Z"
   },
   {
    "duration": 20,
    "start_time": "2021-10-05T19:02:00.913Z"
   },
   {
    "duration": 25,
    "start_time": "2021-10-05T19:02:00.935Z"
   },
   {
    "duration": 10,
    "start_time": "2021-10-05T19:02:00.961Z"
   },
   {
    "duration": 10,
    "start_time": "2021-10-05T19:02:00.972Z"
   },
   {
    "duration": 25,
    "start_time": "2021-10-05T19:02:00.983Z"
   },
   {
    "duration": 24,
    "start_time": "2021-10-05T19:02:01.009Z"
   },
   {
    "duration": 76,
    "start_time": "2021-10-05T19:02:01.034Z"
   },
   {
    "duration": 56,
    "start_time": "2021-10-05T19:02:01.112Z"
   },
   {
    "duration": 58,
    "start_time": "2021-10-05T19:02:01.170Z"
   },
   {
    "duration": 47,
    "start_time": "2021-10-05T19:02:01.232Z"
   },
   {
    "duration": 30,
    "start_time": "2021-10-05T19:02:01.282Z"
   },
   {
    "duration": 67,
    "start_time": "2021-10-05T19:02:01.314Z"
   },
   {
    "duration": 49,
    "start_time": "2021-10-05T19:02:01.382Z"
   },
   {
    "duration": 32,
    "start_time": "2021-10-05T19:02:01.432Z"
   },
   {
    "duration": 35,
    "start_time": "2021-10-05T19:02:01.466Z"
   },
   {
    "duration": 52,
    "start_time": "2021-10-05T19:02:01.503Z"
   },
   {
    "duration": 61,
    "start_time": "2021-10-05T19:02:01.557Z"
   },
   {
    "duration": 65,
    "start_time": "2021-10-05T19:02:01.620Z"
   },
   {
    "duration": 36,
    "start_time": "2021-10-05T19:02:01.686Z"
   },
   {
    "duration": 39,
    "start_time": "2021-10-05T19:02:01.724Z"
   },
   {
    "duration": 55,
    "start_time": "2021-10-05T19:02:01.764Z"
   },
   {
    "duration": 62,
    "start_time": "2021-10-05T19:02:01.821Z"
   },
   {
    "duration": 9,
    "start_time": "2021-10-05T19:02:01.885Z"
   },
   {
    "duration": 45,
    "start_time": "2021-10-05T19:02:01.895Z"
   },
   {
    "duration": 49,
    "start_time": "2021-10-05T19:02:01.942Z"
   },
   {
    "duration": 21,
    "start_time": "2021-10-05T19:02:01.993Z"
   },
   {
    "duration": 18,
    "start_time": "2021-10-05T19:02:02.016Z"
   },
   {
    "duration": 34,
    "start_time": "2021-10-05T19:02:02.036Z"
   },
   {
    "duration": 37,
    "start_time": "2021-10-05T19:02:02.071Z"
   },
   {
    "duration": 20,
    "start_time": "2021-10-05T19:02:02.110Z"
   },
   {
    "duration": 13,
    "start_time": "2021-10-05T19:02:02.132Z"
   },
   {
    "duration": 734,
    "start_time": "2021-10-05T19:02:02.148Z"
   },
   {
    "duration": 6,
    "start_time": "2021-10-05T19:02:02.884Z"
   },
   {
    "duration": 12,
    "start_time": "2021-10-05T19:02:02.892Z"
   },
   {
    "duration": 16,
    "start_time": "2021-10-05T19:02:02.906Z"
   },
   {
    "duration": 495,
    "start_time": "2021-10-05T19:02:02.924Z"
   },
   {
    "duration": 8,
    "start_time": "2021-10-05T19:02:03.420Z"
   },
   {
    "duration": 317,
    "start_time": "2021-10-05T19:02:03.430Z"
   },
   {
    "duration": 12,
    "start_time": "2021-10-05T19:02:03.749Z"
   },
   {
    "duration": 230,
    "start_time": "2021-10-05T19:02:03.763Z"
   },
   {
    "duration": 8,
    "start_time": "2021-10-05T19:02:03.995Z"
   },
   {
    "duration": 287,
    "start_time": "2021-10-05T19:02:04.005Z"
   },
   {
    "duration": 8,
    "start_time": "2021-10-05T19:02:04.294Z"
   },
   {
    "duration": 291,
    "start_time": "2021-10-05T19:02:04.303Z"
   },
   {
    "duration": 154,
    "start_time": "2021-10-05T19:02:04.596Z"
   },
   {
    "duration": 430,
    "start_time": "2021-10-05T19:02:04.752Z"
   },
   {
    "duration": 8,
    "start_time": "2021-10-05T19:02:05.184Z"
   },
   {
    "duration": 22,
    "start_time": "2021-10-05T19:02:05.194Z"
   },
   {
    "duration": 49,
    "start_time": "2021-10-05T19:02:05.218Z"
   },
   {
    "duration": 703,
    "start_time": "2021-10-05T19:02:05.269Z"
   },
   {
    "duration": 5,
    "start_time": "2021-10-05T19:02:05.974Z"
   },
   {
    "duration": 717,
    "start_time": "2021-10-05T19:02:05.981Z"
   },
   {
    "duration": 5,
    "start_time": "2021-10-05T19:02:06.700Z"
   },
   {
    "duration": 744,
    "start_time": "2021-10-05T19:02:06.707Z"
   },
   {
    "duration": 9,
    "start_time": "2021-10-05T19:02:07.459Z"
   },
   {
    "duration": 44,
    "start_time": "2021-10-05T19:02:07.471Z"
   },
   {
    "duration": 487,
    "start_time": "2021-10-05T19:02:07.517Z"
   },
   {
    "duration": 44,
    "start_time": "2021-10-05T19:02:08.006Z"
   },
   {
    "duration": 382,
    "start_time": "2021-10-05T19:02:08.052Z"
   },
   {
    "duration": 38,
    "start_time": "2021-10-05T19:02:08.435Z"
   },
   {
    "duration": 391,
    "start_time": "2021-10-05T19:02:08.475Z"
   },
   {
    "duration": 26,
    "start_time": "2021-10-05T19:02:08.869Z"
   },
   {
    "duration": 599,
    "start_time": "2021-10-05T19:02:08.896Z"
   },
   {
    "duration": 88,
    "start_time": "2021-10-05T19:02:09.497Z"
   },
   {
    "duration": 8,
    "start_time": "2021-10-05T19:02:09.587Z"
   },
   {
    "duration": 13,
    "start_time": "2021-10-05T19:02:09.596Z"
   },
   {
    "duration": 15,
    "start_time": "2021-10-05T19:02:09.611Z"
   },
   {
    "duration": 26,
    "start_time": "2021-10-05T19:02:09.627Z"
   },
   {
    "duration": 19,
    "start_time": "2021-10-05T19:02:09.655Z"
   },
   {
    "duration": 40,
    "start_time": "2021-10-05T19:02:09.676Z"
   },
   {
    "duration": 251,
    "start_time": "2021-10-05T19:02:09.718Z"
   },
   {
    "duration": 8,
    "start_time": "2021-10-05T19:02:09.970Z"
   },
   {
    "duration": 21,
    "start_time": "2021-10-05T19:02:09.980Z"
   },
   {
    "duration": 34,
    "start_time": "2021-10-05T19:02:10.002Z"
   },
   {
    "duration": 314,
    "start_time": "2021-10-05T19:02:10.037Z"
   },
   {
    "duration": 11,
    "start_time": "2021-10-05T19:02:10.354Z"
   },
   {
    "duration": 14,
    "start_time": "2021-10-05T19:02:10.367Z"
   },
   {
    "duration": 18,
    "start_time": "2021-10-05T19:02:10.383Z"
   },
   {
    "duration": 376,
    "start_time": "2021-10-05T19:02:10.403Z"
   },
   {
    "duration": 8,
    "start_time": "2021-10-05T19:02:10.780Z"
   },
   {
    "duration": 214,
    "start_time": "2021-10-05T19:02:10.789Z"
   },
   {
    "duration": 7,
    "start_time": "2021-10-05T19:02:11.004Z"
   },
   {
    "duration": 38,
    "start_time": "2021-10-05T19:02:11.013Z"
   },
   {
    "duration": 242,
    "start_time": "2021-10-05T19:02:11.054Z"
   },
   {
    "duration": 335,
    "start_time": "2021-10-05T19:02:11.297Z"
   },
   {
    "duration": 4,
    "start_time": "2021-10-05T19:02:11.634Z"
   },
   {
    "duration": 42,
    "start_time": "2021-10-05T19:02:11.643Z"
   },
   {
    "duration": 488,
    "start_time": "2021-10-05T19:02:11.687Z"
   },
   {
    "duration": 413,
    "start_time": "2021-10-05T19:02:12.178Z"
   },
   {
    "duration": 52,
    "start_time": "2021-10-05T19:02:12.592Z"
   },
   {
    "duration": 31,
    "start_time": "2021-10-05T19:02:12.647Z"
   },
   {
    "duration": 691,
    "start_time": "2021-10-05T19:02:12.680Z"
   },
   {
    "duration": 24,
    "start_time": "2021-10-05T19:02:13.373Z"
   },
   {
    "duration": 426,
    "start_time": "2021-10-05T19:02:13.399Z"
   },
   {
    "duration": 47,
    "start_time": "2021-10-05T19:02:13.826Z"
   },
   {
    "duration": 646,
    "start_time": "2021-10-05T19:02:13.875Z"
   },
   {
    "duration": 5,
    "start_time": "2021-10-05T19:06:41.664Z"
   },
   {
    "duration": 5,
    "start_time": "2021-10-05T19:07:27.969Z"
   },
   {
    "duration": 1990,
    "start_time": "2021-10-08T15:39:09.160Z"
   },
   {
    "duration": 366,
    "start_time": "2021-10-08T15:39:19.954Z"
   },
   {
    "duration": 6,
    "start_time": "2021-10-08T15:39:24.140Z"
   },
   {
    "duration": 12,
    "start_time": "2021-10-08T15:39:24.524Z"
   },
   {
    "duration": 7,
    "start_time": "2021-10-08T15:39:25.103Z"
   },
   {
    "duration": 9,
    "start_time": "2021-10-08T15:39:25.465Z"
   },
   {
    "duration": 5,
    "start_time": "2021-10-08T15:39:25.842Z"
   },
   {
    "duration": 8,
    "start_time": "2021-10-08T15:39:26.434Z"
   },
   {
    "duration": 8,
    "start_time": "2021-10-08T15:39:26.812Z"
   },
   {
    "duration": 6,
    "start_time": "2021-10-08T15:39:27.337Z"
   },
   {
    "duration": 7,
    "start_time": "2021-10-08T15:39:27.726Z"
   },
   {
    "duration": 24,
    "start_time": "2021-10-08T15:39:28.095Z"
   },
   {
    "duration": 5,
    "start_time": "2021-10-08T15:39:28.480Z"
   },
   {
    "duration": 10,
    "start_time": "2021-10-08T15:39:28.866Z"
   },
   {
    "duration": 13,
    "start_time": "2021-10-08T15:39:29.074Z"
   },
   {
    "duration": 10,
    "start_time": "2021-10-08T15:39:29.610Z"
   },
   {
    "duration": 9,
    "start_time": "2021-10-08T15:39:30.067Z"
   },
   {
    "duration": 7,
    "start_time": "2021-10-08T15:39:30.319Z"
   },
   {
    "duration": 7,
    "start_time": "2021-10-08T15:39:30.972Z"
   },
   {
    "duration": 7,
    "start_time": "2021-10-08T15:39:31.617Z"
   },
   {
    "duration": 7,
    "start_time": "2021-10-08T15:39:32.240Z"
   },
   {
    "duration": 9,
    "start_time": "2021-10-08T15:39:33.140Z"
   },
   {
    "duration": 5,
    "start_time": "2021-10-08T15:39:33.366Z"
   },
   {
    "duration": 6,
    "start_time": "2021-10-08T15:39:34.330Z"
   },
   {
    "duration": 7,
    "start_time": "2021-10-08T15:39:35.398Z"
   },
   {
    "duration": 11,
    "start_time": "2021-10-08T15:39:36.480Z"
   },
   {
    "duration": 7,
    "start_time": "2021-10-08T15:39:36.816Z"
   },
   {
    "duration": 6,
    "start_time": "2021-10-08T15:39:37.142Z"
   },
   {
    "duration": 7,
    "start_time": "2021-10-08T15:39:37.516Z"
   },
   {
    "duration": 6,
    "start_time": "2021-10-08T15:39:38.860Z"
   },
   {
    "duration": 7,
    "start_time": "2021-10-08T15:39:40.085Z"
   },
   {
    "duration": 9,
    "start_time": "2021-10-08T15:39:40.652Z"
   },
   {
    "duration": 6,
    "start_time": "2021-10-08T15:39:41.616Z"
   },
   {
    "duration": 15,
    "start_time": "2021-10-08T15:39:42.197Z"
   },
   {
    "duration": 17,
    "start_time": "2021-10-08T15:39:44.182Z"
   },
   {
    "duration": 13,
    "start_time": "2021-10-08T15:39:44.666Z"
   },
   {
    "duration": 6,
    "start_time": "2021-10-08T15:39:45.007Z"
   },
   {
    "duration": 4,
    "start_time": "2021-10-08T15:39:45.330Z"
   },
   {
    "duration": 15,
    "start_time": "2021-10-08T15:39:45.871Z"
   },
   {
    "duration": 10,
    "start_time": "2021-10-08T15:39:47.533Z"
   },
   {
    "duration": 15,
    "start_time": "2021-10-08T15:39:47.893Z"
   },
   {
    "duration": 7,
    "start_time": "2021-10-08T15:39:48.030Z"
   },
   {
    "duration": 8,
    "start_time": "2021-10-08T15:39:48.175Z"
   },
   {
    "duration": 8,
    "start_time": "2021-10-08T15:39:48.265Z"
   },
   {
    "duration": 8,
    "start_time": "2021-10-08T15:39:48.695Z"
   },
   {
    "duration": 534,
    "start_time": "2021-10-08T15:39:49.147Z"
   },
   {
    "duration": 8,
    "start_time": "2021-10-08T15:39:49.686Z"
   },
   {
    "duration": 12,
    "start_time": "2021-10-08T15:39:50.189Z"
   },
   {
    "duration": 8,
    "start_time": "2021-10-08T15:39:52.141Z"
   },
   {
    "duration": 430,
    "start_time": "2021-10-08T15:39:52.748Z"
   },
   {
    "duration": 9,
    "start_time": "2021-10-08T15:39:55.913Z"
   },
   {
    "duration": 312,
    "start_time": "2021-10-08T15:39:56.201Z"
   },
   {
    "duration": 10,
    "start_time": "2021-10-08T15:39:57.407Z"
   },
   {
    "duration": 253,
    "start_time": "2021-10-08T15:39:57.764Z"
   },
   {
    "duration": 9,
    "start_time": "2021-10-08T15:39:59.325Z"
   },
   {
    "duration": 293,
    "start_time": "2021-10-08T15:39:59.889Z"
   },
   {
    "duration": 15,
    "start_time": "2021-10-08T15:40:03.302Z"
   },
   {
    "duration": 311,
    "start_time": "2021-10-08T15:40:03.321Z"
   },
   {
    "duration": 173,
    "start_time": "2021-10-08T15:40:03.634Z"
   },
   {
    "duration": 317,
    "start_time": "2021-10-08T15:40:06.595Z"
   },
   {
    "duration": 8,
    "start_time": "2021-10-08T15:40:08.064Z"
   },
   {
    "duration": 18,
    "start_time": "2021-10-08T15:40:08.825Z"
   },
   {
    "duration": 20,
    "start_time": "2021-10-08T15:40:13.745Z"
   },
   {
    "duration": 202,
    "start_time": "2021-10-08T15:40:18.327Z"
   },
   {
    "duration": 157,
    "start_time": "2021-10-08T15:40:24.082Z"
   },
   {
    "duration": 220,
    "start_time": "2021-10-08T15:40:29.723Z"
   },
   {
    "duration": 8,
    "start_time": "2021-10-08T15:42:35.110Z"
   },
   {
    "duration": 128,
    "start_time": "2021-10-08T15:42:49.855Z"
   },
   {
    "duration": 127,
    "start_time": "2021-10-08T15:42:55.172Z"
   },
   {
    "duration": 125,
    "start_time": "2021-10-08T15:43:36.961Z"
   },
   {
    "duration": 7,
    "start_time": "2021-10-08T15:44:00.195Z"
   },
   {
    "duration": 321,
    "start_time": "2021-10-08T15:45:03.876Z"
   },
   {
    "duration": 18,
    "start_time": "2021-10-08T15:45:24.151Z"
   },
   {
    "duration": 7,
    "start_time": "2021-10-08T15:46:44.891Z"
   },
   {
    "duration": 597,
    "start_time": "2021-10-08T15:46:53.867Z"
   },
   {
    "duration": 5,
    "start_time": "2021-10-08T15:47:22.254Z"
   },
   {
    "duration": 9,
    "start_time": "2021-10-08T15:48:58.191Z"
   },
   {
    "duration": 7,
    "start_time": "2021-10-08T15:49:00.227Z"
   },
   {
    "duration": 511,
    "start_time": "2021-10-08T15:49:09.202Z"
   },
   {
    "duration": 5,
    "start_time": "2021-10-08T15:49:16.630Z"
   },
   {
    "duration": 14,
    "start_time": "2021-10-08T15:49:42.611Z"
   },
   {
    "duration": 534,
    "start_time": "2021-10-08T16:15:27.405Z"
   },
   {
    "duration": 136,
    "start_time": "2021-10-08T16:16:51.382Z"
   },
   {
    "duration": 129,
    "start_time": "2021-10-08T16:16:55.112Z"
   },
   {
    "duration": 202,
    "start_time": "2021-10-08T16:16:59.205Z"
   },
   {
    "duration": 153,
    "start_time": "2021-10-08T16:17:04.374Z"
   },
   {
    "duration": 107,
    "start_time": "2021-10-08T16:17:09.653Z"
   },
   {
    "duration": 136,
    "start_time": "2021-10-08T16:17:11.717Z"
   },
   {
    "duration": 107,
    "start_time": "2021-10-08T16:18:02.319Z"
   },
   {
    "duration": 510,
    "start_time": "2021-10-08T16:18:14.070Z"
   },
   {
    "duration": 34,
    "start_time": "2021-10-08T16:20:30.552Z"
   },
   {
    "duration": 433,
    "start_time": "2021-10-08T16:23:40.574Z"
   },
   {
    "duration": -78,
    "start_time": "2021-10-08T16:24:20.671Z"
   },
   {
    "duration": 7775,
    "start_time": "2021-10-08T16:24:29.849Z"
   },
   {
    "duration": 7568,
    "start_time": "2021-10-08T16:24:38.941Z"
   },
   {
    "duration": 7686,
    "start_time": "2021-10-08T16:25:25.816Z"
   },
   {
    "duration": 298,
    "start_time": "2021-10-08T16:25:56.773Z"
   },
   {
    "duration": 397,
    "start_time": "2021-10-08T16:26:37.721Z"
   },
   {
    "duration": 326,
    "start_time": "2021-10-08T16:26:47.731Z"
   },
   {
    "duration": 395,
    "start_time": "2021-10-08T16:26:53.325Z"
   },
   {
    "duration": 134,
    "start_time": "2021-10-08T17:10:24.416Z"
   },
   {
    "duration": 133,
    "start_time": "2021-10-08T17:10:27.928Z"
   },
   {
    "duration": 136,
    "start_time": "2021-10-08T17:10:33.620Z"
   },
   {
    "duration": 269,
    "start_time": "2021-10-08T17:10:40.820Z"
   },
   {
    "duration": 151,
    "start_time": "2021-10-08T17:10:48.503Z"
   },
   {
    "duration": 155,
    "start_time": "2021-10-08T17:10:56.127Z"
   },
   {
    "duration": 136,
    "start_time": "2021-10-08T17:11:01.421Z"
   },
   {
    "duration": 136,
    "start_time": "2021-10-08T17:11:16.650Z"
   },
   {
    "duration": 144,
    "start_time": "2021-10-08T17:11:22.648Z"
   },
   {
    "duration": 6,
    "start_time": "2021-10-08T17:12:49.956Z"
   },
   {
    "duration": 102,
    "start_time": "2021-10-08T17:13:00.265Z"
   },
   {
    "duration": 112,
    "start_time": "2021-10-08T17:13:10.549Z"
   },
   {
    "duration": 8,
    "start_time": "2021-10-08T17:13:37.204Z"
   },
   {
    "duration": 316,
    "start_time": "2021-10-08T17:13:55.423Z"
   },
   {
    "duration": 104,
    "start_time": "2021-10-08T17:15:12.405Z"
   },
   {
    "duration": 564,
    "start_time": "2021-10-08T17:15:40.044Z"
   },
   {
    "duration": 134,
    "start_time": "2021-10-08T17:16:37.341Z"
   },
   {
    "duration": 305,
    "start_time": "2021-10-08T17:17:01.589Z"
   },
   {
    "duration": 26,
    "start_time": "2021-10-08T17:17:08.888Z"
   },
   {
    "duration": 345,
    "start_time": "2021-10-08T17:17:11.718Z"
   },
   {
    "duration": 311,
    "start_time": "2021-10-08T17:21:24.752Z"
   },
   {
    "duration": 396,
    "start_time": "2021-10-08T17:21:29.004Z"
   },
   {
    "duration": 42,
    "start_time": "2021-10-08T17:21:29.360Z"
   },
   {
    "duration": 25,
    "start_time": "2021-10-08T17:21:34.220Z"
   },
   {
    "duration": 420,
    "start_time": "2021-10-08T17:21:34.574Z"
   },
   {
    "duration": 37,
    "start_time": "2021-10-08T17:21:35.179Z"
   },
   {
    "duration": 414,
    "start_time": "2021-10-08T17:21:35.540Z"
   },
   {
    "duration": 28,
    "start_time": "2021-10-08T17:21:36.304Z"
   },
   {
    "duration": 412,
    "start_time": "2021-10-08T17:21:36.714Z"
   },
   {
    "duration": 41,
    "start_time": "2021-10-08T17:21:38.464Z"
   },
   {
    "duration": 12,
    "start_time": "2021-10-08T17:21:39.142Z"
   },
   {
    "duration": 5,
    "start_time": "2021-10-08T17:21:39.526Z"
   },
   {
    "duration": 5,
    "start_time": "2021-10-08T17:21:39.920Z"
   },
   {
    "duration": 10,
    "start_time": "2021-10-08T17:21:41.903Z"
   },
   {
    "duration": 6,
    "start_time": "2021-10-08T17:21:42.770Z"
   },
   {
    "duration": 41,
    "start_time": "2021-10-08T17:21:43.761Z"
   },
   {
    "duration": 185,
    "start_time": "2021-10-08T17:21:44.344Z"
   },
   {
    "duration": 9,
    "start_time": "2021-10-08T17:21:47.258Z"
   },
   {
    "duration": 10,
    "start_time": "2021-10-08T17:21:47.996Z"
   },
   {
    "duration": 10,
    "start_time": "2021-10-08T17:21:53.018Z"
   },
   {
    "duration": 299,
    "start_time": "2021-10-08T17:21:54.698Z"
   },
   {
    "duration": 10,
    "start_time": "2021-10-08T17:22:25.192Z"
   },
   {
    "duration": 4,
    "start_time": "2021-10-08T17:22:25.856Z"
   },
   {
    "duration": 5,
    "start_time": "2021-10-08T17:22:26.428Z"
   },
   {
    "duration": 556,
    "start_time": "2021-10-08T17:22:27.878Z"
   },
   {
    "duration": 136,
    "start_time": "2021-10-08T17:39:29.701Z"
   },
   {
    "duration": 133,
    "start_time": "2021-10-08T17:39:35.221Z"
   },
   {
    "duration": 141,
    "start_time": "2021-10-08T17:39:37.741Z"
   },
   {
    "duration": 141,
    "start_time": "2021-10-08T17:39:42.323Z"
   },
   {
    "duration": 135,
    "start_time": "2021-10-08T17:39:54.357Z"
   },
   {
    "duration": 125,
    "start_time": "2021-10-08T17:39:59.807Z"
   },
   {
    "duration": 130,
    "start_time": "2021-10-08T17:40:27.488Z"
   },
   {
    "duration": 155,
    "start_time": "2021-10-08T17:41:44.896Z"
   },
   {
    "duration": 136,
    "start_time": "2021-10-08T17:44:52.819Z"
   },
   {
    "duration": 137,
    "start_time": "2021-10-08T17:44:56.394Z"
   },
   {
    "duration": 155,
    "start_time": "2021-10-08T17:44:59.840Z"
   },
   {
    "duration": 149,
    "start_time": "2021-10-08T17:45:03.269Z"
   },
   {
    "duration": 146,
    "start_time": "2021-10-08T17:45:05.920Z"
   },
   {
    "duration": 143,
    "start_time": "2021-10-08T17:45:17.957Z"
   },
   {
    "duration": 290,
    "start_time": "2021-10-08T17:46:46.297Z"
   },
   {
    "duration": 339,
    "start_time": "2021-10-08T17:46:58.890Z"
   },
   {
    "duration": 314,
    "start_time": "2021-10-08T17:48:06.293Z"
   },
   {
    "duration": 10,
    "start_time": "2021-10-08T17:48:25.076Z"
   },
   {
    "duration": 9,
    "start_time": "2021-10-08T17:48:26.860Z"
   },
   {
    "duration": 5,
    "start_time": "2021-10-08T17:48:52.768Z"
   },
   {
    "duration": 7,
    "start_time": "2021-10-08T17:49:01.518Z"
   },
   {
    "duration": 4,
    "start_time": "2021-10-08T17:49:34.837Z"
   },
   {
    "duration": 8,
    "start_time": "2021-10-08T17:49:45.212Z"
   },
   {
    "duration": 9,
    "start_time": "2021-10-08T17:50:01.565Z"
   },
   {
    "duration": 10,
    "start_time": "2021-10-08T17:50:01.903Z"
   },
   {
    "duration": 9,
    "start_time": "2021-10-08T17:50:03.062Z"
   },
   {
    "duration": 311,
    "start_time": "2021-10-08T17:50:03.510Z"
   },
   {
    "duration": 12,
    "start_time": "2021-10-08T17:50:04.880Z"
   },
   {
    "duration": 4,
    "start_time": "2021-10-08T17:50:05.253Z"
   },
   {
    "duration": 6,
    "start_time": "2021-10-08T17:50:05.652Z"
   },
   {
    "duration": 293,
    "start_time": "2021-10-08T17:50:05.948Z"
   },
   {
    "duration": 8,
    "start_time": "2021-10-08T17:50:06.839Z"
   },
   {
    "duration": 357,
    "start_time": "2021-10-08T17:50:07.114Z"
   },
   {
    "duration": 8,
    "start_time": "2021-10-08T17:50:08.110Z"
   },
   {
    "duration": 7,
    "start_time": "2021-10-08T17:50:08.346Z"
   },
   {
    "duration": 233,
    "start_time": "2021-10-08T17:50:08.720Z"
   },
   {
    "duration": 133,
    "start_time": "2021-10-08T17:50:11.930Z"
   },
   {
    "duration": 106,
    "start_time": "2021-10-08T17:50:16.397Z"
   },
   {
    "duration": 5,
    "start_time": "2021-10-08T17:50:20.423Z"
   },
   {
    "duration": 9,
    "start_time": "2021-10-08T17:50:22.614Z"
   },
   {
    "duration": 6,
    "start_time": "2021-10-08T17:50:30.851Z"
   },
   {
    "duration": 8,
    "start_time": "2021-10-08T17:50:33.491Z"
   },
   {
    "duration": 9,
    "start_time": "2021-10-08T17:50:44.903Z"
   },
   {
    "duration": 9,
    "start_time": "2021-10-08T17:50:45.735Z"
   },
   {
    "duration": 11,
    "start_time": "2021-10-08T17:50:58.886Z"
   },
   {
    "duration": 11,
    "start_time": "2021-10-08T17:51:01.003Z"
   },
   {
    "duration": 299,
    "start_time": "2021-10-08T17:51:16.818Z"
   },
   {
    "duration": 5,
    "start_time": "2021-10-08T17:51:22.548Z"
   },
   {
    "duration": 383,
    "start_time": "2021-10-08T17:51:37.360Z"
   },
   {
    "duration": 326,
    "start_time": "2021-10-08T17:51:40.396Z"
   },
   {
    "duration": 781,
    "start_time": "2021-10-08T17:51:48.246Z"
   },
   {
    "duration": 29691,
    "start_time": "2021-10-08T17:53:37.704Z"
   },
   {
    "duration": 7,
    "start_time": "2021-10-08T17:54:07.398Z"
   },
   {
    "duration": 30657,
    "start_time": "2021-10-08T17:54:35.803Z"
   },
   {
    "duration": 19,
    "start_time": "2021-10-08T17:55:06.462Z"
   },
   {
    "duration": 27,
    "start_time": "2021-10-08T17:55:50.900Z"
   },
   {
    "duration": 317,
    "start_time": "2021-10-08T17:57:26.706Z"
   },
   {
    "duration": 456,
    "start_time": "2021-10-08T17:58:48.389Z"
   },
   {
    "duration": 95,
    "start_time": "2021-10-08T17:59:39.732Z"
   },
   {
    "duration": 290,
    "start_time": "2021-10-08T17:59:53.416Z"
   },
   {
    "duration": 25,
    "start_time": "2021-10-08T17:59:56.940Z"
   },
   {
    "duration": 320,
    "start_time": "2021-10-08T17:59:58.187Z"
   },
   {
    "duration": 144,
    "start_time": "2021-10-08T18:00:57.429Z"
   },
   {
    "duration": 158,
    "start_time": "2021-10-08T18:01:00.174Z"
   },
   {
    "duration": 149,
    "start_time": "2021-10-08T18:01:06.500Z"
   },
   {
    "duration": 136,
    "start_time": "2021-10-08T18:01:10.147Z"
   },
   {
    "duration": 164,
    "start_time": "2021-10-08T18:01:30.380Z"
   },
   {
    "duration": 135,
    "start_time": "2021-10-08T18:01:32.688Z"
   },
   {
    "duration": 156,
    "start_time": "2021-10-08T18:01:35.453Z"
   },
   {
    "duration": 146,
    "start_time": "2021-10-08T18:01:56.405Z"
   },
   {
    "duration": 143,
    "start_time": "2021-10-08T18:01:59.491Z"
   },
   {
    "duration": 153,
    "start_time": "2021-10-08T18:02:01.837Z"
   },
   {
    "duration": 142,
    "start_time": "2021-10-08T18:02:06.114Z"
   },
   {
    "duration": 144,
    "start_time": "2021-10-08T18:02:08.093Z"
   },
   {
    "duration": 139,
    "start_time": "2021-10-08T18:02:09.634Z"
   },
   {
    "duration": 177,
    "start_time": "2021-10-08T18:02:12.193Z"
   },
   {
    "duration": 145,
    "start_time": "2021-10-08T18:02:14.075Z"
   },
   {
    "duration": 140,
    "start_time": "2021-10-08T18:02:15.421Z"
   },
   {
    "duration": 180,
    "start_time": "2021-10-08T18:02:16.882Z"
   },
   {
    "duration": 152,
    "start_time": "2021-10-08T18:02:19.561Z"
   },
   {
    "duration": 360,
    "start_time": "2021-10-08T18:03:05.167Z"
   },
   {
    "duration": 140,
    "start_time": "2021-10-08T18:03:12.599Z"
   },
   {
    "duration": 135,
    "start_time": "2021-10-08T18:03:14.893Z"
   },
   {
    "duration": 156,
    "start_time": "2021-10-08T18:03:18.039Z"
   },
   {
    "duration": 147,
    "start_time": "2021-10-08T18:14:57.800Z"
   },
   {
    "duration": 164,
    "start_time": "2021-10-08T18:15:02.190Z"
   },
   {
    "duration": 155,
    "start_time": "2021-10-08T18:15:05.900Z"
   },
   {
    "duration": 141,
    "start_time": "2021-10-08T18:27:08.187Z"
   },
   {
    "duration": 174,
    "start_time": "2021-10-08T18:27:12.752Z"
   },
   {
    "duration": 159,
    "start_time": "2021-10-08T18:27:17.586Z"
   },
   {
    "duration": 149,
    "start_time": "2021-10-08T18:27:22.576Z"
   },
   {
    "duration": 142,
    "start_time": "2021-10-08T18:27:26.346Z"
   },
   {
    "duration": 105,
    "start_time": "2021-10-08T18:27:45.690Z"
   },
   {
    "duration": 133,
    "start_time": "2021-10-08T18:29:00.716Z"
   },
   {
    "duration": 156,
    "start_time": "2021-10-08T18:29:21.333Z"
   },
   {
    "duration": 8773,
    "start_time": "2021-10-08T18:30:21.220Z"
   },
   {
    "duration": 304,
    "start_time": "2021-10-08T18:30:45.507Z"
   },
   {
    "duration": 6,
    "start_time": "2021-10-08T18:30:52.819Z"
   },
   {
    "duration": 5,
    "start_time": "2021-10-08T18:31:23.135Z"
   },
   {
    "duration": 123,
    "start_time": "2021-10-08T18:32:05.285Z"
   },
   {
    "duration": 322,
    "start_time": "2021-10-08T18:32:51.230Z"
   },
   {
    "duration": 149,
    "start_time": "2021-10-08T18:33:19.705Z"
   },
   {
    "duration": 157,
    "start_time": "2021-10-08T18:33:31.183Z"
   },
   {
    "duration": 149,
    "start_time": "2021-10-08T18:34:50.093Z"
   },
   {
    "duration": 7,
    "start_time": "2021-10-08T18:35:16.455Z"
   },
   {
    "duration": 7,
    "start_time": "2021-10-08T18:35:44.528Z"
   },
   {
    "duration": 339,
    "start_time": "2021-10-08T18:35:51.908Z"
   },
   {
    "duration": 110,
    "start_time": "2021-10-08T18:36:32.347Z"
   },
   {
    "duration": 4,
    "start_time": "2021-10-08T18:37:20.260Z"
   },
   {
    "duration": 8,
    "start_time": "2021-10-08T18:47:38.496Z"
   },
   {
    "duration": 5,
    "start_time": "2021-10-08T18:47:40.517Z"
   },
   {
    "duration": 15,
    "start_time": "2021-10-08T18:47:43.778Z"
   },
   {
    "duration": 6,
    "start_time": "2021-10-08T18:47:45.971Z"
   },
   {
    "duration": 8,
    "start_time": "2021-10-08T18:47:52.923Z"
   },
   {
    "duration": 5,
    "start_time": "2021-10-08T18:47:54.141Z"
   },
   {
    "duration": 78,
    "start_time": "2021-10-09T09:26:32.654Z"
   },
   {
    "duration": 1081,
    "start_time": "2021-10-09T09:28:11.463Z"
   },
   {
    "duration": 419,
    "start_time": "2021-10-09T09:28:20.450Z"
   },
   {
    "duration": 8,
    "start_time": "2021-10-09T09:28:22.407Z"
   },
   {
    "duration": 16,
    "start_time": "2021-10-09T09:28:22.706Z"
   },
   {
    "duration": 9,
    "start_time": "2021-10-09T09:28:23.224Z"
   },
   {
    "duration": 10,
    "start_time": "2021-10-09T09:28:23.557Z"
   },
   {
    "duration": 7,
    "start_time": "2021-10-09T09:28:23.917Z"
   },
   {
    "duration": 11,
    "start_time": "2021-10-09T09:28:24.425Z"
   },
   {
    "duration": 11,
    "start_time": "2021-10-09T09:28:24.744Z"
   },
   {
    "duration": 8,
    "start_time": "2021-10-09T09:28:25.272Z"
   },
   {
    "duration": 9,
    "start_time": "2021-10-09T09:28:25.827Z"
   },
   {
    "duration": 22,
    "start_time": "2021-10-09T09:28:26.247Z"
   },
   {
    "duration": 4,
    "start_time": "2021-10-09T09:28:26.759Z"
   },
   {
    "duration": 15,
    "start_time": "2021-10-09T09:28:27.218Z"
   },
   {
    "duration": 9,
    "start_time": "2021-10-09T09:28:27.446Z"
   },
   {
    "duration": 12,
    "start_time": "2021-10-09T09:28:27.866Z"
   },
   {
    "duration": 16,
    "start_time": "2021-10-09T09:28:28.244Z"
   },
   {
    "duration": 6,
    "start_time": "2021-10-09T09:28:28.418Z"
   },
   {
    "duration": 8,
    "start_time": "2021-10-09T09:28:28.808Z"
   },
   {
    "duration": 11,
    "start_time": "2021-10-09T09:28:29.178Z"
   },
   {
    "duration": 10,
    "start_time": "2021-10-09T09:28:29.578Z"
   },
   {
    "duration": 15,
    "start_time": "2021-10-09T09:28:29.980Z"
   },
   {
    "duration": 8,
    "start_time": "2021-10-09T09:28:30.138Z"
   },
   {
    "duration": 8,
    "start_time": "2021-10-09T09:28:30.666Z"
   },
   {
    "duration": 8,
    "start_time": "2021-10-09T09:28:31.419Z"
   },
   {
    "duration": 8,
    "start_time": "2021-10-09T09:28:31.802Z"
   },
   {
    "duration": 10,
    "start_time": "2021-10-09T09:28:31.980Z"
   },
   {
    "duration": 9,
    "start_time": "2021-10-09T09:28:32.148Z"
   },
   {
    "duration": 10,
    "start_time": "2021-10-09T09:28:32.477Z"
   },
   {
    "duration": 8,
    "start_time": "2021-10-09T09:28:33.229Z"
   },
   {
    "duration": 8,
    "start_time": "2021-10-09T09:28:34.037Z"
   },
   {
    "duration": 14,
    "start_time": "2021-10-09T09:28:34.481Z"
   },
   {
    "duration": 8,
    "start_time": "2021-10-09T09:28:35.157Z"
   },
   {
    "duration": 16,
    "start_time": "2021-10-09T09:28:35.679Z"
   },
   {
    "duration": 18,
    "start_time": "2021-10-09T09:28:36.511Z"
   },
   {
    "duration": 12,
    "start_time": "2021-10-09T09:28:36.899Z"
   },
   {
    "duration": 6,
    "start_time": "2021-10-09T09:28:37.272Z"
   },
   {
    "duration": 5,
    "start_time": "2021-10-09T09:28:37.766Z"
   },
   {
    "duration": 16,
    "start_time": "2021-10-09T09:28:38.142Z"
   },
   {
    "duration": 13,
    "start_time": "2021-10-09T09:28:39.364Z"
   },
   {
    "duration": 14,
    "start_time": "2021-10-09T09:28:39.931Z"
   },
   {
    "duration": 10,
    "start_time": "2021-10-09T09:28:40.211Z"
   },
   {
    "duration": 12,
    "start_time": "2021-10-09T09:28:40.473Z"
   },
   {
    "duration": 10,
    "start_time": "2021-10-09T09:28:40.685Z"
   },
   {
    "duration": 4,
    "start_time": "2021-10-09T09:28:41.199Z"
   },
   {
    "duration": 792,
    "start_time": "2021-10-09T09:28:41.441Z"
   },
   {
    "duration": 8,
    "start_time": "2021-10-09T09:28:42.236Z"
   },
   {
    "duration": 32,
    "start_time": "2021-10-09T09:28:42.247Z"
   },
   {
    "duration": 11,
    "start_time": "2021-10-09T09:28:43.389Z"
   },
   {
    "duration": 449,
    "start_time": "2021-10-09T09:28:43.601Z"
   },
   {
    "duration": 11,
    "start_time": "2021-10-09T09:28:44.477Z"
   },
   {
    "duration": 480,
    "start_time": "2021-10-09T09:28:44.653Z"
   },
   {
    "duration": 11,
    "start_time": "2021-10-09T09:28:45.315Z"
   },
   {
    "duration": 339,
    "start_time": "2021-10-09T09:28:45.497Z"
   },
   {
    "duration": 12,
    "start_time": "2021-10-09T09:28:46.041Z"
   },
   {
    "duration": 416,
    "start_time": "2021-10-09T09:28:46.371Z"
   },
   {
    "duration": 12,
    "start_time": "2021-10-09T09:28:47.820Z"
   },
   {
    "duration": 415,
    "start_time": "2021-10-09T09:28:48.192Z"
   },
   {
    "duration": 260,
    "start_time": "2021-10-09T09:28:48.610Z"
   },
   {
    "duration": 488,
    "start_time": "2021-10-09T09:28:54.391Z"
   },
   {
    "duration": 9,
    "start_time": "2021-10-09T09:28:55.534Z"
   },
   {
    "duration": 25,
    "start_time": "2021-10-09T09:28:56.213Z"
   },
   {
    "duration": 30,
    "start_time": "2021-10-09T09:29:00.365Z"
   },
   {
    "duration": 232,
    "start_time": "2021-10-09T09:29:03.230Z"
   },
   {
    "duration": 12,
    "start_time": "2021-10-09T09:29:04.824Z"
   },
   {
    "duration": 8,
    "start_time": "2021-10-09T09:29:05.472Z"
   },
   {
    "duration": 697,
    "start_time": "2021-10-09T09:29:07.906Z"
   },
   {
    "duration": 18,
    "start_time": "2021-10-09T09:29:08.607Z"
   },
   {
    "duration": 296,
    "start_time": "2021-10-09T09:29:10.728Z"
   },
   {
    "duration": 694,
    "start_time": "2021-10-09T09:29:11.610Z"
   },
   {
    "duration": 6,
    "start_time": "2021-10-09T09:29:12.519Z"
   },
   {
    "duration": 40,
    "start_time": "2021-10-09T09:29:14.772Z"
   },
   {
    "duration": 598,
    "start_time": "2021-10-09T09:29:15.524Z"
   },
   {
    "duration": 211,
    "start_time": "2021-10-09T09:29:20.264Z"
   },
   {
    "duration": 667,
    "start_time": "2021-10-09T09:29:23.462Z"
   },
   {
    "duration": 6,
    "start_time": "2021-10-09T09:29:28.844Z"
   },
   {
    "duration": 41,
    "start_time": "2021-10-09T09:29:34.515Z"
   },
   {
    "duration": 79,
    "start_time": "2021-10-09T09:30:36.605Z"
   }
  ],
  "kernelspec": {
   "display_name": "Python 3",
   "language": "python",
   "name": "python3"
  },
  "language_info": {
   "codemirror_mode": {
    "name": "ipython",
    "version": 3
   },
   "file_extension": ".py",
   "mimetype": "text/x-python",
   "name": "python",
   "nbconvert_exporter": "python",
   "pygments_lexer": "ipython3",
   "version": "3.8.5"
  },
  "toc": {
   "base_numbering": 1,
   "nav_menu": {},
   "number_sections": true,
   "sideBar": true,
   "skip_h1_title": true,
   "title_cell": "Table of Contents",
   "title_sidebar": "Contents",
   "toc_cell": true,
   "toc_position": {
    "height": "calc(100% - 180px)",
    "left": "10px",
    "top": "150px",
    "width": "142.797px"
   },
   "toc_section_display": true,
   "toc_window_display": false
  }
 },
 "nbformat": 4,
 "nbformat_minor": 4
}
